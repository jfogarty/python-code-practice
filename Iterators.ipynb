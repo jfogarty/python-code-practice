{
 "cells": [
  {
   "cell_type": "markdown",
   "metadata": {},
   "source": [
    "# Fun with Iterators (generators)\n",
    "\n",
    "\n",
    "<div class=\"alert alert-block alert-info\">\n",
    "  Playing around with iterators\n",
    "</div>\n",
    "   \n"
   ]
  },
  {
   "cell_type": "code",
   "execution_count": 2,
   "metadata": {
    "collapsed": true
   },
   "outputs": [],
   "source": [
    "debugging = False\n",
    "#debugging = True\n",
    "debug2 = False\n",
    "\n",
    "logging = True\n",
    "\n",
    "def dbg(f, *args):\n",
    "    if debugging:\n",
    "        print(('  DBG:' + f).format(*args))\n",
    "\n",
    "def dbg_cont(f, *args):\n",
    "    if debugging:\n",
    "        print(('  DBG:' + f).format(*args), end='')\n",
    "\n",
    "def dbg2(f, *args):\n",
    "    if debug2:\n",
    "        print((' -DBG2:' + f).format(*args))\n",
    "        \n",
    "def log(f, *args):\n",
    "    if logging:\n",
    "        print((f).format(*args))\n",
    "        \n",
    "def logError(f, *args):\n",
    "    if logging:\n",
    "        print(('*** ERROR:' + f).format(*args))\n",
    "        \n",
    "def className(instance):\n",
    "    return type(instance).__name__\n",
    "\n",
    "def isstr(obj): \n",
    "    return isinstance(obj, basestring)"
   ]
  },
  {
   "cell_type": "code",
   "execution_count": 24,
   "metadata": {
    "collapsed": true
   },
   "outputs": [],
   "source": [
    "import types\n",
    "\n",
    "def ordered_merge(ia, ib, ascending=True, comparator=None, validate=True):\n",
    "    \"\"\" Returns an iterator which merges two sorted lists into one \"\"\"\n",
    "    a = None\n",
    "    b = None\n",
    "    aok = False\n",
    "    bok = False\n",
    "    iac = ibc = 0 # Count of objects iterated.\n",
    "    # convert iterable objects into iterators as needed.\n",
    "    if not isinstance(ia, types.GeneratorType): ia = iter(ia)\n",
    "    if not isinstance(ib, types.GeneratorType): ib = iter(ib)\n",
    "    if not comparator:\n",
    "        comparator = (lambda x, y: x<=y) if ascending else (lambda x, y: x>y)\n",
    "    while ia or ib:\n",
    "        if not aok and ia: # load a\n",
    "            try:\n",
    "                nxtv = next(ia)\n",
    "            except StopIteration:\n",
    "                ia = None\n",
    "                aok = False\n",
    "            else:\n",
    "                if validate and iac and not comparator(a, nxtv):\n",
    "                    raise ValueError(\"merge iterator 'ia', item {0}, value:'{1}' is out of order.\".\n",
    "                                     format(iac, nxtv))\n",
    "                a = nxtv\n",
    "                aok = True\n",
    "                iac += 1\n",
    "                #log('load a={0}', a)\n",
    "        if not bok and ib: # load b\n",
    "            try:\n",
    "                nxtv = next(ib)\n",
    "            except StopIteration:\n",
    "                ib = None\n",
    "                bok = False\n",
    "            else:\n",
    "                if validate and ibc and not comparator(b, nxtv):\n",
    "                    raise ValueError(\"merge iterator 'ib', item {0}, value:'{1}' is out of order.\".\n",
    "                                     format(ibc, nxtv))\n",
    "                b = nxtv\n",
    "                bok = True\n",
    "                ibc += 1\n",
    "                #log('load b={0}', b)               \n",
    "        if aok and bok: # return the least of the loaded values.\n",
    "            if comparator(a, b):\n",
    "                aok = False\n",
    "                yield a\n",
    "            else:\n",
    "                bok = False\n",
    "                yield b\n",
    "        else:\n",
    "            # Return the remaining values from the remaining iterator\n",
    "            if aok:\n",
    "                aok = False\n",
    "                yield a               \n",
    "            if bok:\n",
    "                bok = False\n",
    "                yield b\n"
   ]
  },
  {
   "cell_type": "code",
   "execution_count": 25,
   "metadata": {
    "collapsed": true
   },
   "outputs": [],
   "source": [
    "import types\n",
    "\n",
    "def ordered(it, ascending=True, comparator=None):\n",
    "    \"\"\" Returns true if all items in a seqence are in order \"\"\"\n",
    "    prev = None\n",
    "    curr = None\n",
    "    running = False\n",
    "    # convert iterable objects into iterators as needed.\n",
    "    if not isinstance(it, types.GeneratorType): it = iter(it)\n",
    "    if not comparator:\n",
    "        comparator = (lambda x, y: x<=y) if ascending else (lambda x, y: x>y)\n",
    "    for curr in it:\n",
    "        if running:\n",
    "            if not comparator(prev, curr):\n",
    "                return False\n",
    "        running = True\n",
    "        prev = curr\n",
    "    # All pairs have been examined and they are in order.\n",
    "    return True"
   ]
  },
  {
   "cell_type": "code",
   "execution_count": 26,
   "metadata": {
    "collapsed": true
   },
   "outputs": [],
   "source": [
    "import types\n",
    "#import functools\n",
    "\n",
    "def ordered_multiway_merge(*iterset, ascending=True, comparator=None, validate=True):\n",
    "    \"\"\" Returns an iterator which merges multiple sorted lists into one \"\"\"\n",
    "    iters = list(iterset)\n",
    "    n    = len(iters)\n",
    "    vals = [None]*n  # No values have been pulled from lists yet.\n",
    "    voks = [False]*n # None of the values are loaded yet.\n",
    "    visv = [0]*n # These values have not been validated.\n",
    "    # convert iterable objects into iterators as needed.\n",
    "    for i, it in enumerate(iters):\n",
    "        if not isinstance(it, types.GeneratorType): it = iter(it)\n",
    "        iters[i] = it\n",
    "    if not comparator:\n",
    "        comparator = (lambda x, y: x<=y) if ascending else (lambda x, y: x>y)\n",
    "    #def validIterator():\n",
    "    #    return functools.reduce(lambda x, y : x or y, iters)\n",
    "    \n",
    "    # As long as there's an unexhausted iterator or any value remaining\n",
    "    # in the queue, keep generating.\n",
    "    while True:\n",
    "        besti = None\n",
    "        bestv = None\n",
    "        for i, vok in enumerate(voks):\n",
    "            # Load a value from any healthy/unexhausted iterator.\n",
    "            it = iters[i]           \n",
    "            v  = vals[i]\n",
    "            if not vok and it is not None:\n",
    "                try:\n",
    "                    nxtv = next(it)\n",
    "                except StopIteration:\n",
    "                    iters[i] = None # this iterator is now depleted.\n",
    "                    voks[i] = vok = False\n",
    "                else:\n",
    "                    if validate and visv[i] and not comparator(v, nxtv):\n",
    "                        raise ValueError(\"merge iterator #{0}, item {1}, value:'{2}' is out of order.\".\n",
    "                                         format(i, visv[i], nxtv))\n",
    "                    visv[i] += 1\n",
    "                    vals[i] = v = nxtv\n",
    "                    voks[i] = vok = True\n",
    "                    #log(' -- [{0}] val={1};   best[{2}]={3}', i, vals[i], besti, bestv)\n",
    "            # See if this is the best entry from any list\n",
    "            if vok:\n",
    "                if besti is None or comparator(v, bestv):\n",
    "                #if besti is None or v<bestv:\n",
    "                    besti = i\n",
    "                    bestv = v\n",
    "                    #log(' ++ [{0}] val={1};   best[{2}]={3}', i, vals[i], besti, bestv)\n",
    "        if bestv is not None:\n",
    "            #log('YIELD {0}  besti=={0}, n=={2}', bestv, besti, n)\n",
    "            voks[besti] = False\n",
    "            yield bestv\n",
    "        else:\n",
    "            break\n",
    "    # end while"
   ]
  },
  {
   "cell_type": "code",
   "execution_count": 29,
   "metadata": {},
   "outputs": [
    {
     "name": "stdout",
     "output_type": "stream",
     "text": [
      "[10, 11, 12, 13, 14, 15, 16, 17, 18, 19]\n",
      "[31, 29, 27, 25, 23, 21, 19, 17, 15, 13, 11, 9, 7, 5]\n",
      "[10, 11, 12, 13, 14, 15, 16, 17, 18, 19, 31, 29, 27, 25, 23, 21, 19, 17, 15, 13, 11, 9, 7, 5]\n"
     ]
    },
    {
     "ename": "ValueError",
     "evalue": "merge iterator #1, item 1, value:'29' is out of order.",
     "output_type": "error",
     "traceback": [
      "\u001b[0;31m---------------------------------------------------------------------------\u001b[0m",
      "\u001b[0;31mValueError\u001b[0m                                Traceback (most recent call last)",
      "\u001b[0;32m<ipython-input-29-325af496d8d2>\u001b[0m in \u001b[0;36m<module>\u001b[0;34m()\u001b[0m\n\u001b[1;32m     10\u001b[0m \u001b[0mprint\u001b[0m\u001b[0;34m(\u001b[0m\u001b[0mz\u001b[0m\u001b[0;34m)\u001b[0m\u001b[0;34m\u001b[0m\u001b[0m\n\u001b[1;32m     11\u001b[0m \u001b[0;31m#y = [x for x in ordered_multiway_merge(a, b, [1, 2, 3], [0, 11, 12, 13, 14], [-1, 99])]\u001b[0m\u001b[0;34m\u001b[0m\u001b[0;34m\u001b[0m\u001b[0m\n\u001b[0;32m---> 12\u001b[0;31m \u001b[0my\u001b[0m \u001b[0;34m=\u001b[0m \u001b[0;34m[\u001b[0m\u001b[0mx\u001b[0m \u001b[0;32mfor\u001b[0m \u001b[0mx\u001b[0m \u001b[0;32min\u001b[0m \u001b[0mordered_multiway_merge\u001b[0m\u001b[0;34m(\u001b[0m\u001b[0ma\u001b[0m\u001b[0;34m,\u001b[0m \u001b[0mb\u001b[0m\u001b[0;34m,\u001b[0m \u001b[0mc\u001b[0m\u001b[0;34m,\u001b[0m \u001b[0;34m[\u001b[0m\u001b[0;34m]\u001b[0m\u001b[0;34m,\u001b[0m \u001b[0;34m(\u001b[0m\u001b[0;36m1\u001b[0m\u001b[0;34m,\u001b[0m \u001b[0;36m2\u001b[0m\u001b[0;34m,\u001b[0m \u001b[0;36m3\u001b[0m\u001b[0;34m)\u001b[0m\u001b[0;34m,\u001b[0m \u001b[0;34m[\u001b[0m\u001b[0;36m11.5\u001b[0m\u001b[0;34m]\u001b[0m\u001b[0;34m,\u001b[0m \u001b[0;34m[\u001b[0m\u001b[0;36m0\u001b[0m\u001b[0;34m,\u001b[0m \u001b[0;36m11\u001b[0m\u001b[0;34m,\u001b[0m \u001b[0;36m12\u001b[0m\u001b[0;34m,\u001b[0m \u001b[0;36m13\u001b[0m\u001b[0;34m,\u001b[0m \u001b[0;36m14\u001b[0m\u001b[0;34m]\u001b[0m\u001b[0;34m,\u001b[0m \u001b[0;34m[\u001b[0m\u001b[0;34m-\u001b[0m\u001b[0;36m1\u001b[0m\u001b[0;34m,\u001b[0m \u001b[0;36m99\u001b[0m\u001b[0;34m]\u001b[0m\u001b[0;34m)\u001b[0m\u001b[0;34m]\u001b[0m\u001b[0;34m\u001b[0m\u001b[0m\n\u001b[0m\u001b[1;32m     13\u001b[0m \u001b[0mprint\u001b[0m\u001b[0;34m(\u001b[0m\u001b[0my\u001b[0m\u001b[0;34m)\u001b[0m\u001b[0;34m\u001b[0m\u001b[0m\n\u001b[1;32m     14\u001b[0m \u001b[0mordered\u001b[0m\u001b[0;34m(\u001b[0m\u001b[0my\u001b[0m\u001b[0;34m)\u001b[0m\u001b[0;34m\u001b[0m\u001b[0m\n",
      "\u001b[0;32m<ipython-input-29-325af496d8d2>\u001b[0m in \u001b[0;36m<listcomp>\u001b[0;34m(.0)\u001b[0m\n\u001b[1;32m     10\u001b[0m \u001b[0mprint\u001b[0m\u001b[0;34m(\u001b[0m\u001b[0mz\u001b[0m\u001b[0;34m)\u001b[0m\u001b[0;34m\u001b[0m\u001b[0m\n\u001b[1;32m     11\u001b[0m \u001b[0;31m#y = [x for x in ordered_multiway_merge(a, b, [1, 2, 3], [0, 11, 12, 13, 14], [-1, 99])]\u001b[0m\u001b[0;34m\u001b[0m\u001b[0;34m\u001b[0m\u001b[0m\n\u001b[0;32m---> 12\u001b[0;31m \u001b[0my\u001b[0m \u001b[0;34m=\u001b[0m \u001b[0;34m[\u001b[0m\u001b[0mx\u001b[0m \u001b[0;32mfor\u001b[0m \u001b[0mx\u001b[0m \u001b[0;32min\u001b[0m \u001b[0mordered_multiway_merge\u001b[0m\u001b[0;34m(\u001b[0m\u001b[0ma\u001b[0m\u001b[0;34m,\u001b[0m \u001b[0mb\u001b[0m\u001b[0;34m,\u001b[0m \u001b[0mc\u001b[0m\u001b[0;34m,\u001b[0m \u001b[0;34m[\u001b[0m\u001b[0;34m]\u001b[0m\u001b[0;34m,\u001b[0m \u001b[0;34m(\u001b[0m\u001b[0;36m1\u001b[0m\u001b[0;34m,\u001b[0m \u001b[0;36m2\u001b[0m\u001b[0;34m,\u001b[0m \u001b[0;36m3\u001b[0m\u001b[0;34m)\u001b[0m\u001b[0;34m,\u001b[0m \u001b[0;34m[\u001b[0m\u001b[0;36m11.5\u001b[0m\u001b[0;34m]\u001b[0m\u001b[0;34m,\u001b[0m \u001b[0;34m[\u001b[0m\u001b[0;36m0\u001b[0m\u001b[0;34m,\u001b[0m \u001b[0;36m11\u001b[0m\u001b[0;34m,\u001b[0m \u001b[0;36m12\u001b[0m\u001b[0;34m,\u001b[0m \u001b[0;36m13\u001b[0m\u001b[0;34m,\u001b[0m \u001b[0;36m14\u001b[0m\u001b[0;34m]\u001b[0m\u001b[0;34m,\u001b[0m \u001b[0;34m[\u001b[0m\u001b[0;34m-\u001b[0m\u001b[0;36m1\u001b[0m\u001b[0;34m,\u001b[0m \u001b[0;36m99\u001b[0m\u001b[0;34m]\u001b[0m\u001b[0;34m)\u001b[0m\u001b[0;34m]\u001b[0m\u001b[0;34m\u001b[0m\u001b[0m\n\u001b[0m\u001b[1;32m     13\u001b[0m \u001b[0mprint\u001b[0m\u001b[0;34m(\u001b[0m\u001b[0my\u001b[0m\u001b[0;34m)\u001b[0m\u001b[0;34m\u001b[0m\u001b[0m\n\u001b[1;32m     14\u001b[0m \u001b[0mordered\u001b[0m\u001b[0;34m(\u001b[0m\u001b[0my\u001b[0m\u001b[0;34m)\u001b[0m\u001b[0;34m\u001b[0m\u001b[0m\n",
      "\u001b[0;32m<ipython-input-26-73fc0188f555>\u001b[0m in \u001b[0;36mordered_multiway_merge\u001b[0;34m(ascending, comparator, validate, *iterset)\u001b[0m\n\u001b[1;32m     36\u001b[0m                     \u001b[0;32mif\u001b[0m \u001b[0mvalidate\u001b[0m \u001b[0;32mand\u001b[0m \u001b[0mvisv\u001b[0m\u001b[0;34m[\u001b[0m\u001b[0mi\u001b[0m\u001b[0;34m]\u001b[0m \u001b[0;32mand\u001b[0m \u001b[0;32mnot\u001b[0m \u001b[0mcomparator\u001b[0m\u001b[0;34m(\u001b[0m\u001b[0mv\u001b[0m\u001b[0;34m,\u001b[0m \u001b[0mnxtv\u001b[0m\u001b[0;34m)\u001b[0m\u001b[0;34m:\u001b[0m\u001b[0;34m\u001b[0m\u001b[0m\n\u001b[1;32m     37\u001b[0m                         raise ValueError(\"merge iterator #{0}, item {1}, value:'{2}' is out of order.\".\n\u001b[0;32m---> 38\u001b[0;31m                                          format(i, visv[i], nxtv))\n\u001b[0m\u001b[1;32m     39\u001b[0m                     \u001b[0mvisv\u001b[0m\u001b[0;34m[\u001b[0m\u001b[0mi\u001b[0m\u001b[0;34m]\u001b[0m \u001b[0;34m+=\u001b[0m \u001b[0;36m1\u001b[0m\u001b[0;34m\u001b[0m\u001b[0m\n\u001b[1;32m     40\u001b[0m                     \u001b[0mvals\u001b[0m\u001b[0;34m[\u001b[0m\u001b[0mi\u001b[0m\u001b[0;34m]\u001b[0m \u001b[0;34m=\u001b[0m \u001b[0mv\u001b[0m \u001b[0;34m=\u001b[0m \u001b[0mnxtv\u001b[0m\u001b[0;34m\u001b[0m\u001b[0m\n",
      "\u001b[0;31mValueError\u001b[0m: merge iterator #1, item 1, value:'29' is out of order."
     ]
    }
   ],
   "source": [
    "\n",
    "a = list(range(10, 20))\n",
    "b = list(range(5,32,2))[::-1]\n",
    "c = (13, 22, 30, 36, 12345)\n",
    "\n",
    "print(a)\n",
    "print(b)\n",
    "#a=[]\n",
    "z = [x for x in ordered_merge(a,b,validate=False)]\n",
    "print(z)\n",
    "#y = [x for x in ordered_multiway_merge(a, b, [1, 2, 3], [0, 11, 12, 13, 14], [-1, 99])]\n",
    "y = [x for x in ordered_multiway_merge(a, b, c, [], (1, 2, 3), [11.5], [0, 11, 12, 13, 14], [-1, 99])]\n",
    "print(y)\n",
    "ordered(y)\n",
    "#ordered(ordered_merge(z,c))\n",
    "#[x for x in merge(z,c)]"
   ]
  },
  {
   "cell_type": "code",
   "execution_count": 6,
   "metadata": {},
   "outputs": [
    {
     "data": {
      "text/plain": [
       "[None, None, None, None, None, None, None, None, None, None]"
      ]
     },
     "execution_count": 6,
     "metadata": {},
     "output_type": "execute_result"
    }
   ],
   "source": [
    "[None]*10"
   ]
  },
  {
   "cell_type": "code",
   "execution_count": null,
   "metadata": {
    "collapsed": true
   },
   "outputs": [],
   "source": [
    "w={1, 3, 4, 5, 22, -1}"
   ]
  },
  {
   "cell_type": "code",
   "execution_count": null,
   "metadata": {
    "collapsed": true
   },
   "outputs": [],
   "source": [
    "w"
   ]
  },
  {
   "cell_type": "code",
   "execution_count": null,
   "metadata": {
    "collapsed": true
   },
   "outputs": [],
   "source": [
    "min(w)"
   ]
  },
  {
   "cell_type": "code",
   "execution_count": 12,
   "metadata": {},
   "outputs": [
    {
     "data": {
      "text/plain": [
       "1"
      ]
     },
     "execution_count": 12,
     "metadata": {},
     "output_type": "execute_result"
    }
   ],
   "source": [
    "import functools\n",
    "functools.reduce(lambda x, y : x or y, [False, 0, False, 1, 0])"
   ]
  },
  {
   "cell_type": "code",
   "execution_count": 15,
   "metadata": {},
   "outputs": [
    {
     "data": {
      "text/plain": [
       "[3, 4, 5]"
      ]
     },
     "execution_count": 15,
     "metadata": {},
     "output_type": "execute_result"
    }
   ],
   "source": [
    "list((3, 4, 5))"
   ]
  },
  {
   "cell_type": "code",
   "execution_count": 38,
   "metadata": {},
   "outputs": [
    {
     "data": {
      "text/plain": [
       "34"
      ]
     },
     "execution_count": 38,
     "metadata": {},
     "output_type": "execute_result"
    }
   ],
   "source": [
    " x = {\n",
    "   \"namespace\": \"example.avro\",\n",
    "   \"type\": \"record\",\n",
    "   \"name\": \"User\",\n",
    "   \"fields\": [\n",
    "      {\"name\": \"name\", \"type\": \"string\"},\n",
    "      {\"name\": \"favorite_number\",  \"type\": [\"int\", \"null\"]},\n",
    "      {\"name\": \"favorite_color\", \"type\": [\"string\", \"null\"]}\n",
    "   ] \n",
    " }\n",
    "    \n",
    "x['fields']\n",
    "x.setdefault('glorm',34)\n"
   ]
  },
  {
   "cell_type": "code",
   "execution_count": 41,
   "metadata": {},
   "outputs": [],
   "source": [
    "class objectview(object):\n",
    "    def __init__(self, d):\n",
    "        self.__dict__ = d"
   ]
  },
  {
   "cell_type": "code",
   "execution_count": 44,
   "metadata": {},
   "outputs": [
    {
     "data": {
      "text/plain": [
       "34"
      ]
     },
     "execution_count": 44,
     "metadata": {},
     "output_type": "execute_result"
    }
   ],
   "source": [
    "objectview(x).glorm"
   ]
  },
  {
   "cell_type": "code",
   "execution_count": 50,
   "metadata": {
    "collapsed": true
   },
   "outputs": [],
   "source": [
    "class objdict(dict):\n",
    "    def __getattr__(self, name):\n",
    "        if name not in self: raise AttributeError(\"No such attribute: \" + name)\n",
    "        return self[name]\n",
    "\n",
    "    def __setattr__(self, name, value):\n",
    "        self[name] = value\n",
    "\n",
    "    def __delattr__(self, name):\n",
    "        if name not in self: raise AttributeError(\"No such attribute: \" + name)\n",
    "        del self[name]\n"
   ]
  },
  {
   "cell_type": "code",
   "execution_count": 59,
   "metadata": {},
   "outputs": [],
   "source": [
    "y = objdict(x)\n",
    "y.plugh = 'Go away'"
   ]
  },
  {
   "cell_type": "code",
   "execution_count": 60,
   "metadata": {},
   "outputs": [
    {
     "data": {
      "text/plain": [
       "{'fields': [{'name': 'name', 'type': 'string'},\n",
       "  {'name': 'favorite_number', 'type': ['int', 'null']},\n",
       "  {'name': 'favorite_color', 'type': ['string', 'null']}],\n",
       " 'glorm': 34,\n",
       " 'name': 'User',\n",
       " 'namespace': 'example.avro',\n",
       " 'plugh': 'Go away',\n",
       " 'type': 'record'}"
      ]
     },
     "execution_count": 60,
     "metadata": {},
     "output_type": "execute_result"
    }
   ],
   "source": [
    "y"
   ]
  },
  {
   "cell_type": "code",
   "execution_count": 61,
   "metadata": {},
   "outputs": [
    {
     "data": {
      "text/plain": [
       "{'fields': [{'name': 'name', 'type': 'string'},\n",
       "  {'name': 'favorite_number', 'type': ['int', 'null']},\n",
       "  {'name': 'favorite_color', 'type': ['string', 'null']}],\n",
       " 'glorm': 34,\n",
       " 'name': 'User',\n",
       " 'namespace': 'example.avro',\n",
       " 'type': 'record'}"
      ]
     },
     "execution_count": 61,
     "metadata": {},
     "output_type": "execute_result"
    }
   ],
   "source": [
    "x"
   ]
  },
  {
   "cell_type": "code",
   "execution_count": null,
   "metadata": {
    "collapsed": true
   },
   "outputs": [],
   "source": []
  }
 ],
 "metadata": {
  "kernelspec": {
   "display_name": "Python [conda env:py35]",
   "language": "python",
   "name": "conda-env-py35-py"
  },
  "language_info": {
   "codemirror_mode": {
    "name": "ipython",
    "version": 3
   },
   "file_extension": ".py",
   "mimetype": "text/x-python",
   "name": "python",
   "nbconvert_exporter": "python",
   "pygments_lexer": "ipython3",
   "version": "3.5.3"
  }
 },
 "nbformat": 4,
 "nbformat_minor": 2
}
