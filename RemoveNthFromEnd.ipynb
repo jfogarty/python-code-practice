{
 "cells": [
  {
   "cell_type": "markdown",
   "metadata": {},
   "source": [
    "### Remove nth node from end of list\n",
    "\n",
    "   Given linked list: 1->2->3->4->5, and n = 2.\n",
    "\n",
    "   After removing the second node from the end, the linked list becomes 1->2->3->5.\n",
    "\n",
    "\n",
    "See [The leetcode example problem](https://leetcode.com/problems/remove-nth-node-from-end-of-list/description/)"
   ]
  },
  {
   "cell_type": "code",
   "execution_count": 17,
   "metadata": {
    "collapsed": true
   },
   "outputs": [],
   "source": [
    "debugging = False\n",
    "#debugging = True\n",
    "debug2 = False\n",
    "\n",
    "logging = True\n",
    "\n",
    "def dbg(f, *args):\n",
    "    if debugging:\n",
    "        print(('  DBG:' + f).format(*args))\n",
    "\n",
    "def dbg_cont(f, *args):\n",
    "    if debugging:\n",
    "        print(('  DBG:' + f).format(*args), end='')\n",
    "\n",
    "def dbg2(f, *args):\n",
    "    if debug2:\n",
    "        print((' -DBG2:' + f).format(*args))\n",
    "        \n",
    "def log(f, *args):\n",
    "    if logging:\n",
    "        print((f).format(*args))\n",
    "        \n",
    "def logError(f, *args):\n",
    "    if logging:\n",
    "        print(('*** ERROR:' + f).format(*args))\n",
    "        \n",
    "def className(instance):\n",
    "    return type(instance).__name__"
   ]
  },
  {
   "cell_type": "markdown",
   "metadata": {},
   "source": [
    "### The TestSet Mechanism"
   ]
  },
  {
   "cell_type": "code",
   "execution_count": 18,
   "metadata": {
    "collapsed": true
   },
   "outputs": [],
   "source": [
    "# %load TestHarness.py\n",
    "class TestCase(object):\n",
    "    def __init__(self, name, method, inputs, expected, catchExceptions=False):\n",
    "        self.name = name\n",
    "        self.method = method\n",
    "        self.inputs = inputs\n",
    "        self.expected = expected\n",
    "        self.catchExceptions = catchExceptions\n",
    "        \n",
    "    def run(self):\n",
    "        if self.catchExceptions:\n",
    "            try:\n",
    "                return self.method(*self.inputs)\n",
    "            except Exception as x:\n",
    "                return x\n",
    "        else:\n",
    "                return self.method(*self.inputs)\n",
    "\n",
    "import time\n",
    "from datetime import timedelta\n",
    "\n",
    "class TestSet(object):\n",
    "    def __init__(self, cases):\n",
    "        self.cases = cases\n",
    "    \n",
    "    def run_tests(self):\n",
    "        count = 0\n",
    "        errors = 0\n",
    "        total_time = 0\n",
    "        for case in self.cases:\n",
    "            count += 1\n",
    "            start_time = time.time()\n",
    "            result = case.run()\n",
    "            elapsed_time = time.time() - start_time\n",
    "            total_time += elapsed_time\n",
    "            if callable(case.expected):\n",
    "                if not case.expected(result):\n",
    "                    errors += 1\n",
    "                    logError(\"Test {0} failed. Returned {1}\", case.name, result)\n",
    "            elif result != case.expected:\n",
    "                errors += 1\n",
    "                logError('Test {0} failed. Returned \"{1}\", expected \"{2}\"', case.name, result, case.expected)\n",
    "        if errors:\n",
    "            logError(\"Tests passed: {0}; Failures: {1}\", count-errors, errors)\n",
    "        else:\n",
    "            log(\"All {0} tests passed.\", count)\n",
    "        log(\"Elapsed test time: {0}\", timedelta(seconds=total_time))\n",
    "        "
   ]
  },
  {
   "cell_type": "code",
   "execution_count": 55,
   "metadata": {},
   "outputs": [],
   "source": [
    "class ListNode:\n",
    "    def __init__(self, x):\n",
    "        self.val = x\n",
    "        self.next = None\n",
    "        \n",
    "    @staticmethod\n",
    "    def load(vals):\n",
    "        first = prev = None\n",
    "        for x in vals:\n",
    "            nxt = ListNode(x)\n",
    "            if prev:\n",
    "                prev.next = nxt\n",
    "            else:\n",
    "                first = nxt\n",
    "            prev = nxt\n",
    "            #log(\"Added {0} {1}, {2}\", nxt.val, first, prev)\n",
    "        return first\n",
    "            \n",
    "    def __iter__(self):\n",
    "        n = self\n",
    "        while n:\n",
    "            yield n.val\n",
    "            n = n.next\n",
    "            \n",
    "    def allnodes(self):\n",
    "        n = self\n",
    "        while n:\n",
    "            yield n\n",
    "            n = n.next\n",
    "\n",
    "    def __str__(self):\n",
    "        return \"[\" + \" --> \".join([str(x.val) for x in self.allnodes()]) + ']'\n",
    "    \n",
    "    __repr__ = __str__\n",
    "        "
   ]
  },
  {
   "cell_type": "code",
   "execution_count": 56,
   "metadata": {},
   "outputs": [
    {
     "data": {
      "text/plain": [
       "[1 --> 3 --> 66 --> 23 --> 2 --> 12]"
      ]
     },
     "execution_count": 56,
     "metadata": {},
     "output_type": "execute_result"
    }
   ],
   "source": [
    "a = ListNode.load([1, 3, 66, 23, 2, 12])\n",
    "a.next.next.next.val\n",
    "a"
   ]
  },
  {
   "cell_type": "code",
   "execution_count": 57,
   "metadata": {},
   "outputs": [
    {
     "data": {
      "text/plain": [
       "\"xx['a', 'b']\""
      ]
     },
     "execution_count": 57,
     "metadata": {},
     "output_type": "execute_result"
    }
   ],
   "source": [
    "'xx' + str(['a', 'b'])"
   ]
  },
  {
   "cell_type": "code",
   "execution_count": 48,
   "metadata": {
    "collapsed": true
   },
   "outputs": [],
   "source": [
    "# Definition for singly-linked list.\n",
    "# class ListNode:\n",
    "#     def __init__(self, x):\n",
    "#         self.val = x\n",
    "#         self.next = None\n",
    "\n",
    "class Solution:\n",
    "    def removeNthFromEnd(self, head, n):\n",
    "        \"\"\"\n",
    "        :type head: ListNode\n",
    "        :type n: int\n",
    "        :rtype: ListNode\n",
    "        \"\"\"\n",
    "        node = head\n",
    "        prev = None\n",
    "        if n == 0: return head\n",
    "        while n > 0 and node:\n",
    "            node = node.next\n",
    "            n -= 1\n",
    "        tail = head\n",
    "        prev = None\n",
    "        while node:\n",
    "            prev = tail\n",
    "            tail = tail.next\n",
    "            node = node.next\n",
    "        if prev == None:\n",
    "            return head.next\n",
    "        prev.next = tail.next\n",
    "        return head\n",
    "        \n",
    "        \n",
    "        "
   ]
  },
  {
   "cell_type": "markdown",
   "metadata": {},
   "source": [
    "### The Unit Under Test"
   ]
  },
  {
   "cell_type": "code",
   "execution_count": 94,
   "metadata": {
    "collapsed": true
   },
   "outputs": [],
   "source": [
    "def removeNthFromEnd(head, n):\n",
    "    \"\"\"\n",
    "    :type head: ListNode\n",
    "    :type n: int\n",
    "    :rtype: ListNode\n",
    "    \"\"\"\n",
    "    node = head\n",
    "    prev = None\n",
    "    if n == 0: return head\n",
    "    while n > 0 and node:\n",
    "        node = node.next\n",
    "        n -= 1\n",
    "        log(\"FIND n={0} node={1}\", n, node)\n",
    "    tail = head\n",
    "    prev = None\n",
    "    while node:\n",
    "        prev = tail\n",
    "        tail = tail.next\n",
    "        node = node.next\n",
    "        log(\"TAIL node={0} tail={1}\", node, tail)\n",
    "    \n",
    "    if prev == None:\n",
    "        return head.next\n",
    "    prev.next = tail.next\n",
    "    return head"
   ]
  },
  {
   "cell_type": "code",
   "execution_count": 108,
   "metadata": {
    "collapsed": true
   },
   "outputs": [],
   "source": [
    "a = ListNode.load([1, 4, 3, 66, 23, 2, 12])"
   ]
  },
  {
   "cell_type": "code",
   "execution_count": 110,
   "metadata": {},
   "outputs": [
    {
     "name": "stdout",
     "output_type": "stream",
     "text": [
      "FIND n=7 node=[4 --> 3 --> 66 --> 23 --> 2 --> 12]\n",
      "FIND n=6 node=[3 --> 66 --> 23 --> 2 --> 12]\n",
      "FIND n=5 node=[66 --> 23 --> 2 --> 12]\n",
      "FIND n=4 node=[23 --> 2 --> 12]\n",
      "FIND n=3 node=[2 --> 12]\n",
      "FIND n=2 node=[12]\n",
      "FIND n=1 node=None\n"
     ]
    },
    {
     "data": {
      "text/plain": [
       "[4 --> 3 --> 66 --> 23 --> 2 --> 12]"
      ]
     },
     "execution_count": 110,
     "metadata": {},
     "output_type": "execute_result"
    }
   ],
   "source": [
    "removeNthFromEnd(a, 8)"
   ]
  },
  {
   "cell_type": "code",
   "execution_count": null,
   "metadata": {
    "collapsed": true
   },
   "outputs": [],
   "source": []
  }
 ],
 "metadata": {
  "kernelspec": {
   "display_name": "Python [conda env:py35]",
   "language": "python",
   "name": "conda-env-py35-py"
  },
  "language_info": {
   "codemirror_mode": {
    "name": "ipython",
    "version": 3
   },
   "file_extension": ".py",
   "mimetype": "text/x-python",
   "name": "python",
   "nbconvert_exporter": "python",
   "pygments_lexer": "ipython3",
   "version": "3.5.4"
  }
 },
 "nbformat": 4,
 "nbformat_minor": 2
}
