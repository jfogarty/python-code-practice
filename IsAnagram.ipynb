{
 "cells": [
  {
   "cell_type": "markdown",
   "metadata": {},
   "source": [
    "### Is One Word an Anagram of Another\n",
    "\n",
    "Determine if one word is a scrambled version of another\n",
    "\n",
    "See [The example problem](https://leetcode.com/problems/valid-anagram/)"
   ]
  },
  {
   "cell_type": "code",
   "execution_count": 99,
   "metadata": {
    "collapsed": true
   },
   "outputs": [],
   "source": [
    "debugging = False\n",
    "#debugging = True\n",
    "\n",
    "logging = True\n",
    "\n",
    "def dbg(f, *args):\n",
    "    if debugging:\n",
    "        print(('  DBG:' + f).format(*args))\n",
    "\n",
    "def log(f, *args):\n",
    "    if logging:\n",
    "        print((f).format(*args))\n",
    "        \n",
    "def logError(f, *args):\n",
    "    if logging:\n",
    "        print(('*** ERROR:' + f).format(*args))\n",
    "        \n",
    "def className(instance):\n",
    "    return type(instance).__name__"
   ]
  },
  {
   "cell_type": "code",
   "execution_count": 105,
   "metadata": {
    "collapsed": true
   },
   "outputs": [],
   "source": [
    "from collections import defaultdict\n",
    "def is_anagram1(w1, w2):   \n",
    "    ''' True if one word is an anagram of another '''\n",
    "    if len(w1) != len(w2): return False\n",
    "    \n",
    "    # Empty strings are not anagrams.\n",
    "    if len(w1) == 0: return False\n",
    "    \n",
    "    letters = defaultdict(int)\n",
    "    for c in w1: \n",
    "        dbg(c)        \n",
    "        letters[c] += 1\n",
    "    dbg(letters)\n",
    "    for c in w2: \n",
    "        letters[c] -= 1\n",
    "    dbg(letters)\n",
    "        \n",
    "    for v in letters.values():\n",
    "        if v != 0: return False\n",
    "    return True"
   ]
  },
  {
   "cell_type": "code",
   "execution_count": 106,
   "metadata": {},
   "outputs": [],
   "source": [
    "def is_anagram2(w1, w2):   \n",
    "    ''' True if one word is an anagram of another '''\n",
    "    if len(w1) != len(w2): return False\n",
    "    \n",
    "    # Empty strings are not anagrams.\n",
    "    if len(w1) == 0: return False\n",
    "    \n",
    "        \n",
    "    def alter_count(c, n):\n",
    "        assert c >= 'a'\n",
    "        assert c <= 'z'\n",
    "        if c not in letters: letters[c] = 0\n",
    "        letters[c] += n\n",
    "        \n",
    "    letters = {}\n",
    "    for c in w1: \n",
    "        alter_count(c, 1)\n",
    "    for c in w2: \n",
    "        alter_count(c, -1)\n",
    "    for v in letters.values():\n",
    "        if v != 0: return False\n",
    "    return True"
   ]
  },
  {
   "cell_type": "code",
   "execution_count": 107,
   "metadata": {
    "collapsed": true
   },
   "outputs": [],
   "source": [
    "def is_anagram3(w1, w2):   \n",
    "    ''' True if one word is an anagram of another '''\n",
    "    CHAR_RANGE = ord('z') - ord('a') + 1\n",
    "    if len(w1) != len(w2): return False\n",
    "    \n",
    "    # Empty strings are not anagrams.\n",
    "    if len(w1) == 0: return False\n",
    "    \n",
    "    def valid_char(c):\n",
    "        assert c >= 'a'\n",
    "        assert c <= 'z'\n",
    "        return ord(c) - ord('a')\n",
    "    \n",
    "    letters = [0]*CHAR_RANGE\n",
    "    for c in w1: \n",
    "        letters[valid_char(c)] += 1\n",
    "    for c in w2: \n",
    "        letters[valid_char(c)] -= 1\n",
    "    for v in letters:\n",
    "        if v != 0: return False\n",
    "    return True"
   ]
  },
  {
   "cell_type": "code",
   "execution_count": 108,
   "metadata": {},
   "outputs": [],
   "source": [
    "def all_anagrams(a, b):\n",
    "    a1 = is_anagram1(a, b)\n",
    "    a2 = is_anagram2(a, b)\n",
    "    a3 = is_anagram3(a, b)\n",
    "    assert a1 == a2\n",
    "    assert a2 == a3\n",
    "    print(a1)\n"
   ]
  },
  {
   "cell_type": "code",
   "execution_count": 109,
   "metadata": {},
   "outputs": [
    {
     "name": "stdout",
     "output_type": "stream",
     "text": [
      "True\n"
     ]
    }
   ],
   "source": [
    "all_anagrams('aabxcx', 'xcxbaa')\n"
   ]
  },
  {
   "cell_type": "code",
   "execution_count": 98,
   "metadata": {},
   "outputs": [
    {
     "data": {
      "text/plain": [
       "True"
      ]
     },
     "execution_count": 98,
     "metadata": {},
     "output_type": "execute_result"
    }
   ],
   "source": [
    "is_anagram3('aabxcx', 'xcxbaa')"
   ]
  },
  {
   "cell_type": "code",
   "execution_count": 34,
   "metadata": {},
   "outputs": [
    {
     "data": {
      "text/plain": [
       "99"
      ]
     },
     "execution_count": 34,
     "metadata": {},
     "output_type": "execute_result"
    }
   ],
   "source": [
    "ord('c')"
   ]
  },
  {
   "cell_type": "code",
   "execution_count": null,
   "metadata": {
    "collapsed": true
   },
   "outputs": [],
   "source": []
  }
 ],
 "metadata": {
  "kernelspec": {
   "display_name": "Python [conda env:py35]",
   "language": "python",
   "name": "conda-env-py35-py"
  },
  "language_info": {
   "codemirror_mode": {
    "name": "ipython",
    "version": 3
   },
   "file_extension": ".py",
   "mimetype": "text/x-python",
   "name": "python",
   "nbconvert_exporter": "python",
   "pygments_lexer": "ipython3",
   "version": "3.5.3"
  }
 },
 "nbformat": 4,
 "nbformat_minor": 2
}
