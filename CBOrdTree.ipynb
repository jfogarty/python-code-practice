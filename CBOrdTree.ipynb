{
 "cells": [
  {
   "cell_type": "code",
   "execution_count": 4,
   "metadata": {},
   "outputs": [],
   "source": [
    "# A binary ordered tree example\n",
    "\n",
    "class CNode:\n",
    "    left , right, data = None, None, 0\n",
    "    \n",
    "    def __init__(self, data):\n",
    "        # initializes the data members\n",
    "        self.left = None\n",
    "        self.right = None\n",
    "        self.data = data\n",
    "\n",
    "class CBOrdTree:\n",
    "    def __init__(self):\n",
    "        # initializes the root member\n",
    "        self.root = None\n",
    "    \n",
    "    def addNode(self, data):\n",
    "        # creates a new node and returns it\n",
    "        return CNode(data)\n",
    "\n",
    "    def insert(self, root, data):\n",
    "        # inserts a new data\n",
    "        if root == None:\n",
    "            # it there isn't any data\n",
    "            # adds it and returns\n",
    "            return self.addNode(data)\n",
    "        else:\n",
    "            # enters into the tree\n",
    "            if data <= root.data:\n",
    "                # if the data is less than the stored one\n",
    "                # goes into the left-sub-tree\n",
    "                root.left = self.insert(root.left, data)\n",
    "            else:\n",
    "                # processes the right-sub-tree\n",
    "                root.right = self.insert(root.right, data)\n",
    "            return root\n",
    "        \n",
    "    def lookup(self, root, target):\n",
    "        # looks for a value into the tree\n",
    "        if root == None:\n",
    "            return 0\n",
    "        else:\n",
    "            # if it has found it...\n",
    "            if target == root.data:\n",
    "                return 1\n",
    "            else:\n",
    "                if target < root.data:\n",
    "                    # left side\n",
    "                    return self.lookup(root.left, target)\n",
    "                else:\n",
    "                    # right side\n",
    "                    return self.lookup(root.right, target)\n",
    "        \n",
    "    def minValue(self, root):\n",
    "        # goes down into the left\n",
    "        # arm and returns the last value\n",
    "        while(root.left != None):\n",
    "            root = root.left\n",
    "        return root.data\n",
    "\n",
    "    def maxDepth(self, root):\n",
    "        if root == None:\n",
    "            return 0\n",
    "        else:\n",
    "            # computes the two depths\n",
    "            ldepth = self.maxDepth(root.left)\n",
    "            rdepth = self.maxDepth(root.right)\n",
    "            # returns the appropriate depth\n",
    "            return max(ldepth, rdepth) + 1\n",
    "            \n",
    "    def size(self, root):\n",
    "        if root == None:\n",
    "            return 0\n",
    "        else:\n",
    "            return self.size(root.left) + 1 + self.size(root.right)\n",
    "\n",
    "    def printTree(self, root):\n",
    "        # prints the tree path\n",
    "        if root == None:\n",
    "            pass\n",
    "        else:\n",
    "            self.printTree(root.left)\n",
    "            print root.data,\n",
    "            self.printTree(root.right)\n",
    "\n",
    "    def printRevTree(self, root):\n",
    "        # prints the tree path in reverse\n",
    "        # order\n",
    "        if root == None:\n",
    "            pass\n",
    "        else:\n",
    "            self.printRevTree(root.right)\n",
    "            print root.data,\n",
    "            self.printRevTree(root.left)"
   ]
  },
  {
   "cell_type": "code",
   "execution_count": 6,
   "metadata": {},
   "outputs": [
    {
     "name": "stdout",
     "output_type": "stream",
     "text": [
      "insert the node value nr 0: 11\n",
      "insert the node value nr 1: 33\n",
      "insert the node value nr 2: 44\n",
      "insert the node value nr 3: 1\n",
      "insert the node value nr 4: 2\n",
      "\n"
     ]
    }
   ],
   "source": [
    "# create the binary tree\n",
    "BTree = CBOrdTree()\n",
    "# add the root node\n",
    "root = BTree.addNode(0)\n",
    "# ask the user to insert values\n",
    "for i in range(0, 5):\n",
    "    data = int(raw_input(\"insert the node value nr %d: \" % i))\n",
    "    # insert values\n",
    "    BTree.insert(root, data)\n",
    "print"
   ]
  },
  {
   "cell_type": "code",
   "execution_count": 7,
   "metadata": {},
   "outputs": [
    {
     "name": "stdout",
     "output_type": "stream",
     "text": [
      "0 1 2 11 33 44\n"
     ]
    }
   ],
   "source": [
    "BTree.printTree(root)\n",
    "print"
   ]
  },
  {
   "cell_type": "code",
   "execution_count": 8,
   "metadata": {},
   "outputs": [
    {
     "name": "stdout",
     "output_type": "stream",
     "text": [
      "44 33 11 2 1 0\n"
     ]
    }
   ],
   "source": [
    "BTree.printRevTree(root)\n",
    "print"
   ]
  },
  {
   "cell_type": "code",
   "execution_count": 10,
   "metadata": {},
   "outputs": [
    {
     "name": "stdout",
     "output_type": "stream",
     "text": [
      "insert a value to find: 11\n",
      "found\n"
     ]
    }
   ],
   "source": [
    "data = int(raw_input(\"insert a value to find: \"))\n",
    "if BTree.lookup(root, data):\n",
    "    print \"found\"\n",
    "else:\n",
    "    print \"not found\"\n"
   ]
  },
  {
   "cell_type": "code",
   "execution_count": null,
   "metadata": {
    "collapsed": true
   },
   "outputs": [],
   "source": []
  },
  {
   "cell_type": "code",
   "execution_count": 11,
   "metadata": {},
   "outputs": [
    {
     "name": "stdout",
     "output_type": "stream",
     "text": [
      "0\n",
      "4\n",
      "6\n"
     ]
    }
   ],
   "source": [
    "\n",
    "print BTree.minValue(root)\n",
    "print BTree.maxDepth(root)\n",
    "print BTree.size(root)"
   ]
  },
  {
   "cell_type": "code",
   "execution_count": null,
   "metadata": {
    "collapsed": true
   },
   "outputs": [],
   "source": []
  }
 ],
 "metadata": {
  "kernelspec": {
   "display_name": "Python [conda root]",
   "language": "python",
   "name": "conda-root-py"
  },
  "language_info": {
   "codemirror_mode": {
    "name": "ipython",
    "version": 2
   },
   "file_extension": ".py",
   "mimetype": "text/x-python",
   "name": "python",
   "nbconvert_exporter": "python",
   "pygments_lexer": "ipython2",
   "version": "2.7.13"
  }
 },
 "nbformat": 4,
 "nbformat_minor": 2
}
