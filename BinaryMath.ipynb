{
 "cells": [
  {
   "cell_type": "markdown",
   "metadata": {},
   "source": [
    "### Some fun with binary math \n",
    "\n",
    "Play around with binary math operations in python.\n",
    "\n",
    "See [The example problem](https://leetcode.com/xxx/)"
   ]
  },
  {
   "cell_type": "code",
   "execution_count": 1,
   "metadata": {
    "collapsed": true
   },
   "outputs": [],
   "source": [
    "debugging = False\n",
    "debugging = True\n",
    "\n",
    "logging = True\n",
    "\n",
    "def dbg(f, *args):\n",
    "    if debugging:\n",
    "        print(('  DBG:' + f).format(*args))\n",
    "\n",
    "def log(f, *args):\n",
    "    if logging:\n",
    "        print((f).format(*args))\n",
    "        \n",
    "def logError(f, *args):\n",
    "    if logging:\n",
    "        print(('*** ERROR:' + f).format(*args))\n",
    "        \n",
    "def className(instance):\n",
    "    return type(instance).__name__"
   ]
  },
  {
   "cell_type": "code",
   "execution_count": 2,
   "metadata": {
    "collapsed": true
   },
   "outputs": [],
   "source": [
    "def binary_add(a, b):   \n",
    "    ''' Add two values using only logical operators '''\n",
    "    WORDWIDTH=16\n",
    "    # mask = int('1'*WORDWIDTH, base=2) # Captain crude method.\n",
    "    mask = 0\n",
    "    for i in range(WORDWIDTH): mask = (mask << 1) | 1\n",
    "    if a == 0: return b\n",
    "    if b == 0: return a\n",
    "    shifts = 0\n",
    "    while shifts <= WORDWIDTH: # Allow one extra for negative wrap\n",
    "        a = a & mask\n",
    "        b = b & mask\n",
    "        result = a ^ b # compute binary addition (exclusive OR) without carry.\n",
    "        carry  = a & b # carry results if both bits are one.\n",
    "        dbg(\"ADD[{0:2}]: a={1:08x}, b={2:08x}, result={3:08x}, carry={4:08x}\", shifts, a, b, result, carry)\n",
    "        if carry == 0: return result\n",
    "        a = result\n",
    "        b = carry << 1 # carry is added to the next significant bit.\n",
    "        shifts += 1\n",
    "    assert carry == 0 # Obviously not, since we got here.\n"
   ]
  },
  {
   "cell_type": "code",
   "execution_count": 3,
   "metadata": {},
   "outputs": [
    {
     "name": "stdout",
     "output_type": "stream",
     "text": [
      "  DBG:ADD[ 0]: a=0000ffff, b=00000001, result=0000fffe, carry=00000001\n",
      "  DBG:ADD[ 1]: a=0000fffe, b=00000002, result=0000fffc, carry=00000002\n",
      "  DBG:ADD[ 2]: a=0000fffc, b=00000004, result=0000fff8, carry=00000004\n",
      "  DBG:ADD[ 3]: a=0000fff8, b=00000008, result=0000fff0, carry=00000008\n",
      "  DBG:ADD[ 4]: a=0000fff0, b=00000010, result=0000ffe0, carry=00000010\n",
      "  DBG:ADD[ 5]: a=0000ffe0, b=00000020, result=0000ffc0, carry=00000020\n",
      "  DBG:ADD[ 6]: a=0000ffc0, b=00000040, result=0000ff80, carry=00000040\n",
      "  DBG:ADD[ 7]: a=0000ff80, b=00000080, result=0000ff00, carry=00000080\n",
      "  DBG:ADD[ 8]: a=0000ff00, b=00000100, result=0000fe00, carry=00000100\n",
      "  DBG:ADD[ 9]: a=0000fe00, b=00000200, result=0000fc00, carry=00000200\n",
      "  DBG:ADD[10]: a=0000fc00, b=00000400, result=0000f800, carry=00000400\n",
      "  DBG:ADD[11]: a=0000f800, b=00000800, result=0000f000, carry=00000800\n",
      "  DBG:ADD[12]: a=0000f000, b=00001000, result=0000e000, carry=00001000\n",
      "  DBG:ADD[13]: a=0000e000, b=00002000, result=0000c000, carry=00002000\n",
      "  DBG:ADD[14]: a=0000c000, b=00004000, result=00008000, carry=00004000\n",
      "  DBG:ADD[15]: a=00008000, b=00008000, result=00000000, carry=00008000\n",
      "  DBG:ADD[16]: a=00000000, b=00000000, result=00000000, carry=00000000\n"
     ]
    },
    {
     "data": {
      "text/plain": [
       "0"
      ]
     },
     "execution_count": 3,
     "metadata": {},
     "output_type": "execute_result"
    }
   ],
   "source": [
    "binary_add(0xFFFF, 0x0001)"
   ]
  },
  {
   "cell_type": "code",
   "execution_count": 4,
   "metadata": {},
   "outputs": [
    {
     "name": "stdout",
     "output_type": "stream",
     "text": [
      "  DBG:ADD[ 0]: a=0000ffff, b=00000001, result=0000fffe, carry=00000001\n",
      "  DBG:ADD[ 1]: a=0000fffe, b=00000002, result=0000fffc, carry=00000002\n",
      "  DBG:ADD[ 2]: a=0000fffc, b=00000004, result=0000fff8, carry=00000004\n",
      "  DBG:ADD[ 3]: a=0000fff8, b=00000008, result=0000fff0, carry=00000008\n",
      "  DBG:ADD[ 4]: a=0000fff0, b=00000010, result=0000ffe0, carry=00000010\n",
      "  DBG:ADD[ 5]: a=0000ffe0, b=00000020, result=0000ffc0, carry=00000020\n",
      "  DBG:ADD[ 6]: a=0000ffc0, b=00000040, result=0000ff80, carry=00000040\n",
      "  DBG:ADD[ 7]: a=0000ff80, b=00000080, result=0000ff00, carry=00000080\n",
      "  DBG:ADD[ 8]: a=0000ff00, b=00000100, result=0000fe00, carry=00000100\n",
      "  DBG:ADD[ 9]: a=0000fe00, b=00000200, result=0000fc00, carry=00000200\n",
      "  DBG:ADD[10]: a=0000fc00, b=00000400, result=0000f800, carry=00000400\n",
      "  DBG:ADD[11]: a=0000f800, b=00000800, result=0000f000, carry=00000800\n",
      "  DBG:ADD[12]: a=0000f000, b=00001000, result=0000e000, carry=00001000\n",
      "  DBG:ADD[13]: a=0000e000, b=00002000, result=0000c000, carry=00002000\n",
      "  DBG:ADD[14]: a=0000c000, b=00004000, result=00008000, carry=00004000\n",
      "  DBG:ADD[15]: a=00008000, b=00008000, result=00000000, carry=00008000\n",
      "  DBG:ADD[16]: a=00000000, b=00000000, result=00000000, carry=00000000\n"
     ]
    },
    {
     "data": {
      "text/plain": [
       "0"
      ]
     },
     "execution_count": 4,
     "metadata": {},
     "output_type": "execute_result"
    }
   ],
   "source": [
    "binary_add(0b111111111111111111111111111111, 0x0001)"
   ]
  },
  {
   "cell_type": "code",
   "execution_count": 5,
   "metadata": {},
   "outputs": [
    {
     "name": "stdout",
     "output_type": "stream",
     "text": [
      "  DBG:ADD[ 0]: a=0000f211, b=00000def, result=0000fffe, carry=00000001\n",
      "  DBG:ADD[ 1]: a=0000fffe, b=00000002, result=0000fffc, carry=00000002\n",
      "  DBG:ADD[ 2]: a=0000fffc, b=00000004, result=0000fff8, carry=00000004\n",
      "  DBG:ADD[ 3]: a=0000fff8, b=00000008, result=0000fff0, carry=00000008\n",
      "  DBG:ADD[ 4]: a=0000fff0, b=00000010, result=0000ffe0, carry=00000010\n",
      "  DBG:ADD[ 5]: a=0000ffe0, b=00000020, result=0000ffc0, carry=00000020\n",
      "  DBG:ADD[ 6]: a=0000ffc0, b=00000040, result=0000ff80, carry=00000040\n",
      "  DBG:ADD[ 7]: a=0000ff80, b=00000080, result=0000ff00, carry=00000080\n",
      "  DBG:ADD[ 8]: a=0000ff00, b=00000100, result=0000fe00, carry=00000100\n",
      "  DBG:ADD[ 9]: a=0000fe00, b=00000200, result=0000fc00, carry=00000200\n",
      "  DBG:ADD[10]: a=0000fc00, b=00000400, result=0000f800, carry=00000400\n",
      "  DBG:ADD[11]: a=0000f800, b=00000800, result=0000f000, carry=00000800\n",
      "  DBG:ADD[12]: a=0000f000, b=00001000, result=0000e000, carry=00001000\n",
      "  DBG:ADD[13]: a=0000e000, b=00002000, result=0000c000, carry=00002000\n",
      "  DBG:ADD[14]: a=0000c000, b=00004000, result=00008000, carry=00004000\n",
      "  DBG:ADD[15]: a=00008000, b=00008000, result=00000000, carry=00008000\n",
      "  DBG:ADD[16]: a=00000000, b=00000000, result=00000000, carry=00000000\n"
     ]
    },
    {
     "data": {
      "text/plain": [
       "0L"
      ]
     },
     "execution_count": 5,
     "metadata": {},
     "output_type": "execute_result"
    }
   ],
   "source": [
    "binary_add(-12345678999991234567899991234567899999123456789999, 12345678999991234567899991234567899999123456789999)\n",
    "\n",
    "#binary_add(2, 2)\n"
   ]
  },
  {
   "cell_type": "code",
   "execution_count": 17,
   "metadata": {
    "collapsed": true
   },
   "outputs": [],
   "source": [
    "# import ctypes - No Binary operations supportes\n",
    "import numpy as np\n",
    "def binary_add2(ai, bi, signed=True, bits=16):\n",
    "    ''' Add two values using only logical operators '''\n",
    "    if bits == 64:\n",
    "        binaryint=np.int64 if signed else np.uint64\n",
    "    elif bits == 32:\n",
    "        binaryint=np.int32 if signed else np.uint32\n",
    "    elif bits == 16:\n",
    "        binaryint=np.int16 if signed else np.uint16\n",
    "    elif bits == 8:\n",
    "        binaryint=np.int8 if signed else np.uint8\n",
    "    else:\n",
    "        raise ValueError('The word size must be 8, 16, 32, or 64')\n",
    "    \n",
    "    a = binaryint(ai)\n",
    "    b = binaryint(bi)\n",
    "    dbg(\"ItemSize: {0}\", np.dtype(a).itemsize) # The element size of this data-type object.\n",
    "    dbg(\"Endianness: '{0}'\", np.dtype(a).byteorder) # A character indicating the byte-order.\n",
    "    dbg(\"Values a={0}, b={1}\", a, b)\n",
    "\n",
    "    word_width = np.dtype(a).itemsize * 8\n",
    "    if a == 0: return bi\n",
    "    if b == 0: return ai\n",
    "    shifts = 0\n",
    "    while shifts <= word_width: # Allow one extra for negative wrap\n",
    "        a = a\n",
    "        b = b\n",
    "        result = np.bitwise_xor(a, b) # compute binary addition (exclusive OR) without carry.\n",
    "        carry  = np.bitwise_and(a, b) # carry results if both bits are one.\n",
    "        dbg(\"ADD[{0:2}]: a={1:08x}, b={2:08x}, result={3:08x}, carry={4:08x}\", shifts, a, b, result, carry)\n",
    "        if carry == 0: return np.asscalar(result)\n",
    "        a = result\n",
    "        b = binaryint(np.left_shift(carry, 1)) # carry is added to the next significant bit.\n",
    "        shifts += 1\n",
    "    assert carry == 0 # Obviously not, since we got here.\n"
   ]
  },
  {
   "cell_type": "code",
   "execution_count": 18,
   "metadata": {},
   "outputs": [
    {
     "name": "stdout",
     "output_type": "stream",
     "text": [
      "  DBG:ItemSize: 2\n",
      "  DBG:Endianness: '='\n",
      "  DBG:Values a=-16, b=17\n",
      "  DBG:ADD[ 0]: a=-0000010, b=00000011, result=-000001f, carry=00000010\n",
      "  DBG:ADD[ 1]: a=-000001f, b=00000020, result=-000003f, carry=00000020\n",
      "  DBG:ADD[ 2]: a=-000003f, b=00000040, result=-000007f, carry=00000040\n",
      "  DBG:ADD[ 3]: a=-000007f, b=00000080, result=-00000ff, carry=00000080\n",
      "  DBG:ADD[ 4]: a=-00000ff, b=00000100, result=-00001ff, carry=00000100\n",
      "  DBG:ADD[ 5]: a=-00001ff, b=00000200, result=-00003ff, carry=00000200\n",
      "  DBG:ADD[ 6]: a=-00003ff, b=00000400, result=-00007ff, carry=00000400\n",
      "  DBG:ADD[ 7]: a=-00007ff, b=00000800, result=-0000fff, carry=00000800\n",
      "  DBG:ADD[ 8]: a=-0000fff, b=00001000, result=-0001fff, carry=00001000\n",
      "  DBG:ADD[ 9]: a=-0001fff, b=00002000, result=-0003fff, carry=00002000\n",
      "  DBG:ADD[10]: a=-0003fff, b=00004000, result=-0007fff, carry=00004000\n",
      "  DBG:ADD[11]: a=-0007fff, b=-0008000, result=00000001, carry=-0008000\n",
      "  DBG:ADD[12]: a=00000001, b=00000000, result=00000001, carry=00000000\n"
     ]
    },
    {
     "data": {
      "text/plain": [
       "1"
      ]
     },
     "execution_count": 18,
     "metadata": {},
     "output_type": "execute_result"
    }
   ],
   "source": [
    "binary_add2(0xfff0,0x11, bits=16)"
   ]
  },
  {
   "cell_type": "code",
   "execution_count": null,
   "metadata": {
    "collapsed": true
   },
   "outputs": [],
   "source": []
  },
  {
   "cell_type": "code",
   "execution_count": 8,
   "metadata": {},
   "outputs": [
    {
     "name": "stdout",
     "output_type": "stream",
     "text": [
      "()\n",
      "0x0000c000 << 0x00 --> 0x0000c000\n",
      "0x0000c000 << 0x01 --> 0x00008001\n",
      "0x0000c000 << 0x02 --> 0x00000003\n",
      "0x0000c000 << 0x03 --> 0x00000006\n",
      "0x0000c000 << 0x04 --> 0x0000000c\n",
      "0x0000c000 << 0x05 --> 0x00000018\n",
      "0x0000c000 << 0x06 --> 0x00000030\n",
      "0x0000c000 << 0x07 --> 0x00000060\n",
      "0x0000c000 << 0x08 --> 0x000000c0\n",
      "0x0000c000 << 0x09 --> 0x00000180\n",
      "0x0000c000 << 0x0a --> 0x00000300\n",
      "0x0000c000 << 0x0b --> 0x00000600\n",
      "0x0000c000 << 0x0c --> 0x00000c00\n",
      "0x0000c000 << 0x0d --> 0x00001800\n",
      "0x0000c000 << 0x0e --> 0x00003000\n",
      "0x0000c000 << 0x0f --> 0x00006000\n",
      "0x0000c000 << 0x10 --> 0x0000c000\n",
      "0x0000c000 << 0x11 --> 0x00008001\n",
      "0x0000c000 << 0x12 --> 0x00000003\n",
      "0x0000c000 << 0x13 --> 0x00000006\n",
      "0x0000c000 << 0x14 --> 0x0000000c\n",
      "0x0000c000 << 0x15 --> 0x00000018\n",
      "0x0000c000 << 0x16 --> 0x00000030\n",
      "0x0000c000 << 0x17 --> 0x00000060\n",
      "0x0000c000 << 0x18 --> 0x000000c0\n",
      "0x0000c000 << 0x19 --> 0x00000180\n",
      "0x0000c000 << 0x1a --> 0x00000300\n",
      "0x0000c000 << 0x1b --> 0x00000600\n",
      "0x0000c000 << 0x1c --> 0x00000c00\n",
      "0x0000c000 << 0x1d --> 0x00001800\n",
      "0x0000c000 << 0x1e --> 0x00003000\n",
      "()\n",
      "0x00000003 >> 0x00 --> 0x00000003\n",
      "0x00000003 >> 0x01 --> 0x00008001\n",
      "0x00000003 >> 0x02 --> 0x0000c000\n",
      "0x00000003 >> 0x03 --> 0x00006000\n",
      "0x00000003 >> 0x04 --> 0x00003000\n",
      "0x00000003 >> 0x05 --> 0x00001800\n",
      "0x00000003 >> 0x06 --> 0x00000c00\n",
      "0x00000003 >> 0x07 --> 0x00000600\n",
      "0x00000003 >> 0x08 --> 0x00000300\n",
      "0x00000003 >> 0x09 --> 0x00000180\n",
      "0x00000003 >> 0x0a --> 0x000000c0\n",
      "0x00000003 >> 0x0b --> 0x00000060\n",
      "0x00000003 >> 0x0c --> 0x00000030\n",
      "0x00000003 >> 0x0d --> 0x00000018\n",
      "0x00000003 >> 0x0e --> 0x0000000c\n",
      "0x00000003 >> 0x0f --> 0x00000006\n",
      "0x00000003 >> 0x10 --> 0x00000003\n",
      "0x00000003 >> 0x11 --> 0x00008001\n",
      "0x00000003 >> 0x12 --> 0x0000c000\n",
      "0x00000003 >> 0x13 --> 0x00006000\n",
      "0x00000003 >> 0x14 --> 0x00003000\n",
      "0x00000003 >> 0x15 --> 0x00001800\n",
      "0x00000003 >> 0x16 --> 0x00000c00\n",
      "0x00000003 >> 0x17 --> 0x00000600\n",
      "0x00000003 >> 0x18 --> 0x00000300\n",
      "0x00000003 >> 0x19 --> 0x00000180\n",
      "0x00000003 >> 0x1a --> 0x000000c0\n",
      "0x00000003 >> 0x1b --> 0x00000060\n",
      "0x00000003 >> 0x1c --> 0x00000030\n",
      "0x00000003 >> 0x1d --> 0x00000018\n",
      "0x00000003 >> 0x1e --> 0x0000000c\n"
     ]
    }
   ],
   "source": [
    "###########################################################################\n",
    "# Rotating bits \n",
    "# from: https://www.falatic.com/index.php/108/python-and-bitwise-rotation\n",
    "# max bits > 0 == width of the value in bits (e.g., int_16 -> 16)\n",
    " \n",
    "# Rotate left: 0b1001 --> 0b0011\n",
    "rol = lambda val, r_bits, max_bits: (\n",
    "        (val << r_bits%max_bits) & (2**max_bits-1) | \n",
    "        ((val & (2**max_bits-1)) >> (max_bits-(r_bits%max_bits))) )\n",
    " \n",
    "# Rotate right: 0b1001 --> 0b1100\n",
    "ror = lambda val, r_bits, max_bits: (\n",
    "    ((val & (2**max_bits-1)) >> r_bits%max_bits) | \n",
    "    (val << (max_bits-(r_bits%max_bits)) & (2**max_bits-1)) )\n",
    " \n",
    "max_bits = 16  # For fun, try 2, 17 or other arbitrary (positive!) values\n",
    " \n",
    "print()\n",
    "for i in range(0, max_bits*2-1):\n",
    "    value = 0xC000\n",
    "    newval = rol(value, i, max_bits)\n",
    "    print(\"0x%08x << 0x%02x --> 0x%08x\" % (value, i, newval))\n",
    "\n",
    "print()\n",
    "for i in range(0, max_bits*2-1):\n",
    "    value = 0x0003\n",
    "    newval = ror(value, i, max_bits)\n",
    "    print(\"0x%08x >> 0x%02x --> 0x%08x\" % (value, i, newval))\n",
    " "
   ]
  },
  {
   "cell_type": "code",
   "execution_count": null,
   "metadata": {
    "collapsed": true
   },
   "outputs": [],
   "source": []
  }
 ],
 "metadata": {
  "kernelspec": {
   "display_name": "Python [conda env:tensorflow]",
   "language": "python",
   "name": "conda-env-tensorflow-py"
  },
  "language_info": {
   "codemirror_mode": {
    "name": "ipython",
    "version": 2
   },
   "file_extension": ".py",
   "mimetype": "text/x-python",
   "name": "python",
   "nbconvert_exporter": "python",
   "pygments_lexer": "ipython2",
   "version": "2.7.12"
  }
 },
 "nbformat": 4,
 "nbformat_minor": 2
}
