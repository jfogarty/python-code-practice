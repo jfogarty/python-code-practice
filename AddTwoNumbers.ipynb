{
 "cells": [
  {
   "cell_type": "markdown",
   "metadata": {},
   "source": [
    "### Add Two Numbers\n",
    "\n",
    "You are given two non-empty linked lists representing two non-negative integers. The digits are stored in reverse order and each of their nodes contain a single digit. Add the two numbers and return it as a linked list.\n",
    "\n",
    "You may assume the two numbers do not contain any leading zero, except the number 0 itself.\n",
    "\n",
    "Input: (2 -> 4 -> 3) + (5 -> 6 -> 4)\n",
    "Output: 7 -> 0 -> 8\n",
    "\n",
    "See [The leetcode example problem](https://leetcode.com/problems/add-two-numbers/description/)"
   ]
  },
  {
   "cell_type": "code",
   "execution_count": 46,
   "metadata": {
    "collapsed": true
   },
   "outputs": [],
   "source": [
    "debugging = False\n",
    "#debugging = True\n",
    "debug2 = False\n",
    "\n",
    "logging = True\n",
    "\n",
    "def dbg(f, *args):\n",
    "    if debugging:\n",
    "        print(('  DBG:' + f).format(*args))\n",
    "\n",
    "def dbg_cont(f, *args):\n",
    "    if debugging:\n",
    "        print(('  DBG:' + f).format(*args), end='')\n",
    "\n",
    "def dbg2(f, *args):\n",
    "    if debug2:\n",
    "        print((' -DBG2:' + f).format(*args))\n",
    "        \n",
    "def log(f, *args):\n",
    "    if logging:\n",
    "        print((f).format(*args))\n",
    "        \n",
    "def logError(f, *args):\n",
    "    if logging:\n",
    "        print(('*** ERROR:' + f).format(*args))\n",
    "        \n",
    "def className(instance):\n",
    "    return type(instance).__name__"
   ]
  },
  {
   "cell_type": "markdown",
   "metadata": {},
   "source": [
    "### The TestSet Mechanism"
   ]
  },
  {
   "cell_type": "code",
   "execution_count": 47,
   "metadata": {
    "collapsed": true
   },
   "outputs": [],
   "source": [
    "# %load TestHarness.py\n",
    "class TestCase(object):\n",
    "    def __init__(self, name, method, inputs, expected, catchExceptions=False):\n",
    "        self.name = name\n",
    "        self.method = method\n",
    "        self.inputs = inputs\n",
    "        self.expected = expected\n",
    "        self.catchExceptions = catchExceptions\n",
    "        \n",
    "    def run(self):\n",
    "        if self.catchExceptions:\n",
    "            try:\n",
    "                return self.method(*self.inputs)\n",
    "            except Exception as x:\n",
    "                return x\n",
    "        else:\n",
    "                return self.method(*self.inputs)\n",
    "\n",
    "import time\n",
    "from datetime import timedelta\n",
    "\n",
    "class TestSet(object):\n",
    "    def __init__(self, cases):\n",
    "        self.cases = cases\n",
    "    \n",
    "    def run_tests(self):\n",
    "        count = 0\n",
    "        errors = 0\n",
    "        total_time = 0\n",
    "        for case in self.cases:\n",
    "            count += 1\n",
    "            start_time = time.time()\n",
    "            result = case.run()\n",
    "            elapsed_time = time.time() - start_time\n",
    "            total_time += elapsed_time\n",
    "            if callable(case.expected):\n",
    "                if not case.expected(result):\n",
    "                    errors += 1\n",
    "                    logError(\"Test {0} failed. Returned {1}\", case.name, result)\n",
    "            elif result != case.expected:\n",
    "                errors += 1\n",
    "                logError('Test {0} failed. Returned \"{1}\", expected \"{2}\"', case.name, result, case.expected)\n",
    "        if errors:\n",
    "            logError(\"Tests passed: {0}; Failures: {1}\", count-errors, errors)\n",
    "        else:\n",
    "            log(\"All {0} tests passed.\", count)\n",
    "        log(\"Elapsed test time: {0}\", timedelta(seconds=total_time))\n",
    "        "
   ]
  },
  {
   "cell_type": "code",
   "execution_count": 48,
   "metadata": {},
   "outputs": [],
   "source": [
    "class Solution(object):\n",
    "    def addTwoNumbers(self, l1, l2):\n",
    "        \"\"\"\n",
    "        :type l1: list\n",
    "        :type l2: list\n",
    "        :rtype: list\n",
    "        \"\"\"\n",
    "        \n",
    "        def toInt(n):\n",
    "            v = 0\n",
    "            scale = 1\n",
    "            for d in n:\n",
    "                v += int(d) * scale\n",
    "                scale *= 10\n",
    "            return v\n",
    "\n",
    "        def toList(v):\n",
    "            n = []\n",
    "            if v == 0:\n",
    "                n = [0]\n",
    "            else:\n",
    "                while v > 0:\n",
    "                    d = v % 10\n",
    "                    v //= 10\n",
    "                    n.append(d)\n",
    "            return n\n",
    "        \n",
    "        return toList(toInt(l2) + toInt(l1))\n",
    "        "
   ]
  },
  {
   "cell_type": "code",
   "execution_count": 49,
   "metadata": {},
   "outputs": [],
   "source": [
    "class Solution(object):\n",
    "    def addTwoNumbers(self, l1, l2):\n",
    "        \"\"\"\n",
    "        :type l1: ListNode\n",
    "        :type l2: ListNode\n",
    "        :rtype: ListNode\n",
    "        \"\"\"\n",
    "        \n",
    "        def toInt(node):\n",
    "            v = 0\n",
    "            scale = 1\n",
    "            while node:\n",
    "                d = node.val\n",
    "                v += int(d) * scale\n",
    "                scale *= 10\n",
    "                node = node.next\n",
    "            return v\n",
    "\n",
    "        def toList(v):\n",
    "            if v < 10:\n",
    "                return ListNode(v)\n",
    "            else:\n",
    "                startNode = ListNode(v % 10)\n",
    "                node = startNode\n",
    "                while v >= 10:\n",
    "                    v //= 10\n",
    "                    d = v % 10\n",
    "                    node.next = ListNode(d) \n",
    "                    node = node.next\n",
    "            return startNode\n",
    "        \n",
    "        return toList(toInt(l2) + toInt(l1))"
   ]
  },
  {
   "cell_type": "code",
   "execution_count": 50,
   "metadata": {},
   "outputs": [],
   "source": [
    "# Definition for singly-linked list.\n",
    "class ListNode(object):\n",
    "    def __init__(self, x):\n",
    "        self.val = x\n",
    "        self.next = None\n",
    "        \n",
    "    def __iter__(self):\n",
    "        node = self\n",
    "        while node:\n",
    "            yield node\n",
    "            node = node.next\n",
    "            \n",
    "    def __str__(self):\n",
    "        #text = '[ '\n",
    "        #node = self\n",
    "        #while node.next:\n",
    "        #    text += str(node.val) + ', '\n",
    "        #    node = node.next\n",
    "        #text += str(node.val) + ' ]'\n",
    "        text = str([x.val for x in self])\n",
    "        return text\n",
    "            \n",
    "    def append(self, v):\n",
    "        node = self\n",
    "        while node.next is not None:\n",
    "            node = node.next\n",
    "        node.next = ListNode(v)\n",
    "        \n",
    "    @staticmethod\n",
    "    def toList(v):\n",
    "        node = ListNode(v % 10)\n",
    "        v //= 10\n",
    "        while v > 0:\n",
    "            d = v % 10\n",
    "            v //= 10\n",
    "            node.append(d)\n",
    "        return node\n"
   ]
  },
  {
   "cell_type": "code",
   "execution_count": 51,
   "metadata": {},
   "outputs": [
    {
     "data": {
      "text/plain": [
       "'[5, 4, 4, 3, 2, 1]'"
      ]
     },
     "execution_count": 51,
     "metadata": {},
     "output_type": "execute_result"
    }
   ],
   "source": [
    "zz = ListNode.toList(123445)\n",
    "[x.val for x in zz]\n",
    "str(zz)"
   ]
  },
  {
   "cell_type": "markdown",
   "metadata": {},
   "source": [
    "### The Unit Under Test"
   ]
  },
  {
   "cell_type": "code",
   "execution_count": null,
   "metadata": {
    "collapsed": true
   },
   "outputs": [],
   "source": [
    "class Solution(object):\n",
    "    def myAtoi(self, str):\n",
    "        \"\"\"\n",
    "        :type str: str\n",
    "        :rtype: int\n",
    "        \"\"\"    \n",
    "        MAXINT = 2147483647\n",
    "        MININT = -2147483648\n",
    "        neg = False\n",
    "        n = len(str)\n",
    "        v = 0\n",
    "        i = 0\n",
    "        while i<n and str[i] == ' ': i+=1\n",
    "        if i<n and (str[i] == '+' or str[i] == '-'):\n",
    "            neg = str[i] == '-'\n",
    "            i += 1\n",
    "        while i<n and str[i] >= '0' and str[i] <= '9':\n",
    "            d = int(str[i])\n",
    "            v = v * 10 + d\n",
    "            i += 1\n",
    "        v = -v if neg else v\n",
    "        if v > MAXINT: return MAXINT\n",
    "        if v < MININT: return MININT\n",
    "        return v"
   ]
  },
  {
   "cell_type": "code",
   "execution_count": null,
   "metadata": {
    "collapsed": true
   },
   "outputs": [],
   "source": []
  }
 ],
 "metadata": {
  "kernelspec": {
   "display_name": "Python [conda env:py35]",
   "language": "python",
   "name": "conda-env-py35-py"
  },
  "language_info": {
   "codemirror_mode": {
    "name": "ipython",
    "version": 3
   },
   "file_extension": ".py",
   "mimetype": "text/x-python",
   "name": "python",
   "nbconvert_exporter": "python",
   "pygments_lexer": "ipython3",
   "version": "3.5.3"
  }
 },
 "nbformat": 4,
 "nbformat_minor": 2
}
