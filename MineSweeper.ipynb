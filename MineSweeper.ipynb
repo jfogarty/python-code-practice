{
 "cells": [
  {
   "cell_type": "markdown",
   "metadata": {},
   "source": [
    "### MineSweeper as Jupyter Noteook\n",
    "\n",
    "Minesweeper, the funnest game Windows 3.1 had to offer!\n",
    "\n",
    "Given a number of rows, columns, and mines, design and code a class that implements the core logic of the game.  You can assume there is a UI API already created for you, you just need to be able to say what needs to be displayed at what coordinates.\n",
    "\n",
    "At the start of the game, the user is presented a [rows x columns] 2D grid of blank cels.  The user clicks a cel, and action occurs depending on what's there:\n",
    "\n",
    "MINE - Game's over.  Reveal the board and exit.\n",
    "\n",
    "MINE-ADJACENT - Cels that have one or more mines as an immediate neighbor (including diagonals) reveal as a number, which is the total number of adjacent mines.\n",
    "\n",
    "NOTHING-NEAR - Cels that have zero adjacent mines reveal themselves as blank and then auto-click all neighboring cels to reveal them as well.  The game knows that every cel surrounding is safe to click, so we save the user the hassle.\n",
    "\n",
    "The game is won when all cels are uncovered, excepting for the cels containing mines.\n"
   ]
  },
  {
   "cell_type": "code",
   "execution_count": 178,
   "metadata": {
    "ExecuteTime": {
     "end_time": "2018-02-02T22:40:26.966414Z",
     "start_time": "2018-02-02T22:40:26.937566Z"
    },
    "collapsed": true
   },
   "outputs": [],
   "source": [
    "debugging = False\n",
    "debugging = True\n",
    "\n",
    "logging = True\n",
    "\n",
    "def dbg(f, *args):\n",
    "    if debugging:\n",
    "        print(('  DBG:' + f).format(*args))\n",
    "\n",
    "def log(f, *args):\n",
    "    if logging:\n",
    "        print((f).format(*args))\n",
    "        \n",
    "def logError(f, *args):\n",
    "    if logging:\n",
    "        print(('*** ERROR:' + f).format(*args))\n",
    "        \n",
    "def className(instance):\n",
    "    return type(instance).__name__"
   ]
  },
  {
   "cell_type": "code",
   "execution_count": 209,
   "metadata": {
    "ExecuteTime": {
     "end_time": "2018-02-02T23:03:19.050158Z",
     "start_time": "2018-02-02T23:03:18.955874Z"
    }
   },
   "outputs": [],
   "source": [
    "class Cell():\n",
    "    \n",
    "    def __init__(self, row, col, rows, cols):\n",
    "        self.row  = row\n",
    "        self.col  = col\n",
    "        self.rows = rows\n",
    "        self.cols = cols\n",
    "        self.mine = False\n",
    "        self.revealed = False\n",
    "        \n",
    "    def pos(self):\n",
    "        return (self.row, self.col)\n",
    "\n",
    "    def valid_pos(self, row, col):\n",
    "        return col>=0 and col<self.cols and row>=0 and row<self.rows\n",
    "    \n",
    "    def is_valid(self):\n",
    "        row, col = self.pos()\n",
    "        return self.valid_pos(row, col)\n",
    "\n",
    "    def desc(self):\n",
    "        row, col = self.pos()\n",
    "        return '{0}{1},{2}'.format('**' if self.mine else '', row, col)\n",
    "    \n",
    "    def surroundings(self):\n",
    "        ''' Return a list the (up to) nine valid positions around this cell '''\n",
    "        row, col = self.pos()\n",
    "        for y in range(row-1, row+2):\n",
    "            for x in range(col-1, col+2):\n",
    "                if self.valid_pos(y, x):\n",
    "                    yield (y, x)"
   ]
  },
  {
   "cell_type": "code",
   "execution_count": 210,
   "metadata": {
    "ExecuteTime": {
     "end_time": "2018-02-02T23:03:21.264920Z",
     "start_time": "2018-02-02T23:03:19.603895Z"
    }
   },
   "outputs": [],
   "source": [
    "import ipywidgets as widgets\n",
    "from IPython.display import display\n",
    "from random import randint\n",
    "\n",
    "UNKNOWN = '?'\n",
    "EMPTY = ' '\n",
    "MINE = '**'\n",
    "\n",
    "class Board():\n",
    "    def __init__(self, game, rows, cols, density=10):\n",
    "        '''\n",
    "        The density is the integer percent of cells which will probably\n",
    "        contain mines.\n",
    "        '''\n",
    "        assert density > 0 and density < 90\n",
    "        assert cols < 50 and rows < 50\n",
    "\n",
    "        self.rows = rows\n",
    "        self.cols = cols\n",
    "        self.game = game\n",
    "        self.density = density\n",
    "        \n",
    "        columns = []\n",
    "        vbox    = []\n",
    "        for y in range(rows):\n",
    "            row = []\n",
    "            for x in range(cols):\n",
    "                btn = widgets.Button(description=UNKNOWN)\n",
    "                btn.layout.width = '100px' if debugging else '50px'\n",
    "                btn.icon = 'none'                \n",
    "                row.append(btn)\n",
    "                row[x].on_click(Board.on_cell_button_clicked_event)\n",
    "                row[x].value = ( Cell(y, x, rows, cols), self )\n",
    "            vbox.append(widgets.HBox(row))\n",
    "            columns.append(row)      \n",
    "        self.board = columns\n",
    "        self.vbox  = widgets.VBox(vbox)\n",
    "        self.plant_landmines()\n",
    "        self.count_all_cells()\n",
    "\n",
    "    def show(self):\n",
    "        display(self.vbox) \n",
    "\n",
    "    def button(self, pos):\n",
    "        ''' Get the button that describes this positon '''\n",
    "        row, col = pos\n",
    "        return self.board[row][col]\n",
    "    \n",
    "    def cell(self, pos):\n",
    "        ''' Get the cell that describes this positon '''\n",
    "        button = self.button(pos)\n",
    "        return button.value[0]\n",
    "        \n",
    "    def all_cell_positions(self):\n",
    "        ''' Generate a list of all cells on the board '''\n",
    "        for row in range(self.rows):\n",
    "            for col in range(self.cols):\n",
    "                yield (row, col)\n",
    "                \n",
    "    def plant_landmines(self):\n",
    "        ''' Mark a random set of cells as having been mined. '''\n",
    "        mines = 0\n",
    "        self.mines_marked_correctly = 0\n",
    "        for pos in self.all_cell_positions():\n",
    "            cell = self.cell(pos)\n",
    "            mine = randint(0,99) < self.density\n",
    "            mines += 1 if mine else 0\n",
    "        if mines == 0:\n",
    "            # Always plant at least one mine.\n",
    "            row = randint(0, self.rows-1)\n",
    "            col = randint(0, self.cols-1)\n",
    "            self.cell((row, col)).mine = True\n",
    "            mines = 1\n",
    "        self.mines = mines\n",
    "\n",
    "    def count_mines(self, button):\n",
    "        cell = button.value[0]\n",
    "        mine_count = 1 if cell.mine else 0\n",
    "        for rc in cell.surroundings():\n",
    "            c = self.cell(rc)\n",
    "            mine_count += 1 if c.mine else 0\n",
    "        cell.mine_count = mine_count\n",
    "        cell.revealed = False\n",
    "        \n",
    "    def count_all_cells(self):\n",
    "        ''' Compute the adjacent mines for all cells '''\n",
    "        for pos in self.all_cell_positions():\n",
    "            button = self.button(pos)\n",
    "            self.count_mines(button)\n",
    "        \n",
    "    def show_count(self, button, cell):\n",
    "        ''' Show the count all the mines adjacent to this cell '''\n",
    "        button.description = EMPTY if cell.mine_count == 0 else str(cell.mine_count)\n",
    "        if cell.mine:\n",
    "            button.description = MINE\n",
    "        cell.revealed = True\n",
    "\n",
    "    def reveal_empty_cells(self, button, cell):\n",
    "        ''' Flow the revealed cells outward from this one '''\n",
    "        if cell.mine_count == 0:\n",
    "            for rc in cell.surroundings():\n",
    "                c = self.cell(rc)\n",
    "                b = self.button(rc)\n",
    "                if not c.revealed:\n",
    "                    self.show_count(b, c)\n",
    "                    self.reveal_empty_cells(b, c)\n",
    "                    \n",
    "    def reveal_all_cells(self):\n",
    "        for pos in self.all_cell_positions():\n",
    "            button = self.button(pos)\n",
    "            cell = self.cell(pos)\n",
    "            self.show_count(button, cell)            \n",
    "            \n",
    "    def click_button(self, button, cell):\n",
    "        ''' Do everything related to a single button click on a cell '''\n",
    "        if self.game.probing:\n",
    "            button.icon = 'none'\n",
    "            self.show_count(button, cell)\n",
    "            if cell.mine:\n",
    "                self.game.game_over_man()\n",
    "                self.reveal_all_cells()\n",
    "            self.reveal_empty_cells(button, cell)\n",
    "        else:\n",
    "            if not cell.revealed:\n",
    "                if button.icon == 'check':\n",
    "                    # Uncheck a cell that may not really be a mine.\n",
    "                    button.icon = 'none'\n",
    "                    self.mines_marked_correctly -= 1 if cell.mine else 0\n",
    "                    if debugging or cell.revealed:\n",
    "                        self.show_count(button, cell)\n",
    "                    else:\n",
    "                        button.description = UNKNOWN\n",
    "                else:\n",
    "                    button.icon = 'check'\n",
    "                    button.description = EMPTY\n",
    "                    self.mines_marked_correctly += 1 if cell.mine else 0\n",
    "                dbg(\"Marked {0} of {1} mines correctly\", self.mines_marked_correctly, self.mines)               \n",
    "                if self.mines_marked_correctly == self.mines:\n",
    "                    self.game.congratulations()\n",
    "                    self.reveal_all_cells()\n",
    "        \n",
    "    @staticmethod\n",
    "    def on_cell_button_clicked_event(button):\n",
    "        ''' The cell clicked event handler '''\n",
    "        cell = button.value[0]\n",
    "        self = button.value[1]\n",
    "        self.click_button(button, cell)        "
   ]
  },
  {
   "cell_type": "code",
   "execution_count": 211,
   "metadata": {
    "ExecuteTime": {
     "end_time": "2018-02-02T23:03:21.527693Z",
     "start_time": "2018-02-02T23:03:21.277154Z"
    }
   },
   "outputs": [],
   "source": [
    "MSG_PROBING = 'Currently in Mine PROBING mode. Be Very Careful!'\n",
    "MSG_MARKING = 'Currently in Mine MARKING mode.'\n",
    "\n",
    "class Game():\n",
    "   \n",
    "    def __init__(self, rows=9, cols=9, density=20):\n",
    "        self.board = Board(self, rows, cols, density)\n",
    "        self.probing = False;\n",
    "        self.gameover = False        \n",
    "        \n",
    "        modeButton = widgets.Button(\n",
    "            description='Initializing...',\n",
    "            disabled=False,\n",
    "            button_style='info', # 'success', 'info', 'warning', 'danger' or ''\n",
    "            tooltip='Description',\n",
    "            width='300px',\n",
    "            icon='check'\n",
    "        )\n",
    "        \n",
    "        self.modeButton = modeButton\n",
    "\n",
    "        handler=Game.toggle_mode_button_event\n",
    "        modeButton.value = self\n",
    "        modeButton.on_click(handler)\n",
    "        modeButton.layout.width = '400px'\n",
    "        handler(modeButton)\n",
    "\n",
    "    @staticmethod\n",
    "    def toggle_mode_button_event(btn):\n",
    "        self = btn.value\n",
    "        self.probing = not self.probing\n",
    "        if self.probing:\n",
    "            btn.description=MSG_PROBING\n",
    "            btn.icon='none'     \n",
    "        else:\n",
    "            btn.description=MSG_MARKING\n",
    "            btn.icon='check'\n",
    "            \n",
    "    def announce(self, f, *args):\n",
    "        ''' Display a status text line '''\n",
    "        print((f).format(*args))\n",
    "        \n",
    "    def game_over_man(self):\n",
    "        self.gameover = True\n",
    "        self.announce(\"***** KABOOM! *****   You are dead. \")\n",
    "\n",
    "    def congratulations(self):\n",
    "        if self.gameover:\n",
    "            self.announce(\"I hope you're happy now. You've marked every deadly mine correctly.\")\n",
    "            self.announce(\"Unfortunately, that seems somewhat pointless. Have a nice day.\")              \n",
    "        else:\n",
    "            self.gameover = True \n",
    "            self.announce(\"Congratulations! You've marked every deadly mine correctly.\")\n",
    "            self.announce(\"You are a winner!\")  \n",
    "\n",
    "    def run(self):\n",
    "        self.announce(\"Minesweeper! The exciting game of blowing yourself up --- or not!\")\n",
    "        display(self.modeButton)\n",
    "        self.board.show()\n",
    "        self.announce(\"The game is won when you've correctly marked every mine.\")\n"
   ]
  },
  {
   "cell_type": "code",
   "execution_count": 212,
   "metadata": {
    "ExecuteTime": {
     "end_time": "2018-02-02T23:03:23.923792Z",
     "start_time": "2018-02-02T23:03:23.526069Z"
    }
   },
   "outputs": [
    {
     "name": "stdout",
     "output_type": "stream",
     "text": [
      "Minesweeper! The exciting game of blowing yourself up --- or not!\n"
     ]
    },
    {
     "data": {
      "application/vnd.jupyter.widget-view+json": {
       "model_id": "99bcbc4693a140c080edb780832c6279",
       "version_major": 2,
       "version_minor": 0
      },
      "text/plain": [
       "A Jupyter Widget"
      ]
     },
     "metadata": {},
     "output_type": "display_data"
    },
    {
     "data": {
      "application/vnd.jupyter.widget-view+json": {
       "model_id": "3c136c138a414beaa8fce8e3eee2a3ad",
       "version_major": 2,
       "version_minor": 0
      },
      "text/plain": [
       "A Jupyter Widget"
      ]
     },
     "metadata": {},
     "output_type": "display_data"
    },
    {
     "name": "stdout",
     "output_type": "stream",
     "text": [
      "The game is won when you've correctly marked every mine.\n",
      "Congratulations! You've marked every deadly mine correctly.\n",
      "You are a winner!\n"
     ]
    }
   ],
   "source": [
    "debugging = False\n",
    "Game(5, 4, 1).run()"
   ]
  },
  {
   "cell_type": "code",
   "execution_count": null,
   "metadata": {
    "ExecuteTime": {
     "end_time": "2018-02-02T20:02:18.702393Z",
     "start_time": "2018-02-02T20:02:17.943842Z"
    }
   },
   "outputs": [],
   "source": []
  },
  {
   "cell_type": "code",
   "execution_count": null,
   "metadata": {
    "ExecuteTime": {
     "end_time": "2018-02-02T18:55:50.154167Z",
     "start_time": "2018-02-02T18:55:50.134841Z"
    }
   },
   "outputs": [],
   "source": []
  },
  {
   "cell_type": "code",
   "execution_count": null,
   "metadata": {
    "ExecuteTime": {
     "end_time": "2018-02-02T19:42:57.109244Z",
     "start_time": "2018-02-02T19:42:57.093660Z"
    }
   },
   "outputs": [],
   "source": [
    "\n"
   ]
  },
  {
   "cell_type": "code",
   "execution_count": null,
   "metadata": {
    "ExecuteTime": {
     "end_time": "2018-02-02T20:18:36.720854Z",
     "start_time": "2018-02-02T20:18:36.665001Z"
    }
   },
   "outputs": [],
   "source": []
  },
  {
   "cell_type": "code",
   "execution_count": null,
   "metadata": {
    "collapsed": true
   },
   "outputs": [],
   "source": []
  },
  {
   "cell_type": "code",
   "execution_count": null,
   "metadata": {
    "collapsed": true
   },
   "outputs": [],
   "source": []
  }
 ],
 "metadata": {
  "kernelspec": {
   "display_name": "Python [conda env:py35]",
   "language": "python",
   "name": "conda-env-py35-py"
  },
  "language_info": {
   "codemirror_mode": {
    "name": "ipython",
    "version": 3
   },
   "file_extension": ".py",
   "mimetype": "text/x-python",
   "name": "python",
   "nbconvert_exporter": "python",
   "pygments_lexer": "ipython3",
   "version": "3.5.4"
  },
  "varInspector": {
   "cols": {
    "lenName": 16,
    "lenType": 16,
    "lenVar": 40
   },
   "kernels_config": {
    "python": {
     "delete_cmd_postfix": "",
     "delete_cmd_prefix": "del ",
     "library": "var_list.py",
     "varRefreshCmd": "print(var_dic_list())"
    },
    "r": {
     "delete_cmd_postfix": ") ",
     "delete_cmd_prefix": "rm(",
     "library": "var_list.r",
     "varRefreshCmd": "cat(var_dic_list()) "
    }
   },
   "types_to_exclude": [
    "module",
    "function",
    "builtin_function_or_method",
    "instance",
    "_Feature"
   ],
   "window_display": false
  }
 },
 "nbformat": 4,
 "nbformat_minor": 2
}
