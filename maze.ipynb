{
 "cells": [
  {
   "cell_type": "markdown",
   "metadata": {},
   "source": [
    "### Fun with Mazes\n",
    "\n",
    "Simple maze representation and solvers.\n",
    "\n",
    "See [The LeetCode example problem](https://leetcode.com/problems/trim-a-binary-search-tree/description/)"
   ]
  },
  {
   "cell_type": "code",
   "execution_count": 1,
   "metadata": {
    "collapsed": true
   },
   "outputs": [],
   "source": [
    "\n",
    "debugging = False\n",
    "debugging = True\n",
    "\n",
    "logging = True\n",
    "\n",
    "def dprint(f, *args):\n",
    "    if debugging:\n",
    "        print(('  DBG:' + f).format(*args))\n",
    "\n",
    "def log(f, *args):\n",
    "    if logging:\n",
    "        print((f).format(*args))\n",
    "        \n",
    "def logError(f, *args):\n",
    "    if logging:\n",
    "        print(('*** ERROR:' + f).format(*args))\n",
    "        \n",
    "def className(instance):\n",
    "    return type(instance).__name__"
   ]
  },
  {
   "cell_type": "code",
   "execution_count": 2,
   "metadata": {
    "collapsed": true
   },
   "outputs": [],
   "source": [
    "class Maze(object):\n",
    "    \"\"\" Representation of a maze with narrow walls \"\"\"\n",
    "    \n",
    "    class MazeCell(object):\n",
    "        def __init__():\n",
    "            west_wall = False # A wall is present (on the west side)\n",
    "            north_wall = False # A wall is present (above to the north)\n",
    "            state = None # Nothing interesting has happened in this cell.\n",
    "            \n",
    "    pass\n"
   ]
  },
  {
   "cell_type": "code",
   "execution_count": 3,
   "metadata": {
    "collapsed": true
   },
   "outputs": [],
   "source": [
    "m = Maze()"
   ]
  },
  {
   "cell_type": "code",
   "execution_count": 38,
   "metadata": {},
   "outputs": [],
   "source": [
    "  \n",
    "class MazeCell(object):\n",
    "    def __init__(cell):\n",
    "        cell.blocked = False \n",
    "        cell.count = 0\n",
    "        cell.visited = 0\n",
    "\n",
    "class BlockMaze(object):\n",
    "    \"\"\" Representation of a maze with walls that take up entire cells \"\"\"\n",
    "\n",
    "    def __init__(self):\n",
    "        self.maze = []\n",
    "                \n",
    "    def loadMaze(self, mrows): \n",
    "        assert len(mrows) > 0 and isinstance(mrows, list)\n",
    "        for s in mrows:\n",
    "            row = []\n",
    "            for c in s:\n",
    "                cell = MazeCell()\n",
    "                cell.blocked = True if c == 'X' else False\n",
    "                row.append(cell)\n",
    "            self.maze.append(row)\n",
    "            \n",
    "    def printMaze(self):\n",
    "        rc = len(self.maze)\n",
    "        cc = len(self.maze[0])\n",
    "        def pe(v):\n",
    "            print(v,end='')\n",
    "        def printTopBot():\n",
    "            pe('+-')\n",
    "            for c in range(cc): pe('---')\n",
    "            print('-+')\n",
    "        printTopBot()\n",
    "        for row in self.maze:\n",
    "            pe('| ')\n",
    "            for c in row:\n",
    "                txt = '(X)' if c.blocked else '   '\n",
    "                pe(txt)\n",
    "            print(' |')\n",
    "        printTopBot()\n",
    "                "
   ]
  },
  {
   "cell_type": "code",
   "execution_count": 46,
   "metadata": {},
   "outputs": [
    {
     "name": "stdout",
     "output_type": "stream",
     "text": [
      "+--------------------------+\n",
      "|             (X)   (X)    |\n",
      "|       (X)         (X)    |\n",
      "|             (X)          |\n",
      "|             (X)          |\n",
      "|    (X)   (X)             |\n",
      "|    (X)   (X)             |\n",
      "|    (X)   (X)   (X)       |\n",
      "|    (X)         (X)       |\n",
      "+--------------------------+\n"
     ]
    }
   ],
   "source": [
    "x = BlockMaze()\n",
    "x.loadMaze([\"    X X \",\n",
    "            \"  X   X \",\n",
    "            \"    X   \",\n",
    "            \"    X   \",\n",
    "            \" X X    \",\n",
    "            \" X X    \",\n",
    "            \" X X X  \",\n",
    "            \" X   X  \"])\n",
    "x.printMaze()"
   ]
  },
  {
   "cell_type": "code",
   "execution_count": 47,
   "metadata": {},
   "outputs": [
    {
     "data": {
      "text/plain": [
       "<__main__.BlockMaze at 0x7f6ea82b9dd8>"
      ]
     },
     "execution_count": 47,
     "metadata": {},
     "output_type": "execute_result"
    }
   ],
   "source": [
    "x"
   ]
  },
  {
   "cell_type": "code",
   "execution_count": null,
   "metadata": {
    "collapsed": true
   },
   "outputs": [],
   "source": []
  }
 ],
 "metadata": {
  "kernelspec": {
   "display_name": "Python [conda env:py35]",
   "language": "python",
   "name": "conda-env-py35-py"
  },
  "language_info": {
   "codemirror_mode": {
    "name": "ipython",
    "version": 3
   },
   "file_extension": ".py",
   "mimetype": "text/x-python",
   "name": "python",
   "nbconvert_exporter": "python",
   "pygments_lexer": "ipython3",
   "version": "3.5.3"
  }
 },
 "nbformat": 4,
 "nbformat_minor": 2
}
