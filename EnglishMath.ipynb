{
 "cells": [
  {
   "cell_type": "markdown",
   "metadata": {},
   "source": [
    "### Display numbers in English \n",
    "\n",
    "Display a value like 112,305,260,623 as\n",
    "  \"one hundred and twelve billion, \"\n",
    "  \"three hundred and five million, \"\n",
    "  \"two hundred and sixty thousand, \"\n",
    "  \"six hundred and twenty three\"\n",
    "\n",
    "See [The example problem](https://leetcode.com/xxx/)"
   ]
  },
  {
   "cell_type": "code",
   "execution_count": 89,
   "metadata": {
    "ExecuteTime": {
     "end_time": "2017-11-09T18:29:34.472675Z",
     "start_time": "2017-11-09T18:29:34.073318Z"
    },
    "code_folding": [],
    "collapsed": true
   },
   "outputs": [],
   "source": [
    "# %load TestHarness\n",
    "debugging = False\n",
    "debugging = True\n",
    "\n",
    "debugging2 = False\n",
    "\n",
    "logging = True\n",
    "\n",
    "\n",
    "def dbg(f, *args):\n",
    "    if debugging:\n",
    "        print(('  DBG:' + f).format(*args))\n",
    "\n",
    "def dbg2(f, *args):\n",
    "    if debugging2:\n",
    "        print(('  DBG2:' + f).format(*args))\n",
    "        \n",
    "def log(f, *args):\n",
    "    if logging:\n",
    "        print((f).format(*args))\n",
    "        \n",
    "def log_error(f, *args):\n",
    "    if logging:\n",
    "        print(('*** ERROR:' + f).format(*args))       \n",
    "        \n",
    "def class_name(instance):\n",
    "    return type(instance).__name__\n",
    "\n",
    "#------------------------------------------------------------------------------   \n",
    "import time\n",
    "from datetime import timedelta\n",
    "\n",
    "#------------------------------------------------------------------------------\n",
    "class TestCase(object):\n",
    "    def __init__(self, name, method, inputs, expected, catchExceptions=False):\n",
    "        self.name = name\n",
    "        self.method = method\n",
    "        self.inputs = inputs\n",
    "        self.expected = expected\n",
    "        self.catchExceptions = catchExceptions\n",
    "        \n",
    "    def run(self):\n",
    "        if self.catchExceptions:\n",
    "            try:\n",
    "                return self.method(*self.inputs)\n",
    "            except Exception as x:\n",
    "                return x\n",
    "        else:\n",
    "                return self.method(*self.inputs)\n",
    "\n",
    "#------------------------------------------------------------------------------\n",
    "class TestSet(object):\n",
    "    def __init__(self, cases):\n",
    "        self.cases = cases\n",
    "    \n",
    "    def run_tests(self, repeat=1):\n",
    "        count = 0\n",
    "        errors = 0\n",
    "        total_time = 0\n",
    "        for case in self.cases:\n",
    "            count += 1\n",
    "            start_time = time.time()\n",
    "            for iteration in range(repeat):\n",
    "                dbg2(\"*** Running '{0}' iteration {1}\", case.name, iteration+1)\n",
    "                result = case.run()\n",
    "            elapsed_time = time.time() - start_time\n",
    "            total_time += elapsed_time\n",
    "            if callable(case.expected):\n",
    "                if not case.expected(result):\n",
    "                    errors += 1\n",
    "                    logError(\"Test {0} failed. Returned {1}\", case.name, result)\n",
    "            elif result != case.expected:\n",
    "                errors += 1\n",
    "                logError('Test {0} failed. Returned \"{1}\", expected \"{2}\"', case.name, result, case.expected)\n",
    "        if errors:\n",
    "            logError(\"Tests passed: {0}; Failures: {1}\", count-errors, errors)\n",
    "        else:\n",
    "            log(\"All {0} tests passed.\", count)\n",
    "        log(\"Elapsed test time: {0}\", timedelta(seconds=total_time))\n",
    "\n",
    "        \n"
   ]
  },
  {
   "cell_type": "code",
   "execution_count": 81,
   "metadata": {
    "ExecuteTime": {
     "end_time": "2017-11-09T18:20:51.192151Z",
     "start_time": "2017-11-09T18:20:50.849078Z"
    }
   },
   "outputs": [],
   "source": [
    "def english_num(v):\n",
    "    result = []\n",
    "    if isinstance(v, str):\n",
    "        v = int(v.replace(',', ''))\n",
    "    \n",
    "    def emit_symbol(s):\n",
    "        nonlocal result\n",
    "        result += s\n",
    "        \n",
    "    def emit_word(s):\n",
    "        nonlocal result\n",
    "        if len(result) > 0: result += ' '\n",
    "        result += s\n",
    "        \n",
    "    def emit_scale(scale):\n",
    "        ''' emit scale suffix (power of one thousand) '''\n",
    "        assert scale>=1 and scale<=5\n",
    "        w = \"thousand million billion trillion quadrillion\".split()\n",
    "        emit_word(w[scale-1])\n",
    "    \n",
    "    def emit_digit(n):\n",
    "        ''' emit a single digit, but ignore zero '''\n",
    "        assert n >= 0 and n < 10\n",
    "        w = \"one two three four five six seven eight nine\".split()\n",
    "        if n>0: emit_word(w[n-1])\n",
    "            \n",
    "    def emit_teen(n):\n",
    "        assert n >= 10 and n < 20\n",
    "        w = \"ten eleven twelve thirteen fourteen fifteen sixteen seventeen eighteen nineteen\".split()\n",
    "        emit_word(w[n-10])\n",
    "\n",
    "    def emit_by_tens(n):        \n",
    "        assert n >= 2 and n <= 9\n",
    "        w = \"twenty thirty fourty fifty sixty seventy eighty ninety\".split()\n",
    "        emit_word(w[n-2])\n",
    "\n",
    "    def emit_triplet(v, finalAnd=False):\n",
    "        assert v>0 and v<999\n",
    "        hundreds = v // 100\n",
    "        v = v % 100\n",
    "        if hundreds > 0:\n",
    "            emit_digit(hundreds)\n",
    "            emit_word('hundred')\n",
    "            finalAnd = True\n",
    "        if v > 0 and finalAnd: emit_word('and')        \n",
    "        if v > 19:\n",
    "            tens = v // 10\n",
    "            v = v % 10\n",
    "            emit_by_tens(tens)\n",
    "            emit_digit(v)\n",
    "        elif v > 9:\n",
    "            emit_teen(v)\n",
    "        else:\n",
    "            emit_digit(v)\n",
    "    \n",
    "    finalAnd = False\n",
    "    if v == 0:\n",
    "        emit_word('zero')\n",
    "    else:\n",
    "        if v < 0: \n",
    "            emit_word('negative')\n",
    "            v = -v\n",
    "        for scale_index in range(5, 0, -1):\n",
    "            scale_power = 1000**scale_index\n",
    "            if v // scale_power > 0:\n",
    "                emit_triplet(v // scale_power)\n",
    "                emit_scale(scale_index)\n",
    "                v = v % scale_power\n",
    "                if v > 0: \n",
    "                    emit_symbol(',')\n",
    "                    finalAnd = True\n",
    "        emit_triplet(v, finalAnd)\n",
    "    return ''.join(result)"
   ]
  },
  {
   "cell_type": "code",
   "execution_count": 82,
   "metadata": {
    "ExecuteTime": {
     "end_time": "2017-11-09T18:20:51.368970Z",
     "start_time": "2017-11-09T18:20:51.310020Z"
    }
   },
   "outputs": [
    {
     "name": "stdout",
     "output_type": "stream",
     "text": [
      "zero\n",
      "one\n",
      "negative eight\n",
      "negative eleven quadrillion, two hundred and twenty three trillion, four hundred and fifty six billion, three hundred and thirty four million, three hundred and fourty three thousand, four hundred and fourty two\n",
      "negative one hundred quadrillion, two hundred and twenty three trillion, four hundred and fifty six billion, three hundred and thirty four million, three hundred and fourty three thousand, four hundred and fourty two\n"
     ]
    }
   ],
   "source": [
    "print(english_num(0))\n",
    "print(english_num(1))\n",
    "print(english_num(-8))\n",
    "print(english_num(-11223456334343442))\n",
    "print(english_num('-100,223,456,334,343,442'))"
   ]
  },
  {
   "cell_type": "code",
   "execution_count": 83,
   "metadata": {
    "ExecuteTime": {
     "end_time": "2017-11-09T18:20:51.834184Z",
     "start_time": "2017-11-09T18:20:51.818637Z"
    }
   },
   "outputs": [
    {
     "name": "stdout",
     "output_type": "stream",
     "text": [
      "twenty\n",
      "ninety nine\n",
      "one hundred\n",
      "one hundred and one\n",
      "ten million, three hundred and nine thousand, and twenty one\n",
      "ten million, three hundred and nine thousand, eight hundred and twenty one\n",
      "ten million, three hundred and sixty nine thousand, eight hundred and twenty one\n",
      "ten million, three hundred and sixty thousand, eight hundred and twenty one\n"
     ]
    }
   ],
   "source": [
    "print(english_num(20))\n",
    "print(english_num(99))\n",
    "print(english_num(100))\n",
    "print(english_num(101))\n",
    "print(english_num(10309021))\n",
    "print(english_num(10309821))\n",
    "print(english_num(10369821))\n",
    "zrint(english_num('10,360,821'))"
   ]
  },
  {
   "cell_type": "code",
   "execution_count": 92,
   "metadata": {
    "ExecuteTime": {
     "end_time": "2017-11-09T18:32:44.370664Z",
     "start_time": "2017-11-09T18:32:44.362379Z"
    }
   },
   "outputs": [
    {
     "name": "stdout",
     "output_type": "stream",
     "text": [
      "All 1 tests passed.\n",
      "Elapsed test time: 0:00:00.000024\n"
     ]
    }
   ],
   "source": [
    "z = TestCase('zero', english_num, [0], 'zero')\n",
    "TestSet([z]).run_tests()"
   ]
  },
  {
   "cell_type": "code",
   "execution_count": 96,
   "metadata": {
    "ExecuteTime": {
     "end_time": "2017-11-09T18:33:31.035478Z",
     "start_time": "2017-11-09T18:33:31.018892Z"
    }
   },
   "outputs": [],
   "source": [
    "case_number = 0\n",
    "def Case(v, ex):\n",
    "    global case_number\n",
    "    case_number += 1\n",
    "    nm = 'Test:' + str(case_number)   \n",
    "    return TestCase(nm, english_num, [v], ex)\n",
    "\n",
    "x = [Case(20, 'twenty'),\n",
    "    Case(99, 'ninety nine'),\n",
    "    Case(100, 'one hundred'),\n",
    "    Case(101, 'one hundred and one'),\n",
    "    Case(10309021, 'ten million, three hundred and nine thousand, and twenty one'),\n",
    "    Case(10309821, 'ten million, three hundred and nine thousand, eight hundred and twenty one'),\n",
    "    Case(10369821, 'ten million, three hundred and sixty nine thousand, eight hundred and twenty one'),\n",
    "    Case('10,360,821', 'ten million, three hundred and sixty thousand, eight hundred and twenty one'),\n",
    "    ]"
   ]
  },
  {
   "cell_type": "code",
   "execution_count": 97,
   "metadata": {
    "ExecuteTime": {
     "end_time": "2017-11-09T18:33:31.833753Z",
     "start_time": "2017-11-09T18:33:31.828007Z"
    }
   },
   "outputs": [
    {
     "name": "stdout",
     "output_type": "stream",
     "text": [
      "All 8 tests passed.\n",
      "Elapsed test time: 0:00:00.000274\n"
     ]
    }
   ],
   "source": [
    "TestSet(x).run_tests()"
   ]
  },
  {
   "cell_type": "code",
   "execution_count": null,
   "metadata": {
    "collapsed": true
   },
   "outputs": [],
   "source": []
  }
 ],
 "metadata": {
  "kernelspec": {
   "display_name": "Python [conda env:scipy35]",
   "language": "python",
   "name": "conda-env-scipy35-py"
  },
  "language_info": {
   "codemirror_mode": {
    "name": "ipython",
    "version": 3
   },
   "file_extension": ".py",
   "mimetype": "text/x-python",
   "name": "python",
   "nbconvert_exporter": "python",
   "pygments_lexer": "ipython3",
   "version": "3.5.4"
  },
  "varInspector": {
   "cols": {
    "lenName": 16,
    "lenType": 16,
    "lenVar": 40
   },
   "kernels_config": {
    "python": {
     "delete_cmd_postfix": "",
     "delete_cmd_prefix": "del ",
     "library": "var_list.py",
     "varRefreshCmd": "print(var_dic_list())"
    },
    "r": {
     "delete_cmd_postfix": ") ",
     "delete_cmd_prefix": "rm(",
     "library": "var_list.r",
     "varRefreshCmd": "cat(var_dic_list()) "
    }
   },
   "types_to_exclude": [
    "module",
    "function",
    "builtin_function_or_method",
    "instance",
    "_Feature"
   ],
   "window_display": false
  }
 },
 "nbformat": 4,
 "nbformat_minor": 2
}
