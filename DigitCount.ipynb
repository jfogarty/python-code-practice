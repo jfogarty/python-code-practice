{
 "cells": [
  {
   "cell_type": "code",
   "execution_count": 259,
   "metadata": {
    "ExecuteTime": {
     "end_time": "2017-11-11T17:32:17.042480Z",
     "start_time": "2017-11-11T17:32:16.992663Z"
    },
    "code_folding": []
   },
   "outputs": [],
   "source": [
    "# %load TestHarness\n",
    "debugging = False\n",
    "#debugging = True\n",
    "\n",
    "debugging2 = False\n",
    "\n",
    "logging = True\n",
    "\n",
    "\n",
    "def dbg(f, *args):\n",
    "    if debugging:\n",
    "        print(('  DBG:' + f).format(*args))\n",
    "\n",
    "def dbg2(f, *args):\n",
    "    if debugging2:\n",
    "        print(('  DBG2:' + f).format(*args))\n",
    "        \n",
    "def log(f, *args):\n",
    "    if logging:\n",
    "        print((f).format(*args))\n",
    "        \n",
    "def log_error(f, *args):\n",
    "    if logging:\n",
    "        print(('*** ERROR:' + f).format(*args))       \n",
    "        \n",
    "def class_name(instance):\n",
    "    return type(instance).__name__\n",
    "     "
   ]
  },
  {
   "cell_type": "code",
   "execution_count": 260,
   "metadata": {
    "ExecuteTime": {
     "end_time": "2017-11-11T17:32:17.700022Z",
     "start_time": "2017-11-11T17:32:17.545105Z"
    },
    "code_folding": [
     0
    ],
    "collapsed": true
   },
   "outputs": [],
   "source": [
    "# Test Harness\n",
    "#------------------------------------------------------------------------------   \n",
    "import time\n",
    "from datetime import timedelta\n",
    "\n",
    "#------------------------------------------------------------------------------\n",
    "class TestCase(object):\n",
    "    def __init__(self, name, method, inputs, expected, catchExceptions=False):\n",
    "        self.name = name\n",
    "        self.method = method\n",
    "        self.inputs = inputs\n",
    "        self.expected = expected\n",
    "        self.catchExceptions = catchExceptions\n",
    "        \n",
    "    def run(self):\n",
    "        if self.catchExceptions:\n",
    "            try:\n",
    "                return self.method(*self.inputs)\n",
    "            except Exception as x:\n",
    "                return x\n",
    "        else:\n",
    "                return self.method(*self.inputs)\n",
    "\n",
    "#------------------------------------------------------------------------------\n",
    "class TestSet(object):\n",
    "    def __init__(self, cases):\n",
    "        self.cases = cases\n",
    "    \n",
    "    def run_tests(self, repeat=1):\n",
    "        count = 0\n",
    "        errors = 0\n",
    "        total_time = 0\n",
    "        for case in self.cases:\n",
    "            count += 1\n",
    "            start_time = time.time()\n",
    "            for iteration in range(repeat):\n",
    "                dbg2(\"*** Running '{0}' iteration {1}\", case.name, iteration+1)\n",
    "                result = case.run()\n",
    "            elapsed_time = time.time() - start_time\n",
    "            total_time += elapsed_time\n",
    "            if callable(case.expected):\n",
    "                if not case.expected(result):\n",
    "                    errors += 1\n",
    "                    logError(\"Test {0} failed. Returned {1}\", case.name, result)\n",
    "            elif result != case.expected:\n",
    "                errors += 1\n",
    "                logError('Test {0} failed. Returned \"{1}\", expected \"{2}\"', case.name, result, case.expected)\n",
    "        if errors:\n",
    "            logError(\"Tests passed: {0}; Failures: {1}\", count-errors, errors)\n",
    "        else:\n",
    "            log(\"All {0} tests passed.\", count)\n",
    "        log(\"Elapsed test time: {0}\", timedelta(seconds=total_time))\n"
   ]
  },
  {
   "cell_type": "code",
   "execution_count": 261,
   "metadata": {
    "ExecuteTime": {
     "end_time": "2017-11-11T17:32:18.550147Z",
     "start_time": "2017-11-11T17:32:18.537918Z"
    },
    "code_folding": [
     1,
     4
    ],
    "collapsed": true
   },
   "outputs": [],
   "source": [
    "xStack = []\n",
    "def push(v):\n",
    "    global xStack\n",
    "    xStack.append(v)\n",
    "def pop():\n",
    "    global xStack\n",
    "    return xStack.pop()"
   ]
  },
  {
   "cell_type": "code",
   "execution_count": 262,
   "metadata": {
    "ExecuteTime": {
     "end_time": "2017-11-11T17:32:19.268689Z",
     "start_time": "2017-11-11T17:32:19.237940Z"
    },
    "code_folding": [
     0
    ],
    "collapsed": true
   },
   "outputs": [],
   "source": [
    "def digit_count_slow(n, d):\n",
    "    ''' Get the number of times digit \"d\" appears in 0..n inclusive. '''\n",
    "    def single_count(i, d):\n",
    "        assert i >= 0\n",
    "        assert d >=0 and d <= 9\n",
    "        if i == 0: \n",
    "            return 0 if d > 0 else 1\n",
    "        c = 0\n",
    "        while i > 0:\n",
    "            c += i % 10 == d\n",
    "            i //= 10\n",
    "        return c\n",
    "    \n",
    "    c = 0\n",
    "    for i in range(n+1):\n",
    "        c += single_count(i, d)\n",
    "    return c\n",
    "        "
   ]
  },
  {
   "cell_type": "code",
   "execution_count": 263,
   "metadata": {
    "ExecuteTime": {
     "end_time": "2017-11-11T17:32:19.936730Z",
     "start_time": "2017-11-11T17:32:19.927871Z"
    },
    "collapsed": true
   },
   "outputs": [],
   "source": [
    "def digit_count_str(n, d=0):\n",
    "    ''' Get the number of times digit \"d\" appears in 0..n inclusive. '''\n",
    "    s = []\n",
    "    d_char = str(d)\n",
    "    for i in range(n+1): s += str(i)\n",
    "    return sum([ch == d_char for ch in s])"
   ]
  },
  {
   "cell_type": "code",
   "execution_count": 264,
   "metadata": {
    "ExecuteTime": {
     "end_time": "2017-11-11T17:32:20.786931Z",
     "start_time": "2017-11-11T17:32:20.772425Z"
    },
    "collapsed": true
   },
   "outputs": [],
   "source": [
    "def power10(n):\n",
    "    ''' get the scale (1, 10, 100, 1000 ...) and the magnitude (power of 10) \n",
    "        Note 0 is give and scale of 1.\n",
    "    '''\n",
    "    assert n >= 0\n",
    "    scale = 1\n",
    "    mag = -1\n",
    "    while scale <= n: \n",
    "        scale *= 10\n",
    "        mag += 1\n",
    "    if scale > 1: scale = scale // 10\n",
    "    return scale, mag"
   ]
  },
  {
   "cell_type": "code",
   "execution_count": 313,
   "metadata": {
    "ExecuteTime": {
     "end_time": "2017-11-11T18:21:08.024997Z",
     "start_time": "2017-11-11T18:21:07.938986Z"
    }
   },
   "outputs": [],
   "source": [
    "def zdcount(n, digit, scale=-1, mag=0, zeros=False):\n",
    "    ''' Count the number of digits in the range 0..n. \n",
    "    \n",
    "        Including zero is significantly more challenging since\n",
    "        leading zeros are only significant in 'interior' cases.\n",
    "        \n",
    "        Thus zd(3003, 0) is zd(0..3000) + zd(001,002,003)\n",
    "        zd(4211) is 4*zd(000..999) + zd(000..211)\n",
    "        \n",
    "        The critical insight for this problem is that for any number\n",
    "        xrrrr, there are two different evaluations of rrrr. For the\n",
    "        first 9999, the leading zeros are not counted, but from 10000\n",
    "        to xrrrr, we must count the leading zeros.\n",
    "        \n",
    "    '''\n",
    "    if scale < 0: scale, mag = power10(n)\n",
    "    if n < 10:\n",
    "        if digit: return 1 if digit <= n else 0\n",
    "        # The single digit case is tricky, since leading zeros are\n",
    "        # are implied when a mag>0.\n",
    "        if scale <= 1 or not zeros: return 1\n",
    "\n",
    "    dig = n // scale\n",
    "    rrr = n %  scale\n",
    "    r99 = scale-1\n",
    "    nmag = mag - 1\n",
    "    nscale = scale // 10\n",
    "\n",
    "    # Number of times the most significant digit is found.\n",
    "    cnt = 0\n",
    "    zzz = digit == 0\n",
    "    \n",
    "    if zeros or digit:\n",
    "        if dig > digit:\n",
    "            cnt = scale\n",
    "        elif dig == digit:\n",
    "            cnt = rrr + 1 # Account for this lone digit.\n",
    "        if mag:\n",
    "            cnt += zdcount(r99, digit, nscale, nmag, zzz) * dig               \n",
    "    else:\n",
    "        # First count the values up to 999, without the leading zeros:\n",
    "        cnt = zdcount(r99, 0, nscale, nmag, zeros=False)\n",
    "        if dig: \n",
    "            cnt += zdcount(r99, 0, nscale, nmag, zzz) * (dig-1) \n",
    "            \n",
    "    if not zeros or (mag and (digit or zeros)):\n",
    "        cnt += zdcount(rrr, digit, nscale, nmag, zzz)     \n",
    "    return cnt"
   ]
  },
  {
   "cell_type": "code",
   "execution_count": 314,
   "metadata": {
    "ExecuteTime": {
     "end_time": "2017-11-11T18:21:08.302962Z",
     "start_time": "2017-11-11T18:21:08.293786Z"
    }
   },
   "outputs": [
    {
     "data": {
      "text/plain": [
       "734164"
      ]
     },
     "execution_count": 314,
     "metadata": {},
     "output_type": "execute_result"
    }
   ],
   "source": [
    "zdcount(1287330, 0)"
   ]
  },
  {
   "cell_type": "code",
   "execution_count": 315,
   "metadata": {
    "ExecuteTime": {
     "end_time": "2017-11-11T18:21:09.433817Z",
     "start_time": "2017-11-11T18:21:08.633095Z"
    }
   },
   "outputs": [
    {
     "data": {
      "text/plain": [
       "True"
      ]
     },
     "execution_count": 315,
     "metadata": {},
     "output_type": "execute_result"
    }
   ],
   "source": [
    "reff = zerod_count_chatty_nasty\n",
    "uutf = zdcount\n",
    "trials = [(reff(z), uutf(z, 0)) for z in range(0,10000)]\n",
    "all([t[0] == t[1] for t in trials])\n",
    "#trials"
   ]
  },
  {
   "cell_type": "code",
   "execution_count": 316,
   "metadata": {
    "ExecuteTime": {
     "end_time": "2017-11-11T18:21:14.065941Z",
     "start_time": "2017-11-11T18:21:09.464189Z"
    }
   },
   "outputs": [
    {
     "data": {
      "text/plain": [
       "True"
      ]
     },
     "execution_count": 316,
     "metadata": {},
     "output_type": "execute_result"
    }
   ],
   "source": [
    "reff = digit_count_str\n",
    "uutf = zdcount\n",
    "trials = [(reff(z, d), uutf(z, d)) for z in range(0,1000) for d in range(0,10)]\n",
    "all([t[0] == t[1] for t in trials])"
   ]
  },
  {
   "cell_type": "code",
   "execution_count": 317,
   "metadata": {
    "ExecuteTime": {
     "end_time": "2017-11-11T18:21:15.315591Z",
     "start_time": "2017-11-11T18:21:15.309468Z"
    }
   },
   "outputs": [
    {
     "data": {
      "text/plain": [
       "[1, 1, 1, 1, 1, 1, 1, 1, 1]"
      ]
     },
     "execution_count": 317,
     "metadata": {},
     "output_type": "execute_result"
    }
   ],
   "source": [
    "[zdcount(n, 0) for n in range(9)]"
   ]
  },
  {
   "cell_type": "code",
   "execution_count": 98,
   "metadata": {
    "ExecuteTime": {
     "end_time": "2017-11-11T16:05:53.699912Z",
     "start_time": "2017-11-11T16:05:53.499936Z"
    },
    "collapsed": true
   },
   "outputs": [],
   "source": [
    "def zerod_count_chatty_nasty(n, scale=0, mag=0):\n",
    "    ''' Count the number of zero digits in the range 0..n\n",
    "        This is distinctly different from d_count as leading zeros are\n",
    "        always significant.\n",
    "        \n",
    "        Thus zd(3003) is zd(0..3000) + zd(001,002,003)\n",
    "        zd(4211) is 4*zd(000..999) + zd(000..211)\n",
    "        \n",
    "        The critical insight for this problem is that for any number\n",
    "        xrrrr, there are two different evaluations of rrrr. For the\n",
    "        first 9999, the leading zeros do not exist, but from 10000\n",
    "        to xrrrr, we must count the leading zeros.\n",
    "        \n",
    "    '''\n",
    "    \n",
    "    def zcount(n, scale=0, mag=0):\n",
    "        if scale == 0: scale, mag = power10(n)\n",
    "        X = '--'*(4-mag)\n",
    "        dbg('{0} n={1} zzENTER scale={2}, mag={3}', X, str(n).zfill(mag+1), scale, mag)\n",
    "\n",
    "        if n < 10 and scale==1:\n",
    "            cnt = 1\n",
    "            dbg('{0} n={1} (d)RETURN count={2}', X, str(n).zfill(mag+1), cnt)\n",
    "            return cnt\n",
    "\n",
    "        dig = n // scale\n",
    "        rrr = n %  scale\n",
    "        r99 = scale-1\n",
    "        nmag = mag - 1\n",
    "        nscale = scale // 10\n",
    "\n",
    "        if dig == 0:\n",
    "            cnt = rrr + 1 # Account for this lone zero.\n",
    "            if mag: cnt += zcount(rrr, nscale, nmag)\n",
    "        else:\n",
    "            cnt = scale\n",
    "            if mag:\n",
    "                cnt += zcount(r99, nscale, nmag) * dig\n",
    "                cnt += zcount(rrr, nscale, nmag)\n",
    "        dbg('{0} n={1} zzRETURN count={2}', X, str(n).zfill(mag+1), cnt)            \n",
    "        return cnt\n",
    "    \n",
    "    if scale == 0: scale, mag = power10(n)\n",
    "    X = '--'*(4-mag)\n",
    "    dbg('{0} n={1} zdENTER scale={2}, mag={3}', X, str(n).zfill(mag+1), scale, mag)        \n",
    "    if n < 10:\n",
    "        cnt = 1\n",
    "        #dbg('n={0} zdRETURN count={1}', n, cnt)\n",
    "        return cnt\n",
    "    dig = n // scale\n",
    "    rrr = n % scale\n",
    "    nscale = scale // 10\n",
    "    nmag = mag-1\n",
    "    # First count the values up to 999\n",
    "    cnt = zerod_count(scale-1, nscale, nmag)\n",
    "    dbg('{0} n={1}   UNFILLED count={2}', X, str(scale-1).zfill(mag), cnt)\n",
    "    if dig > 1:\n",
    "        c = zcount(scale-1, nscale, nmag) * (dig-1)\n",
    "        dbg('{0} n={1} ZEROFILLED count={2}', X, str(scale-1).zfill(mag), c)\n",
    "        cnt += c\n",
    "    #f rem > 0 or dig == 1:\n",
    "    c = zcount(rrr, nscale, nmag)\n",
    "    dbg('{0} n={1} REMAINDER count={2}', X, str(rrr).zfill(mag), c)\n",
    "    cnt += c\n",
    "    dbg('{0} n={1} count={2}', X, n, cnt)\n",
    "    return cnt\n"
   ]
  }
 ],
 "metadata": {
  "kernelspec": {
   "display_name": "Python [conda env:py35]",
   "language": "python",
   "name": "conda-env-py35-py"
  },
  "language_info": {
   "codemirror_mode": {
    "name": "ipython",
    "version": 3
   },
   "file_extension": ".py",
   "mimetype": "text/x-python",
   "name": "python",
   "nbconvert_exporter": "python",
   "pygments_lexer": "ipython3",
   "version": "3.5.4"
  },
  "varInspector": {
   "cols": {
    "lenName": 16,
    "lenType": 16,
    "lenVar": 40
   },
   "kernels_config": {
    "python": {
     "delete_cmd_postfix": "",
     "delete_cmd_prefix": "del ",
     "library": "var_list.py",
     "varRefreshCmd": "print(var_dic_list())"
    },
    "r": {
     "delete_cmd_postfix": ") ",
     "delete_cmd_prefix": "rm(",
     "library": "var_list.r",
     "varRefreshCmd": "cat(var_dic_list()) "
    }
   },
   "types_to_exclude": [
    "module",
    "function",
    "builtin_function_or_method",
    "instance",
    "_Feature"
   ],
   "window_display": false
  }
 },
 "nbformat": 4,
 "nbformat_minor": 2
}
