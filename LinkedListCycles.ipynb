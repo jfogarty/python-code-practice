{
 "cells": [
  {
   "cell_type": "markdown",
   "metadata": {},
   "source": [
    "### Return node where cycle begins in Linked list.\n",
    "\n",
    "Given a linked list, return the node where the cycle begins. If thDE\n",
    "Note: Do not modify the linked list.\n",
    "\n",
    "Follow up:\n",
    "Can you solve it without using extra space?\n",
    "\n",
    "https://leetcode.com/problems/linked-list-cycle-ii/description/"
   ]
  },
  {
   "cell_type": "code",
   "execution_count": 115,
   "metadata": {
    "ExecuteTime": {
     "end_time": "2018-02-01T00:24:44.083928Z",
     "start_time": "2018-02-01T00:24:43.595271Z"
    }
   },
   "outputs": [],
   "source": [
    "class listnode():\n",
    "    val  = None\n",
    "    next = None\n",
    "    \n",
    "    def __init__(self, val):\n",
    "        self.val = val\n",
    "    \n",
    "    def __str__(self, maxc=20):       \n",
    "        if self.next and maxc > 1:\n",
    "            return '[' + self.val + '] ' + self.next.__str__(maxc-1)\n",
    "        else:\n",
    "            return '[' + self.val + '] DONE'\n",
    "\n",
    "    def cycleto(self, linkval):\n",
    "        node = self\n",
    "        linkto = None\n",
    "        lastnode = None\n",
    "        while node:\n",
    "            if node.val == linkval and linkto == None:\n",
    "                linkto = node\n",
    "            lastnode = node\n",
    "            node = node.next            \n",
    "        lastnode.next = linkto\n",
    "        \n",
    "    def cycle_size(self):\n",
    "        ''' Given a node in a cycle get its side (as a count of nodes)\n",
    "        '''\n",
    "        n = 0\n",
    "        node = self\n",
    "        while node != None:\n",
    "            node = node.next\n",
    "            n += 1\n",
    "            if node == self:\n",
    "                return n\n",
    "        return 0\n",
    "\n",
    "    def has_cycle(self):\n",
    "        head = self\n",
    "        tail = self.next\n",
    "        while tail != None:\n",
    "            if head == tail: return True\n",
    "            head = head.next\n",
    "            tail = tail.next\n",
    "            if head == tail: return True\n",
    "            if tail: tail = tail.next\n",
    "        return False\n",
    "\n",
    "\n",
    "        return -1\n",
    "\n",
    "    def cycle_node(self):\n",
    "        head = self\n",
    "        tail = self.next\n",
    "        n = 0\n",
    "        while tail != None:\n",
    "            if head == tail: return head\n",
    "            head = head.next\n",
    "            tail = tail.next\n",
    "            if head == tail: return head\n",
    "            if tail: tail = tail.next\n",
    "        return None\n",
    "\n",
    "    def cycle_nodes(self):\n",
    "        ''' Return the nodes that starts and end a cycle '''\n",
    "        node = None\n",
    "        nodeinloop = self.cycle_node()\n",
    "        if nodeinloop:\n",
    "            n = nodeinloop.cycle_size()\n",
    "            head = tail = self\n",
    "            # Advance tail by exactly the loop size.\n",
    "            for i in range(n): \n",
    "                prev = tail\n",
    "                tail = tail.next           \n",
    "            while head != tail:\n",
    "                head = head.next\n",
    "                tail = tail.next\n",
    "                prev = prev.next                \n",
    "            return (head, prev)\n",
    "        return (None, None)\n",
    "\n",
    "    def cycle_start(self):\n",
    "        ''' Return the node that starts a cycle '''\n",
    "        return self.cycle_nodes()[0]\n",
    "        \n",
    "    def cycle_end(self):\n",
    "        ''' Return the node that ends a cycle '''\n",
    "        return self.cycle_nodes()[1]\n",
    "    \n",
    "    @staticmethod\n",
    "    def builder(nodes, linkval = None):\n",
    "        head = None\n",
    "        prev = None \n",
    "        for ch in list(nodes):\n",
    "            node = listnode(ch)\n",
    "            if head:\n",
    "                prev.next = node\n",
    "                prev = node\n",
    "            else:\n",
    "                head = node\n",
    "                prev = head\n",
    "        if linkval:\n",
    "            head.cycleto(linkval)\n",
    "        return head\n"
   ]
  },
  {
   "cell_type": "code",
   "execution_count": null,
   "metadata": {
    "ExecuteTime": {
     "end_time": "2018-01-31T22:40:03.905240Z",
     "start_time": "2018-01-31T22:40:03.887504Z"
    }
   },
   "outputs": [],
   "source": []
  },
  {
   "cell_type": "code",
   "execution_count": 117,
   "metadata": {
    "ExecuteTime": {
     "end_time": "2018-02-01T00:24:53.362814Z",
     "start_time": "2018-02-01T00:24:53.351683Z"
    }
   },
   "outputs": [
    {
     "name": "stdout",
     "output_type": "stream",
     "text": [
      "[A] [B] [C] [D] [E] [F] [G] [H] [I] [J] [K] [L] [M] [E] [F] [G] [H] [I] [J] [K] DONE\n",
      "I\n",
      "9\n",
      "E\n",
      "M\n"
     ]
    }
   ],
   "source": [
    "a = listnode.builder('ABCDEFGHIJKLM', 'E')\n",
    "print(a)\n",
    "print(a.cycle_node().val)\n",
    "print(a.cycle_node().cycle_size())\n",
    "print(a.cycle_start().val)\n",
    "print(a.cycle_end().val)"
   ]
  },
  {
   "cell_type": "code",
   "execution_count": 99,
   "metadata": {
    "ExecuteTime": {
     "end_time": "2018-01-31T23:53:04.154965Z",
     "start_time": "2018-01-31T23:53:04.146366Z"
    }
   },
   "outputs": [
    {
     "data": {
      "text/plain": [
       "16"
      ]
     },
     "execution_count": 99,
     "metadata": {},
     "output_type": "execute_result"
    }
   ],
   "source": [
    "16 // 9 *"
   ]
  },
  {
   "cell_type": "code",
   "execution_count": 5,
   "metadata": {
    "ExecuteTime": {
     "end_time": "2018-01-31T21:47:09.438569Z",
     "start_time": "2018-01-31T21:47:09.429158Z"
    }
   },
   "outputs": [
    {
     "data": {
      "text/plain": [
       "['l', 'k', 'd', 's', 'j', 'f', 'g', 'l', 'j', 's', 'f', 'd']"
      ]
     },
     "execution_count": 5,
     "metadata": {},
     "output_type": "execute_result"
    }
   ],
   "source": [
    "list('lkdsjfgljsfd')"
   ]
  },
  {
   "cell_type": "code",
   "execution_count": null,
   "metadata": {
    "collapsed": true
   },
   "outputs": [],
   "source": []
  }
 ],
 "metadata": {
  "kernelspec": {
   "display_name": "Python [conda env:py35]",
   "language": "python",
   "name": "conda-env-py35-py"
  },
  "language_info": {
   "codemirror_mode": {
    "name": "ipython",
    "version": 3
   },
   "file_extension": ".py",
   "mimetype": "text/x-python",
   "name": "python",
   "nbconvert_exporter": "python",
   "pygments_lexer": "ipython3",
   "version": "3.5.4"
  },
  "varInspector": {
   "cols": {
    "lenName": 16,
    "lenType": 16,
    "lenVar": 40
   },
   "kernels_config": {
    "python": {
     "delete_cmd_postfix": "",
     "delete_cmd_prefix": "del ",
     "library": "var_list.py",
     "varRefreshCmd": "print(var_dic_list())"
    },
    "r": {
     "delete_cmd_postfix": ") ",
     "delete_cmd_prefix": "rm(",
     "library": "var_list.r",
     "varRefreshCmd": "cat(var_dic_list()) "
    }
   },
   "types_to_exclude": [
    "module",
    "function",
    "builtin_function_or_method",
    "instance",
    "_Feature"
   ],
   "window_display": false
  }
 },
 "nbformat": 4,
 "nbformat_minor": 2
}
