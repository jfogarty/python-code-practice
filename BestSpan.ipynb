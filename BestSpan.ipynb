{
 "cells": [
  {
   "cell_type": "markdown",
   "metadata": {},
   "source": [
    "### Maximum Index (Best Span)\n",
    "\n",
    "Given an array A of integers, find the maximum of j - i subjected to the constraint of A[i] <= A[j].\n",
    "\n",
    "Example :\n",
    "\n",
    "A : [3 5 4 2]\n",
    "\n",
    "Output : 2 \n",
    "for the pair (3, 4)\n",
    "\n",
    " \n",
    "\n",
    "Input:\n",
    "\n",
    "The first line contains an integer T, depicting total number of test cases. \n",
    "Then following T lines contains an integer N depicting the size of array and next line followed by the value of array.\n",
    "\n",
    "\n",
    "Output:\n",
    "\n",
    "Print the maximum difference of the indexes i and j in a separtate line.\n",
    "\n",
    "\n",
    "Constraints:\n",
    "\n",
    "* 1 ≤ T ≤ 100\n",
    "* 1 ≤ N ≤ 1000\n",
    "* 0 ≤ A[i] ≤ 100\n",
    "\n",
    "\n",
    "Example:\n",
    "```\n",
    "    Input\n",
    "    1\n",
    "    2\n",
    "    1 10\n",
    "    Output\n",
    "    1\n",
    "```\n",
    "\n",
    "See [The Google example problem](http://practice.geeksforgeeks.org/problems/maximum-index/0)"
   ]
  },
  {
   "cell_type": "code",
   "execution_count": 1,
   "metadata": {
    "ExecuteTime": {
     "end_time": "2017-11-13T15:58:41.253757Z",
     "start_time": "2017-11-13T15:58:40.838608Z"
    },
    "code_folding": [
     0
    ],
    "collapsed": true
   },
   "outputs": [],
   "source": [
    "# %load TestHarness\n",
    "debugging = False\n",
    "debugging = True\n",
    "\n",
    "debugging2 = False\n",
    "\n",
    "logging = True\n",
    "\n",
    "def printf(f, *args):\n",
    "    if len(args): \n",
    "        print(f.format(*args))\n",
    "    else:\n",
    "        print(f)   \n",
    "\n",
    "def dbg(f, *args):\n",
    "    if debugging:\n",
    "        if len(args):\n",
    "            printf('  DBG:' + f, *args)\n",
    "        else:\n",
    "            print(f)\n",
    "\n",
    "def dbg2(f, *args):\n",
    "    if debugging2:\n",
    "        if len(args):\n",
    "            printf('  DBG2:' + f, *args)\n",
    "        else:\n",
    "            print(f)\n",
    "        \n",
    "def log(f, *args):\n",
    "    if logging:\n",
    "        printf(f, *args)\n",
    "        \n",
    "def log_error(f, *args):\n",
    "    if logging:\n",
    "        if len(args):\n",
    "            printf('*** ERROR:' + f, *args)\n",
    "        else:\n",
    "            print('*** ERROR:', f)\n",
    "        \n",
    "def class_name(instance):\n",
    "    return type(instance).__name__\n",
    "\n",
    "#------------------------------------------------------------------------------   \n",
    "import time\n",
    "from datetime import timedelta\n",
    "\n",
    "#------------------------------------------------------------------------------\n",
    "class TestCase(object):\n",
    "    def __init__(self, name, method, inputs, expected, catchExceptions=False):\n",
    "        self.name = name\n",
    "        self.method = method\n",
    "        self.inputs = inputs\n",
    "        self.expected = expected\n",
    "        self.catchExceptions = catchExceptions\n",
    "        \n",
    "    def run(self):\n",
    "        if self.catchExceptions:\n",
    "            try:\n",
    "                return self.method(*self.inputs)\n",
    "            except Exception as x:\n",
    "                return x\n",
    "        else:\n",
    "                return self.method(*self.inputs)\n",
    "\n",
    "#------------------------------------------------------------------------------\n",
    "class TestSet(object):\n",
    "    def __init__(self, cases):\n",
    "        self.cases = cases\n",
    "    \n",
    "    def run_tests(self, repeat=1):\n",
    "        count = 0\n",
    "        errors = 0\n",
    "        total_time = 0\n",
    "        for case in self.cases:\n",
    "            count += 1\n",
    "            start_time = time.time()\n",
    "            for iteration in range(repeat):\n",
    "                dbg2(\"*** Running '{0}' iteration {1}\", case.name, iteration+1)\n",
    "                result = case.run()\n",
    "            elapsed_time = time.time() - start_time\n",
    "            total_time += elapsed_time\n",
    "            if callable(case.expected):\n",
    "                if not case.expected(result):\n",
    "                    errors += 1\n",
    "                    log_error(\"Test {0} failed. Returned {1}\", case.name, result)\n",
    "            elif result != case.expected:\n",
    "                errors += 1\n",
    "                log_error('Test {0} failed. Returned \"{1}\", expected \"{2}\"', case.name, result, case.expected)\n",
    "        if errors:\n",
    "            log_error(\"Tests passed: {0}; Failures: {1}\", count-errors, errors)\n",
    "        else:\n",
    "            log(\"All {0} tests passed.\", count)\n",
    "        log(\"Elapsed test time: {0}\", timedelta(seconds=total_time))\n",
    "\n",
    "        \n"
   ]
  },
  {
   "cell_type": "code",
   "execution_count": 2,
   "metadata": {
    "ExecuteTime": {
     "end_time": "2017-11-13T15:58:41.514992Z",
     "start_time": "2017-11-13T15:58:41.256129Z"
    },
    "collapsed": true
   },
   "outputs": [],
   "source": [
    "def bestspanx(A):\n",
    "    maxs = 0\n",
    "    pair = (0, 0)\n",
    "    n = len(A)\n",
    "    for i in range(n):\n",
    "        for j in range(i, n):\n",
    "            if A[i] <= A[j]: \n",
    "                diff = j - i\n",
    "                if maxs < diff:\n",
    "                    maxs = diff\n",
    "                    pair = (A[i], A[j])\n",
    "    return maxs, pair"
   ]
  },
  {
   "cell_type": "code",
   "execution_count": 3,
   "metadata": {
    "ExecuteTime": {
     "end_time": "2017-11-13T15:58:41.671055Z",
     "start_time": "2017-11-13T15:58:41.519279Z"
    },
    "collapsed": true
   },
   "outputs": [],
   "source": [
    "def bestspan(A):\n",
    "    maxs = 0\n",
    "    pair = (0, 0)\n",
    "    n = len(A)\n",
    "    for i in range(n):\n",
    "        # No point in looking at any pairs that don't \n",
    "        # improve our score.\n",
    "        for j in range(i + maxs + 1, n):\n",
    "            if A[i] <= A[j]: \n",
    "                diff = j - i\n",
    "                if maxs < diff:\n",
    "                    maxs = diff\n",
    "                    pair = (A[i], A[j])\n",
    "    return maxs, pair"
   ]
  },
  {
   "cell_type": "code",
   "execution_count": 4,
   "metadata": {
    "ExecuteTime": {
     "end_time": "2017-11-13T15:58:41.817579Z",
     "start_time": "2017-11-13T15:58:41.675198Z"
    }
   },
   "outputs": [
    {
     "data": {
      "text/plain": [
       "(2, (3, 4))"
      ]
     },
     "execution_count": 4,
     "metadata": {},
     "output_type": "execute_result"
    }
   ],
   "source": [
    "bestspan([7, 6, 3, 5, 4, 2, 1, -1])"
   ]
  },
  {
   "cell_type": "code",
   "execution_count": 5,
   "metadata": {
    "ExecuteTime": {
     "end_time": "2017-11-13T15:58:41.948683Z",
     "start_time": "2017-11-13T15:58:41.820825Z"
    },
    "collapsed": true
   },
   "outputs": [],
   "source": [
    "import random\n",
    "r = [random.randint(1, 100)- (x // 10) for x in range(10000)]"
   ]
  },
  {
   "cell_type": "code",
   "execution_count": 6,
   "metadata": {
    "ExecuteTime": {
     "end_time": "2017-11-13T15:58:48.307134Z",
     "start_time": "2017-11-13T15:58:41.950878Z"
    }
   },
   "outputs": [
    {
     "data": {
      "text/plain": [
       "(995, (-462, -462))"
      ]
     },
     "execution_count": 6,
     "metadata": {},
     "output_type": "execute_result"
    }
   ],
   "source": [
    "bestspan(r)"
   ]
  },
  {
   "cell_type": "code",
   "execution_count": 7,
   "metadata": {
    "ExecuteTime": {
     "end_time": "2017-11-13T15:58:56.720205Z",
     "start_time": "2017-11-13T15:58:48.310149Z"
    }
   },
   "outputs": [
    {
     "data": {
      "text/plain": [
       "(995, (-462, -462))"
      ]
     },
     "execution_count": 7,
     "metadata": {},
     "output_type": "execute_result"
    }
   ],
   "source": [
    "bestspanx(r)"
   ]
  },
  {
   "cell_type": "code",
   "execution_count": 8,
   "metadata": {
    "ExecuteTime": {
     "end_time": "2017-11-13T15:58:56.800302Z",
     "start_time": "2017-11-13T15:58:56.724263Z"
    },
    "collapsed": true
   },
   "outputs": [],
   "source": [
    "import collections\n",
    "def bestspanq(A):\n",
    "    n = len(A)\n",
    "    minv =  9999999999\n",
    "    maxv = -9999999999\n",
    "    minq = collections.deque()\n",
    "    maxq = collections.deque()\n",
    "    \n",
    "    # get minima going forward\n",
    "    for i in range(n):\n",
    "        if A[i] <= minv:\n",
    "            minv = A[i]\n",
    "            minq.append((minv, i))\n",
    "\n",
    "    # get maxima going back\n",
    "    for j in range(n-1, 0, -1):\n",
    "        if A[j] >= maxv:\n",
    "            maxv = A[j]\n",
    "            maxq.appendleft((maxv, j))\n",
    "\n",
    "    # do merge between maxima and minima\n",
    "    maxdist = 0\n",
    "    while len(maxq) and len(minq):\n",
    "        maxqtop = maxq[0]\n",
    "        minqtop = minq[0]        \n",
    "        if maxqtop[0] >= minqtop[0]:\n",
    "            if maxqtop[1] - minqtop[1] > maxdist:\n",
    "                maxdist = maxqtop[1] - minqtop[1]\n",
    "            maxq.popleft()\n",
    "        else:\n",
    "            minq.popleft()\n",
    "\n",
    "    return maxdist"
   ]
  },
  {
   "cell_type": "code",
   "execution_count": 9,
   "metadata": {
    "ExecuteTime": {
     "end_time": "2017-11-13T15:58:56.936660Z",
     "start_time": "2017-11-13T15:58:56.802614Z"
    },
    "collapsed": true
   },
   "outputs": [],
   "source": [
    "import collections\n",
    "def bestspana(A):\n",
    "    VALUE = 0   \n",
    "    INDEX = 1\n",
    "    n = len(A)\n",
    "    minv =  9999999999\n",
    "    maxv = -9999999999\n",
    "    minq = []\n",
    "    maxq = []\n",
    "    \n",
    "    # get minima going forward\n",
    "    for i in range(n):\n",
    "        if A[i] < minv:\n",
    "            minv = A[i]\n",
    "            minq.append((minv, i)) # left is at 0\n",
    "    dbg(minq)\n",
    "\n",
    "    # get maxima going backwards\n",
    "    for j in range(n-1, 0, -1):\n",
    "        if A[j] > maxv:\n",
    "            maxv = A[j]\n",
    "            maxq.append((maxv, j)) #left is at n\n",
    "    dbg(maxq)\n",
    "\n",
    "    # do merge between maxima and minima\n",
    "    maxdist = 0\n",
    "    minqi = 0\n",
    "    maxqi = len(maxq)-1\n",
    "    while minqi < len(minq) and maxqi >= 0:\n",
    "        maxqtop = maxq[maxqi]\n",
    "        minqtop = minq[minqi]\n",
    "        if maxqtop[VALUE] >= minqtop[VALUE]:\n",
    "            v = maxqtop[INDEX] - minqtop[INDEX]\n",
    "            if v > maxdist:\n",
    "                maxdist = v\n",
    "            maxqi -= 1\n",
    "        else:\n",
    "            minqi += 1\n",
    "\n",
    "    return maxdist"
   ]
  },
  {
   "cell_type": "code",
   "execution_count": 10,
   "metadata": {
    "ExecuteTime": {
     "end_time": "2017-11-13T15:58:57.132218Z",
     "start_time": "2017-11-13T15:58:56.940115Z"
    },
    "scrolled": true
   },
   "outputs": [
    {
     "name": "stdout",
     "output_type": "stream",
     "text": [
      "(411, (99, 99))\n",
      "411\n",
      "[(99, 0), (36, 1), (24, 2), (19, 20), (17, 28), (4, 29), (3, 39), (1, 47)]\n",
      "[(99, 411), (100, 341)]\n",
      "411\n"
     ]
    }
   ],
   "source": [
    "v = \"99 36 24 91 92 45 90 41 49 85 24 64 29 24 24 60 77 81 45 58 19 88 91 25 27 71 63 24 17 4 35 67 91 10 57 82 54 98 22 3 34 97 18 62 73 41 73 1 21 18 58 39 57 100 63 35 70 78 10 38 33 96 5 23 6 13 4 11 63 77 13 48 25 30 62 49 22 86 49 94 3 58 85 12 57 99 98 27 28 8 64 60 3 20 82 8 85 37 71 47 65 83 94 42 65 7 90 38 93 39 32 47 96 68 58 53 66 56 31 94 15 46 53 17 66 87 77 2 23 47 48 40 81 93 81 97 100 70 35 92 60 18 38 8 85 48 60 50 55 42 43 69 87 48 37 4 34 65 5 8 11 52 47 44 97 79 40 48 1 74 91 12 91 80 19 75 27 30 77 33 71 71 53 58 18 90 61 3 54 66 11 17 69 9 60 65 88 51 64 40 25 54 51 67 34 70 94 12 99 70 45 70 92 97 79 10 38 39 12 92 56 74 60 25 83 71 41 22 21 5 61 97 58 63 64 43 32 9 55 83 30 51 4 21 47 82 82 37 72 46 28 28 19 39 52 53 9 44 74 81 48 86 78 58 49 93 52 32 1 6 14 82 8 17 2 55 50 36 91 22 81 70 49 99 60 52 52 68 95 77 100 95 15 77 4 15 69 55 46 21 13 12 2 20 80 56 26 30 91 68 51 71 89 51 21 48 2 72 67 48 1 67 42 15 43 97 29 64 52 26 84 16 37 38 35 69 45 61 98 35 80 100 57 69 2 77 16 3 1 35 2 1 1 96 15 95 92 95 10 95 20 94 10 57 83 45 25 27 57 74 13 36 25 69 56 26 45 72 80 97 58 81 97 58 76 63 4 20 57 14 14 77 59 24 85 41 20 61 19 76 86 31 63 10 99 19 87 95 42 18 44 99\"\n",
    "A = [int(x) for x in v.split()]\n",
    "print(bestspan(A))\n",
    "print(bestspanq(A))\n",
    "print(bestspana(A))"
   ]
  },
  {
   "cell_type": "code",
   "execution_count": 11,
   "metadata": {
    "ExecuteTime": {
     "end_time": "2017-11-13T15:58:57.247124Z",
     "start_time": "2017-11-13T15:58:57.135476Z"
    },
    "collapsed": true
   },
   "outputs": [],
   "source": [
    "import collections\n",
    "def getMaxDist(arr):\n",
    "\n",
    "    # get minima going forward\n",
    "    minimum = float(\"inf\")\n",
    "    minima = collections.deque()\n",
    "    for i in range(len(arr)):\n",
    "        if arr[i] < minimum:\n",
    "            minimum = arr[i]\n",
    "            minima.append((arr[i], i))\n",
    "\n",
    "    # get maxima going back\n",
    "    maximum = float(\"-inf\")\n",
    "    maxima = collections.deque()\n",
    "    for i in range(len(arr)-1,0,-1):\n",
    "        if arr[i] > maximum:\n",
    "            maximum = arr[i]\n",
    "            maxima.appendleft((arr[i], i))\n",
    "\n",
    "    # do merge between maxima and minima\n",
    "    maxdist = 0\n",
    "    while len(maxima) and len(minima):\n",
    "        if maxima[0][0] > minima[0][0]:\n",
    "            if maxima[0][1] - minima[0][1] > maxdist:\n",
    "                maxdist = maxima[0][1] - minima[0][1]\n",
    "            maxima.popleft()\n",
    "        else:\n",
    "            minima.popleft()\n",
    "\n",
    "    return maxdist"
   ]
  },
  {
   "cell_type": "code",
   "execution_count": 12,
   "metadata": {
    "ExecuteTime": {
     "end_time": "2017-11-13T15:58:57.439628Z",
     "start_time": "2017-11-13T15:58:57.252136Z"
    }
   },
   "outputs": [
    {
     "name": "stdout",
     "output_type": "stream",
     "text": [
      "(39, (1, 23))\n",
      "39\n"
     ]
    }
   ],
   "source": [
    "v = \"68 35 1 70 25 79 59 63 65 6 46 82 28 62 92 96 43 28 37 92 5 3 54 93 83 22 17 19 96 48 27 72 39 70 13 68 100 36 95 4 12 23\"\n",
    "A = [int(x) for x in v.split()]\n",
    "print(bestspan(A))\n",
    "print(getMaxDist(A))"
   ]
  },
  {
   "cell_type": "code",
   "execution_count": 13,
   "metadata": {
    "ExecuteTime": {
     "end_time": "2017-11-13T15:58:57.523536Z",
     "start_time": "2017-11-13T15:58:57.444293Z"
    }
   },
   "outputs": [
    {
     "data": {
      "text/plain": [
       "True"
      ]
     },
     "execution_count": 13,
     "metadata": {},
     "output_type": "execute_result"
    }
   ],
   "source": [
    "float('inf') > float('-inf')"
   ]
  },
  {
   "cell_type": "code",
   "execution_count": null,
   "metadata": {
    "ExecuteTime": {
     "end_time": "2017-11-13T00:21:57.296866Z",
     "start_time": "2017-11-13T00:21:57.280328Z"
    }
   },
   "outputs": [],
   "source": []
  },
  {
   "cell_type": "code",
   "execution_count": null,
   "metadata": {
    "collapsed": true
   },
   "outputs": [],
   "source": []
  }
 ],
 "metadata": {
  "kernelspec": {
   "display_name": "Python [conda env:py35]",
   "language": "python",
   "name": "conda-env-py35-py"
  },
  "language_info": {
   "codemirror_mode": {
    "name": "ipython",
    "version": 3
   },
   "file_extension": ".py",
   "mimetype": "text/x-python",
   "name": "python",
   "nbconvert_exporter": "python",
   "pygments_lexer": "ipython3",
   "version": "3.5.4"
  },
  "varInspector": {
   "cols": {
    "lenName": 16,
    "lenType": 16,
    "lenVar": 40
   },
   "kernels_config": {
    "python": {
     "delete_cmd_postfix": "",
     "delete_cmd_prefix": "del ",
     "library": "var_list.py",
     "varRefreshCmd": "print(var_dic_list())"
    },
    "r": {
     "delete_cmd_postfix": ") ",
     "delete_cmd_prefix": "rm(",
     "library": "var_list.r",
     "varRefreshCmd": "cat(var_dic_list()) "
    }
   },
   "types_to_exclude": [
    "module",
    "function",
    "builtin_function_or_method",
    "instance",
    "_Feature"
   ],
   "window_display": false
  }
 },
 "nbformat": 4,
 "nbformat_minor": 2
}
