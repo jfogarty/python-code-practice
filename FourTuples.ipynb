{
 "cells": [
  {
   "cell_type": "markdown",
   "metadata": {},
   "source": [
    "### Find unique quadruplets that sum to the same target value\n",
    "\n",
    " Given an array S of n integers, are there elements a, b, c, and d in S such that a + b + c + d = target? Find all unique quadruplets in the array which gives the sum of target.\n",
    "\n",
    "Note: The solution set must not contain duplicate quadruplets.\n",
    "\n",
    "For example, given array S = [1, 0, -1, 0, -2, 2], and target = 0.\n",
    "\n",
    "A solution set is:\n",
    "[\n",
    "  [-1,  0, 0, 1],\n",
    "  [-2, -1, 1, 2],\n",
    "  [-2,  0, 0, 2]\n",
    "]\n",
    "\n",
    "\n",
    "\n",
    "See [The leetcode example problem](https://leetcode.com/problems/4sum/description/)"
   ]
  },
  {
   "cell_type": "code",
   "execution_count": 54,
   "metadata": {
    "ExecuteTime": {
     "end_time": "2017-11-06T19:26:11.527654Z",
     "start_time": "2017-11-06T19:26:11.458387Z"
    },
    "collapsed": true
   },
   "outputs": [],
   "source": [
    "debugging = False\n",
    "#debugging = True\n",
    "debug2 = False\n",
    "\n",
    "logging = True\n",
    "\n",
    "def dbg(f, *args):\n",
    "    if debugging:\n",
    "        print(('  DBG:' + f).format(*args))\n",
    "\n",
    "def dbg_cont(f, *args):\n",
    "    if debugging:\n",
    "        print(('  DBG:' + f).format(*args), end='')\n",
    "\n",
    "def dbg2(f, *args):\n",
    "    if debug2:\n",
    "        print((' -DBG2:' + f).format(*args))\n",
    "        \n",
    "def log(f, *args):\n",
    "    if logging:\n",
    "        print((f).format(*args))\n",
    "        \n",
    "def logError(f, *args):\n",
    "    if logging:\n",
    "        print(('*** ERROR:' + f).format(*args))\n",
    "        \n",
    "def className(instance):\n",
    "    return type(instance).__name__"
   ]
  },
  {
   "cell_type": "markdown",
   "metadata": {},
   "source": [
    "### The TestSet Mechanism"
   ]
  },
  {
   "cell_type": "code",
   "execution_count": 55,
   "metadata": {
    "ExecuteTime": {
     "end_time": "2017-11-06T19:26:14.887994Z",
     "start_time": "2017-11-06T19:26:14.686950Z"
    },
    "collapsed": true
   },
   "outputs": [],
   "source": [
    "# %load TestHarness.py\n",
    "class TestCase(object):\n",
    "    def __init__(self, name, method, inputs, expected, catchExceptions=False):\n",
    "        self.name = name\n",
    "        self.method = method\n",
    "        self.inputs = inputs\n",
    "        self.expected = expected\n",
    "        self.catchExceptions = catchExceptions\n",
    "        \n",
    "    def run(self):\n",
    "        if self.catchExceptions:\n",
    "            try:\n",
    "                return self.method(*self.inputs)\n",
    "            except Exception as x:\n",
    "                return x\n",
    "        else:\n",
    "                return self.method(*self.inputs)\n",
    "\n",
    "import time\n",
    "from datetime import timedelta\n",
    "\n",
    "class TestSet(object):\n",
    "    def __init__(self, cases):\n",
    "        self.cases = cases\n",
    "    \n",
    "    def run_tests(self):\n",
    "        count = 0\n",
    "        errors = 0\n",
    "        total_time = 0\n",
    "        for case in self.cases:\n",
    "            count += 1\n",
    "            start_time = time.time()\n",
    "            result = case.run()\n",
    "            elapsed_time = time.time() - start_time\n",
    "            total_time += elapsed_time\n",
    "            if callable(case.expected):\n",
    "                if not case.expected(result):\n",
    "                    errors += 1\n",
    "                    logError(\"Test {0} failed. Returned {1}\", case.name, result)\n",
    "            elif result != case.expected:\n",
    "                errors += 1\n",
    "                logError('Test {0} failed. Returned \"{1}\", expected \"{2}\"', case.name, result, case.expected)\n",
    "        if errors:\n",
    "            logError(\"Tests passed: {0}; Failures: {1}\", count-errors, errors)\n",
    "        else:\n",
    "            log(\"All {0} tests passed.\", count)\n",
    "        log(\"Elapsed test time: {0}\", timedelta(seconds=total_time))\n",
    "        "
   ]
  },
  {
   "cell_type": "code",
   "execution_count": 56,
   "metadata": {
    "ExecuteTime": {
     "end_time": "2017-11-06T19:26:17.030132Z",
     "start_time": "2017-11-06T19:26:17.021861Z"
    },
    "collapsed": true
   },
   "outputs": [],
   "source": [
    "class Solution:\n",
    "    def fourSum(self, nums, target):\n",
    "        \"\"\"\n",
    "        :type nums: List[int]\n",
    "        :type target: int\n",
    "        :rtype: List[List[int]]\n",
    "        \"\"\"\n",
    "        \n",
    "        \n",
    "        \n",
    "        "
   ]
  },
  {
   "cell_type": "markdown",
   "metadata": {},
   "source": [
    "### The Unit Under Test"
   ]
  },
  {
   "cell_type": "code",
   "execution_count": 57,
   "metadata": {
    "ExecuteTime": {
     "end_time": "2017-11-06T19:26:18.898980Z",
     "start_time": "2017-11-06T19:26:18.856325Z"
    },
    "collapsed": true
   },
   "outputs": [],
   "source": [
    "def fourSum(nums, target):\n",
    "    \"\"\"\n",
    "    :type nums: List[int]\n",
    "    :type target: int\n",
    "    :rtype: List[List[int]]\n",
    "    \"\"\"\n",
    "    N = len(nums)\n",
    "    results = []\n",
    "    for i in range(N):\n",
    "        target_i = target - nums[i]\n",
    "        for j in range(i+1, N):\n",
    "            target_j = target_i - nums[j]\n",
    "            for k in range(j+1, N):\n",
    "                target_k = target_j - nums[k]               \n",
    "                for m in range(k+1, N):\n",
    "                    zero = target_k - nums[m]\n",
    "                    if zero == 0:\n",
    "                        r = [ nums[i], nums[j], nums[k], nums[m] ]\n",
    "                        r.sort() # Put results in canonical order.\n",
    "                        if r not in results:\n",
    "                            results.append(r)\n",
    "    return sorted(results)"
   ]
  },
  {
   "cell_type": "code",
   "execution_count": 58,
   "metadata": {
    "ExecuteTime": {
     "end_time": "2017-11-06T19:26:20.327685Z",
     "start_time": "2017-11-06T19:26:20.322980Z"
    },
    "collapsed": true
   },
   "outputs": [],
   "source": [
    " S = [1, 0, -1, 0, -2, 2, 2, 0, -1, 1]"
   ]
  },
  {
   "cell_type": "code",
   "execution_count": 59,
   "metadata": {
    "ExecuteTime": {
     "end_time": "2017-11-06T19:26:20.964622Z",
     "start_time": "2017-11-06T19:26:20.956173Z"
    }
   },
   "outputs": [
    {
     "data": {
      "text/plain": [
       "[[-2, -1, 1, 2],\n",
       " [-2, 0, 0, 2],\n",
       " [-2, 0, 1, 1],\n",
       " [-1, -1, 0, 2],\n",
       " [-1, -1, 1, 1],\n",
       " [-1, 0, 0, 1]]"
      ]
     },
     "execution_count": 59,
     "metadata": {},
     "output_type": "execute_result"
    }
   ],
   "source": [
    "fourSum(S, 0)"
   ]
  },
  {
   "cell_type": "code",
   "execution_count": 89,
   "metadata": {
    "ExecuteTime": {
     "end_time": "2017-11-06T19:50:22.971993Z",
     "start_time": "2017-11-06T19:50:22.871623Z"
    }
   },
   "outputs": [
    {
     "name": "stdout",
     "output_type": "stream",
     "text": [
      "Automatic pdb calling has been turned OFF\n"
     ]
    }
   ],
   "source": [
    "%pdb off\n",
    "# -- Invoke PDB debugger on error\n",
    "def fourSum_sortfirst(nums, target):\n",
    "    \"\"\"\n",
    "    :type nums: List[int]\n",
    "    :type target: int\n",
    "    :rtype: List[List[int]]\n",
    "    \"\"\"\n",
    "    N = len(nums)\n",
    "    nums.sort()\n",
    "    results = []\n",
    "    for i in range(N):\n",
    "        target_i = target - nums[i]\n",
    "        for j in range(i+1, N):\n",
    "            targ2 = target_i - nums[j]\n",
    "            front = j+1\n",
    "            back  = N-1           \n",
    "            while front < back:\n",
    "                # Since the values are sorted, we can converge on the pair that sums to\n",
    "                # the target for the remaining two entries.\n",
    "                v = nums[front] + nums[back]\n",
    "                if v < targ2: # We need to get bigger number to help here.\n",
    "                    front += 1\n",
    "                elif v > targ2: # Reduce the pair size\n",
    "                    back -= 1\n",
    "                else: # got a possible solution.\n",
    "                    r = [ nums[i], nums[j], nums[front], nums[back] ]\n",
    "                    # r.sort() # Not needed, already in canonical order.\n",
    "                    if r not in results:\n",
    "                        results.append(r)\n",
    "                    # At this point neither of these entries can matter, but there\n",
    "                    # can still are other pairs possible.\n",
    "                    front += 1\n",
    "                    back  -= 1\n",
    "    return results"
   ]
  },
  {
   "cell_type": "markdown",
   "metadata": {
    "collapsed": true
   },
   "source": [
    "For example, given array, and target = 0.\n",
    "A solution set is: [ [-1, 0, 0, 1], [-2, -1, 1, 2], [-2, 0, 0, 2] ]"
   ]
  },
  {
   "cell_type": "code",
   "execution_count": 90,
   "metadata": {
    "ExecuteTime": {
     "end_time": "2017-11-06T19:50:23.975773Z",
     "start_time": "2017-11-06T19:50:23.968116Z"
    }
   },
   "outputs": [
    {
     "data": {
      "text/plain": [
       "[[-2, -1, 1, 2],\n",
       " [-2, 0, 0, 2],\n",
       " [-2, 0, 1, 1],\n",
       " [-1, -1, 0, 2],\n",
       " [-1, -1, 1, 1],\n",
       " [-1, 0, 0, 1]]"
      ]
     },
     "execution_count": 90,
     "metadata": {},
     "output_type": "execute_result"
    }
   ],
   "source": [
    "fourSum(S, 0)"
   ]
  },
  {
   "cell_type": "code",
   "execution_count": 91,
   "metadata": {
    "ExecuteTime": {
     "end_time": "2017-11-06T19:50:24.338887Z",
     "start_time": "2017-11-06T19:50:24.331063Z"
    }
   },
   "outputs": [
    {
     "data": {
      "text/plain": [
       "[[-2, -1, 1, 2],\n",
       " [-2, 0, 0, 2],\n",
       " [-2, 0, 1, 1],\n",
       " [-1, -1, 0, 2],\n",
       " [-1, -1, 1, 1],\n",
       " [-1, 0, 0, 1]]"
      ]
     },
     "execution_count": 91,
     "metadata": {},
     "output_type": "execute_result"
    }
   ],
   "source": [
    "fourSum_sortfirst(S, 0)\n",
    "\n"
   ]
  },
  {
   "cell_type": "code",
   "execution_count": 92,
   "metadata": {
    "ExecuteTime": {
     "end_time": "2017-11-06T19:50:25.034870Z",
     "start_time": "2017-11-06T19:50:25.027771Z"
    }
   },
   "outputs": [
    {
     "data": {
      "text/plain": [
       "True"
      ]
     },
     "execution_count": 92,
     "metadata": {},
     "output_type": "execute_result"
    }
   ],
   "source": [
    "fourSum(S, 0) == fourSum_sortfirst(S, 0)"
   ]
  },
  {
   "cell_type": "code",
   "execution_count": 93,
   "metadata": {
    "ExecuteTime": {
     "end_time": "2017-11-06T19:50:25.660030Z",
     "start_time": "2017-11-06T19:50:25.610198Z"
    }
   },
   "outputs": [
    {
     "name": "stdout",
     "output_type": "stream",
     "text": [
      "All 2 tests passed.\n",
      "Elapsed test time: 0:00:00.000739\n"
     ]
    }
   ],
   "source": [
    "S2 = [1, 0, -1, 0, -2, 2, 2, 0, -1, 1]\n",
    "r2 = [[-2, -1, 1, 2], [-2, 0, 0, 2], [-2, 0, 1, 1], [-1, -1, 0, 2], [-1, -1, 1, 1], [-1, 0, 0, 1]]\n",
    "t1 = TestCase('fourSum basic', fourSum, [ S2, 0 ], r2)\n",
    "t2 = TestCase('fourSum sorted', fourSum_sortfirst, [ S2, 0 ], r2)\n",
    "\n",
    "runner = TestSet([t1, t2])\n",
    "runner.run_tests()\n"
   ]
  },
  {
   "cell_type": "code",
   "execution_count": 94,
   "metadata": {
    "ExecuteTime": {
     "end_time": "2017-11-06T19:50:26.231253Z",
     "start_time": "2017-11-06T19:50:26.223315Z"
    }
   },
   "outputs": [
    {
     "data": {
      "text/plain": [
       "[[-2, -1, 1, 2],\n",
       " [-2, 0, 0, 2],\n",
       " [-2, 0, 1, 1],\n",
       " [-1, -1, 0, 2],\n",
       " [-1, -1, 1, 1],\n",
       " [-1, 0, 0, 1]]"
      ]
     },
     "execution_count": 94,
     "metadata": {},
     "output_type": "execute_result"
    }
   ],
   "source": [
    "sorted(r2)"
   ]
  },
  {
   "cell_type": "code",
   "execution_count": 95,
   "metadata": {
    "ExecuteTime": {
     "end_time": "2017-11-06T19:50:27.503559Z",
     "start_time": "2017-11-06T19:50:27.494266Z"
    }
   },
   "outputs": [
    {
     "data": {
      "text/plain": [
       "<__main__.TestCase at 0x7f9c4c201da0>"
      ]
     },
     "execution_count": 95,
     "metadata": {},
     "output_type": "execute_result"
    }
   ],
   "source": [
    "t1"
   ]
  },
  {
   "cell_type": "code",
   "execution_count": null,
   "metadata": {
    "collapsed": true
   },
   "outputs": [],
   "source": []
  }
 ],
 "metadata": {
  "kernelspec": {
   "display_name": "Python [conda env:py35]",
   "language": "python",
   "name": "conda-env-py35-py"
  },
  "language_info": {
   "codemirror_mode": {
    "name": "ipython",
    "version": 3
   },
   "file_extension": ".py",
   "mimetype": "text/x-python",
   "name": "python",
   "nbconvert_exporter": "python",
   "pygments_lexer": "ipython3",
   "version": "3.5.4"
  },
  "varInspector": {
   "cols": {
    "lenName": 16,
    "lenType": 16,
    "lenVar": 40
   },
   "kernels_config": {
    "python": {
     "delete_cmd_postfix": "",
     "delete_cmd_prefix": "del ",
     "library": "var_list.py",
     "varRefreshCmd": "print(var_dic_list())"
    },
    "r": {
     "delete_cmd_postfix": ") ",
     "delete_cmd_prefix": "rm(",
     "library": "var_list.r",
     "varRefreshCmd": "cat(var_dic_list()) "
    }
   },
   "oldHeight": 384,
   "position": {
    "height": "406px",
    "left": "832px",
    "right": "20px",
    "top": "124px",
    "width": "578px"
   },
   "types_to_exclude": [
    "module",
    "function",
    "builtin_function_or_method",
    "instance",
    "_Feature"
   ],
   "varInspector_section_display": "block",
   "window_display": false
  }
 },
 "nbformat": 4,
 "nbformat_minor": 2
}
