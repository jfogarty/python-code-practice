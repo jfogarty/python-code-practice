{
 "cells": [
  {
   "cell_type": "markdown",
   "metadata": {},
   "source": [
    "### Finding the numbers\n",
    "\n",
    "You are given an array A containing 2*N+2 positive numbers, out of which N numbers are repeated exactly once and the other two numbers occur exactly once and are distinct. You need to find the other two numbers and print them in ascending order.\n",
    "\n",
    "Input :\n",
    "\n",
    "The first line contains a value T, which denotes the number of test cases. Then T test cases follow .The first line of each test case contains a value N. The next line contains 2*N+2 space separated integers.\n",
    "\n",
    "Output :\n",
    "\n",
    "Print in a new line the two numbers in ascending order.\n",
    "\n",
    "Constraints :\n",
    "* 1<=T<=100\n",
    "* 1<=N<=10^6\n",
    "* 1<=A[i]<=5*10^8\n",
    "\n",
    "Example:\n",
    "```\n",
    "    Input :\n",
    "    2\n",
    "    2\n",
    "    1 2 3 2 1 4\n",
    "    1\n",
    "    2 1 3 2\n",
    "\n",
    "    Output :\n",
    "    3 4\n",
    "    1 3\n",
    "```\n",
    "\n",
    "See [The Google example problem](http://practice.geeksforgeeks.org/problems/finding-the-numbers/0)"
   ]
  },
  {
   "cell_type": "code",
   "execution_count": null,
   "metadata": {
    "ExecuteTime": {
     "end_time": "2017-11-12T19:25:50.482812Z",
     "start_time": "2017-11-12T19:25:50.150024Z"
    },
    "code_folding": [
     0
    ],
    "collapsed": true
   },
   "outputs": [],
   "source": [
    "# %load TestHarness\n",
    "debugging = False\n",
    "debugging = True\n",
    "\n",
    "debugging2 = False\n",
    "\n",
    "logging = True\n",
    "\n",
    "\n",
    "def dbg(f, *args):\n",
    "    if debugging:\n",
    "        print(('  DBG:' + f).format(*args))\n",
    "\n",
    "def dbg2(f, *args):\n",
    "    if debugging2:\n",
    "        print(('  DBG2:' + f).format(*args))\n",
    "        \n",
    "def log(f, *args):\n",
    "    if logging:\n",
    "        print((f).format(*args))\n",
    "        \n",
    "def log_error(f, *args):\n",
    "    if logging:\n",
    "        print(('*** ERROR:' + f).format(*args))       \n",
    "        \n",
    "def class_name(instance):\n",
    "    return type(instance).__name__\n",
    "\n",
    "#------------------------------------------------------------------------------   \n",
    "import time\n",
    "from datetime import timedelta\n",
    "\n",
    "#------------------------------------------------------------------------------\n",
    "class TestCase(object):\n",
    "    def __init__(self, name, method, inputs, expected, catchExceptions=False):\n",
    "        self.name = name\n",
    "        self.method = method\n",
    "        self.inputs = inputs\n",
    "        self.expected = expected\n",
    "        self.catchExceptions = catchExceptions\n",
    "        \n",
    "    def run(self):\n",
    "        if self.catchExceptions:\n",
    "            try:\n",
    "                return self.method(*self.inputs)\n",
    "            except Exception as x:\n",
    "                return x\n",
    "        else:\n",
    "                return self.method(*self.inputs)\n",
    "\n",
    "#------------------------------------------------------------------------------\n",
    "class TestSet(object):\n",
    "    def __init__(self, cases):\n",
    "        self.cases = cases\n",
    "    \n",
    "    def run_tests(self, repeat=1):\n",
    "        count = 0\n",
    "        errors = 0\n",
    "        total_time = 0\n",
    "        for case in self.cases:\n",
    "            count += 1\n",
    "            start_time = time.time()\n",
    "            for iteration in range(repeat):\n",
    "                dbg2(\"*** Running '{0}' iteration {1}\", case.name, iteration+1)\n",
    "                result = case.run()\n",
    "            elapsed_time = time.time() - start_time\n",
    "            total_time += elapsed_time\n",
    "            if callable(case.expected):\n",
    "                if not case.expected(result):\n",
    "                    errors += 1\n",
    "                    log_error(\"Test {0} failed. Returned {1}\", case.name, result)\n",
    "            elif result != case.expected:\n",
    "                errors += 1\n",
    "                log_error('Test {0} failed. Returned \"{1}\", expected \"{2}\"', case.name, result, case.expected)\n",
    "        if errors:\n",
    "            log_error(\"Tests passed: {0}; Failures: {1}\", count-errors, errors)\n",
    "        else:\n",
    "            log(\"All {0} tests passed.\", count)\n",
    "        log(\"Elapsed test time: {0}\", timedelta(seconds=total_time))\n",
    "\n",
    "        \n"
   ]
  },
  {
   "cell_type": "code",
   "execution_count": 11,
   "metadata": {
    "ExecuteTime": {
     "end_time": "2017-11-12T19:31:39.670220Z",
     "start_time": "2017-11-12T19:31:39.659503Z"
    },
    "collapsed": true
   },
   "outputs": [],
   "source": [
    "def undups(A):\n",
    "    nope = set()\n",
    "    for v in A:\n",
    "        if v in nope:\n",
    "            nope.remove(v)\n",
    "        else:\n",
    "            nope.add(v)\n",
    "    return sorted(nope)"
   ]
  },
  {
   "cell_type": "code",
   "execution_count": 12,
   "metadata": {
    "ExecuteTime": {
     "end_time": "2017-11-12T19:31:40.016170Z",
     "start_time": "2017-11-12T19:31:40.008232Z"
    }
   },
   "outputs": [
    {
     "data": {
      "text/plain": [
       "[3, 4]"
      ]
     },
     "execution_count": 12,
     "metadata": {},
     "output_type": "execute_result"
    }
   ],
   "source": [
    "undups([1, 2, 3, 2, 1, 4])"
   ]
  },
  {
   "cell_type": "code",
   "execution_count": 7,
   "metadata": {
    "ExecuteTime": {
     "end_time": "2017-11-12T19:30:47.115042Z",
     "start_time": "2017-11-12T19:30:47.100745Z"
    }
   },
   "outputs": [],
   "source": [
    "c1 = TestCase('short', undups, [[1, 2, 3, 2, 1, 4]], [3, 4] )\n",
    "c2 = TestCase('long', undups, [[2, 1, 3, 2]], [1, 3] )\n",
    "\n",
    "tester = TestSet([c1, c2])"
   ]
  },
  {
   "cell_type": "code",
   "execution_count": 8,
   "metadata": {
    "ExecuteTime": {
     "end_time": "2017-11-12T19:30:47.527985Z",
     "start_time": "2017-11-12T19:30:47.514119Z"
    }
   },
   "outputs": [
    {
     "name": "stdout",
     "output_type": "stream",
     "text": [
      "All 2 tests passed.\n",
      "Elapsed test time: 0:00:00.000034\n"
     ]
    }
   ],
   "source": [
    "tester.run_tests()"
   ]
  },
  {
   "cell_type": "code",
   "execution_count": 29,
   "metadata": {
    "ExecuteTime": {
     "end_time": "2017-11-12T21:24:47.625260Z",
     "start_time": "2017-11-12T21:24:47.605974Z"
    }
   },
   "outputs": [],
   "source": [
    "def bestspanx(A):\n",
    "    maxs = 0\n",
    "    pair = (0, 0)\n",
    "    n = len(A)\n",
    "    for i in range(n):\n",
    "        for j in range(i, n):\n",
    "            if A[i] <= A[j]: \n",
    "                diff = j - i\n",
    "                if maxs < diff:\n",
    "                    maxs = diff\n",
    "                    pair = (A[i], A[j])\n",
    "    return maxs, pair"
   ]
  },
  {
   "cell_type": "code",
   "execution_count": 30,
   "metadata": {
    "ExecuteTime": {
     "end_time": "2017-11-12T21:24:47.937417Z",
     "start_time": "2017-11-12T21:24:47.913796Z"
    },
    "collapsed": true
   },
   "outputs": [],
   "source": [
    "def bestspan(A):\n",
    "    maxs = 0\n",
    "    pair = (0, 0)\n",
    "    n = len(A)\n",
    "    for i in range(n):\n",
    "        # No point in looking at any pairs that don't \n",
    "        # improve our score.\n",
    "        for j in range(i + maxs + 1, n):\n",
    "            if A[i] <= A[j]: \n",
    "                diff = j - i\n",
    "                if maxs < diff:\n",
    "                    maxs = diff\n",
    "                    pair = (A[i], A[j])\n",
    "    return maxs, pair"
   ]
  },
  {
   "cell_type": "code",
   "execution_count": 31,
   "metadata": {
    "ExecuteTime": {
     "end_time": "2017-11-12T21:24:49.192693Z",
     "start_time": "2017-11-12T21:24:49.184899Z"
    }
   },
   "outputs": [
    {
     "data": {
      "text/plain": [
       "(2, (3, 4))"
      ]
     },
     "execution_count": 31,
     "metadata": {},
     "output_type": "execute_result"
    }
   ],
   "source": [
    "bestspan([7, 6, 3, 5, 4, 2, 1, -1])"
   ]
  },
  {
   "cell_type": "code",
   "execution_count": 53,
   "metadata": {
    "ExecuteTime": {
     "end_time": "2017-11-12T21:30:59.291368Z",
     "start_time": "2017-11-12T21:30:59.259404Z"
    }
   },
   "outputs": [],
   "source": [
    "import random\n",
    "r = [random.randint(1, 100)-x for x in range(10000)]"
   ]
  },
  {
   "cell_type": "code",
   "execution_count": 54,
   "metadata": {
    "ExecuteTime": {
     "end_time": "2017-11-12T21:31:07.801402Z",
     "start_time": "2017-11-12T21:30:59.812825Z"
    }
   },
   "outputs": [
    {
     "data": {
      "text/plain": [
       "(99, (-2770, -2770))"
      ]
     },
     "execution_count": 54,
     "metadata": {},
     "output_type": "execute_result"
    }
   ],
   "source": [
    "bestspan(r)"
   ]
  },
  {
   "cell_type": "code",
   "execution_count": 55,
   "metadata": {
    "ExecuteTime": {
     "end_time": "2017-11-12T21:31:18.771083Z",
     "start_time": "2017-11-12T21:31:10.461321Z"
    }
   },
   "outputs": [
    {
     "data": {
      "text/plain": [
       "(99, (-2770, -2770))"
      ]
     },
     "execution_count": 55,
     "metadata": {},
     "output_type": "execute_result"
    }
   ],
   "source": [
    "bestspanx(r)"
   ]
  },
  {
   "cell_type": "code",
   "execution_count": null,
   "metadata": {
    "collapsed": true
   },
   "outputs": [],
   "source": []
  }
 ],
 "metadata": {
  "kernelspec": {
   "display_name": "Python [conda env:py35]",
   "language": "python",
   "name": "conda-env-py35-py"
  },
  "language_info": {
   "codemirror_mode": {
    "name": "ipython",
    "version": 3
   },
   "file_extension": ".py",
   "mimetype": "text/x-python",
   "name": "python",
   "nbconvert_exporter": "python",
   "pygments_lexer": "ipython3",
   "version": "3.5.4"
  },
  "varInspector": {
   "cols": {
    "lenName": 16,
    "lenType": 16,
    "lenVar": 40
   },
   "kernels_config": {
    "python": {
     "delete_cmd_postfix": "",
     "delete_cmd_prefix": "del ",
     "library": "var_list.py",
     "varRefreshCmd": "print(var_dic_list())"
    },
    "r": {
     "delete_cmd_postfix": ") ",
     "delete_cmd_prefix": "rm(",
     "library": "var_list.r",
     "varRefreshCmd": "cat(var_dic_list()) "
    }
   },
   "types_to_exclude": [
    "module",
    "function",
    "builtin_function_or_method",
    "instance",
    "_Feature"
   ],
   "window_display": false
  }
 },
 "nbformat": 4,
 "nbformat_minor": 2
}
