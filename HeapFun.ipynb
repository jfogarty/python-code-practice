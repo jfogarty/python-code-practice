{
 "cells": [
  {
   "cell_type": "markdown",
   "metadata": {},
   "source": [
    "https://algs4.cs.princeton.edu/24pq/"
   ]
  },
  {
   "cell_type": "code",
   "execution_count": 17,
   "metadata": {
    "ExecuteTime": {
     "end_time": "2017-11-08T21:10:47.198615Z",
     "start_time": "2017-11-08T21:10:47.133490Z"
    },
    "collapsed": true
   },
   "outputs": [],
   "source": [
    "debugging = False\n",
    "#debugging = True\n",
    "debug2 = False\n",
    "\n",
    "logging = True\n",
    "\n",
    "def dbg(f, *args):\n",
    "    if debugging:\n",
    "        print(('  DBG:' + f).format(*args))\n",
    "\n",
    "def dbg_cont(f, *args):\n",
    "    if debugging:\n",
    "        print(('  DBG:' + f).format(*args), end='')\n",
    "\n",
    "def dbg2(f, *args):\n",
    "    if debug2:\n",
    "        print((' -DBG2:' + f).format(*args))\n",
    "        \n",
    "def log(f, *args):\n",
    "    if logging:\n",
    "        print((f).format(*args))\n",
    "        \n",
    "def logError(f, *args):\n",
    "    if logging:\n",
    "        print(('*** ERROR:' + f).format(*args))\n",
    "        \n",
    "def className(instance):\n",
    "    return type(instance).__name__\n",
    "\n",
    "def isstr(obj): \n",
    "    return isinstance(obj, basestring)"
   ]
  },
  {
   "cell_type": "code",
   "execution_count": 18,
   "metadata": {
    "ExecuteTime": {
     "end_time": "2017-11-08T21:10:47.546975Z",
     "start_time": "2017-11-08T21:10:47.527478Z"
    },
    "collapsed": true
   },
   "outputs": [],
   "source": [
    "class Stack:\n",
    "    ''' a simple stack based on lists '''\n",
    "    def __init__(self):\n",
    "         self.items = []\n",
    "\n",
    "    def is_empty(self):\n",
    "         return len(self.items) == 0\n",
    "\n",
    "    def push(self, item):\n",
    "         self.items.append(item)\n",
    "\n",
    "    def pop(self):\n",
    "         return self.items.pop()"
   ]
  },
  {
   "cell_type": "code",
   "execution_count": 163,
   "metadata": {
    "ExecuteTime": {
     "end_time": "2017-11-08T22:19:38.656929Z",
     "start_time": "2017-11-08T22:19:37.656098Z"
    }
   },
   "outputs": [],
   "source": [
    "import re\n",
    "WORD_RE = re.compile(r'\\W*(\\w*)\\W*')\n",
    "\n",
    "class Heap(object):\n",
    "    ''' This is an unordered array representation in that while the top item \n",
    "        is always the min or max value (as determined by the constructor), the\n",
    "        subsequent entries are NOT guarenteed to be in that order. As each item\n",
    "        is removed from the top, the tree is reordered just enough to place the\n",
    "        next entry on top.\n",
    "    '''\n",
    "    def __init__(self, max=False, comparator=None):\n",
    "        self.__heap = []\n",
    "        self.__maxQ = max\n",
    "        self.__comparator = comparator if comparator else None\n",
    "        \n",
    "    def copy(self):\n",
    "        copy = Heap()\n",
    "        copy.__heap = self.__heap.copy()\n",
    "        copy.__maxQ = self.__maxQ\n",
    "        copy.__comparator = self.__comparator\n",
    "        return copy\n",
    "\n",
    "    def size(self):\n",
    "        ''' the number of items in the heap '''\n",
    "        return len(self.__heap)\n",
    "\n",
    "    def __pop(self):\n",
    "        ''' removes an item from the end of heap storage; frees space '''\n",
    "        return self.__heap.pop()\n",
    "    \n",
    "    def __push(self, val):\n",
    "        ''' appends an item to the end of heap storage; allocates space '''\n",
    "        self.__heap.append(val)\n",
    "    \n",
    "    def __get(self, i):\n",
    "        ''' provide 1 based array access '''\n",
    "        return self.__heap[i-1]\n",
    "\n",
    "    def __put(self, i, val):\n",
    "        ''' provide 1 based array storage '''\n",
    "        self.__heap[i-1] = val\n",
    "        \n",
    "    def __less(self, i, j):\n",
    "        a = self.__get(i)\n",
    "        b = self.__get(j)\n",
    "        if self.__comparator:\n",
    "            return self.__comparator(a, b)\n",
    "        else:\n",
    "            return a > b if self.__maxQ else a < b\n",
    "        \n",
    "    def __swap(self, i, j):\n",
    "        a = self.__get(i)\n",
    "        b = self.__get(j)\n",
    "        self.__put(i, b)\n",
    "        self.__put(j, a)\n",
    "        \n",
    "    def __swim(self, k):\n",
    "        ''' swap the item up the heap to its natural location '''\n",
    "        while k > 1 and self.__less(k, k // 2):\n",
    "            self.__swap(k, k // 2);\n",
    "            k = k // 2;\n",
    "\n",
    "    def __sink(self, j):\n",
    "        ''' swap the item down into the heap '''\n",
    "        N = self.size()\n",
    "        while 2*j <= N:\n",
    "            k = 2*j\n",
    "            # Compare to the right node if it's smaller and present.\n",
    "            if k < N and self.__less(k+1, k): k += 1\n",
    "            if self.__less(j, k): break\n",
    "            self.__swap(j, k)\n",
    "            j = k\n",
    "            \n",
    "    def is_empty(self):\n",
    "        return self.size() == 0\n",
    "\n",
    "    def peek(self):\n",
    "        return self.__get(1)\n",
    "    \n",
    "    def remove(self):\n",
    "        ''' Return the top item from the heap '''\n",
    "        result = self.peek()\n",
    "        endval = self.__pop()\n",
    "        N =  N = self.size()\n",
    "        if N > 0:\n",
    "            self.__put(1, endval)\n",
    "            if N > 1: self.__sink(1)\n",
    "        return result\n",
    "\n",
    "    def insert(self, val):\n",
    "        ''' Insert a value into heap '''\n",
    "        self.__push(val)\n",
    "        N =  N = self.size()\n",
    "        self.__swim(N)\n",
    "        return self # chaining support.\n",
    "    \n",
    "    def load(self, alist):\n",
    "        for x in alist: self.insert(x)\n",
    "        return self # chaining support.\n",
    "\n",
    "    def load_word(self, raw_word):\n",
    "        lword = raw_word.lower()\n",
    "        m = WORD_RE.match(lword)\n",
    "        #log('- Match \"{0}\" for {1}', lword, m)\n",
    "        word = m.group(1)       \n",
    "        if len(word):\n",
    "            #log('- Insert \"{0}\"', word)\n",
    "            self.insert(word)\n",
    "        return self # chaining support.\n",
    "    \n",
    "    def load_words(self, *sentences):        \n",
    "        for sentence in sentences:\n",
    "            for word in sentence.split():\n",
    "                self.load_word(word)\n",
    "        return self # chaining support.\n",
    "    \n",
    "    def consume(self, preserve=False):\n",
    "        ''' Iterate and consume all the items in order '''\n",
    "        if preserve: self = self.copy()\n",
    "        while not self.is_empty(): yield self.pop()\n",
    "\n",
    "    def __iter__(self):\n",
    "        ''' Iterate all the items, but not necessarily in order '''\n",
    "        return iter(self.__heap)\n",
    "        \n",
    "    def __repr__(self):\n",
    "        return str([x for x in self])\n",
    "\n",
    "    __str__ = __repr__\n",
    "    pop = remove # Convenient and often expected."
   ]
  },
  {
   "cell_type": "code",
   "execution_count": null,
   "metadata": {
    "ExecuteTime": {
     "end_time": "2017-11-08T22:19:38.722289Z",
     "start_time": "2017-11-08T22:19:38.405Z"
    }
   },
   "outputs": [],
   "source": [
    "x = Heap(max=False).load([4, 5, 1, 11, 2, 12, 11, 31, 2, 3, 4, 9, 6, 0, -1])\n",
    "x"
   ]
  },
  {
   "cell_type": "code",
   "execution_count": 164,
   "metadata": {
    "ExecuteTime": {
     "end_time": "2017-11-08T22:19:40.132114Z",
     "start_time": "2017-11-08T22:19:40.120831Z"
    }
   },
   "outputs": [
    {
     "data": {
      "text/plain": [
       "[-1, 0, 1, 2, 2, 3, 4, 4, 5, 6, 9, 11, 11, 12, 31]"
      ]
     },
     "execution_count": 164,
     "metadata": {},
     "output_type": "execute_result"
    }
   ],
   "source": [
    "[v for v in x.consume()]"
   ]
  },
  {
   "cell_type": "code",
   "execution_count": 165,
   "metadata": {
    "ExecuteTime": {
     "end_time": "2017-11-08T22:19:40.546375Z",
     "start_time": "2017-11-08T22:19:40.543392Z"
    }
   },
   "outputs": [],
   "source": [
    "y=Heap().load_word('%@, Hello  Eat 324')"
   ]
  },
  {
   "cell_type": "code",
   "execution_count": 166,
   "metadata": {
    "ExecuteTime": {
     "end_time": "2017-11-08T22:19:41.077413Z",
     "start_time": "2017-11-08T22:19:41.070238Z"
    }
   },
   "outputs": [
    {
     "data": {
      "text/plain": [
       "['your', 'your', 'you', 'you', 'the', 'what', 'who', 'the', 'what', 'shadow', 'knows', 'the', 'what', 'lurks', 'over', 'lazy', 'the', 'for', 'of', 'jumped', 'quick', 'knows', 'ask', 'brown', 'not', 'evil', 'country', 'can', 'do', 'for', 'in', 'ask', 'fox', 'hearts', 'can', 'do', 'dog', 'men', 'country']"
      ]
     },
     "execution_count": 166,
     "metadata": {},
     "output_type": "execute_result"
    }
   ],
   "source": [
    "y=Heap(max=True)\n",
    "y.load_words(\"The quick brown fox jumped over the lazy dog.\",\n",
    "                   \"Who knows what evil lurks in the hearts of men?\",\n",
    "                   \"The shadow knows. \",\n",
    "                   \"Ask not, what your country can do for you.\",\n",
    "                   \"Ask what you can do for your country\")"
   ]
  },
  {
   "cell_type": "code",
   "execution_count": 167,
   "metadata": {
    "ExecuteTime": {
     "end_time": "2017-11-08T22:19:41.876370Z",
     "start_time": "2017-11-08T22:19:41.864528Z"
    }
   },
   "outputs": [
    {
     "data": {
      "text/plain": [
       "['your',\n",
       " 'your',\n",
       " 'you',\n",
       " 'you',\n",
       " 'who',\n",
       " 'what',\n",
       " 'what',\n",
       " 'what',\n",
       " 'the',\n",
       " 'the',\n",
       " 'the',\n",
       " 'the',\n",
       " 'shadow',\n",
       " 'quick',\n",
       " 'over',\n",
       " 'of',\n",
       " 'not',\n",
       " 'men',\n",
       " 'lurks',\n",
       " 'lazy',\n",
       " 'knows',\n",
       " 'knows',\n",
       " 'jumped',\n",
       " 'in',\n",
       " 'hearts',\n",
       " 'fox',\n",
       " 'for',\n",
       " 'for',\n",
       " 'evil',\n",
       " 'dog',\n",
       " 'do',\n",
       " 'do',\n",
       " 'country',\n",
       " 'country',\n",
       " 'can',\n",
       " 'can',\n",
       " 'brown',\n",
       " 'ask',\n",
       " 'ask']"
      ]
     },
     "execution_count": 167,
     "metadata": {},
     "output_type": "execute_result"
    }
   ],
   "source": [
    "[v for v in y.consume(preserve=True)]"
   ]
  },
  {
   "cell_type": "code",
   "execution_count": 172,
   "metadata": {
    "ExecuteTime": {
     "end_time": "2017-11-08T22:20:40.968961Z",
     "start_time": "2017-11-08T22:20:40.958850Z"
    }
   },
   "outputs": [
    {
     "data": {
      "text/plain": [
       "['your', 'your', 'you', 'you', 'the', 'what', 'who', 'the', 'what', 'shadow', 'knows', 'the', 'what', 'lurks', 'over', 'lazy', 'the', 'for', 'of', 'jumped', 'quick', 'knows', 'ask', 'brown', 'not', 'evil', 'country', 'can', 'do', 'for', 'in', 'ask', 'fox', 'hearts', 'can', 'do', 'dog', 'men', 'country']"
      ]
     },
     "execution_count": 172,
     "metadata": {},
     "output_type": "execute_result"
    }
   ],
   "source": [
    "y"
   ]
  },
  {
   "cell_type": "code",
   "execution_count": 173,
   "metadata": {
    "ExecuteTime": {
     "end_time": "2017-11-08T22:20:43.154946Z",
     "start_time": "2017-11-08T22:20:43.146684Z"
    }
   },
   "outputs": [
    {
     "data": {
      "text/plain": [
       "'your'"
      ]
     },
     "execution_count": 173,
     "metadata": {},
     "output_type": "execute_result"
    }
   ],
   "source": [
    "i = y.consume()\n",
    "next(i)"
   ]
  },
  {
   "cell_type": "code",
   "execution_count": 174,
   "metadata": {
    "ExecuteTime": {
     "end_time": "2017-11-08T22:20:44.103305Z",
     "start_time": "2017-11-08T22:20:44.092568Z"
    }
   },
   "outputs": [
    {
     "data": {
      "text/plain": [
       "'your'"
      ]
     },
     "execution_count": 174,
     "metadata": {},
     "output_type": "execute_result"
    }
   ],
   "source": [
    "next(i)"
   ]
  },
  {
   "cell_type": "code",
   "execution_count": 175,
   "metadata": {
    "ExecuteTime": {
     "end_time": "2017-11-08T22:20:46.611243Z",
     "start_time": "2017-11-08T22:20:46.603400Z"
    }
   },
   "outputs": [
    {
     "data": {
      "text/plain": [
       "['you', 'what', 'you', 'the', 'the', 'what', 'who', 'the', 'of', 'shadow', 'knows', 'the', 'what', 'lurks', 'over', 'lazy', 'hearts', 'for', 'men', 'jumped', 'quick', 'knows', 'ask', 'brown', 'not', 'evil', 'country', 'can', 'do', 'for', 'in', 'ask', 'fox', 'country', 'can', 'do', 'dog']"
      ]
     },
     "execution_count": 175,
     "metadata": {},
     "output_type": "execute_result"
    }
   ],
   "source": [
    "y"
   ]
  },
  {
   "cell_type": "code",
   "execution_count": 176,
   "metadata": {
    "ExecuteTime": {
     "end_time": "2017-11-08T22:20:48.001797Z",
     "start_time": "2017-11-08T22:20:47.995965Z"
    }
   },
   "outputs": [
    {
     "data": {
      "text/plain": [
       "'you'"
      ]
     },
     "execution_count": 176,
     "metadata": {},
     "output_type": "execute_result"
    }
   ],
   "source": [
    "next(i)"
   ]
  },
  {
   "cell_type": "code",
   "execution_count": null,
   "metadata": {
    "collapsed": true
   },
   "outputs": [],
   "source": []
  }
 ],
 "metadata": {
  "kernelspec": {
   "display_name": "Python [conda env:scipy35]",
   "language": "python",
   "name": "conda-env-scipy35-py"
  },
  "language_info": {
   "codemirror_mode": {
    "name": "ipython",
    "version": 3
   },
   "file_extension": ".py",
   "mimetype": "text/x-python",
   "name": "python",
   "nbconvert_exporter": "python",
   "pygments_lexer": "ipython3",
   "version": "3.5.4"
  },
  "varInspector": {
   "cols": {
    "lenName": 16,
    "lenType": 16,
    "lenVar": 40
   },
   "kernels_config": {
    "python": {
     "delete_cmd_postfix": "",
     "delete_cmd_prefix": "del ",
     "library": "var_list.py",
     "varRefreshCmd": "print(var_dic_list())"
    },
    "r": {
     "delete_cmd_postfix": ") ",
     "delete_cmd_prefix": "rm(",
     "library": "var_list.r",
     "varRefreshCmd": "cat(var_dic_list()) "
    }
   },
   "types_to_exclude": [
    "module",
    "function",
    "builtin_function_or_method",
    "instance",
    "_Feature"
   ],
   "window_display": false
  }
 },
 "nbformat": 4,
 "nbformat_minor": 2
}
