{
 "cells": [
  {
   "cell_type": "code",
   "execution_count": null,
   "metadata": {
    "collapsed": true
   },
   "outputs": [],
   "source": [
    "debugging = False\n",
    "#debugging = True\n",
    "debug2 = False\n",
    "\n",
    "logging = True\n",
    "\n",
    "def dbg(f, *args):\n",
    "    if debugging:\n",
    "        print(('  DBG:' + f).format(*args))\n",
    "\n",
    "def dbg_cont(f, *args):\n",
    "    if debugging:\n",
    "        print(('  DBG:' + f).format(*args), end='')\n",
    "\n",
    "def dbg2(f, *args):\n",
    "    if debug2:\n",
    "        print((' -DBG2:' + f).format(*args))\n",
    "        \n",
    "def log(f, *args):\n",
    "    if logging:\n",
    "        print((f).format(*args))\n",
    "        \n",
    "def logError(f, *args):\n",
    "    if logging:\n",
    "        print(('*** ERROR:' + f).format(*args))\n",
    "        \n",
    "def className(instance):\n",
    "    return type(instance).__name__\n",
    "\n",
    "def isstr(obj): \n",
    "    return isinstance(obj, basestring)"
   ]
  },
  {
   "cell_type": "code",
   "execution_count": null,
   "metadata": {
    "collapsed": true
   },
   "outputs": [],
   "source": [
    "#from __future__ import print_function, division # Python 2.7 support\n",
    "#import numpy as np\n",
    "import matplotlib as mpl\n",
    "import matplotlib.pyplot as plt\n",
    "%matplotlib inline"
   ]
  },
  {
   "cell_type": "code",
   "execution_count": null,
   "metadata": {},
   "outputs": [],
   "source": [
    "def float_range(start, stop, step):\n",
    "    r = start\n",
    "    while r < stop:\n",
    "        yield r\n",
    "        r += step\n",
    "        \n",
    "def float_range_i(start, stop, step):\n",
    "    r = start\n",
    "    while r < stop+step:\n",
    "        yield r\n",
    "        r += step        "
   ]
  },
  {
   "cell_type": "code",
   "execution_count": null,
   "metadata": {},
   "outputs": [],
   "source": [
    "# The Simplest Circle\n",
    "import math\n",
    "PI = math.pi\n",
    "\n",
    "def pt(x, y):\n",
    "    plt.plot([x], [y], marker='o', markersize=3, color=\"red\")\n",
    "\n",
    "def pt4(x, y):\n",
    "    for i in [-1, 1]:\n",
    "        for j in [-1, 1]:\n",
    "            pt(x * i, y * j)\n",
    "            pt(y * i, x * j)\n",
    "\n",
    "for a in float_range_i(0, PI/4, PI/40):\n",
    "    dx = math.sin(a)\n",
    "    dy = math.cos(a)\n",
    "    pt4(dx, dy)\n",
    "    #pt( dx,  dy)\n",
    "    #pt(-dx,  dy)\n",
    "    #pt( dx, -dy)\n",
    "    #pt(-dx, -dy)\n",
    "    \n",
    "plt.title(\"A simple Circle\")\n",
    "plt.xlim(-1.1, 1.1)\n",
    "plt.ylim(-1.1, 1.1)\n",
    "\n",
    "ax = plt.gca()\n",
    "ax.set_aspect('equal')\n",
    "plt.show()"
   ]
  },
  {
   "cell_type": "code",
   "execution_count": 6,
   "metadata": {},
   "outputs": [
    {
     "name": "stdout",
     "output_type": "stream",
     "text": [
      "0.7071067811865476\n"
     ]
    },
    {
     "data": {
      "image/png": "[encoded data removed]",
      "text/plain": [
       "<matplotlib.figure.Figure at 0x7f34fe1d8978>"
      ]
     },
     "metadata": {},
     "output_type": "display_data"
    }
   ],
   "source": [
    "# The Simplest Circle\n",
    "import math\n",
    "PI = math.pi\n",
    "\n",
    "def pt(x, y):\n",
    "    plt.plot([x], [y], marker='o', markersize=1, color=\"green\")\n",
    "\n",
    "def pt4(x, y):\n",
    "    for i in [-1, 1]:\n",
    "        for j in [-1, 1]:\n",
    "            pt(x * i, y * j)\n",
    "            pt(y * i, x * j)\n",
    "\n",
    "x  = 1.00\n",
    "ylimit = math.sqrt(2.0) / 2.0\n",
    "print(ylimit)\n",
    "dy = 0.01\n",
    "y  = 0\n",
    "epsilon = dy\n",
    "while y < ylimit + dy:\n",
    "    pt4(x, y)  \n",
    "    y += dy\n",
    "    r = x*x + y*y # new radius\n",
    "    if r > 1.0 + epsilon:\n",
    "        x -= dy\n",
    "\n",
    "plt.title(\"A circle without SQRT\")\n",
    "plt.xlim(-1.1, 1.1)\n",
    "plt.ylim(-1.1, 1.1)\n",
    "\n",
    "ax = plt.gca()\n",
    "ax.set_aspect('equal')\n",
    "plt.show()"
   ]
  },
  {
   "cell_type": "code",
   "execution_count": 16,
   "metadata": {},
   "outputs": [
    {
     "data": {
      "image/png": "[encoded data removed]",
      "text/plain": [
       "<matplotlib.figure.Figure at 0x7f34fde78ba8>"
      ]
     },
     "metadata": {},
     "output_type": "display_data"
    }
   ],
   "source": [
    "# An ugly circle with no SINE/COS\n",
    "import math\n",
    "PI = math.pi\n",
    "\n",
    "def pt(x, y):\n",
    "    plt.plot([x], [y], marker='o', markersize=3, color=\"blue\")\n",
    "\n",
    "def pt4(x, y):\n",
    "    for i in [-1, 1]:\n",
    "        for j in [-1, 1]:\n",
    "            pt(x * i, y * j)\n",
    "            pt(y * i, x * j)\n",
    "\n",
    "for r in float_range(0.01, 1.0, 0.01):\n",
    "    for x in float_range(r*1.414/2, r*1.0, .01):\n",
    "        y = math.sqrt(r - x*x)\n",
    "        pt4(x, y)\n",
    "    \n",
    "plt.title(\"An odd Circle thing with only sqrt\")\n",
    "plt.xlim(-1.1, 1.1)\n",
    "plt.ylim(-1.1, 1.1)\n",
    "\n",
    "ax = plt.gca()\n",
    "ax.set_aspect('equal')\n",
    "plt.show()"
   ]
  },
  {
   "cell_type": "code",
   "execution_count": null,
   "metadata": {
    "collapsed": true
   },
   "outputs": [],
   "source": []
  },
  {
   "cell_type": "code",
   "execution_count": 7,
   "metadata": {
    "collapsed": true
   },
   "outputs": [],
   "source": [
    "def forceAspect(ax,aspect=1):\n",
    "    im = ax.get_images()\n",
    "    extent =  im[0].get_extent()\n",
    "    ax.set_aspect(abs((extent[1]-extent[0])/(extent[3]-extent[2]))/aspect)"
   ]
  },
  {
   "cell_type": "code",
   "execution_count": 22,
   "metadata": {},
   "outputs": [
    {
     "data": {
      "image/png": "[encoded data removed]",
      "text/plain": [
       "<matplotlib.figure.Figure at 0x7f34fe38fc18>"
      ]
     },
     "metadata": {},
     "output_type": "display_data"
    }
   ],
   "source": [
    "import numpy as np\n",
    "# Silly example data\n",
    "bp_x = np.linspace(0, 2*np.pi, num=40, endpoint=True)\n",
    "bp_y = np.sin(bp_x)\n",
    "\n",
    "# Make the plot\n",
    "plt.plot(bp_x, bp_y, linewidth=1, linestyle=\"--\",\n",
    "         color=\"red\", label=r\"Legend label $\\sin(x)$\")\n",
    "plt.xlabel(r\"Description of $x$ coordinate (units)\")\n",
    "plt.ylabel(r\"Description of $y$ coordinate (units)\")\n",
    "plt.title(r\"This is a Plot\")\n",
    "plt.xlim(0, 2*np.pi)\n",
    "plt.ylim(-1.1, 1.1)\n",
    "plt.legend(loc=\"lower left\")\n",
    "plt.show()"
   ]
  },
  {
   "cell_type": "code",
   "execution_count": 18,
   "metadata": {},
   "outputs": [
    {
     "data": {
      "text/plain": [
       "array([  0.00000000e+00,   1.60411281e-01,   3.16667994e-01,\n",
       "         4.64723172e-01,   6.00742264e-01,   7.21202447e-01,\n",
       "         8.22983866e-01,   9.03450435e-01,   9.60518112e-01,\n",
       "         9.92708874e-01,   9.99188998e-01,   9.79790652e-01,\n",
       "         9.35016243e-01,   8.66025404e-01,   7.74604962e-01,\n",
       "         6.63122658e-01,   5.34465826e-01,   3.91966610e-01,\n",
       "         2.39315664e-01,   8.04665687e-02,  -8.04665687e-02,\n",
       "        -2.39315664e-01,  -3.91966610e-01,  -5.34465826e-01,\n",
       "        -6.63122658e-01,  -7.74604962e-01,  -8.66025404e-01,\n",
       "        -9.35016243e-01,  -9.79790652e-01,  -9.99188998e-01,\n",
       "        -9.92708874e-01,  -9.60518112e-01,  -9.03450435e-01,\n",
       "        -8.22983866e-01,  -7.21202447e-01,  -6.00742264e-01,\n",
       "        -4.64723172e-01,  -3.16667994e-01,  -1.60411281e-01,\n",
       "        -2.44929360e-16])"
      ]
     },
     "execution_count": 18,
     "metadata": {},
     "output_type": "execute_result"
    }
   ],
   "source": [
    "bp_y"
   ]
  },
  {
   "cell_type": "code",
   "execution_count": null,
   "metadata": {
    "collapsed": true
   },
   "outputs": [],
   "source": []
  }
 ],
 "metadata": {
  "kernelspec": {
   "display_name": "Python [conda env:scipy35]",
   "language": "python",
   "name": "conda-env-scipy35-py"
  },
  "language_info": {
   "codemirror_mode": {
    "name": "ipython",
    "version": 3
   },
   "file_extension": ".py",
   "mimetype": "text/x-python",
   "name": "python",
   "nbconvert_exporter": "python",
   "pygments_lexer": "ipython3",
   "version": "3.5.4"
  }
 },
 "nbformat": 4,
 "nbformat_minor": 2
}
