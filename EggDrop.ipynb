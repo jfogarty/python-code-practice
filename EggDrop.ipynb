{
 "cells": [
  {
   "cell_type": "markdown",
   "metadata": {},
   "source": [
    "### Egg Drop Problem\n",
    "\n",
    "he following is a description of the instance of this famous puzzle involving n=2 eggs and a building with k=36 floors.\n",
    "\n",
    "Suppose that we wish to know which stories in a 36-story building are safe to drop eggs from, and which will cause the eggs to break on landing. We make a few assumptions:\n",
    "\n",
    "* An egg that survives a fall can be used again.\n",
    "* A broken egg must be discarded.\n",
    "* The effect of a fall is the same for all eggs.\n",
    "* If an egg breaks when dropped, then it would break if dropped from a higher floor.\n",
    "* If an egg survives a fall then it would survive a shorter fall.\n",
    "* It is not ruled out that the first-floor windows break eggs, nor is it ruled out that the 36th-floor do not cause an egg to break.\n",
    "\n",
    "If only one egg is available and we wish to be sure of obtaining the right result, the experiment can be carried out in only one way. Drop the egg from the first-floor window; if it survives, drop it from the second floor window. Continue upward until it breaks. In the worst case, this method may require 36 droppings. Suppose 2 eggs are available. What is the least number of egg-droppings that is guaranteed to work in all cases?\n",
    "The problem is not actually to find the critical floor, but merely to decide floors from which eggs should be dropped so that total number of trials are minimized.\n",
    "\n",
    "See [The Google example problem](http://www.geeksforgeeks.org/dynamic-programming-set-11-egg-dropping-puzzle/)\n",
    "\n",
    "See also: [Wiki for Dynamic Programming](https://en.wikipedia.org/wiki/Dynamic_programming)\n"
   ]
  },
  {
   "cell_type": "code",
   "execution_count": 22,
   "metadata": {
    "ExecuteTime": {
     "end_time": "2017-11-13T20:13:28.549719Z",
     "start_time": "2017-11-13T20:13:27.711133Z"
    },
    "code_folding": [
     0
    ],
    "collapsed": true
   },
   "outputs": [],
   "source": [
    "# %load TestHarness\n",
    "import inspect\n",
    "import time\n",
    "from datetime import timedelta\n",
    "\n",
    "debugging = False\n",
    "debugging = True\n",
    "\n",
    "debugging2 = False\n",
    "\n",
    "logging = True\n",
    "\n",
    "def printf(f, *args):\n",
    "    if len(args): \n",
    "        print(f.format(*args))\n",
    "    else:\n",
    "        print(f)   \n",
    "\n",
    "def dbg(f, *args):\n",
    "    if debugging:\n",
    "        if len(args):\n",
    "            printf('  DBG:' + f, *args)\n",
    "        else:\n",
    "            print(f)\n",
    "\n",
    "def dbg2(f, *args):\n",
    "    if debugging2:\n",
    "        if len(args):\n",
    "            printf('  DBG2:' + f, *args)\n",
    "        else:\n",
    "            print(f)\n",
    "        \n",
    "def log(f, *args):\n",
    "    if logging:\n",
    "        printf(f, *args)\n",
    "        \n",
    "def log_error(f, *args):\n",
    "    if logging:\n",
    "        if len(args):\n",
    "            printf('*** ERROR:' + f, *args)\n",
    "        else:\n",
    "            print('*** ERROR:', f)\n",
    "        \n",
    "def class_name(instance):\n",
    "    return type(instance).__name__\n",
    "\n",
    "#------------------------------------------------------------------------------\n",
    "class TestCase(object):\n",
    "    def __init__(self, name, method, inputs, expected, catchExceptions=False):\n",
    "        self.name = name\n",
    "        self.method = method\n",
    "        self.inputs = inputs\n",
    "        self.expected = expected\n",
    "        self.catchExceptions = catchExceptions\n",
    "        \n",
    "    def run(self):\n",
    "        if self.catchExceptions:\n",
    "            try:\n",
    "                return self.method(*self.inputs)\n",
    "            except Exception as x:\n",
    "                return x\n",
    "        else:\n",
    "                return self.method(*self.inputs)\n",
    "\n",
    "#------------------------------------------------------------------------------\n",
    "class TestSet(object):\n",
    "    def __init__(self, cases):\n",
    "        self.cases = cases\n",
    "    \n",
    "    def run_tests(self, repeat=1):\n",
    "        count = 0\n",
    "        errors = 0\n",
    "        total_time = 0\n",
    "        for case in self.cases:\n",
    "            count += 1\n",
    "            start_time = time.time()\n",
    "            for iteration in range(repeat):\n",
    "                dbg2(\"*** Running '{0}' iteration {1}\", case.name, iteration+1)\n",
    "                result = case.run()\n",
    "            elapsed_time = time.time() - start_time\n",
    "            total_time += elapsed_time\n",
    "            if callable(case.expected):\n",
    "                if not case.expected(result):\n",
    "                    errors += 1\n",
    "                    log_error(\"Test {0} failed. Returned {1}\", case.name, result)\n",
    "            elif result != case.expected:\n",
    "                errors += 1\n",
    "                log_error('Test {0} failed. Returned \"{1}\", expected \"{2}\"', case.name, result, case.expected)\n",
    "        if errors:\n",
    "            log_error(\"Tests passed: {0}; Failures: {1}\", count-errors, errors)\n",
    "        else:\n",
    "            log(\"All {0} tests passed.\", count)\n",
    "        log(\"Elapsed test time: {0}\", timedelta(seconds=total_time))\n",
    "\n",
    "#------------------------------------------------------------------------------\n",
    "def elapsed_time(func, *args, msg=''):\n",
    "    ''' Display the elapsed time of the function.\n",
    "        Return the function value.\n",
    "    '''\n",
    "    stime = time.time()\n",
    "    result = func(*args)\n",
    "    etime = time.time() - stime\n",
    "    log(msg + \"Elapsed test time: {0}\", timedelta(seconds=etime))\n",
    "    return result\n",
    "        \n"
   ]
  },
  {
   "cell_type": "code",
   "execution_count": 141,
   "metadata": {
    "ExecuteTime": {
     "end_time": "2017-11-13T21:28:36.435508Z",
     "start_time": "2017-11-13T21:28:36.430107Z"
    },
    "collapsed": true
   },
   "outputs": [],
   "source": [
    "debugging = False"
   ]
  },
  {
   "cell_type": "code",
   "execution_count": 144,
   "metadata": {
    "ExecuteTime": {
     "end_time": "2017-11-13T21:29:48.234735Z",
     "start_time": "2017-11-13T21:29:48.102538Z"
    },
    "collapsed": true
   },
   "outputs": [],
   "source": [
    "def egg_drop(eggs, floors, memo=None, dynamic=True, info=None, stats=True, depth=0):\n",
    "    ''' Return the number of tries required to determine the first  floor will\n",
    "        cause an egg to break if you drop it.\n",
    "    '''   \n",
    "    self = egg_drop\n",
    "    # WOW! frame inspection is PIG SLOW!!!!! Less than 500 calls/second!\n",
    "    #self = globals()[inspect.getframeinfo(inspect.currentframe()).function]\n",
    "    if info is None: \n",
    "        info={'iterations':0, 'depth':0}\n",
    "    else:\n",
    "        info['iterations'] += 1\n",
    "        info['depth'] = max(info['depth'], depth)\n",
    "        \n",
    "    if dynamic:\n",
    "        key = (eggs, floors)\n",
    "        if memo is None:\n",
    "            memo = {}\n",
    "        else:\n",
    "            if key in memo:\n",
    "                return memo[key]\n",
    "    \n",
    "    assert eggs > 0 # Can't solve a problem if you can't break an egg.\n",
    "    if floors == 0: \n",
    "        tries = 0 # The answer is already known, since there are no floors.\n",
    "    elif floors == 1:\n",
    "        tries = 1 # We have to drop one to see if it breaks.\n",
    "    elif eggs == 1:\n",
    "        tries = floors # Need to drop the egg from each floor in turn.\n",
    "    else:\n",
    "        tries = float('inf')\n",
    "        for x in range(1, floors+1):\n",
    "            egg_broke = self(eggs-1, x-1,      memo, dynamic, info, False, depth+1)\n",
    "            egg_is_ok = self(eggs,   floors-x, memo, dynamic, info, False, depth+1)\n",
    "            best_for_floor = max(egg_broke, egg_is_ok)\n",
    "            tries = min(best_for_floor, tries)\n",
    "        tries = 1 + tries # This is a trial.\n",
    "\n",
    "    if dynamic:\n",
    "        memo[key] = tries\n",
    "        if stats: dbg('Memo: {0}', [ (k, memo[k]) for k in sorted(memo.keys()) ] )\n",
    "    if stats: log('Iterations: {0}, Recursive depth: {1}', info['iterations'], info['depth'])\n",
    "    return tries"
   ]
  },
  {
   "cell_type": "code",
   "execution_count": 145,
   "metadata": {
    "ExecuteTime": {
     "end_time": "2017-11-13T21:29:48.522162Z",
     "start_time": "2017-11-13T21:29:48.517065Z"
    },
    "collapsed": true
   },
   "outputs": [],
   "source": [
    "def egg_drop_static(eggs, floors):\n",
    "    return egg_drop(eggs, floors, dynamic=False)"
   ]
  },
  {
   "cell_type": "code",
   "execution_count": 146,
   "metadata": {
    "ExecuteTime": {
     "end_time": "2017-11-13T21:29:49.251357Z",
     "start_time": "2017-11-13T21:29:49.171820Z"
    }
   },
   "outputs": [],
   "source": [
    "def egg_drop_dynamic(eggs, floors):\n",
    "    ''' Return the number of tries required to determine the first  floor will\n",
    "        cause an egg to break if you drop it.\n",
    "        \n",
    "        Uses a dynamic programming table to contain all intermediate\n",
    "        results instead of recursing and using a memo dictionary.\n",
    "    '''\n",
    "    key = (eggs, floors)\n",
    "    table = {}\n",
    "    \n",
    "    assert eggs > 0 # Can't solve a problem if you can't break an egg.\n",
    "    for e in range(1, eggs+1):\n",
    "        table[(e, 0)] = 0 # The answer is already known, since there are no floors.\n",
    "        table[(e, 1)] = 1 # # We have to drop one to see if it breaks.\n",
    "    \n",
    "    for f in range(1, floors+1):\n",
    "        table[(1, f)] = f # Need to drop the egg from each floor in turn.\n",
    "    \n",
    "    for e in range(2, eggs+1):\n",
    "        for f in range(2, floors+1):\n",
    "            k = (e, f)\n",
    "            table[k] = float('inf')\n",
    "            for x in range(1, f+1):\n",
    "                egg_broke = table[(e-1, x-1)]\n",
    "                egg_is_ok = table[(e,   f-x)]\n",
    "                best_for_floor = 1 + max(egg_broke, egg_is_ok)\n",
    "                table[k] = min(best_for_floor, table[k])\n",
    "\n",
    "    dbg('Table: {0}', [ (k, table[k]) for k in sorted(table.keys()) ] )\n",
    "    return table[key]"
   ]
  },
  {
   "cell_type": "code",
   "execution_count": 147,
   "metadata": {
    "ExecuteTime": {
     "end_time": "2017-11-13T21:29:49.768482Z",
     "start_time": "2017-11-13T21:29:49.670577Z"
    }
   },
   "outputs": [],
   "source": [
    "def egg_drop_matrix(eggs, floors):\n",
    "    ''' Return the number of tries required to determine the first  floor will\n",
    "        cause an egg to break if you drop it.\n",
    "        \n",
    "        Uses a dynamic programming matrix to contain all intermediate\n",
    "        results instead of recursing and using a memo dictionary.\n",
    "    '''\n",
    "    # matrix = [ [0]*(floors+1) ] * (eggs) !!!! WRONG!!!!!  Replicates the rows!!!!\n",
    "    matrix = [ [0 for cols in range(floors+1)] for rows in range(eggs) ]\n",
    "        \n",
    "    assert eggs > 0 # Can't solve a problem if you can't break an egg.\n",
    "    for e in range(1, eggs+1):\n",
    "        matrix[e-1][0] = 0 # The answer is already known, since there are no floors.\n",
    "        matrix[e-1][1] = 1 # # We have to drop one to see if it breaks.\n",
    "    \n",
    "    for f in range(1, floors+1):\n",
    "        matrix[0][f] = f # Need to drop the egg from each floor in turn.\n",
    "    \n",
    "    for e in range(2, eggs+1):\n",
    "        for f in range(2, floors+1):\n",
    "            matrix[e-1][f] = float('inf')\n",
    "            for x in range(1, f+1):\n",
    "                egg_broke = matrix[e-2][x-1]\n",
    "                egg_is_ok = matrix[e-1][f-x]\n",
    "                best_for_floor = 1 + max(egg_broke, egg_is_ok)\n",
    "                assert e > 1\n",
    "                if best_for_floor < matrix[e-1][f]:\n",
    "                    matrix[e-1][f] = best_for_floor\n",
    "                \n",
    "    dbg('Matrix: {0}', matrix)\n",
    "    return matrix[eggs-1][floors]"
   ]
  },
  {
   "cell_type": "code",
   "execution_count": 148,
   "metadata": {
    "ExecuteTime": {
     "end_time": "2017-11-13T21:29:50.444862Z",
     "start_time": "2017-11-13T21:29:50.422787Z"
    }
   },
   "outputs": [
    {
     "name": "stdout",
     "output_type": "stream",
     "text": [
      "Number of tries (tabular): Elapsed test time: 0:00:00.009525\n",
      "14\n",
      "Number of tries (matrix) : Elapsed test time: 0:00:00.003830\n",
      "14\n"
     ]
    }
   ],
   "source": [
    "eggs = 2\n",
    "floors = 100\n",
    "print(elapsed_time(egg_drop_dynamic, eggs, floors, msg='Number of tries (tabular): '))\n",
    "print(elapsed_time(egg_drop_matrix,  eggs, floors, msg='Number of tries (matrix) : '))\n"
   ]
  },
  {
   "cell_type": "code",
   "execution_count": 154,
   "metadata": {
    "ExecuteTime": {
     "end_time": "2017-11-13T21:31:51.524849Z",
     "start_time": "2017-11-13T21:31:48.230494Z"
    }
   },
   "outputs": [
    {
     "name": "stdout",
     "output_type": "stream",
     "text": [
      "Iterations: 418, Recursive depth: 19\n",
      "Number of tries (dynamic): Elapsed test time: 0:00:00.001900\n",
      "6\n",
      "Iterations: 1572862, Recursive depth: 19\n",
      "Number of tries (static) : Elapsed test time: 0:00:03.280220\n",
      "6\n"
     ]
    }
   ],
   "source": [
    "eggs = 2\n",
    "floors = 20\n",
    "print(elapsed_time(egg_drop,        eggs, floors, msg='Number of tries (dynamic): '))\n",
    "print(elapsed_time(egg_drop_static, eggs, floors, msg='Number of tries (static) : '))\n"
   ]
  },
  {
   "cell_type": "code",
   "execution_count": 155,
   "metadata": {
    "ExecuteTime": {
     "end_time": "2017-11-13T21:32:48.291564Z",
     "start_time": "2017-11-13T21:32:34.446567Z"
    }
   },
   "outputs": [
    {
     "name": "stdout",
     "output_type": "stream",
     "text": [
      "Iterations: 3992000, Recursive depth: 999\n",
      "Number of tries (dynamic): Elapsed test time: 0:00:08.519198\n",
      "11\n",
      "Number of tries (tabular): Elapsed test time: 0:00:03.135530\n",
      "11\n",
      "Number of tries (matrix) : Elapsed test time: 0:00:02.177589\n",
      "11\n"
     ]
    }
   ],
   "source": [
    "eggs = 5\n",
    "floors = 1000\n",
    "print(elapsed_time(egg_drop,         eggs, floors, msg='Number of tries (dynamic): '))\n",
    "print(elapsed_time(egg_drop_dynamic, eggs, floors, msg='Number of tries (tabular): '))\n",
    "print(elapsed_time(egg_drop_matrix,  eggs, floors, msg='Number of tries (matrix) : '))\n"
   ]
  },
  {
   "cell_type": "code",
   "execution_count": null,
   "metadata": {
    "collapsed": true
   },
   "outputs": [],
   "source": []
  },
  {
   "cell_type": "code",
   "execution_count": null,
   "metadata": {
    "ExecuteTime": {
     "end_time": "2017-11-13T19:57:53.749294Z",
     "start_time": "2017-11-13T19:57:53.736199Z"
    }
   },
   "outputs": [],
   "source": [
    "import sys\n",
    "def bar():\n",
    "     ''' This is a function that learns about itself \n",
    "     '''\n",
    "     felf = globals()[sys._getframe().f_code.co_name]   \n",
    "     print(felf.__name__, felf.__doc__)\n",
    "        \n",
    "     #frame = globals()[sys._getframe().f_code]    \n",
    "     #print(frame)\n",
    "     print(bar)"
   ]
  },
  {
   "cell_type": "code",
   "execution_count": null,
   "metadata": {
    "ExecuteTime": {
     "end_time": "2017-11-13T19:57:53.908495Z",
     "start_time": "2017-11-13T19:57:53.902370Z"
    }
   },
   "outputs": [],
   "source": [
    "bar()"
   ]
  },
  {
   "cell_type": "code",
   "execution_count": 19,
   "metadata": {
    "ExecuteTime": {
     "end_time": "2017-11-13T20:10:26.029704Z",
     "start_time": "2017-11-13T20:10:26.015972Z"
    }
   },
   "outputs": [],
   "source": [
    "def foo():\n",
    "     ''' This is a function that learns about itself \n",
    "     '''\n",
    "     # WOW! frame inspection is PIG SLOW!!!!! Less than 500 calls/second!\n",
    "     felf = globals()[inspect.getframeinfo(inspect.currentframe()).function]\n",
    "     print(felf.__name__, felf.__doc__)\n",
    "     print(felf)\n",
    "     print(foo)\n",
    "     return foo == felf"
   ]
  },
  {
   "cell_type": "code",
   "execution_count": 20,
   "metadata": {
    "ExecuteTime": {
     "end_time": "2017-11-13T20:10:26.624833Z",
     "start_time": "2017-11-13T20:10:26.600020Z"
    }
   },
   "outputs": [
    {
     "name": "stdout",
     "output_type": "stream",
     "text": [
      "foo  This is a function that learns about itself \n",
      "     \n",
      "<function foo at 0x7f5fa0430840>\n",
      "<function foo at 0x7f5fa0430840>\n"
     ]
    },
    {
     "data": {
      "text/plain": [
       "True"
      ]
     },
     "execution_count": 20,
     "metadata": {},
     "output_type": "execute_result"
    }
   ],
   "source": [
    "foo()"
   ]
  },
  {
   "cell_type": "code",
   "execution_count": 55,
   "metadata": {
    "ExecuteTime": {
     "end_time": "2017-11-13T20:30:55.957268Z",
     "start_time": "2017-11-13T20:30:55.947477Z"
    }
   },
   "outputs": [
    {
     "data": {
      "text/plain": [
       "[[0, 0, 0, 0, 0], [0, 0, 0, 0, 0]]"
      ]
     },
     "execution_count": 55,
     "metadata": {},
     "output_type": "execute_result"
    }
   ],
   "source": [
    " [ [0]*5 ] * 2"
   ]
  },
  {
   "cell_type": "code",
   "execution_count": null,
   "metadata": {
    "collapsed": true
   },
   "outputs": [],
   "source": []
  }
 ],
 "metadata": {
  "kernelspec": {
   "display_name": "Python [conda env:py35]",
   "language": "python",
   "name": "conda-env-py35-py"
  },
  "language_info": {
   "codemirror_mode": {
    "name": "ipython",
    "version": 3
   },
   "file_extension": ".py",
   "mimetype": "text/x-python",
   "name": "python",
   "nbconvert_exporter": "python",
   "pygments_lexer": "ipython3",
   "version": "3.5.4"
  },
  "varInspector": {
   "cols": {
    "lenName": 16,
    "lenType": 16,
    "lenVar": 40
   },
   "kernels_config": {
    "python": {
     "delete_cmd_postfix": "",
     "delete_cmd_prefix": "del ",
     "library": "var_list.py",
     "varRefreshCmd": "print(var_dic_list())"
    },
    "r": {
     "delete_cmd_postfix": ") ",
     "delete_cmd_prefix": "rm(",
     "library": "var_list.r",
     "varRefreshCmd": "cat(var_dic_list()) "
    }
   },
   "types_to_exclude": [
    "module",
    "function",
    "builtin_function_or_method",
    "instance",
    "_Feature"
   ],
   "window_display": false
  }
 },
 "nbformat": 4,
 "nbformat_minor": 2
}
