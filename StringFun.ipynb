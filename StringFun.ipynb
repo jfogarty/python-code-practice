{
 "cells": [
  {
   "cell_type": "markdown",
   "metadata": {},
   "source": [
    "### Fun with Strings\n",
    "\n",
    "Simple string operations.\n",
    "\n",
    "See [The LeetCode example problem](https://leetcode.com/problems/trim-a-binary-search-tree/description/)"
   ]
  },
  {
   "cell_type": "code",
   "execution_count": 3,
   "metadata": {
    "ExecuteTime": {
     "end_time": "2018-01-09T20:40:30.197959Z",
     "start_time": "2018-01-09T20:40:30.169786Z"
    },
    "collapsed": true
   },
   "outputs": [],
   "source": [
    "debugging = False\n",
    "debugging = True\n",
    "\n",
    "logging = True\n",
    "\n",
    "def dprint(f, *args):\n",
    "    if debugging:\n",
    "        print(('  DBG:' + f).format(*args))\n",
    "\n",
    "def log(f, *args):\n",
    "    if logging:\n",
    "        print((f).format(*args))\n",
    "        \n",
    "def logError(f, *args):\n",
    "    if logging:\n",
    "        print(('*** ERROR:' + f).format(*args))\n",
    "        \n",
    "def className(instance):\n",
    "    return type(instance).__name__"
   ]
  },
  {
   "cell_type": "code",
   "execution_count": 4,
   "metadata": {
    "ExecuteTime": {
     "end_time": "2018-01-09T20:40:30.970314Z",
     "start_time": "2018-01-09T20:40:30.948801Z"
    },
    "collapsed": true
   },
   "outputs": [],
   "source": [
    "def matchCount(sourceChars, targetChars):\n",
    "    \"\"\" Create a dict containing counts of source chars in target string. \"\"\"\n",
    "    matches = {sc.lower():0 for sc in sourceChars}\n",
    "    # Get offsets of only the first instances of the source characters.\n",
    "    locations = {sc.lower(): len(sourceChars)-off for off, sc in enumerate(reversed(sourceChars),start=1)}\n",
    "    print(locations)\n",
    "    for dc in targetChars:\n",
    "       dc = dc.lower()\n",
    "       if dc in matches: matches[dc] = matches[dc] + 1\n",
    "    return matches\n"
   ]
  },
  {
   "cell_type": "code",
   "execution_count": 5,
   "metadata": {
    "ExecuteTime": {
     "end_time": "2018-01-09T20:40:31.656017Z",
     "start_time": "2018-01-09T20:40:31.629721Z"
    }
   },
   "outputs": [
    {
     "name": "stdout",
     "output_type": "stream",
     "text": [
      "{'c': 2, 'b': 1, 'a': 0}\n"
     ]
    },
    {
     "data": {
      "text/plain": [
       "{'a': 7, 'b': 5, 'c': 1}"
      ]
     },
     "execution_count": 5,
     "metadata": {},
     "output_type": "execute_result"
    }
   ],
   "source": [
    "s1 = \"xzThis is a test of the emergency broadcast system.\"\n",
    "s1 = \"ABC\"\n",
    "#     0123456789 123456789 123456789 123456789 123456789\n",
    "#               1         2         3         4         5  \n",
    "s2 = \"The quick brown fox jumped over the lazy dog. anda one anda two anda bbbb\"\n",
    "matchCount(s1, s2)"
   ]
  },
  {
   "cell_type": "code",
   "execution_count": 6,
   "metadata": {
    "ExecuteTime": {
     "end_time": "2018-01-09T20:40:33.298827Z",
     "start_time": "2018-01-09T20:40:33.288371Z"
    }
   },
   "outputs": [
    {
     "data": {
      "text/plain": [
       "['t', 'i', ' ', 's', 'i', ' ', 's', 'i', 'h', 'T']"
      ]
     },
     "execution_count": 6,
     "metadata": {},
     "output_type": "execute_result"
    }
   ],
   "source": [
    "[x for x in reversed(\"This is it\")]"
   ]
  },
  {
   "cell_type": "code",
   "execution_count": 7,
   "metadata": {
    "ExecuteTime": {
     "end_time": "2018-01-09T20:40:34.052664Z",
     "start_time": "2018-01-09T20:40:34.039066Z"
    },
    "collapsed": true
   },
   "outputs": [],
   "source": [
    "class TestCase(object):\n",
    "    def __init__(self, name, method, inputs, expected):\n",
    "        self.name = name\n",
    "        self.method = method\n",
    "        self.inputs = inputs\n",
    "        self.expected = expected\n",
    "        \n",
    "    def run(self):\n",
    "        return self.method(*self.inputs)"
   ]
  },
  {
   "cell_type": "code",
   "execution_count": 8,
   "metadata": {
    "ExecuteTime": {
     "end_time": "2018-01-09T20:40:34.845889Z",
     "start_time": "2018-01-09T20:40:34.791032Z"
    },
    "collapsed": true
   },
   "outputs": [],
   "source": [
    "import time\n",
    "from datetime import timedelta\n",
    "\n",
    "class TestSet(object):\n",
    "    def __init__(self, cases):\n",
    "        self.cases = cases\n",
    "    \n",
    "    def run_tests(self):\n",
    "        count = 0\n",
    "        errors = 0\n",
    "        total_time = 0\n",
    "        for case in self.cases:\n",
    "            count += 1\n",
    "            start_time = time.time()\n",
    "            result = case.run()\n",
    "            elapsed_time = time.time() - start_time\n",
    "            total_time += elapsed_time\n",
    "            if callable(case.expected):\n",
    "                if not case.expected(result):\n",
    "                    errors += 1\n",
    "                    logError(\"Test {0} failed. Returned {1}\", case.name, result)\n",
    "            elif result != case.expected:\n",
    "                errors += 1\n",
    "                logError('Test {0} failed. Returned \"{1}\", expected \"{2}\"', case.name, result, case.expected)\n",
    "        if errors:\n",
    "            logError(\"Tests passed: {0}; Failures: {1}\", count-errors, errors)\n",
    "        else:\n",
    "            log(\"All {0} tests passed.\", count)\n",
    "        log(\"Elapsed test time: {0}\", timedelta(seconds=total_time))"
   ]
  },
  {
   "cell_type": "code",
   "execution_count": 9,
   "metadata": {
    "ExecuteTime": {
     "end_time": "2018-01-09T20:40:35.316539Z",
     "start_time": "2018-01-09T20:40:35.302856Z"
    },
    "collapsed": true
   },
   "outputs": [],
   "source": [
    "simplecompare = lambda s1, s2: matchCount(s1, s2)\n",
    "c1 = TestCase('one letter 10 times', \n",
    "              simplecompare,\n",
    "              [\"x\", \"aa xxaaxbbxccx xxxxx\"],\n",
    "              { 'x' : 10 })\n",
    "\n",
    "c2 = TestCase('ABC', \n",
    "              simplecompare, \n",
    "              [\"ABC\", \"The quick brown fox jumped over the lazy dog. anda one anda two anda bbbb\"],\n",
    "              lambda r : r['a'] == 7 and r['b'] == 5)\n",
    "tester = TestSet([c1, c2])"
   ]
  },
  {
   "cell_type": "code",
   "execution_count": 10,
   "metadata": {
    "ExecuteTime": {
     "end_time": "2018-01-09T20:40:35.889022Z",
     "start_time": "2018-01-09T20:40:35.881115Z"
    }
   },
   "outputs": [
    {
     "name": "stdout",
     "output_type": "stream",
     "text": [
      "{'x': 0}\n",
      "{'c': 2, 'b': 1, 'a': 0}\n",
      "All 2 tests passed.\n",
      "Elapsed test time: 0:00:00.000923\n"
     ]
    }
   ],
   "source": [
    "tester.run_tests()"
   ]
  },
  {
   "cell_type": "code",
   "execution_count": 11,
   "metadata": {
    "ExecuteTime": {
     "end_time": "2018-01-09T20:40:36.877876Z",
     "start_time": "2018-01-09T20:40:36.825065Z"
    },
    "collapsed": true
   },
   "outputs": [],
   "source": [
    "class Trie(object):\n",
    "    \n",
    "    def __init__(node, value=None):\n",
    "        node.value = value # Note, root node has None value.\n",
    "        node.children = {}\n",
    "        node.wordEnd = False # true at word end nodes.\n",
    "        \n",
    "    def insert(node, word):\n",
    "        for letter in word:\n",
    "            if letter in node.children:\n",
    "                node = node.children[letter]\n",
    "            else:\n",
    "                newn = Trie(letter)\n",
    "                node.children[letter] = newn\n",
    "                node = newn\n",
    "        node.wordEnd = True\n",
    "\n",
    "    def find(node, word):\n",
    "        for letter in word:\n",
    "            if letter in node.children:\n",
    "                node = node.children[letter]\n",
    "            else:\n",
    "                return False\n",
    "        return node.wordEnd\n",
    "\n",
    "    def __str__(node):\n",
    "        pass\n",
    "        [x for x in node.children]"
   ]
  },
  {
   "cell_type": "code",
   "execution_count": 12,
   "metadata": {
    "ExecuteTime": {
     "end_time": "2018-01-09T20:40:37.426389Z",
     "start_time": "2018-01-09T20:40:37.422027Z"
    },
    "collapsed": true
   },
   "outputs": [],
   "source": [
    "x = Trie()"
   ]
  },
  {
   "cell_type": "code",
   "execution_count": 13,
   "metadata": {
    "ExecuteTime": {
     "end_time": "2018-01-09T20:40:37.826817Z",
     "start_time": "2018-01-09T20:40:37.822404Z"
    },
    "collapsed": true
   },
   "outputs": [],
   "source": [
    "x.insert('Hello')"
   ]
  },
  {
   "cell_type": "code",
   "execution_count": 14,
   "metadata": {
    "ExecuteTime": {
     "end_time": "2018-01-09T20:40:38.033771Z",
     "start_time": "2018-01-09T20:40:38.026863Z"
    },
    "collapsed": true
   },
   "outputs": [],
   "source": [
    "x.insert(\"Mommy\")"
   ]
  },
  {
   "cell_type": "code",
   "execution_count": 15,
   "metadata": {
    "ExecuteTime": {
     "end_time": "2018-01-09T20:40:38.207296Z",
     "start_time": "2018-01-09T20:40:38.202704Z"
    },
    "collapsed": true
   },
   "outputs": [],
   "source": [
    "x.insert('M')"
   ]
  },
  {
   "cell_type": "code",
   "execution_count": 16,
   "metadata": {
    "ExecuteTime": {
     "end_time": "2018-01-09T20:40:38.385567Z",
     "start_time": "2018-01-09T20:40:38.380104Z"
    },
    "collapsed": true
   },
   "outputs": [],
   "source": [
    "x.insert('Glorm')"
   ]
  },
  {
   "cell_type": "code",
   "execution_count": 17,
   "metadata": {
    "ExecuteTime": {
     "end_time": "2018-01-09T20:40:39.025349Z",
     "start_time": "2018-01-09T20:40:39.019482Z"
    }
   },
   "outputs": [
    {
     "data": {
      "text/plain": [
       "True"
      ]
     },
     "execution_count": 17,
     "metadata": {},
     "output_type": "execute_result"
    }
   ],
   "source": [
    "x.find('Mommy')"
   ]
  },
  {
   "cell_type": "code",
   "execution_count": 18,
   "metadata": {
    "ExecuteTime": {
     "end_time": "2018-01-09T20:40:39.615935Z",
     "start_time": "2018-01-09T20:40:39.542994Z"
    }
   },
   "outputs": [
    {
     "data": {
      "text/plain": [
       "{'G': <__main__.Trie at 0x7f5fb8701c18>,\n",
       " 'H': <__main__.Trie at 0x7f5fb8694eb8>,\n",
       " 'M': <__main__.Trie at 0x7f5fb8694710>}"
      ]
     },
     "execution_count": 18,
     "metadata": {},
     "output_type": "execute_result"
    }
   ],
   "source": [
    "x.children"
   ]
  },
  {
   "cell_type": "code",
   "execution_count": 19,
   "metadata": {
    "ExecuteTime": {
     "end_time": "2018-01-09T20:40:40.353079Z",
     "start_time": "2018-01-09T20:40:40.342667Z"
    }
   },
   "outputs": [
    {
     "data": {
      "text/plain": [
       "[('M', None), ('H', None), ('G', None)]"
      ]
     },
     "execution_count": 19,
     "metadata": {},
     "output_type": "execute_result"
    }
   ],
   "source": [
    "[(z, x.value) for z in x.children]"
   ]
  },
  {
   "cell_type": "code",
   "execution_count": 29,
   "metadata": {
    "ExecuteTime": {
     "end_time": "2018-01-09T20:44:51.978040Z",
     "start_time": "2018-01-09T20:44:51.969791Z"
    }
   },
   "outputs": [],
   "source": [
    "a = \"This is a test.\"\n",
    "b = reversed(a)"
   ]
  },
  {
   "cell_type": "code",
   "execution_count": 30,
   "metadata": {
    "ExecuteTime": {
     "end_time": "2018-01-09T20:44:52.192135Z",
     "start_time": "2018-01-09T20:44:52.183579Z"
    }
   },
   "outputs": [
    {
     "data": {
      "text/plain": [
       "'.tset a si sihT'"
      ]
     },
     "execution_count": 30,
     "metadata": {},
     "output_type": "execute_result"
    }
   ],
   "source": [
    "a[::-1]"
   ]
  },
  {
   "cell_type": "code",
   "execution_count": 31,
   "metadata": {
    "ExecuteTime": {
     "end_time": "2018-01-09T20:44:52.424768Z",
     "start_time": "2018-01-09T20:44:52.417311Z"
    }
   },
   "outputs": [
    {
     "data": {
      "text/plain": [
       "'.tset a si sihT'"
      ]
     },
     "execution_count": 31,
     "metadata": {},
     "output_type": "execute_result"
    }
   ],
   "source": [
    "''.join(reversed(a))"
   ]
  },
  {
   "cell_type": "code",
   "execution_count": null,
   "metadata": {
    "collapsed": true
   },
   "outputs": [],
   "source": []
  }
 ],
 "metadata": {
  "kernelspec": {
   "display_name": "Python [conda env:py35]",
   "language": "python",
   "name": "conda-env-py35-py"
  },
  "language_info": {
   "codemirror_mode": {
    "name": "ipython",
    "version": 3
   },
   "file_extension": ".py",
   "mimetype": "text/x-python",
   "name": "python",
   "nbconvert_exporter": "python",
   "pygments_lexer": "ipython3",
   "version": "3.5.4"
  },
  "varInspector": {
   "cols": {
    "lenName": 16,
    "lenType": 16,
    "lenVar": 40
   },
   "kernels_config": {
    "python": {
     "delete_cmd_postfix": "",
     "delete_cmd_prefix": "del ",
     "library": "var_list.py",
     "varRefreshCmd": "print(var_dic_list())"
    },
    "r": {
     "delete_cmd_postfix": ") ",
     "delete_cmd_prefix": "rm(",
     "library": "var_list.r",
     "varRefreshCmd": "cat(var_dic_list()) "
    }
   },
   "types_to_exclude": [
    "module",
    "function",
    "builtin_function_or_method",
    "instance",
    "_Feature"
   ],
   "window_display": false
  }
 },
 "nbformat": 4,
 "nbformat_minor": 2
}
