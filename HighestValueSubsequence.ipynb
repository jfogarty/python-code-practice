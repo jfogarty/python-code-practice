{
 "cells": [
  {
   "cell_type": "markdown",
   "metadata": {},
   "source": [
    "### Highest Value Subsequence\n",
    "\n",
    "Given an array of numbers, find the run which has the highest cumulative value.\n",
    "\n",
    "See [The example problem](http://www.geeksforgeeks.org/largest-sum-contiguous-subarray/)"
   ]
  },
  {
   "cell_type": "code",
   "execution_count": 1,
   "metadata": {
    "collapsed": true
   },
   "outputs": [],
   "source": [
    "debugging = False\n",
    "debugging = True\n",
    "\n",
    "logging = True\n",
    "\n",
    "def dbg(f, *args):\n",
    "    if debugging:\n",
    "        print(('  DBG:' + f).format(*args))\n",
    "\n",
    "def log(f, *args):\n",
    "    if logging:\n",
    "        print((f).format(*args))\n",
    "        \n",
    "def logError(f, *args):\n",
    "    if logging:\n",
    "        print(('*** ERROR:' + f).format(*args))\n",
    "        \n",
    "def className(instance):\n",
    "    return type(instance).__name__"
   ]
  },
  {
   "cell_type": "code",
   "execution_count": 2,
   "metadata": {
    "collapsed": true
   },
   "outputs": [],
   "source": [
    "class TestCase(object):\n",
    "    def __init__(self, name, method, inputs, expected):\n",
    "        self.name = name\n",
    "        self.method = method\n",
    "        self.inputs = inputs\n",
    "        self.expected = expected\n",
    "        \n",
    "    def run(self):\n",
    "        return self.method(*self.inputs)"
   ]
  },
  {
   "cell_type": "code",
   "execution_count": 4,
   "metadata": {
    "collapsed": true
   },
   "outputs": [],
   "source": [
    "import time\n",
    "from datetime import timedelta\n",
    "\n",
    "class TestSet(object):\n",
    "    def __init__(self, cases):\n",
    "        self.cases = cases\n",
    "    \n",
    "    def run_tests(self):\n",
    "        count = 0\n",
    "        errors = 0\n",
    "        total_time = 0\n",
    "        for case in self.cases:\n",
    "            count += 1\n",
    "            start_time = time.time()\n",
    "            result = case.run()\n",
    "            elapsed_time = time.time() - start_time\n",
    "            total_time += elapsed_time\n",
    "            if callable(case.expected):\n",
    "                if not case.expected(result):\n",
    "                    errors += 1\n",
    "                    logError(\"Test {0} failed. Returned {1}\", case.name, result)\n",
    "            elif result != case.expected:\n",
    "                errors += 1\n",
    "                logError('Test {0} failed. Returned \"{1}\", expected \"{2}\"', case.name, result, case.expected)\n",
    "        if errors:\n",
    "            logError(\"Tests passed: {0}; Failures {1}\", count-errors, errors)\n",
    "        else:\n",
    "            log(\"All {0} tests passed.\", count)\n",
    "        log(\"Elapsed test time: {0}\", timedelta(seconds=total_time))"
   ]
  },
  {
   "cell_type": "code",
   "execution_count": 10,
   "metadata": {
    "collapsed": true
   },
   "outputs": [],
   "source": [
    "def max_subsequence(sq):\n",
    "    \"\"\" Find the highest value subsequence in the list. \"\"\"\n",
    "    if sq == []: return []\n",
    "    globalMax = sq[0]\n",
    "    localMax = sq[0]\n",
    "    maxSq = sq[0:1]\n",
    "    j = k = 0\n",
    "    for i in range(1, len(sq)):\n",
    "        if localMax + sq[i] > sq[i]: # Increase subsequence length.\n",
    "            k = i\n",
    "            localMax += sq[i]\n",
    "        else:\n",
    "            localMax = sq[i] # restart the subsequence\n",
    "            j = k = i\n",
    "        if localMax > globalMax:\n",
    "            globalMax = localMax\n",
    "            maxSq = sq[j:k+1]\n",
    "    return maxSq"
   ]
  },
  {
   "cell_type": "code",
   "execution_count": 11,
   "metadata": {},
   "outputs": [],
   "source": [
    "c0 = TestCase('Degenerate', \n",
    "              max_subsequence,\n",
    "              [ [10] ],\n",
    "              [10])\n",
    "c1 = TestCase('From GeeksForGeeks', \n",
    "              max_subsequence,\n",
    "              [ [-2, -3, 4, -1, -2, 1, 5, -3] ],\n",
    "              [4, -1, -2, 1, 5])\n",
    "\n",
    "tester = TestSet([c0, c1])"
   ]
  },
  {
   "cell_type": "code",
   "execution_count": 12,
   "metadata": {},
   "outputs": [
    {
     "name": "stdout",
     "output_type": "stream",
     "text": [
      "All 2 tests passed.\n",
      "Elapsed test time: 0:00:00.000017\n"
     ]
    }
   ],
   "source": [
    "tester.run_tests()"
   ]
  },
  {
   "cell_type": "code",
   "execution_count": null,
   "metadata": {
    "collapsed": true
   },
   "outputs": [],
   "source": []
  }
 ],
 "metadata": {
  "kernelspec": {
   "display_name": "Python [conda env:py35]",
   "language": "python",
   "name": "conda-env-py35-py"
  },
  "language_info": {
   "codemirror_mode": {
    "name": "ipython",
    "version": 3
   },
   "file_extension": ".py",
   "mimetype": "text/x-python",
   "name": "python",
   "nbconvert_exporter": "python",
   "pygments_lexer": "ipython3",
   "version": "3.5.3"
  }
 },
 "nbformat": 4,
 "nbformat_minor": 2
}
