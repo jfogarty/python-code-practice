{
 "cells": [
  {
   "cell_type": "markdown",
   "metadata": {},
   "source": [
    "### Highest Value Subsequence\n",
    "\n",
    "Given an array of numbers, find the run which has the highest cumulative value.\n",
    "\n",
    "See [The example problem](http://www.geeksforgeeks.org/largest-sum-contiguous-subarray/)"
   ]
  },
  {
   "cell_type": "code",
   "execution_count": null,
   "metadata": {
    "ExecuteTime": {
     "end_time": "2017-11-09T18:20:11.307545Z",
     "start_time": "2017-11-09T18:20:11.161319Z"
    },
    "code_folding": [
     33,
     51
    ]
   },
   "outputs": [],
   "source": [
    "# %load TestHarness\n",
    "debugging = False\n",
    "debugging = True\n",
    "\n",
    "debugging2 = False\n",
    "\n",
    "logging = True\n",
    "\n",
    "\n",
    "def dbg(f, *args):\n",
    "    if debugging:\n",
    "        print(('  DBG:' + f).format(*args))\n",
    "\n",
    "def dbg2(f, *args):\n",
    "    if debugging2:\n",
    "        print(('  DBG2:' + f).format(*args))\n",
    "        \n",
    "def log(f, *args):\n",
    "    if logging:\n",
    "        print((f).format(*args))\n",
    "        \n",
    "def log_error(f, *args):\n",
    "    if logging:\n",
    "        print(('*** ERROR:' + f).format(*args))       \n",
    "        \n",
    "def class_name(instance):\n",
    "    return type(instance).__name__\n",
    "\n",
    "#------------------------------------------------------------------------------   \n",
    "import time\n",
    "from datetime import timedelta\n",
    "\n",
    "#------------------------------------------------------------------------------\n",
    "class TestCase(object):\n",
    "    def __init__(self, name, method, inputs, expected, catchExceptions=False):\n",
    "        self.name = name\n",
    "        self.method = method\n",
    "        self.inputs = inputs\n",
    "        self.expected = expected\n",
    "        self.catchExceptions = catchExceptions\n",
    "        \n",
    "    def run(self):\n",
    "        if self.catchExceptions:\n",
    "            try:\n",
    "                return self.method(*self.inputs)\n",
    "            except Exception as x:\n",
    "                return x\n",
    "        else:\n",
    "                return self.method(*self.inputs)\n",
    "\n",
    "#------------------------------------------------------------------------------\n",
    "class TestSet(object):\n",
    "    def __init__(self, cases):\n",
    "        self.cases = cases\n",
    "    \n",
    "    def run_tests(self, repeat=1):\n",
    "        count = 0\n",
    "        errors = 0\n",
    "        total_time = 0\n",
    "        for case in self.cases:\n",
    "            count += 1\n",
    "            start_time = time.time()\n",
    "            for iteration in range(repeat):\n",
    "                dbg2(\"*** Running '{0}' iteration {1}\", case.name, iteration+1)\n",
    "                result = case.run()\n",
    "            elapsed_time = time.time() - start_time\n",
    "            total_time += elapsed_time\n",
    "            if callable(case.expected):\n",
    "                if not case.expected(result):\n",
    "                    errors += 1\n",
    "                    logError(\"Test {0} failed. Returned {1}\", case.name, result)\n",
    "            elif result != case.expected:\n",
    "                errors += 1\n",
    "                logError('Test {0} failed. Returned \"{1}\", expected \"{2}\"', case.name, result, case.expected)\n",
    "        if errors:\n",
    "            logError(\"Tests passed: {0}; Failures: {1}\", count-errors, errors)\n",
    "        else:\n",
    "            log(\"All {0} tests passed.\", count)\n",
    "        log(\"Elapsed test time: {0}\", timedelta(seconds=total_time))\n",
    "\n",
    "        \n"
   ]
  },
  {
   "cell_type": "code",
   "execution_count": 21,
   "metadata": {
    "ExecuteTime": {
     "end_time": "2017-11-09T18:20:21.177089Z",
     "start_time": "2017-11-09T18:20:21.145357Z"
    },
    "collapsed": true
   },
   "outputs": [],
   "source": [
    "def max_subsequence(sq):\n",
    "    \"\"\" Find the highest value subsequence in the list. \"\"\"\n",
    "    if sq == []: return []\n",
    "    globalMax = sq[0]\n",
    "    localMax = sq[0]\n",
    "    maxSq = sq[0:1]\n",
    "    j = k = 0\n",
    "    for i in range(1, len(sq)):\n",
    "        if localMax + sq[i] > sq[i]: # Increase subsequence length.\n",
    "            k = i\n",
    "            localMax += sq[i]\n",
    "        else:\n",
    "            localMax = sq[i] # restart the subsequence\n",
    "            j = k = i\n",
    "        if localMax > globalMax:\n",
    "            globalMax = localMax\n",
    "            maxSq = sq[j:k+1]\n",
    "    return maxSq"
   ]
  },
  {
   "cell_type": "code",
   "execution_count": 22,
   "metadata": {
    "ExecuteTime": {
     "end_time": "2017-11-09T18:20:21.691331Z",
     "start_time": "2017-11-09T18:20:21.673352Z"
    },
    "collapsed": true
   },
   "outputs": [],
   "source": [
    "c0 = TestCase('Degenerate', \n",
    "              max_subsequence,\n",
    "              [ [10] ],\n",
    "              [10])\n",
    "c1 = TestCase('From GeeksForGeeks', \n",
    "              max_subsequence,\n",
    "              [ [-2, -3, 4, -1, -2, 1, 5, -3] ],\n",
    "              [4, -1, -2, 1, 5])\n",
    "\n",
    "tester = TestSet([c0, c1])"
   ]
  },
  {
   "cell_type": "code",
   "execution_count": 23,
   "metadata": {
    "ExecuteTime": {
     "end_time": "2017-11-09T18:20:22.034159Z",
     "start_time": "2017-11-09T18:20:22.028080Z"
    }
   },
   "outputs": [
    {
     "name": "stdout",
     "output_type": "stream",
     "text": [
      "All 2 tests passed.\n",
      "Elapsed test time: 0:00:00.000033\n"
     ]
    }
   ],
   "source": [
    "tester.run_tests()"
   ]
  },
  {
   "cell_type": "code",
   "execution_count": null,
   "metadata": {
    "collapsed": true
   },
   "outputs": [],
   "source": []
  }
 ],
 "metadata": {
  "kernelspec": {
   "display_name": "Python [conda env:py35]",
   "language": "python",
   "name": "conda-env-py35-py"
  },
  "language_info": {
   "codemirror_mode": {
    "name": "ipython",
    "version": 3
   },
   "file_extension": ".py",
   "mimetype": "text/x-python",
   "name": "python",
   "nbconvert_exporter": "python",
   "pygments_lexer": "ipython3",
   "version": "3.5.4"
  },
  "varInspector": {
   "cols": {
    "lenName": 16,
    "lenType": 16,
    "lenVar": 40
   },
   "kernels_config": {
    "python": {
     "delete_cmd_postfix": "",
     "delete_cmd_prefix": "del ",
     "library": "var_list.py",
     "varRefreshCmd": "print(var_dic_list())"
    },
    "r": {
     "delete_cmd_postfix": ") ",
     "delete_cmd_prefix": "rm(",
     "library": "var_list.r",
     "varRefreshCmd": "cat(var_dic_list()) "
    }
   },
   "types_to_exclude": [
    "module",
    "function",
    "builtin_function_or_method",
    "instance",
    "_Feature"
   ],
   "window_display": false
  }
 },
 "nbformat": 4,
 "nbformat_minor": 2
}
