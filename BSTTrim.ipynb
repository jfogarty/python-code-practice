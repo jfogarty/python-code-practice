{
 "cells": [
  {
   "cell_type": "markdown",
   "metadata": {},
   "source": [
    "### Trim a Binary Search Tree\n",
    "\n",
    "Given a binary search tree and the lowest and highest boundaries as L and R, trim the tree so that all its elements lies in [L, R] (R >= L). You might need to change the root of the tree, so the result should return the new root of the trimmed binary search tree.\n",
    "\n",
    "See [The LeetCode example problem](https://leetcode.com/problems/trim-a-binary-search-tree/description/)"
   ]
  },
  {
   "cell_type": "code",
   "execution_count": null,
   "metadata": {
    "collapsed": true
   },
   "outputs": [],
   "source": [
    "debugging = False\n",
    "debugging = True\n",
    "\n",
    "def dprint(f, *args):\n",
    "    if debugging:\n",
    "        print(('  DBG:' + f).format(*args))"
   ]
  },
  {
   "cell_type": "code",
   "execution_count": null,
   "metadata": {
    "collapsed": true
   },
   "outputs": [],
   "source": [
    "# Definition for a binary tree node.\n",
    "# class TreeNode(object):\n",
    "\n",
    "class TreeNode():\n",
    "    \"\"\" A tree node \"\"\"\n",
    "    def __init__(self, value):\n",
    "        self.value = value\n",
    "        self.left  = None\n",
    "        self.right = None\n",
    "        \n",
    "    def link(self, left, right):\n",
    "        self.left  = left\n",
    "        self.right = right\n",
    "        \n",
    "    def minv(self):\n",
    "        if self.left:  return self.left.minv()\n",
    "        if self.value: return self.value\n",
    "        return self.right.minv()\n",
    "        \n",
    "    def maxv(self):\n",
    "        if self.right: return self.right.maxv()\n",
    "        if self.value: return self.value\n",
    "        return self.left.maxv()\n",
    "    \n",
    "    def depth(self, current=0):\n",
    "        ldepth = current if self.left  is None else self.left.depth(current+1)\n",
    "        rdepth = current if self.right is None else self.right.depth(current+1)\n",
    "        d = max(ldepth, rdepth)\n",
    "        dprint(\"--- [{0}] c={1} d={2}\", self.value, current, d)\n",
    "        return d\n",
    "\n",
    "    def ldepth(self):\n",
    "        return 0 if self.left is None else self.left.depth(1)\n",
    "\n",
    "    def rdepth(self):\n",
    "        return 0 if self.right is None else self.right.depth(1)\n",
    "    \n",
    "    def insert(self, v):\n",
    "        rootv = self.value\n",
    "        if rootv is None:\n",
    "            self.value = v\n",
    "        elif v < rootv:\n",
    "            if self.left is None:\n",
    "                self.left = TreeNode(v)\n",
    "            else:\n",
    "                self.left.insert(v)\n",
    "        else:\n",
    "            if self.right is None:\n",
    "                self.right = TreeNode(v)\n",
    "            else:\n",
    "                self.right.insert(v)\n",
    "            \n",
    "    def __str__(self):\n",
    "        if not self:\n",
    "            return \"()\"\n",
    "        else:\n",
    "            leftstr = '.' if self.left is None else \"{0}, \".format(str(self.left))\n",
    "            rightstr = '.' if self.right is  None else \", {0}\".format(str(self.right))\n",
    "            return \"({0}[{1}]{2}])\".format(leftstr, str(self.value), rightstr)\n",
    "        \n",
    "    def liststr(self):\n",
    "        if not self:\n",
    "            return \"(*)\"\n",
    "        else:\n",
    "            leftstr = '' if self.left is None else \"{0}\".format(self.left.liststr())\n",
    "            rightstr = '' if self.right is None else \"{0}\".format(self.right.liststr())\n",
    "            return \"{0}{1}, {2}\".format(leftstr, str(self.value), rightstr)\n",
    "        \n",
    "    def tolist(self):\n",
    "        llist = [] if self.left  == None else self.left.tolist();\n",
    "        rlist = [] if self.right == None else self.right.tolist();\n",
    "        return llist + [self.value] + rlist\n",
    "    \n",
    "    def inorder(self):\n",
    "        \"\"\" A recursive generator that generates Tree leaves in in-order \"\"\"\n",
    "        if self:\n",
    "            if self.left:\n",
    "                for x in self.left.inorder():\n",
    "                    yield x\n",
    "            yield self.value\n",
    "            if self.right:\n",
    "                for x in self.right.inorder():\n",
    "                    yield x    \n",
    "        \n",
    "    __repr__ = __str__"
   ]
  },
  {
   "cell_type": "code",
   "execution_count": null,
   "metadata": {
    "collapsed": true
   },
   "outputs": [],
   "source": [
    "y = TreeNode(None)\n",
    "y.insert(3)\n",
    "y.insert(12)\n",
    "y.insert(5)\n",
    "y.insert(1)\n",
    "y.insert(9)\n",
    "print(y)\n",
    "y.depth()"
   ]
  },
  {
   "cell_type": "code",
   "execution_count": null,
   "metadata": {
    "collapsed": true
   },
   "outputs": [],
   "source": [
    "print([x for x in y.inorder()])"
   ]
  },
  {
   "cell_type": "code",
   "execution_count": null,
   "metadata": {
    "collapsed": true
   },
   "outputs": [],
   "source": [
    "[3, 4, 5] + [55,] + [6,]"
   ]
  },
  {
   "cell_type": "code",
   "execution_count": null,
   "metadata": {
    "collapsed": true
   },
   "outputs": [],
   "source": [
    "import turtle"
   ]
  },
  {
   "cell_type": "markdown",
   "metadata": {},
   "source": [
    "#### A Tree Viewer\n",
    "\n",
    "[See Stefan Pochmann's code](https://discuss.leetcode.com/topic/16600/tree-deserializer-and-visualizer-for-python)"
   ]
  },
  {
   "cell_type": "code",
   "execution_count": null,
   "metadata": {
    "collapsed": true
   },
   "outputs": [],
   "source": [
    "# External turtle window\n",
    "import turtle\n",
    "\n",
    "# -- Limited function turtle that draws directly in Jupyter\n",
    "# from mobilechelonian import Turtle"
   ]
  },
  {
   "cell_type": "code",
   "execution_count": null,
   "metadata": {
    "collapsed": true
   },
   "outputs": [],
   "source": [
    "class TreeNode:\n",
    "    def __init__(self, val, left=None, right=None):\n",
    "        self.val = val\n",
    "        self.left = left\n",
    "        self.right = right\n",
    "    def __repr__(self):\n",
    "        return 'TreeNode({})'.format(self.val)\n",
    "    \n",
    "def deserialize(string):\n",
    "    if string == '{}':\n",
    "        return None\n",
    "    nodes = [None if val == 'null' else TreeNode(int(val))\n",
    "             for val in string.strip('[]{}').split(',')]\n",
    "    kids = nodes[::-1]\n",
    "    root = kids.pop()\n",
    "    for node in nodes:\n",
    "        if node:\n",
    "            if kids: node.left  = kids.pop()\n",
    "            if kids: node.right = kids.pop()\n",
    "    return root\n",
    "\n",
    "def drawtree(root):\n",
    "    def height(root):\n",
    "        return 1 + max(height(root.left), height(root.right)) if root else -1\n",
    "    def jumpto(x, y):\n",
    "        t.penup()\n",
    "        t.goto(x, y)\n",
    "        t.pendown()\n",
    "    def draw(node, x, y, dx):\n",
    "        if node:\n",
    "            t.goto(x, y)\n",
    "            jumpto(x, y-20)\n",
    "            t.write(node.val, align='center', font=('Arial', 12, 'normal'))\n",
    "            draw(node.left, x-dx, y-60, dx/2)\n",
    "            jumpto(x, y-20)\n",
    "            draw(node.right, x+dx, y-60, dx/2)\n",
    "\n",
    "    t = turtle.Turtle()\n",
    "    #t = Turtle()\n",
    "    turtle_window = turtle.Screen() # JF\n",
    "    print(\"Click on Turtle Screen to Continue.\")\n",
    "    \n",
    "    t.speed(0) \n",
    "    turtle.delay(0)\n",
    "    h = height(root)\n",
    "    jumpto(0, 30*h)\n",
    "    draw(root, 0, 30*h, 40*h)\n",
    "    t.hideturtle()\n",
    "\n",
    "    turtle_window.exitonclick() # JF\n",
    "    try:\n",
    "        turtle.mainloop()\n",
    "    except turtle.Terminator as ex:\n",
    "        print(\"Done.\".format(ex))\n"
   ]
  },
  {
   "cell_type": "code",
   "execution_count": null,
   "metadata": {},
   "outputs": [],
   "source": [
    "drawtree(deserialize('[1,2,3,null,null,4,null,null,5]'))"
   ]
  },
  {
   "cell_type": "code",
   "execution_count": null,
   "metadata": {},
   "outputs": [],
   "source": [
    "drawtree(deserialize('[2,1,3,0,7,9,1,2,null,1,0,null,null,8,8,null,null,null,null,7]'))"
   ]
  },
  {
   "cell_type": "markdown",
   "metadata": {
    "collapsed": true
   },
   "source": [
    "ETE code is fully functional under IPython Notebook environments, providing inline image visualization.\n",
    "\n",
    "Inline plots can be generated by calling the tree.render() function with the \"%%inline\" word as its first argument. This will produce a SVG image of your tree that is directly shown by the browser.\n",
    "\n",
    "tree.render(\"%%inline\")  \n",
    "In addition, ETE's Graphical User Interface (GUI) can be launched at any moment for a complete interactive interaction with your tree objects. Just call the tree.show() method available in every node. Browse, explore or even modify your tree. When the GUI is closed, changes will be reflected in your Ipython notebook code.\n",
    "\n",
    "Layout functions, node faces, styles and all drawing features from ETE treeview module will also be accessible. Phylogenetic trees can even been displayed together with their alignments:"
   ]
  },
  {
   "cell_type": "code",
   "execution_count": 1,
   "metadata": {},
   "outputs": [],
   "source": [
    "from ete3 import Tree\n"
   ]
  },
  {
   "cell_type": "code",
   "execution_count": 9,
   "metadata": {},
   "outputs": [
    {
     "name": "stdout",
     "output_type": "stream",
     "text": [
      "\n",
      "                            /-A, 1.0\n",
      "             /Internal_1, 0.7\n",
      "            |               \\-B, 1.0\n",
      "-root, 1.3, 11\n",
      "            |               /-C, 1.0\n",
      "             \\Internal_2, 0.5\n",
      "                            \\-D, 1.0\n"
     ]
    }
   ],
   "source": [
    "t = Tree(\"((A, B)Internal_1:0.7, (C, D)Internal_2:0.5)root:1.3;\", format=1)\n",
    "t.add_features(size=11)\n",
    "print(t.get_ascii(attributes=[\"name\", \"dist\", \"size\"]))"
   ]
  },
  {
   "cell_type": "code",
   "execution_count": 10,
   "metadata": {},
   "outputs": [
    {
     "data": {
      "image/png": "[encoded data removed]",
      "text/plain": [
       "<IPython.core.display.Image object>"
      ]
     },
     "execution_count": 10,
     "metadata": {},
     "output_type": "execute_result"
    }
   ],
   "source": [
    "t.render(\"%%inline\")"
   ]
  },
  {
   "cell_type": "code",
   "execution_count": 12,
   "metadata": {},
   "outputs": [
    {
     "data": {
      "text/plain": [
       "{'faces': [[306.47058823529414, 31.0, 315.47058823529414, 46.0, 5, 'C'],\n",
       "  [306.47058823529414, 46.0, 315.47058823529414, 61.0, 6, 'D'],\n",
       "  [327.64705882352945, 1.0, 336.64705882352945, 16.0, 2, 'A'],\n",
       "  [327.64705882352945, 16.0, 336.64705882352945, 31.0, 3, 'B']],\n",
       " 'node_areas': {0: [1.0, 1.0, 336.6470588235294, 61.0],\n",
       "  1: [141.64705882352942, 1.0, 336.6470588235294, 31.0],\n",
       "  2: [218.76470588235296, 1.0, 336.64705882352945, 16.0],\n",
       "  3: [218.76470588235296, 16.0, 336.64705882352945, 31.0],\n",
       "  4: [141.64705882352942, 31.0, 315.47058823529414, 61.0],\n",
       "  5: [197.58823529411765, 31.0, 315.47058823529414, 46.0],\n",
       "  6: [197.58823529411765, 46.0, 315.47058823529414, 61.0]},\n",
       " 'nodes': [[303.47058823529414, 37.0, 306.47058823529414, 40.0, 5, None],\n",
       "  [215.76470588235296, 14.5, 218.76470588235296, 17.5, 1, None],\n",
       "  [303.47058823529414, 52.0, 306.47058823529414, 55.0, 6, None],\n",
       "  [194.58823529411765, 44.5, 197.58823529411765, 47.5, 4, None],\n",
       "  [324.64705882352945, 7.0, 327.64705882352945, 10.0, 2, None],\n",
       "  [324.64705882352945, 22.0, 327.64705882352945, 25.0, 3, None],\n",
       "  [138.64705882352942, 29.5, 141.64705882352942, 32.5, 0, None]]}"
      ]
     },
     "execution_count": 12,
     "metadata": {},
     "output_type": "execute_result"
    }
   ],
   "source": [
    "t.render('')"
   ]
  },
  {
   "cell_type": "code",
   "execution_count": null,
   "metadata": {
    "collapsed": true
   },
   "outputs": [],
   "source": []
  }
 ],
 "metadata": {
  "kernelspec": {
   "display_name": "Python [conda env:tensorflow]",
   "language": "python",
   "name": "conda-env-tensorflow-py"
  },
  "language_info": {
   "codemirror_mode": {
    "name": "ipython",
    "version": 2
   },
   "file_extension": ".py",
   "mimetype": "text/x-python",
   "name": "python",
   "nbconvert_exporter": "python",
   "pygments_lexer": "ipython2",
   "version": "2.7.12"
  }
 },
 "nbformat": 4,
 "nbformat_minor": 2
}
