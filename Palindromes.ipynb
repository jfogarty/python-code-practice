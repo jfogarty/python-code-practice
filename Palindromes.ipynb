{
 "cells": [
  {
   "cell_type": "markdown",
   "metadata": {},
   "source": [
    "### Palindromes\n",
    "\n",
    "Some fun with palindromes.\n",
    "\n",
    "\n",
    "See [The LeetCode example problem](https://leetcode.com/problems/palindrome-number/description/)"
   ]
  },
  {
   "cell_type": "code",
   "execution_count": 1,
   "metadata": {
    "collapsed": true
   },
   "outputs": [],
   "source": [
    "\n",
    "debugging = False\n",
    "debugging = True\n",
    "\n",
    "logging = True\n",
    "\n",
    "def dprint(f, *args):\n",
    "    if debugging:\n",
    "        print(('  DBG:' + f).format(*args))\n",
    "\n",
    "def log(f, *args):\n",
    "    if logging:\n",
    "        print((f).format(*args))\n",
    "        \n",
    "def logError(f, *args):\n",
    "    if logging:\n",
    "        print(('*** ERROR:' + f).format(*args))\n",
    "        \n",
    "def className(instance):\n",
    "    return type(instance).__name__"
   ]
  },
  {
   "cell_type": "code",
   "execution_count": 89,
   "metadata": {
    "collapsed": true
   },
   "outputs": [],
   "source": [
    "class Solution1(object):\n",
    "    \"\"\" Front to back, digit by digit compare using magnitudes to get leftmost digits \"\"\"\n",
    "    def isPalindrome(self, x):\n",
    "        \"\"\"\n",
    "        :type x: int\n",
    "        :rtype: bool\n",
    "        \"\"\"\n",
    "        if x < 0:\n",
    "            return False # negative numbers are not palindromes\n",
    "        if x < 10:\n",
    "            return True # A single digit is a palindrome\n",
    "        n = x\n",
    "        digits = 1\n",
    "        mag = 1\n",
    "        # Count the number of digits in x.\n",
    "        while n > 9:\n",
    "            digits += 1\n",
    "            mag *= 10\n",
    "            n = n // 10\n",
    "        while digits > 0:\n",
    "            firstdigit = x // mag\n",
    "            lastdigit  = x % 10\n",
    "            if firstdigit != lastdigit:\n",
    "                return False\n",
    "            x = x - firstdigit * mag\n",
    "            x = x // 10\n",
    "            mag //= 100\n",
    "            digits -= 2\n",
    "        return True"
   ]
  },
  {
   "cell_type": "code",
   "execution_count": 90,
   "metadata": {
    "collapsed": true
   },
   "outputs": [],
   "source": [
    "class Solution2(object):\n",
    "    \"\"\" Recursive string converted test for Palindrome \"\"\"\n",
    "    def isPalindrome(self, x):\n",
    "        \"\"\"\n",
    "        :type x: int\n",
    "        :rtype: bool\n",
    "        \"\"\"\n",
    "        if isinstance(x, int):\n",
    "            return self.isPalindrome(str(x))\n",
    "        return len(x) < 2 or (x[0] == x[-1] and len(x) == 2) or ((x[0] == x[-1]) and self.isPalindrome(x[1:-1]))\n"
   ]
  },
  {
   "cell_type": "code",
   "execution_count": 94,
   "metadata": {
    "collapsed": true
   },
   "outputs": [],
   "source": [
    "class Solution3(object):\n",
    "    \"\"\" fastest numeric modulo reverse of only first half of number \"\"\"\n",
    "    def isPalindrome(self, x):\n",
    "        \"\"\"\n",
    "        :type x: int\n",
    "        :rtype: bool\n",
    "        \"\"\"\n",
    "        if x < 0 or ( x % 10 == 0 and x != 0):\n",
    "            return False\n",
    "        if x < 10:\n",
    "            return True\n",
    "        revx = 0\n",
    "        n = x\n",
    "        while (n > revx):\n",
    "            digit = n % 10\n",
    "            revx *= 10\n",
    "            revx += digit\n",
    "            n //= 10\n",
    "        return n == revx or n == revx//10"
   ]
  },
  {
   "cell_type": "code",
   "execution_count": 97,
   "metadata": {
    "collapsed": true
   },
   "outputs": [],
   "source": [
    "tdata = [0, 1, 22, 10001, 123454321, 12344321]\n",
    "fdata = [-1, 41, 123421]\n",
    "testClasses = [Solution1, Solution2, Solution3]\n",
    "testcycles = 10000 # Do enough to make the elapsed times meaningful."
   ]
  },
  {
   "cell_type": "code",
   "execution_count": 98,
   "metadata": {},
   "outputs": [
    {
     "name": "stdout",
     "output_type": "stream",
     "text": [
      "- Class Solution1 works great! (ELAPSED time=0:00:00.282121 )\n",
      "- Class Solution2 works great! (ELAPSED time=0:00:00.396837 )\n",
      "- Class Solution3 works great! (ELAPSED time=0:00:00.191943 )\n"
     ]
    }
   ],
   "source": [
    "import time\n",
    "from datetime import timedelta\n",
    "\n",
    "for tclass in testClasses:\n",
    "    instance = tclass()\n",
    "    \n",
    "    start_time = time.time()\n",
    "    for v in range(testcycles):\n",
    "        true_tests = [instance.isPalindrome(x) for x in tdata]\n",
    "        false_tests = [not instance.isPalindrome(x) for x in fdata]\n",
    "    elapsed_time = time.time() - start_time\n",
    "\n",
    "    success = all(true_tests) and all(false_tests)\n",
    "    if success:\n",
    "        log(\"- Class {0} works great! (ELAPSED time={1} )\", className(instance), timedelta(seconds=elapsed_time))\n",
    "    else:\n",
    "        logError(\"Test Failure in {0}\", className(instance))\n",
    "        log(\"- Passing True cases: {0}\", true_tests)\n",
    "        for passed, val in zip(true_tests, tdata):\n",
    "            if not passed:\n",
    "                log(\"--- {0} is a palindrome, but was NOT recognized as one.\", val)\n",
    "        log(\"- Passing False cases: {0}\", false_tests)   \n",
    "        for failed, val in zip(false_tests, fdata):\n",
    "            if not failed:\n",
    "                log(\"--- {0} is a NOT palindrome, but was recognized as one.\", val)            "
   ]
  },
  {
   "cell_type": "code",
   "execution_count": 92,
   "metadata": {
    "collapsed": true
   },
   "outputs": [],
   "source": [
    "def isPalindrome(s, i, n):\n",
    "    \"\"\" true if s[i:i+n] is a Palindrome \"\"\"\n",
    "    if n<=1:\n",
    "        return True\n",
    "    #log(\"   left={0} right={1}\", s[i], s[i+n-1])\n",
    "    even = n % 2 == 0\n",
    "    m = n // 2\n",
    "    left = s[i:i+m]\n",
    "    right = s[i+m:i+n] if even else s[i+m+1:i+n]\n",
    "    #log(\"isPalindrome(s[]={0}, left={1} right={2} i={3}, m={4} n={5}\", s[i:i+n], left, right, i, m, n)\n",
    "    return left == right[::-1]\n",
    "    \n",
    "def longestPalindrome(s):\n",
    "    \"\"\"\n",
    "    :type s: str\n",
    "    :rtype: str\n",
    "    \"\"\"\n",
    "    n = len(s)\n",
    "    while n > 1:\n",
    "        #for i in range(len(s)-n, -1, -1):\n",
    "        for i in range(0, len(s)-n+1):\n",
    "            if isPalindrome(s, i, n):\n",
    "                return s[i:i+n]\n",
    "        n -= 1\n",
    "    return s[0]"
   ]
  },
  {
   "cell_type": "code",
   "execution_count": 75,
   "metadata": {},
   "outputs": [
    {
     "data": {
      "text/plain": [
       "True"
      ]
     },
     "execution_count": 75,
     "metadata": {},
     "output_type": "execute_result"
    }
   ],
   "source": [
    "isPalindrome(\"abbaxyabbazz\", 2, 4)\n",
    "#\"abcd\"[::-1]"
   ]
  },
  {
   "cell_type": "code",
   "execution_count": 76,
   "metadata": {},
   "outputs": [
    {
     "data": {
      "text/plain": [
       "'baab'"
      ]
     },
     "execution_count": 76,
     "metadata": {},
     "output_type": "execute_result"
    }
   ],
   "source": [
    "longestPalindrome(\"thius baabad is a test\")"
   ]
  },
  {
   "cell_type": "code",
   "execution_count": 79,
   "metadata": {},
   "outputs": [
    {
     "data": {
      "text/plain": [
       "'khvhk'"
      ]
     },
     "execution_count": 79,
     "metadata": {},
     "output_type": "execute_result"
    }
   ],
   "source": [
    "zz=\"mwwfjysbkebpdjyabcfkgprtxpwvhglddhmvaprcvrnuxifcrjpdgnktvmggmguiiquibmtviwjsqwtchkqgxqwljouunurcdtoeygdqmijdympcamawnlzsxucbpqtuwkjfqnzvvvigifyvymfhtppqamlgjozvebygkxawcbwtouaankxsjrteeijpuzbsfsjwxejtfrancoekxgfyangvzjkdskhssdjvkvdskjtiybqgsmpxmghvvicmjxqtxdowkjhmlnfcpbtwvtmjhnzntxyfxyinmqzivxkwigkondghzmbioelmepgfttczskvqfejfiibxjcuyevvpawybcvvxtxycrfbcnpvkzryrqujqaqhoagdmofgdcbhvlwgwmsmhomknbanvntspvvhvccedzzngdywuccxrnzbtchisdwsrfdqpcwknwqvalczznilujdrlevncdsyuhnpmheukottewtkuzhookcsvctsqwwdvfjxifpfsqxpmpwospndozcdbfhselfdltmpujlnhfzjcgnbgprvopxklmlgrlbldzpnkhvhkybpgtzipzotrgzkdrqntnuaqyaplcybqyvidwcfcuxinchretgvfaepmgilbrtxgqoddzyjmmupkjqcypdpfhpkhitfegickfszermqhkwmffdizeoprmnlzbjcwfnqyvmhtdekmfhqwaftlyydirjnojbrieutjhymfpflsfemkqsoewbojwluqdckmzixwxufrdpqnwvwpbavosnvjqxqbosctttxvsbmqpnolfmapywtpfaotzmyjwnd\"\n",
    "longestPalindrome(zz)"
   ]
  },
  {
   "cell_type": "code",
   "execution_count": 48,
   "metadata": {},
   "outputs": [
    {
     "name": "stdout",
     "output_type": "stream",
     "text": [
      "isPalindrome(s[...]=aaaaaaaaaaaaaaaaaaaaaaaaaaaaaaaaaaaaaaaaaaaaaaaaaaaaaaaaaaaaaaaaaaaaaaaaaaaaaaaaaaaaaaaaaaaaaaaaaaaaaaaaaaaaaaaaaaaaaaaaaaaaaaaaaaaaaaaaaaaaaaaaaaaaaaaaaaaaaaaaaaaaaaaaaaaaaaaaaaaaaaaaaaaaaaaaaaaaaaaaaaaaaaaaaaaaaaaaaaaaaaaaaaaaaaaaaaaaaaaaaaaaaaaaaaaaaaaaaaaaaaaaaaaaaaaaaaaaaaaaaaaaaaaaaaaaaaaaaaaaaaaaaaaaaaaaaaaaaaaaaaaaaaaaaaaaaaaaaaaaaaaaaaaaaaaaaaaaaaaaaaaaaaaaaaaaaaaaaaaaaaaaaaaaaaaaaaaaaaaaaaaaaaaaaaaaaaaaaaaaaaaaaaaaaaaaaaaaaaaaaaaaaaaaaaaaaaaaaaaaaaaaaaaaaaaaaaaaaaaaaaaaaaaaaaaaaaaaaaaaaaaaaaaaaaaaaaaaaaaaaaaaaaaaaaaaaaaaaaaaaaaaaaaaaaaaaaaaaaaaaaaaaaaaaaaaaaaaaaaaaaaaaaaaaaaaaaaaaaaaaaaaaaaaaaaaaaaaaaaaaaaaaaaaaaaaaaaaaaaaaaaaaaaaaaaaaaaaaaaaaaaaaaaaaaaaaaaaaaaaaaaaaaaaaaaaaaaaaaaaaaaaaaaaaaaaaaaaaaaaaaaaaaaaaaaaaaaaaaaaaaaaaaaaaaaaaaaaaaaaaaaaaaaaaaaaaaaaaaaaaaaaaaaaaaaaaaaaaaaaaaaaaaaaaaaaaaaaaaaaaaaaaaaaaaaaaaaaaaaaaaaaaaaaaaaaaaaaaaaaaaaaaaaaaaaaaaaaaaaaaaaaaaaaaaaaaaaaaaaaaaaaaaaaaaaaaaaaaaaaaaaaaaaaaaaaaaaaaaaaaaaaaaaaaaaaaaaaaaaaaaaaaaaaaaaaaaaaaaaaaaaaaaaaaaaaaaaaaaaa, i=0, n=1000\n"
     ]
    },
    {
     "data": {
      "text/plain": [
       "'aaaaaaaaaaaaaaaaaaaaaaaaaaaaaaaaaaaaaaaaaaaaaaaaaaaaaaaaaaaaaaaaaaaaaaaaaaaaaaaaaaaaaaaaaaaaaaaaaaaaaaaaaaaaaaaaaaaaaaaaaaaaaaaaaaaaaaaaaaaaaaaaaaaaaaaaaaaaaaaaaaaaaaaaaaaaaaaaaaaaaaaaaaaaaaaaaaaaaaaaaaaaaaaaaaaaaaaaaaaaaaaaaaaaaaaaaaaaaaaaaaaaaaaaaaaaaaaaaaaaaaaaaaaaaaaaaaaaaaaaaaaaaaaaaaaaaaaaaaaaaaaaaaaaaaaaaaaaaaaaaaaaaaaaaaaaaaaaaaaaaaaaaaaaaaaaaaaaaaaaaaaaaaaaaaaaaaaaaaaaaaaaaaaaaaaaaaaaaaaaaaaaaaaaaaaaaaaaaaaaaaaaaaaaaaaaaaaaaaaaaaaaaaaaaaaaaaaaaaaaaaaaaaaaaaaaaaaaaaaaaaaaaaaaaaaaaaaaaaaaaaaaaaaaaaaaaaaaaaaaaaaaaaaaaaaaaaaaaaaaaaaaaaaaaaaaaaaaaaaaaaaaaaaaaaaaaaaaaaaaaaaaaaaaaaaaaaaaaaaaaaaaaaaaaaaaaaaaaaaaaaaaaaaaaaaaaaaaaaaaaaaaaaaaaaaaaaaaaaaaaaaaaaaaaaaaaaaaaaaaaaaaaaaaaaaaaaaaaaaaaaaaaaaaaaaaaaaaaaaaaaaaaaaaaaaaaaaaaaaaaaaaaaaaaaaaaaaaaaaaaaaaaaaaaaaaaaaaaaaaaaaaaaaaaaaaaaaaaaaaaaaaaaaaaaaaaaaaaaaaaaaaaaaaaaaaaaaaaaaaaaaaaaaaaaaaaaaaaaaaaaaaaaaaaaaaaaaaaaaaaaaaaaaaaaaaaaaaaaaaaaaaaaaaaaaaaaaaaaaaaaaaaaaaaaaaaaaaaaaaaaaaaaaaaaaaaaaaaaaaaaaaaaaaaaaaaaaaaaaaaaaaaaaaaaaaaaaaaaaa'"
      ]
     },
     "execution_count": 48,
     "metadata": {},
     "output_type": "execute_result"
    }
   ],
   "source": [
    "\n",
    "longestPalindrome(\"a\"*1000)"
   ]
  },
  {
   "cell_type": "markdown",
   "metadata": {},
   "source": [
    "### Python O(n^2) method with some optimization, 88ms.\n",
    "\n",
    "Basic thought is simple. when you increase s by 1 character, you could only increase maxPalindromeLen by 1 or 2, and that new maxPalindrome includes this new character. Proof: if on adding 1 character, maxPalindromeLen increased by 3 or more, say the new maxPalindromeLen is Q, and the old maxPalindromeLen is P, and Q>=P+3. Then it would mean, even without this new character, there would be a palindromic substring ending in the last character, whose length is at least Q-2. Since Q-2 would be >P, this contradicts the condition that P is the maxPalindromeLen without the additional character.\n",
    "\n",
    "So, it becomes simple, you only need to scan from beginning to the end, adding one character at a time, keeping track of maxPalindromeLen, and for each added character, you check if the substrings ending with this new character, with length P+1 or P+2, are palindromes, and update accordingly.\n",
    "\n",
    "Now, this is O(n^2) as taking substrings and checking palindromicity seem O(n) time. We can speed up it by realizing that strings are immutable, and there are memory slicing tricks will help to speed these operations up. comparing string equality with \"==\" is O(1), and using slicing to substring and reverse is ̶a̶l̶s̶o̶ ̶O̶(̶1̶)̶ ̶(̶n̶o̶t̶ ̶t̶o̶t̶a̶l̶l̶y̶ ̶s̶u̶r̶e̶ ̶a̶b̶o̶u̶t̶ ̶t̶h̶e̶ ̶s̶l̶i̶c̶i̶n̶g̶ ̶t̶h̶o̶u̶g̶h̶.̶ ̶ ̶I̶ ̶t̶h̶i̶n̶k̶ ̶i̶t̶ ̶i̶s̶ ̶O̶(̶1̶)̶,̶ ̶b̶u̶t̶ ̶c̶o̶u̶l̶d̶ ̶n̶o̶t̶ ̶f̶i̶n̶d̶ ̶a̶n̶y̶ ̶s̶o̶l̶i̶d̶ ̶l̶i̶t̶e̶r̶a̶t̶u̶r̶e̶ ̶a̶b̶o̶u̶t̶ ̶i̶t̶.̶ O(n) (thanks to ChuntaoLu). But as slicing is optimized by the interpreter's C code, it should run pretty fast. I'm pretty new to Python. Would appreciate you would give more insights or further optimization.\n",
    "\n",
    "Thus, here is the O(n) method:"
   ]
  },
  {
   "cell_type": "code",
   "execution_count": 17,
   "metadata": {
    "collapsed": true
   },
   "outputs": [],
   "source": [
    "def longestPalindrome(s):\n",
    "    if len(s)==0:\n",
    "        return 0\n",
    "    maxLen=1\n",
    "    start=0\n",
    "    for i in range(len(s)):\n",
    "        if i-maxLen >=1 and s[i-maxLen-1:i+1]==s[i-maxLen-1:i+1][::-1]:\n",
    "            start=i-maxLen-1\n",
    "            maxLen+=2\n",
    "            continue\n",
    "\n",
    "        if i-maxLen >=0 and s[i-maxLen:i+1]==s[i-maxLen:i+1][::-1]:\n",
    "            start=i-maxLen\n",
    "            maxLen+=1\n",
    "    return s[start:start+maxLen]"
   ]
  },
  {
   "cell_type": "code",
   "execution_count": 7,
   "metadata": {},
   "outputs": [
    {
     "data": {
      "text/plain": [
       "500"
      ]
     },
     "execution_count": 7,
     "metadata": {},
     "output_type": "execute_result"
    }
   ],
   "source": [
    "zz=\"aaaaaaaaaaaaaaaaaaaaaaaaaaaaaaaaaaaaaaaaaaaaaaaaaaaaaaaaaaaaaaaaaaaaaaaaaaaaaaaaaaaaaaaaaaaaaaaaaaaaaaaaaaaaaaaaaaaaaaaaaaaaaaaaaaaaaaaaaaaaaaaaaaaaaaaaaaaaaaaaaaaaaaaaaaaaaaaaaaaaaaaaaaaaaaaaaaaaaaaaaaaaaaaaaaaaaaaaaaaaaaaaaaaaaaaaaaaaaaaaaaaaaaaaaaaaaaaaaaaaaaaaaaaaaaaaaaaaaaaaaaaaaaaaaaaaaaaaaaaaaaaaaaaaaaaaaaaaaaaaaaaaaaaaaaaaaaaaaaaaaaaaaaaaaaaaaaaaaaaaaaaaaaaaaaaaaaaaaaaaaaaaaaaaaaaaaaaaaaaaaaaaaaaaaaaaaaaaaaaaaaaaaaaaaaaaaaaaaaaaaaaaaaaaaaaaaaaaaaaaaaaaaaaaaaaaaaaaaaaaaaaaaaaaaaaaaaaaaaaabcaaaaaaaaaaaaaaaaaaaaaaaaaaaaaaaaaaaaaaaaaaaaaaaaaaaaaaaaaaaaaaaaaaaaaaaaaaaaaaaaaaaaaaaaaaaaaaaaaaaaaaaaaaaaaaaaaaaaaaaaaaaaaaaaaaaaaaaaaaaaaaaaaaaaaaaaaaaaaaaaaaaaaaaaaaaaaaaaaaaaaaaaaaaaaaaaaaaaaaaaaaaaaaaaaaaaaaaaaaaaaaaaaaaaaaaaaaaaaaaaaaaaaaaaaaaaaaaaaaaaaaaaaaaaaaaaaaaaaaaaaaaaaaaaaaaaaaaaaaaaaaaaaaaaaaaaaaaaaaaaaaaaaaaaaaaaaaaaaaaaaaaaaaaaaaaaaaaaaaaaaaaaaaaaaaaaaaaaaaaaaaaaaaaaaaaaaaaaaaaaaaaaaaaaaaaaaaaaaaaaaaaaaaaaaaaaaaaaaaaaaaaaaaaaaaaaaaaaaaaaaaaaaaaaaaaaaaaaaaaaaaaaaaaaaaaaaaaaaa\"\n",
    "len(zz)\n",
    "len(longestPalindrome(zz))"
   ]
  },
  {
   "cell_type": "code",
   "execution_count": 4,
   "metadata": {},
   "outputs": [
    {
     "name": "stdout",
     "output_type": "stream",
     "text": [
      "isPalindrome(s[]=zza, left=z right=a i=0, m=1 n=3\n",
      "isPalindrome(s[]=zz, left=z right=z i=0, m=1 n=2\n",
      "\"zz\" is a palindrome\n",
      "isPalindrome(s[]=zzab, left=zz right=ab i=0, m=2 n=4\n",
      "isPalindrome(s[]=zza, left=z right=a i=0, m=1 n=3\n",
      "isPalindrome(s[]=zabb, left=za right=bb i=1, m=2 n=4\n",
      "isPalindrome(s[]=zab, left=z right=b i=1, m=1 n=3\n",
      "isPalindrome(s[]=abba, left=ab right=ba i=2, m=2 n=4\n",
      "\"abba\" is a palindrome\n",
      "isPalindrome(s[]=zabbax, left=zab right=bax i=1, m=3 n=6\n",
      "isPalindrome(s[]=zabba, left=za right=ba i=1, m=2 n=5\n",
      "isPalindrome(s[]=abbaxy, left=abb right=axy i=2, m=3 n=6\n",
      "isPalindrome(s[]=abbax, left=ab right=ax i=2, m=2 n=5\n",
      "isPalindrome(s[]=bbaxyx, left=bba right=xyx i=3, m=3 n=6\n",
      "isPalindrome(s[]=bbaxy, left=bb right=xy i=3, m=2 n=5\n",
      "isPalindrome(s[]=baxyxb, left=bax right=yxb i=4, m=3 n=6\n",
      "isPalindrome(s[]=baxyx, left=ba right=yx i=4, m=2 n=5\n",
      "isPalindrome(s[]=axyxbb, left=axy right=xbb i=5, m=3 n=6\n",
      "isPalindrome(s[]=axyxb, left=ax right=xb i=5, m=2 n=5\n",
      "isPalindrome(s[]=xyxbbx, left=xyx right=bbx i=6, m=3 n=6\n",
      "isPalindrome(s[]=xyxbb, left=xy right=bb i=6, m=2 n=5\n",
      "isPalindrome(s[]=yxbbxz, left=yxb right=bxz i=7, m=3 n=6\n",
      "isPalindrome(s[]=yxbbx, left=yx right=bx i=7, m=2 n=5\n",
      "isPalindrome(s[]=xbbxz, left=xb right=xz i=8, m=2 n=5\n"
     ]
    },
    {
     "data": {
      "text/plain": [
       "'abba'"
      ]
     },
     "execution_count": 4,
     "metadata": {},
     "output_type": "execute_result"
    }
   ],
   "source": [
    "longestPalindrome(\"zzabbaxyxbbxz\")"
   ]
  },
  {
   "cell_type": "code",
   "execution_count": 19,
   "metadata": {
    "collapsed": true
   },
   "outputs": [],
   "source": [
    "def isPalindrome(s, i, n):\n",
    "    \"\"\" true if s[i:i+n] is a Palindrome \"\"\"\n",
    "    if n<=1:\n",
    "        return True\n",
    "    if i<0 or i+n > len(s):\n",
    "        return False\n",
    "    #log(\"   left={0} right={1}\", s[i], s[i+n-1])\n",
    "    even = n % 2 == 0\n",
    "    m = n // 2\n",
    "    left = s[i:i+m]\n",
    "    right = s[i+m:i+n] if even else s[i+m+1:i+n]\n",
    "    log(\"isPalindrome(s[]={0}, left={1} right={2} i={3}, m={4} n={5}\", s[i:i+n], left, right, i, m, n)\n",
    "    isone = left == right[::-1]\n",
    "    if isone: log('\"{0}\" is a palindrome', s[i:i+n])\n",
    "    return isone\n",
    "    \n",
    "def longestPalindrome(s):\n",
    "    \"\"\"\n",
    "    :type s: str\n",
    "    :rtype: str\n",
    "    \"\"\"\n",
    "    maxlen = 1\n",
    "    p = 0 # location of the longest palindrome (the first character is always valid\n",
    "    for i in range(len(s)):\n",
    "        qp = i - maxlen\n",
    "        # Check for longer palindrome\n",
    "        if isPalindrome(s, qp-1, maxlen+2):\n",
    "            p = qp-1\n",
    "            maxlen += 2\n",
    "            continue\n",
    "        if isPalindrome(s, qp, maxlen+1):\n",
    "            p = qp\n",
    "            maxlen += 1\n",
    "    return s[p:p+maxlen]"
   ]
  },
  {
   "cell_type": "code",
   "execution_count": 20,
   "metadata": {},
   "outputs": [
    {
     "name": "stdout",
     "output_type": "stream",
     "text": [
      "isPalindrome(s[]=aa, left=a right=a i=0, m=1 n=2\n",
      "\"aa\" is a palindrome\n",
      "isPalindrome(s[]=aaa, left=a right=a i=0, m=1 n=3\n",
      "\"aaa\" is a palindrome\n",
      "isPalindrome(s[]=aaaa, left=aa right=aa i=0, m=2 n=4\n",
      "\"aaaa\" is a palindrome\n",
      "isPalindrome(s[]=aaaab, left=aa right=ab i=0, m=2 n=5\n",
      "isPalindrome(s[]=aaaaba, left=aaa right=aba i=0, m=3 n=6\n",
      "isPalindrome(s[]=aaaba, left=aa right=ba i=1, m=2 n=5\n",
      "isPalindrome(s[]=aaabaa, left=aaa right=baa i=1, m=3 n=6\n",
      "isPalindrome(s[]=aabaa, left=aa right=aa i=2, m=2 n=5\n",
      "\"aabaa\" is a palindrome\n",
      "isPalindrome(s[]=aaabaaa, left=aaa right=aaa i=1, m=3 n=7\n",
      "\"aaabaaa\" is a palindrome\n"
     ]
    },
    {
     "data": {
      "text/plain": [
       "'aaabaaa'"
      ]
     },
     "execution_count": 20,
     "metadata": {},
     "output_type": "execute_result"
    }
   ],
   "source": [
    "longestPalindrome(\"aaaabaaa\")"
   ]
  },
  {
   "cell_type": "code",
   "execution_count": null,
   "metadata": {
    "collapsed": true
   },
   "outputs": [],
   "source": []
  }
 ],
 "metadata": {
  "kernelspec": {
   "display_name": "Python [conda env:py35]",
   "language": "python",
   "name": "conda-env-py35-py"
  },
  "language_info": {
   "codemirror_mode": {
    "name": "ipython",
    "version": 3
   },
   "file_extension": ".py",
   "mimetype": "text/x-python",
   "name": "python",
   "nbconvert_exporter": "python",
   "pygments_lexer": "ipython3",
   "version": "3.5.3"
  }
 },
 "nbformat": 4,
 "nbformat_minor": 2
}
