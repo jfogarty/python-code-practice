{
 "cells": [
  {
   "cell_type": "markdown",
   "metadata": {},
   "source": [
    "### Solve a Boggle Game\n",
    "\n",
    "Given an Boggle arrangement (nxn) letters, find all valid m letter words in a dictionary.\n",
    "\n",
    "See [The example problem](http://www.geeksforgeeks.org/boggle-find-possible-words-board-characters/)"
   ]
  },
  {
   "cell_type": "code",
   "execution_count": 1,
   "metadata": {
    "collapsed": true
   },
   "outputs": [],
   "source": [
    "debugging = False\n",
    "#debugging = True\n",
    "\n",
    "logging = True\n",
    "\n",
    "def dbg(f, *args):\n",
    "    if debugging:\n",
    "        print(('  DBG:' + f).format(*args))\n",
    "\n",
    "def log(f, *args):\n",
    "    if logging:\n",
    "        print((f).format(*args))\n",
    "        \n",
    "def logError(f, *args):\n",
    "    if logging:\n",
    "        print(('*** ERROR:' + f).format(*args))\n",
    "        \n",
    "def className(instance):\n",
    "    return type(instance).__name__"
   ]
  },
  {
   "cell_type": "code",
   "execution_count": 2,
   "metadata": {
    "collapsed": true
   },
   "outputs": [],
   "source": [
    "class TrieDict(object):\n",
    "    \n",
    "    def __init__(node):\n",
    "        node.children = {}\n",
    "        node.endWord = False\n",
    "        \n",
    "    def insert(node, word):\n",
    "        for ch in word:\n",
    "            if ch in node.children:\n",
    "                node = node.children[ch]\n",
    "            else:\n",
    "                newn = TrieDict()\n",
    "                node.children[ch] = newn\n",
    "                node = newn\n",
    "        node.endWord = True\n",
    "        \n",
    "    def nextNode(node, ch):\n",
    "        return None if ch not in node.children else node.children[ch]\n",
    "        "
   ]
  },
  {
   "cell_type": "code",
   "execution_count": 3,
   "metadata": {
    "collapsed": true
   },
   "outputs": [],
   "source": [
    "class BoggleCube(object):\n",
    "    \"\"\" A n x n matrix of letters \"\"\"\n",
    "    def __init__(self, letters):\n",
    "        self.letters = letters\n",
    "        self.n = len(letters)\n",
    "        \n",
    "    def ch(self, pos):\n",
    "        n = self.n\n",
    "        row = pos[0]\n",
    "        col = pos[1]\n",
    "        if row < 0 or col < 0 or row >= n or col >= n: \n",
    "            return None\n",
    "        return self.letters[row][col]\n",
    "        \n",
    "    def moves(self, pos):\n",
    "        \"\"\" returns array of (ch, pos) tuples \"\"\"\n",
    "        r = []\n",
    "        rangeVals = [-1, 0, 1]\n",
    "        possibilities = [(pos[0]+row, pos[1]+col) for row in rangeVals for col in rangeVals]\n",
    "        for p in possibilities:\n",
    "            if p != pos: # remove 0,0 center.\n",
    "                ch = self.ch(p)\n",
    "                if ch:\n",
    "                    r.append( (ch, p) )\n",
    "        return r\n",
    "\n",
    "    def rootMoves(self):\n",
    "        \"\"\" returns array of (ch, pos) tuples \"\"\"\n",
    "        r = []\n",
    "        for pos in [(row, col) for row in range(self.n) for col in range(self.n)]:\n",
    "            r.append( (self.ch(pos), pos) )\n",
    "        return r\n"
   ]
  },
  {
   "cell_type": "code",
   "execution_count": 4,
   "metadata": {
    "collapsed": true
   },
   "outputs": [],
   "source": [
    "class Solver(object):\n",
    "    \n",
    "    def __init__(self, dictRoot, cube, minWord=3):\n",
    "        self.results = {}\n",
    "        self.cube = cube\n",
    "        self.root = dictRoot\n",
    "        self.minWord = minWord\n",
    "\n",
    "    def findMoves(self, currentWord, pts, move, trieNode):\n",
    "        ch = move[0]\n",
    "        pos = move[1]\n",
    "        nextNode = trieNode.nextNode(ch)\n",
    "        if nextNode:\n",
    "            currentWord += ch\n",
    "            if nextNode.endWord:\n",
    "                dbg('{0} FOUND {1} at {2}', '--'*len(currentWord), currentWord, move)                 \n",
    "                if len(currentWord) >= self.minWord:\n",
    "                    # Increment the count of times the word was discovered.\n",
    "                    if currentWord not in self.results:\n",
    "                        self.results[currentWord] = 0\n",
    "                    self.results[currentWord] += 1\n",
    "            for mv in self.cube.moves(pos):\n",
    "                dbg('{0} \"{1} {2}', '--'*len(currentWord), currentWord, mv) \n",
    "                if pos not in pts: # Don't allow letter reuse.\n",
    "                    self.findMoves(currentWord, pts + [pos], mv, nextNode)\n",
    "        \n",
    "    def solve(self):\n",
    "        for move in self.cube.rootMoves():\n",
    "            dbg('- ROOT: {0}', move)\n",
    "            self.findMoves('', [], move, self.root)\n",
    "        \n",
    "        return self.results"
   ]
  },
  {
   "cell_type": "code",
   "execution_count": 5,
   "metadata": {
    "collapsed": true
   },
   "outputs": [],
   "source": [
    "dictRoot = TrieDict()\n",
    "for word in ['tit', 'bell', 'cat', 'cattle', 'at', 'a', 'bet', 'bat',\n",
    "             'battle', 'cab', 'jot', 'jab', 'belt', 'let', 'tell', \n",
    "             'boat', 'tab', 'oat', 'toad', 'tot', 'trot', 'eat',\n",
    "             'east', 'eel', 'seal', 'lead', 'lee', 'tat', 'lab',\n",
    "             'lot', 'motor', 'debt', 'jolt', 'bomb', 'rot']:\n",
    "    dictRoot.insert(word)\n",
    "    "
   ]
  },
  {
   "cell_type": "code",
   "execution_count": 6,
   "metadata": {},
   "outputs": [
    {
     "data": {
      "text/plain": [
       "{'bat': 2,\n",
       " 'battle': 2,\n",
       " 'belt': 2,\n",
       " 'bet': 3,\n",
       " 'boat': 2,\n",
       " 'bomb': 2,\n",
       " 'cab': 1,\n",
       " 'cat': 2,\n",
       " 'cattle': 2,\n",
       " 'debt': 2,\n",
       " 'eat': 2,\n",
       " 'jab': 1,\n",
       " 'jolt': 1,\n",
       " 'jot': 2,\n",
       " 'lab': 1,\n",
       " 'let': 3,\n",
       " 'lot': 2,\n",
       " 'motor': 1,\n",
       " 'oat': 2,\n",
       " 'rot': 2,\n",
       " 'tab': 2,\n",
       " 'tat': 4,\n",
       " 'tot': 5}"
      ]
     },
     "execution_count": 6,
     "metadata": {},
     "output_type": "execute_result"
    }
   ],
   "source": [
    "cube = BoggleCube([['c', 'e', 'l', 'd'],\n",
    "                   ['b', 'a', 't', 'e'],\n",
    "                   ['j', 'o', 't', 'b'],\n",
    "                   ['r', 'l', 'm', 'o']])\n",
    "svr = Solver(dictRoot, cube)\n",
    "svr.solve()"
   ]
  },
  {
   "cell_type": "code",
   "execution_count": null,
   "metadata": {
    "collapsed": true
   },
   "outputs": [],
   "source": []
  }
 ],
 "metadata": {
  "kernelspec": {
   "display_name": "Python 3",
   "language": "python",
   "name": "python3"
  },
  "language_info": {
   "codemirror_mode": {
    "name": "ipython",
    "version": 3
   },
   "file_extension": ".py",
   "mimetype": "text/x-python",
   "name": "python",
   "nbconvert_exporter": "python",
   "pygments_lexer": "ipython3",
   "version": "3.6.3"
  }
 },
 "nbformat": 4,
 "nbformat_minor": 2
}
