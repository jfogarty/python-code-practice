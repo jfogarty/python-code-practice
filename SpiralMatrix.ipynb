{
 "cells": [
  {
   "cell_type": "markdown",
   "metadata": {},
   "source": [
    "### List Elements from Square Matrix in Spiral\n",
    "\n",
    "Given a MxM matrix A, list all elements in a spiral clockwise order starting in the center, or upper left\n",
    "element of center.\n",
    "\n",
    "See [The example problem](http://www.crazyforcode.com/print-square-matrix-spiral-form/)"
   ]
  },
  {
   "cell_type": "code",
   "execution_count": 1,
   "metadata": {
    "collapsed": true
   },
   "outputs": [],
   "source": [
    "debugging = False\n",
    "#debugging = True\n",
    "\n",
    "logging = True\n",
    "\n",
    "def dbg(f, *args):\n",
    "    if debugging:\n",
    "        print(('  DBG:' + f).format(*args))\n",
    "\n",
    "def log(f, *args):\n",
    "    if logging:\n",
    "        print((f).format(*args))\n",
    "        \n",
    "def logError(f, *args):\n",
    "    if logging:\n",
    "        print(('*** ERROR:' + f).format(*args))\n",
    "        \n",
    "def className(instance):\n",
    "    return type(instance).__name__"
   ]
  },
  {
   "cell_type": "markdown",
   "metadata": {},
   "source": [
    "### The TestSet Mechanism"
   ]
  },
  {
   "cell_type": "code",
   "execution_count": null,
   "metadata": {
    "collapsed": true
   },
   "outputs": [],
   "source": [
    "# %load TestHarness.py\n",
    "class TestCase(object):\n",
    "    def __init__(self, name, method, inputs, expected, catchExceptions=False):\n",
    "        self.name = name\n",
    "        self.method = method\n",
    "        self.inputs = inputs\n",
    "        self.expected = expected\n",
    "        self.catchExceptions = catchExceptions\n",
    "        \n",
    "    def run(self):\n",
    "        if self.catchExceptions:\n",
    "            try:\n",
    "                return self.method(*self.inputs)\n",
    "            except Exception as x:\n",
    "                return x\n",
    "        else:\n",
    "                return self.method(*self.inputs)\n",
    "\n",
    "import time\n",
    "from datetime import timedelta\n",
    "\n",
    "class TestSet(object):\n",
    "    def __init__(self, cases):\n",
    "        self.cases = cases\n",
    "    \n",
    "    def run_tests(self):\n",
    "        count = 0\n",
    "        errors = 0\n",
    "        total_time = 0\n",
    "        for case in self.cases:\n",
    "            count += 1\n",
    "            start_time = time.time()\n",
    "            result = case.run()\n",
    "            elapsed_time = time.time() - start_time\n",
    "            total_time += elapsed_time\n",
    "            if callable(case.expected):\n",
    "                if not case.expected(result):\n",
    "                    errors += 1\n",
    "                    logError(\"Test {0} failed. Returned {1}\", case.name, result)\n",
    "            elif result != case.expected:\n",
    "                errors += 1\n",
    "                logError('Test {0} failed. Returned \"{1}\", expected \"{2}\"', case.name, result, case.expected)\n",
    "        if errors:\n",
    "            logError(\"Tests passed: {0}; Failures: {1}\", count-errors, errors)\n",
    "        else:\n",
    "            log(\"All {0} tests passed.\", count)\n",
    "        log(\"Elapsed test time: {0}\", timedelta(seconds=total_time))\n",
    "        "
   ]
  },
  {
   "cell_type": "code",
   "execution_count": 3,
   "metadata": {
    "collapsed": true
   },
   "outputs": [],
   "source": []
  },
  {
   "cell_type": "code",
   "execution_count": 15,
   "metadata": {
    "collapsed": true
   },
   "outputs": [],
   "source": []
  },
  {
   "cell_type": "markdown",
   "metadata": {},
   "source": [
    "### The Unit Under Test"
   ]
  },
  {
   "cell_type": "code",
   "execution_count": 4,
   "metadata": {
    "collapsed": true
   },
   "outputs": [],
   "source": [
    "import itertools\n",
    "def row(A, i):\n",
    "    return A[i]\n",
    "\n",
    "def col(A, i):\n",
    "    return [row[i] for row in A]\n",
    "    \n",
    "def oneLoop(A, At, offset):\n",
    "    \"\"\" Return one loop of the matrix \"\"\"\n",
    "    m = len(A)    # Row count. Go ahead and assume the matrix may be rectangular.\n",
    "    if m == 0:\n",
    "        return []\n",
    "    n = len(A[0]) # Column count.\n",
    "    if n == 0:\n",
    "        return []\n",
    "    # Center would get repeated on odd matrices as top and bottom rows.\n",
    "    if m % 2 == 1 and offset == m // 2:\n",
    "        return [A[offset][offset]]\n",
    "    nl = offset\n",
    "    nr = n - offset\n",
    "    mt = offset\n",
    "    mb = m - offset\n",
    "    dbg(\"---------- offset={0}  [nl={1}:nr={2}]  [mt={3}:mb={4}]\", offset, nl, nr, mt, mb)\n",
    "    dbg(\"    reversed(col(A,  offset)  [mt+1 : mb-1]==[{0}:{1}])\", mt+1, mb-1)\n",
    "    dbg(\"             row(A,  offset)  [nl   : nr  ]==[{0}:{1}]\",  nl, nr)\n",
    "    dbg(\"             col(A,n-offset-1)[mt+1 : mb-1]==[{0}:{1}]\",  mt+1, mb-1)\n",
    "    dbg(\"    reversed(row(A,m-offset-1)[nl   : nr  ]==[{0}:{1}])\", nl, nr)\n",
    "    \n",
    "    return itertools.chain(\n",
    "        reversed(col(A,  offset)  [mt+1 : mb-1]),\n",
    "                 row(A,  offset)  [nl   : nr  ],\n",
    "                 col(A,n-offset-1)[mt+1 : mb-1],\n",
    "        reversed(row(A,m-offset-1)[nl   : nr  ]))\n",
    "\n",
    "def oneLoop2(A, At, offset):\n",
    "    \"\"\" Return one loop of the matrix - uses transformed matrix for speed \"\"\"\n",
    "    m = len(A)    # Row count. Go ahead and assume the matrix may be rectangular.\n",
    "    if m == 0:\n",
    "        return []\n",
    "    n = len(A[0]) # Column count.\n",
    "    if n == 0:\n",
    "        return []\n",
    "    # Center would get repeated on odd matrices as top and bottom rows.\n",
    "    if m % 2 == 1 and offset == m // 2:\n",
    "        return [A[offset][offset]]\n",
    "    row = lambda i : A[i]\n",
    "    col = lambda i : At[i]\n",
    "    nl = offset\n",
    "    nr = n - offset\n",
    "    mt = offset\n",
    "    mb = m - offset\n",
    "    \n",
    "    return itertools.chain(\n",
    "        reversed(col(  offset)  [mt+1 : mb-1]),\n",
    "                 row(  offset)  [nl   : nr  ],\n",
    "                 col(n-offset-1)[mt+1 : mb-1],\n",
    "        reversed(row(m-offset-1)[nl   : nr  ]))\n",
    "\n",
    "def spiral_square(A):\n",
    "    offset = len(A) // 2\n",
    "    values = []\n",
    "    At = None if len(A) < 2 else [[A[j][i] for j in range(len(A))] for i in range(len(A[0]))]\n",
    "    while offset >= 0:\n",
    "        values = itertools.chain(values, oneLoop2(A, At, offset))\n",
    "        offset -= 1\n",
    "    return values   "
   ]
  },
  {
   "cell_type": "code",
   "execution_count": 5,
   "metadata": {
    "collapsed": true
   },
   "outputs": [],
   "source": [
    "def oneLoop3(A, At, offset):\n",
    "    \"\"\" Return one loop of the matrix - uses transformed matrix for speed, no iterators \"\"\"\n",
    "    m = len(A)    # Row count. Go ahead and assume the matrix may be rectangular.\n",
    "    if m == 0:\n",
    "        return []\n",
    "    n = len(A[0]) # Column count.\n",
    "    if n == 0:\n",
    "        return []\n",
    "    # Center would get repeated on odd matrices as top and bottom rows.\n",
    "    if m % 2 == 1 and offset == m // 2:\n",
    "        return [A[offset][offset]]\n",
    "    row = lambda i : A[i]\n",
    "    col = lambda i : At[i]\n",
    "    nl = offset\n",
    "    nr = n - offset\n",
    "    mt = offset\n",
    "    mb = m - offset\n",
    "    \n",
    "    leftcol  = col(  offset)  [mt+1 : mb-1]\n",
    "    toprow   = row(  offset)  [nl   : nr  ]\n",
    "    rightcol = col(n-offset-1)[mt+1 : mb-1]\n",
    "    botrow   = row(m-offset-1)[nl   : nr  ]\n",
    "    leftcol.reverse()\n",
    "    botrow.reverse()\n",
    "    return leftcol + toprow + rightcol + botrow\n",
    "\n",
    "def spiral_square2(A):\n",
    "    offset = len(A) // 2\n",
    "    values = []\n",
    "    At = None if len(A) < 2 else [[A[j][i] for j in range(len(A))] for i in range(len(A[0]))]\n",
    "    while offset >= 0:\n",
    "        values += oneLoop3(A, At, offset)\n",
    "        offset -= 1\n",
    "    return values   "
   ]
  },
  {
   "cell_type": "code",
   "execution_count": null,
   "metadata": {
    "collapsed": true
   },
   "outputs": [],
   "source": [
    "def spiral_muncher(A):\n",
    "    \"\"\" Munches through the spiral eating and spitting out values \"\"\"\n",
    "    \n",
    "    def munch(pos)\n",
    "    \n",
    "    offset = len(A) // 2\n",
    "    values = []\n",
    "    At = None if len(A) < 2 else [[A[j][i] for j in range(len(A))] for i in range(len(A[0]))]\n",
    "    while offset >= 0:\n",
    "        values += oneLoop3(A, At, offset)\n",
    "        offset -= 1\n",
    "    return values   "
   ]
  },
  {
   "cell_type": "markdown",
   "metadata": {},
   "source": [
    "### The Test Cases"
   ]
  },
  {
   "cell_type": "code",
   "execution_count": 6,
   "metadata": {
    "collapsed": true
   },
   "outputs": [],
   "source": [
    "#simpletest = lambda A : [spiral_square(A)]\n",
    "def simpletest(A):   \n",
    "    l = [x for x in spiral_square2(A)]\n",
    "    return l\n",
    "\n",
    "A2 = [[1, 2], [3, 4]]\n",
    "A3 = [[1, 2, 3], \n",
    "      [4, 5, 6], \n",
    "      [7, 8, 9]]\n",
    "A4 = [[ 1,  2,  3,  4], \n",
    "      [ 5,  6,  7,  8],\n",
    "      [ 9, 10, 11, 12],\n",
    "      [13, 14, 15, 16]]\n",
    "A4A = ['good men to come'.split(), \n",
    "       'all now is to'.split(), \n",
    "       'for time the the'.split(), \n",
    "       'country their of aid'.split()]\n",
    "A5 = [[1, 2, 3, 4, 100], [5, 6, 7, 8, 200], [9, 10, 11, 12, 300], [13, 14, 15, 16, 400], [17, 18, 19, 20, 500]]\n",
    "\n",
    "c0 = TestCase('0x0', \n",
    "              simpletest,\n",
    "              [ [] ],\n",
    "              [])\n",
    "\n",
    "c1 = TestCase('1x1', \n",
    "              simpletest,\n",
    "              [ [[1]] ],\n",
    "              [1])\n",
    "\n",
    "c2 = TestCase('2x2', \n",
    "              simpletest,\n",
    "              [A2],\n",
    "              [1, 2, 4, 3])\n",
    "\n",
    "\n",
    "c3 = TestCase('3x3', \n",
    "              simpletest,\n",
    "              [A3],\n",
    "              [5, 4, 1, 2, 3, 6, 9, 8, 7])\n",
    "\n",
    "c4 = TestCase('4x4', \n",
    "              simpletest,\n",
    "              [A4],\n",
    "              [6, 7, 11, 10, 9, 5, 1, 2, 3, 4, 8, 12, 16, 15, 14, 13])\n",
    "\n",
    "c4a = TestCase('4x4 words', \n",
    "              simpletest,\n",
    "              [A4A],\n",
    "              'now is the time for all good men to come to the aid of their country'.split())\n",
    "\n",
    "tester = TestSet([c0, c1, c2, c3, c4, c4a])\n"
   ]
  },
  {
   "cell_type": "code",
   "execution_count": 7,
   "metadata": {},
   "outputs": [
    {
     "name": "stdout",
     "output_type": "stream",
     "text": [
      "All 6 tests passed.\n",
      "Elapsed test time: 0:00:00.000580\n"
     ]
    }
   ],
   "source": [
    "tester.run_tests()"
   ]
  },
  {
   "cell_type": "code",
   "execution_count": null,
   "metadata": {
    "collapsed": true
   },
   "outputs": [],
   "source": []
  },
  {
   "cell_type": "markdown",
   "metadata": {},
   "source": [
    "### Some Ad Hoc Tests"
   ]
  },
  {
   "cell_type": "code",
   "execution_count": 8,
   "metadata": {},
   "outputs": [
    {
     "data": {
      "text/plain": [
       "[5, 4, 1, 2, 3, 6, 9, 8, 7]"
      ]
     },
     "execution_count": 8,
     "metadata": {},
     "output_type": "execute_result"
    }
   ],
   "source": [
    "[x for x in spiral_square(A3)]"
   ]
  },
  {
   "cell_type": "code",
   "execution_count": 9,
   "metadata": {},
   "outputs": [
    {
     "data": {
      "text/plain": [
       "(6004799503160661, 18014398509481984)"
      ]
     },
     "execution_count": 9,
     "metadata": {},
     "output_type": "execute_result"
    }
   ],
   "source": [
    "(.33333333333333333333333333333).as_integer_ratio()"
   ]
  },
  {
   "cell_type": "code",
   "execution_count": 10,
   "metadata": {},
   "outputs": [
    {
     "data": {
      "text/plain": [
       "(6004799503160661, 18014398509481984)"
      ]
     },
     "execution_count": 10,
     "metadata": {},
     "output_type": "execute_result"
    }
   ],
   "source": [
    "(1/3).as_integer_ratio()"
   ]
  },
  {
   "cell_type": "code",
   "execution_count": 11,
   "metadata": {},
   "outputs": [
    {
     "data": {
      "text/plain": [
       "Fraction(1, 3)"
      ]
     },
     "execution_count": 11,
     "metadata": {},
     "output_type": "execute_result"
    }
   ],
   "source": [
    "from fractions import Fraction\n",
    "Fraction(0.333333333333333).limit_denominator()"
   ]
  },
  {
   "cell_type": "code",
   "execution_count": 12,
   "metadata": {},
   "outputs": [
    {
     "data": {
      "text/plain": [
       "[3, 2, 1]"
      ]
     },
     "execution_count": 12,
     "metadata": {},
     "output_type": "execute_result"
    }
   ],
   "source": [
    "a = [1, 2, 3]\n",
    "a.reverse()\n",
    "a"
   ]
  },
  {
   "cell_type": "code",
   "execution_count": 13,
   "metadata": {},
   "outputs": [
    {
     "ename": "AttributeError",
     "evalue": "'str' object has no attribute 'reversed'",
     "output_type": "error",
     "traceback": [
      "\u001b[0;31m---------------------------------------------------------------------------\u001b[0m",
      "\u001b[0;31mAttributeError\u001b[0m                            Traceback (most recent call last)",
      "\u001b[0;32m<ipython-input-13-366eca3de48f>\u001b[0m in \u001b[0;36m<module>\u001b[0;34m()\u001b[0m\n\u001b[0;32m----> 1\u001b[0;31m \u001b[0;34m\"ABC\"\u001b[0m\u001b[0;34m.\u001b[0m\u001b[0mreversed\u001b[0m\u001b[0;34m(\u001b[0m\u001b[0;34m)\u001b[0m\u001b[0;34m\u001b[0m\u001b[0m\n\u001b[0m",
      "\u001b[0;31mAttributeError\u001b[0m: 'str' object has no attribute 'reversed'"
     ]
    }
   ],
   "source": [
    "\"ABC\".reversed()"
   ]
  },
  {
   "cell_type": "code",
   "execution_count": null,
   "metadata": {
    "collapsed": true
   },
   "outputs": [],
   "source": []
  }
 ],
 "metadata": {
  "kernelspec": {
   "display_name": "Python [conda env:py35]",
   "language": "python",
   "name": "conda-env-py35-py"
  },
  "language_info": {
   "codemirror_mode": {
    "name": "ipython",
    "version": 3
   },
   "file_extension": ".py",
   "mimetype": "text/x-python",
   "name": "python",
   "nbconvert_exporter": "python",
   "pygments_lexer": "ipython3",
   "version": "3.5.3"
  }
 },
 "nbformat": 4,
 "nbformat_minor": 2
}
