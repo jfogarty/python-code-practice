{
 "cells": [
  {
   "cell_type": "markdown",
   "metadata": {},
   "source": [
    "### Find Longest Subsequence\n",
    "\n",
    "Given a string S and a set of words D, find the longest word in D that is a subsequence of S.\n",
    "\n",
    "Word W is a subsequence of S if some number of characters, possibly zero, can be deleted from S to form W, without reordering the remaining characters.\n",
    "\n",
    "Note: D can appear in any format (list, hash table, prefix tree, etc.\n",
    "\n",
    "For example, given the input of S = \"abppplee\" and D = {\"able\", \"ale\", \"apple\", \"bale\", \"kangaroo\"} the correct output would be \"apple\"\n",
    "\n",
    "The words \"able\" and \"ale\" are both subsequences of S, but they are shorter than \"apple\".\n",
    "\n",
    "The word \"bale\" is not a subsequence of S because even though S has all the right letters, they are not in the right order.\n",
    "\n",
    "The word \"kangaroo\" is the longest word in D, but it isn't a subsequence of S.\n",
    "Simple string operations.\n",
    "\n",
    "See [The Google example problem](https://techdevguide.withgoogle.com/resources/find-longest-word-in-dictionary-that-subsequence-of-given-string/#!)"
   ]
  },
  {
   "cell_type": "code",
   "execution_count": 32,
   "metadata": {
    "collapsed": true
   },
   "outputs": [],
   "source": [
    "debugging = False\n",
    "debugging = True\n",
    "\n",
    "logging = True\n",
    "\n",
    "def dbg(f, *args):\n",
    "    if debugging:\n",
    "        print(('  DBG:' + f).format(*args))\n",
    "\n",
    "def log(f, *args):\n",
    "    if logging:\n",
    "        print((f).format(*args))\n",
    "        \n",
    "def logError(f, *args):\n",
    "    if logging:\n",
    "        print(('*** ERROR:' + f).format(*args))\n",
    "        \n",
    "def className(instance):\n",
    "    return type(instance).__name__"
   ]
  },
  {
   "cell_type": "code",
   "execution_count": 33,
   "metadata": {
    "collapsed": true
   },
   "outputs": [],
   "source": [
    "class TestCase(object):\n",
    "    def __init__(self, name, method, inputs, expected):\n",
    "        self.name = name\n",
    "        self.method = method\n",
    "        self.inputs = inputs\n",
    "        self.expected = expected\n",
    "        \n",
    "    def run(self):\n",
    "        return self.method(*self.inputs)"
   ]
  },
  {
   "cell_type": "code",
   "execution_count": 34,
   "metadata": {
    "collapsed": true
   },
   "outputs": [],
   "source": [
    "import time\n",
    "from datetime import timedelta\n",
    "\n",
    "class TestSet(object):\n",
    "    def __init__(self, cases):\n",
    "        self.cases = cases\n",
    "    \n",
    "    def run_tests(self):\n",
    "        count = 0\n",
    "        errors = 0\n",
    "        total_time = 0\n",
    "        for case in self.cases:\n",
    "            count += 1\n",
    "            start_time = time.time()\n",
    "            result = case.run()\n",
    "            elapsed_time = time.time() - start_time\n",
    "            total_time += elapsed_time\n",
    "            if callable(case.expected):\n",
    "                if not case.expected(result):\n",
    "                    errors += 1\n",
    "                    logError(\"Test {0} failed. Returned {1}\", case.name, result)\n",
    "            elif result != case.expected:\n",
    "                errors += 1\n",
    "                logError('Test {0} failed. Returned \"{1}\", expected \"{2}\"', case.name, result, case.expected)\n",
    "        if errors:\n",
    "            logError(\"Tests passed: {0}; Failures {1}\", count-errors, errors)\n",
    "        else:\n",
    "            log(\"All {0} tests passed.\", count)\n",
    "        log(\"Elapsed test time: {0}\", timedelta(seconds=total_time))"
   ]
  },
  {
   "cell_type": "code",
   "execution_count": 79,
   "metadata": {
    "collapsed": true
   },
   "outputs": [],
   "source": [
    "def is_subsequence(w, s):\n",
    "    \"\"\" True if w 'abc' is a valid subsequence of s 'xaabbyyz' \"\"\"\n",
    "    if len(w) == 0:\n",
    "        return True\n",
    "    if len(s) < len(w):\n",
    "        return False\n",
    "    dbg('w=\"{0}\", s=\"{1}\"', w, s)\n",
    "    c = w[0]\n",
    "    offset = s.find(c)\n",
    "    while offset >= 0:\n",
    "        if is_subsequence(w[1:], s[offset+1:]):\n",
    "            return True\n",
    "        s = s[offset+1:] # skip this instance.\n",
    "        offset = s.find(c)\n",
    "\n",
    "    return False\n",
    "\n",
    "def longest_subsequence(sourceChars, dict):\n",
    "    \"\"\" Find the longest word in dict that s a subsequence of sourceWord. \"\"\"\n",
    "    sortedDict = sorted(dict, key = lambda x: -len(x))\n",
    "    for w in sortedDict:\n",
    "        if is_subsequence(w, sourceChars):\n",
    "            return w\n",
    "    return \"\"\n"
   ]
  },
  {
   "cell_type": "code",
   "execution_count": 87,
   "metadata": {
    "collapsed": true
   },
   "outputs": [],
   "source": [
    "import collections\n",
    "import sys\n",
    "def find_longest_word_in_string(letters, words):\n",
    "    letter_positions = collections.defaultdict(list)\n",
    "    # For each letter in 'letters', collect all the indices at which it appears.\n",
    "    # O(#letters) space and speed.\n",
    "    for index, letter in enumerate(letters):\n",
    "        letter_positions[letter].append(index)\n",
    "    # For words, in descending order by length...\n",
    "    # Bails out early on first matched word, and within word on\n",
    "    # impossible letter/position combinations, but worst case is\n",
    "    # O(#words # avg-len) * O(#letters / 26) time; constant space.\n",
    "    # With some work, could be O(#W * avg-len) * log2(#letters/26)\n",
    "    # But since binary search has more overhead\n",
    "    # than simple iteration, log2(#letters) is about as \n",
    "    # expensive as simple iterations as long as \n",
    "    # the length of the arrays for each letter is\n",
    "    # “small”.  If letters are randomly present in the\n",
    "    # search string, the log2 is about equal in speed to simple traversal\n",
    "    # up to lengths of a few hundred characters.              \n",
    "    for word in sorted(words, key=lambda w: len(w), reverse=True):\n",
    "        pos = 0\n",
    "        for letter in word:\n",
    "            if letter not in letter_positions:\n",
    "                break\n",
    "        # Find any remaining valid positions in search string where this\n",
    "        # letter appears.  It would be better to do this with binary search,\n",
    "        # but this is very Python-ic.\n",
    "        possible_positions = [p for p in letter_positions[letter] if p >= pos]\n",
    "        if not possible_positions:\n",
    "            break\n",
    "        else:\n",
    "            pos = possible_positions[0] + 1\n",
    "            # We didn't break out of the loop, so all letters have valid positions  \n",
    "            return word"
   ]
  },
  {
   "cell_type": "code",
   "execution_count": 94,
   "metadata": {
    "collapsed": true
   },
   "outputs": [],
   "source": [
    "simplecompare = lambda s1, s2: longest_subsequence(s1, s2)\n",
    "examplecompare = lambda letters, words: find_longest_word_in_string(letters, words)\n",
    "\n",
    "dict = [ \"ale\", \"apple\", \"bale\", \"kangaroo\"]\n",
    "c1 = TestCase('Provided example', \n",
    "              examplecompare,\n",
    "              [ \"abppplee\", dict ],\n",
    "              \"apple\")\n",
    "c2 = TestCase('Provided example', \n",
    "              simplecompare,\n",
    "              [ \"apple\", dict ],\n",
    "              \"apple\")\n",
    "\n",
    "tester = TestSet([c1, c2])"
   ]
  },
  {
   "cell_type": "code",
   "execution_count": 95,
   "metadata": {},
   "outputs": [
    {
     "name": "stdout",
     "output_type": "stream",
     "text": [
      "*** ERROR:Test Provided example failed. Returned \"None\", expected \"apple\"\n",
      "w=\"apple\", s=\"apple\"\n",
      "w=\"pple\", s=\"pple\"\n",
      "w=\"ple\", s=\"ple\"\n",
      "w=\"le\", s=\"le\"\n",
      "w=\"e\", s=\"e\"\n",
      "*** ERROR:Tests passed: 1; Failures 1\n",
      "Elapsed test time: 0:00:00.001072\n"
     ]
    }
   ],
   "source": [
    "tester.run_tests()"
   ]
  },
  {
   "cell_type": "code",
   "execution_count": 51,
   "metadata": {},
   "outputs": [
    {
     "data": {
      "text/plain": [
       "['this is a long one', 'kangaroo', 'apple', 'able', 'bale', 'ale', 'a']"
      ]
     },
     "execution_count": 51,
     "metadata": {},
     "output_type": "execute_result"
    }
   ],
   "source": [
    "a = [\"a\", \"this is a long one\", \"able\", \"ale\", \"apple\", \"bale\", \"kangaroo\"]\n",
    "sorted(a, key = lambda x: -len(x))"
   ]
  },
  {
   "cell_type": "code",
   "execution_count": 63,
   "metadata": {},
   "outputs": [
    {
     "data": {
      "text/plain": [
       "-1"
      ]
     },
     "execution_count": 63,
     "metadata": {},
     "output_type": "execute_result"
    }
   ],
   "source": [
    "\"This is a test\".find('z')"
   ]
  },
  {
   "cell_type": "code",
   "execution_count": 86,
   "metadata": {},
   "outputs": [
    {
     "data": {
      "text/plain": [
       "[defaultdict(list, {})]"
      ]
     },
     "execution_count": 86,
     "metadata": {},
     "output_type": "execute_result"
    }
   ],
   "source": [
    "import collections\n",
    "[collections.defaultdict(list)]"
   ]
  },
  {
   "cell_type": "code",
   "execution_count": null,
   "metadata": {
    "collapsed": true
   },
   "outputs": [],
   "source": []
  }
 ],
 "metadata": {
  "kernelspec": {
   "display_name": "Python [conda env:py35]",
   "language": "python",
   "name": "conda-env-py35-py"
  },
  "language_info": {
   "codemirror_mode": {
    "name": "ipython",
    "version": 3
   },
   "file_extension": ".py",
   "mimetype": "text/x-python",
   "name": "python",
   "nbconvert_exporter": "python",
   "pygments_lexer": "ipython3",
   "version": "3.5.4"
  },
  "varInspector": {
   "cols": {
    "lenName": 16,
    "lenType": 16,
    "lenVar": 40
   },
   "kernels_config": {
    "python": {
     "delete_cmd_postfix": "",
     "delete_cmd_prefix": "del ",
     "library": "var_list.py",
     "varRefreshCmd": "print(var_dic_list())"
    },
    "r": {
     "delete_cmd_postfix": ") ",
     "delete_cmd_prefix": "rm(",
     "library": "var_list.r",
     "varRefreshCmd": "cat(var_dic_list()) "
    }
   },
   "types_to_exclude": [
    "module",
    "function",
    "builtin_function_or_method",
    "instance",
    "_Feature"
   ],
   "window_display": false
  }
 },
 "nbformat": 4,
 "nbformat_minor": 2
}
