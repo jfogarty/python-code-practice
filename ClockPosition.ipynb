{
 "cells": [
  {
   "cell_type": "markdown",
   "metadata": {},
   "source": [
    "### Fun with Mazes\n",
    "\n",
    "Simple maze representation and solvers.\n",
    "\n",
    "See [The LeetCode example problem](https://leetcode.com/problems/trim-a-binary-search-tree/description/)"
   ]
  },
  {
   "cell_type": "code",
   "execution_count": 2,
   "metadata": {
    "collapsed": true
   },
   "outputs": [],
   "source": [
    "\n",
    "debugging = False\n",
    "debugging = True\n",
    "\n",
    "logging = True\n",
    "\n",
    "def dprint(f, *args):\n",
    "    if debugging:\n",
    "        print(('  DBG:' + f).format(*args))\n",
    "\n",
    "def log(f, *args):\n",
    "    if logging:\n",
    "        print((f).format(*args))\n",
    "        \n",
    "def logError(f, *args):\n",
    "    if logging:\n",
    "        print(('*** ERROR:' + f).format(*args))\n",
    "        \n",
    "def className(instance):\n",
    "    return type(instance).__name__"
   ]
  },
  {
   "cell_type": "code",
   "execution_count": 29,
   "metadata": {
    "collapsed": true
   },
   "outputs": [],
   "source": [
    "def sPosition(s):\n",
    "    \"\"\" offset of second hand on clock face in degrees \"\"\"\n",
    "    return s/60 * 360\n",
    "\n",
    "def mPosition(m, s=0):\n",
    "    \"\"\" offset of minute hand on clock face in degrees \"\"\"\n",
    "    return m/60 * 360 + sPosition(s)/60\n",
    "\n",
    "def hPosition(h, m=0, s=0):\n",
    "    \"\"\" offset of hour hand on clock face in degrees \"\"\"\n",
    "    return h/12 * 360 + mPosition(m, s)/12"
   ]
  },
  {
   "cell_type": "code",
   "execution_count": 32,
   "metadata": {},
   "outputs": [
    {
     "name": "stdout",
     "output_type": "stream",
     "text": [
      "- The hour hand at 3:15 is at 97.5 degrees\n",
      "- The minute hand at 15 after the hour is at 90.0 degrees\n",
      "- The difference between these is 7.5 degrees\n"
     ]
    }
   ],
   "source": [
    "log(\"- The hour hand at 3:15 is at {0} degrees\", hPosition(3,15))\n",
    "log(\"- The minute hand at 15 after the hour is at {0} degrees\", mPosition(15,0))\n",
    "log(\"- The difference between these is {0} degrees\", hPosition(3,15) - mPosition(15))"
   ]
  },
  {
   "cell_type": "code",
   "execution_count": 47,
   "metadata": {},
   "outputs": [],
   "source": [
    "s1 = \"This is a test of the emergency broadcast system.\"\n",
    "s2 = \"The quick brown fox jumped over the lazy dog.\"\n",
    "\n",
    "def matchCount(sourceChars, targetChars):\n",
    "    \"\"\" Create a dict containing counts of source chars in target string. \"\"\"\n",
    "    matches = {sc.lower():0 for sc in sourceChars}\n",
    "    for dc in targetChars:\n",
    "       dc = dc.lower()\n",
    "       if dc in matches: matches[dc] = matches[dc] + 1\n",
    "    return matches\n"
   ]
  },
  {
   "cell_type": "code",
   "execution_count": 48,
   "metadata": {},
   "outputs": [
    {
     "data": {
      "text/plain": [
       "{' ': 8,\n",
       " '.': 1,\n",
       " 'a': 1,\n",
       " 'b': 1,\n",
       " 'c': 1,\n",
       " 'd': 2,\n",
       " 'e': 4,\n",
       " 'f': 1,\n",
       " 'g': 1,\n",
       " 'h': 2,\n",
       " 'i': 1,\n",
       " 'm': 1,\n",
       " 'n': 1,\n",
       " 'o': 4,\n",
       " 'r': 2,\n",
       " 's': 0,\n",
       " 't': 2,\n",
       " 'y': 1}"
      ]
     },
     "execution_count": 48,
     "metadata": {},
     "output_type": "execute_result"
    }
   ],
   "source": [
    "matchCount(s1, s2)"
   ]
  },
  {
   "cell_type": "markdown",
   "metadata": {},
   "source": []
  }
 ],
 "metadata": {
  "kernelspec": {
   "display_name": "Python [conda env:py35]",
   "language": "python",
   "name": "conda-env-py35-py"
  },
  "language_info": {
   "codemirror_mode": {
    "name": "ipython",
    "version": 3
   },
   "file_extension": ".py",
   "mimetype": "text/x-python",
   "name": "python",
   "nbconvert_exporter": "python",
   "pygments_lexer": "ipython3",
   "version": "3.5.3"
  }
 },
 "nbformat": 4,
 "nbformat_minor": 2
}
