{
 "cells": [
  {
   "cell_type": "markdown",
   "metadata": {},
   "source": [
    "### Play with various sorts\n",
    "\n",
    "Evaluate various sorts.\n",
    "\n",
    "See [Instertion Sort example](http://www.geekviewpoint.com/python/sorting/insertionsort)"
   ]
  },
  {
   "cell_type": "code",
   "execution_count": 9,
   "metadata": {
    "collapsed": true
   },
   "outputs": [],
   "source": [
    "debugging = False\n",
    "debugging = True\n",
    "\n",
    "logging = True\n",
    "\n",
    "def dbg(f, *args):\n",
    "    if debugging:\n",
    "        print(('  DBG:' + f).format(*args))\n",
    "\n",
    "def log(f, *args):\n",
    "    if logging:\n",
    "        print((f).format(*args))\n",
    "        \n",
    "def logError(f, *args):\n",
    "    if logging:\n",
    "        print(('*** ERROR:' + f).format(*args))\n",
    "        \n",
    "def className(instance):\n",
    "    return type(instance).__name__"
   ]
  },
  {
   "cell_type": "markdown",
   "metadata": {},
   "source": [
    "### The TestSet Mechanism"
   ]
  },
  {
   "cell_type": "code",
   "execution_count": 10,
   "metadata": {
    "collapsed": true
   },
   "outputs": [],
   "source": [
    "# %load TestHarness.py\n"
   ]
  },
  {
   "cell_type": "code",
   "execution_count": 3,
   "metadata": {
    "collapsed": true
   },
   "outputs": [],
   "source": []
  },
  {
   "cell_type": "markdown",
   "metadata": {},
   "source": [
    "### The Unit Under Test"
   ]
  },
  {
   "cell_type": "code",
   "execution_count": 11,
   "metadata": {},
   "outputs": [],
   "source": [
    "#=======================================================================\n",
    "#  Author: Isai Damier\n",
    "#  Title: Insertionsort\n",
    "#  Project: geekviewpoint\n",
    "#  Package: algorithms\n",
    "#\n",
    "#  Statement:\n",
    "#  Given a disordered list of integers (or any other items),\n",
    "#  rearrange the integers in natural order.\n",
    "#\n",
    "#  Sample Input: [8,5,3,1,9,6,0,7,4,2,5]\n",
    "#  Sample Output: [0,1,2,3,4,5,5,6,7,8,9]\n",
    "#\n",
    "#  Time Complexity of Solution:\n",
    "#  Best O(n); Average O(n^2); Worst O(n^2).\n",
    "#\n",
    "#  Approach:\n",
    "#  Insertion sort is good for collections that are very small\n",
    "#  or nearly sorted. Otherwise it's not a good sorting algorithm:\n",
    "#  it moves data around too much. Each time an insertion is made,\n",
    "#  all elements in a greater position are shifted.\n",
    "#======================================================================= \n",
    "def insertionsort( aList ):\n",
    "    for i in range( 1, len( aList ) ):\n",
    "        tmp = aList[i]\n",
    "        k = i\n",
    "        dbg('--- i={0} tmp={1} aList={2}', i, tmp, aList)\n",
    "        while k > 0 and tmp < aList[k - 1]:\n",
    "            aList[k] = aList[k - 1]\n",
    "            k -= 1\n",
    "        aList[k] = tmp\n"
   ]
  },
  {
   "cell_type": "code",
   "execution_count": 27,
   "metadata": {},
   "outputs": [
    {
     "name": "stdout",
     "output_type": "stream",
     "text": [
      "  DBG:--- m=10 a=[8, 5, 3, 1, 9, 6, 0, 7, 4, 2, 5]\n",
      "  DBG:--- m=9 a=[5, 3, 1, 8, 6, 0, 7, 4, 2, 5, 9]\n",
      "  DBG:--- m=8 a=[3, 1, 5, 6, 0, 7, 4, 2, 5, 8, 9]\n",
      "  DBG:--- m=7 a=[1, 3, 5, 0, 6, 4, 2, 5, 7, 8, 9]\n",
      "  DBG:--- m=6 a=[1, 3, 0, 5, 4, 2, 5, 6, 7, 8, 9]\n",
      "  DBG:--- m=5 a=[1, 0, 3, 4, 2, 5, 5, 6, 7, 8, 9]\n",
      "  DBG:--- m=4 a=[0, 1, 3, 2, 4, 5, 5, 6, 7, 8, 9]\n",
      "  DBG:--- m=3 a=[0, 1, 2, 3, 4, 5, 5, 6, 7, 8, 9]\n"
     ]
    },
    {
     "data": {
      "text/plain": [
       "[0, 1, 2, 3, 4, 5, 5, 6, 7, 8, 9]"
      ]
     },
     "execution_count": 27,
     "metadata": {},
     "output_type": "execute_result"
    }
   ],
   "source": [
    "a = [8,5,3,1,9,6,0,7,4,2,5]\n",
    "bubbleSort(a)\n",
    "a"
   ]
  },
  {
   "cell_type": "code",
   "execution_count": 26,
   "metadata": {},
   "outputs": [],
   "source": [
    "#=======================================================================\n",
    "#  BubbleSort\n",
    "#\n",
    "#  Time Complexity of Solution:\n",
    "#  Best O(n); Average O(n^2); Worst O(n^2).\n",
    "#\n",
    "#  Approach:\n",
    "#  Bubble sort is goodf for very small collections that are almost\n",
    "#  already sorted. \n",
    "#======================================================================= \n",
    "def bubbleSort( a ):\n",
    "    m = len(a) - 1\n",
    "    swapped = True\n",
    "    def swap(i, j):\n",
    "        nonlocal swapped\n",
    "        t = a[i]\n",
    "        a[i] = a[j]\n",
    "        a[j] = t\n",
    "        swapped = True\n",
    "    while swapped:\n",
    "        swapped = False\n",
    "        dbg('--- m={0} a={1}', m, a)        \n",
    "        for i in range( 0, m ):\n",
    "            if a[i] > a[i+1]:\n",
    "                swap(i, i+1)\n",
    "        m -= 1 # Ass end is sorted already.\n"
   ]
  },
  {
   "cell_type": "code",
   "execution_count": 83,
   "metadata": {},
   "outputs": [],
   "source": [
    "#=======================================================================\n",
    "#  QuickSort\n",
    "#\n",
    "#  Time Complexity of Solution:\n",
    "#  Best O(n); Average O(n*logn); Worst O(n^2).\n",
    "#\n",
    "#  Approach:\n",
    "#  Quick sort is good for non pathological lists\n",
    "#======================================================================= \n",
    "def quickSort( a ):\n",
    "    def sortPartition(i, j, name):\n",
    "        def swap(i, j):\n",
    "            t = a[i]\n",
    "            a[i] = a[j]\n",
    "            a[j] = t        \n",
    "        # A single element is always sorted.\n",
    "        if j - i < 1:\n",
    "            return\n",
    "        # Any two elements are easily sorted.\n",
    "        if j - i == 1:\n",
    "            if a[i] > a[j]: swap(i, j)\n",
    "            return\n",
    "        pivot = a[i] # Select an arbitrary value.\n",
    "        leftFence  = i+1 # Exclude the pivot value\n",
    "        rightFence = j\n",
    "        while leftFence <= rightFence and a[leftFence]  <= pivot : leftFence  += 1\n",
    "        while leftFence <= rightFence and a[rightFence] >= pivot : rightFence -= 1\n",
    "        if leftFence < rightFence: swap(leftFence, rightFence)\n",
    "        swap(i, rightFence) # Relocate the pivot to the center\n",
    "        sortPartition(i, rightFence-1, 'left')\n",
    "        sortPartition(rightFence+1, j, 'right')\n",
    "        \n",
    "    sortPartition(0, len(a)-1, 'starting')"
   ]
  },
  {
   "cell_type": "code",
   "execution_count": 84,
   "metadata": {},
   "outputs": [
    {
     "data": {
      "text/plain": [
       "[0,\n",
       " 1,\n",
       " 1,\n",
       " 3,\n",
       " 2,\n",
       " 2,\n",
       " 1,\n",
       " 1,\n",
       " 1,\n",
       " 1,\n",
       " 1,\n",
       " 2,\n",
       " 6,\n",
       " 4,\n",
       " 3,\n",
       " 21,\n",
       " 7,\n",
       " 22,\n",
       " 6,\n",
       " 4,\n",
       " 41,\n",
       " 33,\n",
       " 423,\n",
       " 213,\n",
       " 9,\n",
       " 8,\n",
       " 5]"
      ]
     },
     "execution_count": 84,
     "metadata": {},
     "output_type": "execute_result"
    }
   ],
   "source": [
    "a = [5,8,3,1,9,6,0,213,1,2,41,1,423,1,21,3,1,22,1,2,4,6,33,1,7,4,2]\n",
    "quickSort(a)\n",
    "a"
   ]
  },
  {
   "cell_type": "code",
   "execution_count": 89,
   "metadata": {},
   "outputs": [
    {
     "data": {
      "text/plain": [
       "[1, 1, 1, 1, 2, 2]"
      ]
     },
     "execution_count": 89,
     "metadata": {},
     "output_type": "execute_result"
    }
   ],
   "source": [
    "a = [2, 1, 1, 1, 1, 2]\n",
    "quickSort(a)\n",
    "a\n"
   ]
  },
  {
   "cell_type": "markdown",
   "metadata": {},
   "source": [
    "### The Test Cases"
   ]
  },
  {
   "cell_type": "code",
   "execution_count": 6,
   "metadata": {
    "collapsed": true
   },
   "outputs": [],
   "source": [
    "#simpletest = lambda A : [spiral_square(A)]\n",
    "def simpletest(A):   \n",
    "    l = [x for x in spiral_square2(A)]\n",
    "    return l\n",
    "\n",
    "A2 = [[1, 2], [3, 4]]\n",
    "A3 = [[1, 2, 3], \n",
    "      [4, 5, 6], \n",
    "      [7, 8, 9]]\n",
    "A4 = [[ 1,  2,  3,  4], \n",
    "      [ 5,  6,  7,  8],\n",
    "      [ 9, 10, 11, 12],\n",
    "      [13, 14, 15, 16]]\n",
    "A4A = ['good men to come'.split(), \n",
    "       'all now is to'.split(), \n",
    "       'for time the the'.split(), \n",
    "       'country their of aid'.split()]\n",
    "A5 = [[1, 2, 3, 4, 100], [5, 6, 7, 8, 200], [9, 10, 11, 12, 300], [13, 14, 15, 16, 400], [17, 18, 19, 20, 500]]\n",
    "\n",
    "c0 = TestCase('0x0', \n",
    "              simpletest,\n",
    "              [ [] ],\n",
    "              [])\n",
    "\n",
    "c1 = TestCase('1x1', \n",
    "              simpletest,\n",
    "              [ [[1]] ],\n",
    "              [1])\n",
    "\n",
    "c2 = TestCase('2x2', \n",
    "              simpletest,\n",
    "              [A2],\n",
    "              [1, 2, 4, 3])\n",
    "\n",
    "\n",
    "c3 = TestCase('3x3', \n",
    "              simpletest,\n",
    "              [A3],\n",
    "              [5, 4, 1, 2, 3, 6, 9, 8, 7])\n",
    "\n",
    "c4 = TestCase('4x4', \n",
    "              simpletest,\n",
    "              [A4],\n",
    "              [6, 7, 11, 10, 9, 5, 1, 2, 3, 4, 8, 12, 16, 15, 14, 13])\n",
    "\n",
    "c4a = TestCase('4x4 words', \n",
    "              simpletest,\n",
    "              [A4A],\n",
    "              'now is the time for all good men to come to the aid of their country'.split())\n",
    "\n",
    "tester = TestSet([c0, c1, c2, c3, c4, c4a])\n"
   ]
  },
  {
   "cell_type": "code",
   "execution_count": 7,
   "metadata": {},
   "outputs": [
    {
     "name": "stdout",
     "output_type": "stream",
     "text": [
      "All 6 tests passed.\n",
      "Elapsed test time: 0:00:00.000580\n"
     ]
    }
   ],
   "source": [
    "tester.run_tests()"
   ]
  },
  {
   "cell_type": "code",
   "execution_count": null,
   "metadata": {
    "collapsed": true
   },
   "outputs": [],
   "source": []
  },
  {
   "cell_type": "markdown",
   "metadata": {},
   "source": [
    "### Some Ad Hoc Tests"
   ]
  },
  {
   "cell_type": "code",
   "execution_count": 8,
   "metadata": {},
   "outputs": [
    {
     "data": {
      "text/plain": [
       "[5, 4, 1, 2, 3, 6, 9, 8, 7]"
      ]
     },
     "execution_count": 8,
     "metadata": {},
     "output_type": "execute_result"
    }
   ],
   "source": [
    "[x for x in spiral_square(A3)]"
   ]
  },
  {
   "cell_type": "code",
   "execution_count": 9,
   "metadata": {},
   "outputs": [
    {
     "data": {
      "text/plain": [
       "(6004799503160661, 18014398509481984)"
      ]
     },
     "execution_count": 9,
     "metadata": {},
     "output_type": "execute_result"
    }
   ],
   "source": [
    "(.33333333333333333333333333333).as_integer_ratio()"
   ]
  },
  {
   "cell_type": "code",
   "execution_count": 10,
   "metadata": {},
   "outputs": [
    {
     "data": {
      "text/plain": [
       "(6004799503160661, 18014398509481984)"
      ]
     },
     "execution_count": 10,
     "metadata": {},
     "output_type": "execute_result"
    }
   ],
   "source": [
    "(1/3).as_integer_ratio()"
   ]
  },
  {
   "cell_type": "code",
   "execution_count": 11,
   "metadata": {},
   "outputs": [
    {
     "data": {
      "text/plain": [
       "Fraction(1, 3)"
      ]
     },
     "execution_count": 11,
     "metadata": {},
     "output_type": "execute_result"
    }
   ],
   "source": [
    "from fractions import Fraction\n",
    "Fraction(0.333333333333333).limit_denominator()"
   ]
  },
  {
   "cell_type": "code",
   "execution_count": null,
   "metadata": {
    "collapsed": true
   },
   "outputs": [],
   "source": []
  }
 ],
 "metadata": {
  "kernelspec": {
   "display_name": "Python [conda env:py35]",
   "language": "python",
   "name": "conda-env-py35-py"
  },
  "language_info": {
   "codemirror_mode": {
    "name": "ipython",
    "version": 3
   },
   "file_extension": ".py",
   "mimetype": "text/x-python",
   "name": "python",
   "nbconvert_exporter": "python",
   "pygments_lexer": "ipython3",
   "version": "3.5.3"
  }
 },
 "nbformat": 4,
 "nbformat_minor": 2
}
