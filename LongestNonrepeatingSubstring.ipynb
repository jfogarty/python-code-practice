{
 "cells": [
  {
   "cell_type": "markdown",
   "metadata": {},
   "source": [
    "### Longest Substring Without Repeating Characters\n",
    "\n",
    "Given a string, find the length of the longest substring without repeating characters.\n",
    "\n",
    "Examples:\n",
    "\n",
    "Given \"abcabcbb\", the answer is \"abc\", which the length is 3.\n",
    "\n",
    "Given \"bbbbb\", the answer is \"b\", with the length of 1.\n",
    "\n",
    "Given \"pwwkew\", the answer is \"wke\", with the length of 3. Note that the answer must be a substring, \"pwke\" is a subsequence and not a substring.\n",
    "\n",
    "https://leetcode.com/problems/longest-substring-without-repeating-characters/description/"
   ]
  },
  {
   "cell_type": "code",
   "execution_count": 36,
   "metadata": {
    "ExecuteTime": {
     "end_time": "2018-01-16T23:42:56.957845Z",
     "start_time": "2018-01-16T23:42:56.906815Z"
    },
    "collapsed": true
   },
   "outputs": [],
   "source": [
    "class Solution:\n",
    "    def longest_substring(self, s):\n",
    "        \"\"\"\n",
    "        :type s: str\n",
    "        :rtype: int\n",
    "        \"\"\"\n",
    "        besti = 0\n",
    "        bestl = 0\n",
    "        ci = 0\n",
    "        cl = 0\n",
    "        unique_contents = {}\n",
    "        for i in range(len(s)):\n",
    "            ch = s[i]\n",
    "            # Any time a duplicate character is found in the current\n",
    "            # substring, start evaluating a new one at the point of\n",
    "            # discontinuity.\n",
    "            if ch in unique_contents:\n",
    "                # The prefixed contents are no longer valid\n",
    "                dupindex = unique_contents[ch]\n",
    "                for j in range(ci, dupindex):\n",
    "                    del unique_contents[s[j]]                \n",
    "                ci = dupindex + 1\n",
    "                cl = i - dupindex\n",
    "            else:\n",
    "                cl += 1\n",
    "                if cl > bestl:\n",
    "                    besti = ci\n",
    "                    bestl = cl\n",
    "            unique_contents[ch] = i\n",
    "        return [besti, bestl]\n",
    "    \n",
    "    def lengthOfLongestSubstring(self, s):\n",
    "        return self.longest_substring(s)[1]"
   ]
  },
  {
   "cell_type": "code",
   "execution_count": 37,
   "metadata": {
    "ExecuteTime": {
     "end_time": "2018-01-16T23:42:57.275362Z",
     "start_time": "2018-01-16T23:42:57.269349Z"
    },
    "collapsed": true
   },
   "outputs": [],
   "source": [
    "def solve(s):\n",
    "    i, n = Solution().longest_substring(s)\n",
    "    print(\"'{0}' : {1} for {2} is '{3}'\".format(s, i, n, s[i:i+n]))"
   ]
  },
  {
   "cell_type": "code",
   "execution_count": 38,
   "metadata": {
    "ExecuteTime": {
     "end_time": "2018-01-16T23:42:57.730989Z",
     "start_time": "2018-01-16T23:42:57.722383Z"
    }
   },
   "outputs": [
    {
     "name": "stdout",
     "output_type": "stream",
     "text": [
      "3\n",
      "1\n",
      "3\n"
     ]
    }
   ],
   "source": [
    "print(Solution().lengthOfLongestSubstring(\"abcabcbb\"))\n",
    "print(Solution().lengthOfLongestSubstring(\"bbbbbbbbbbbbbbbbb\"))\n",
    "print(Solution().lengthOfLongestSubstring(\"pwwkew\"))\n",
    "\n"
   ]
  },
  {
   "cell_type": "code",
   "execution_count": 39,
   "metadata": {
    "ExecuteTime": {
     "end_time": "2018-01-16T23:42:59.656863Z",
     "start_time": "2018-01-16T23:42:59.646928Z"
    }
   },
   "outputs": [
    {
     "name": "stdout",
     "output_type": "stream",
     "text": [
      "'abcabcbb' : 0 for 3 is 'abc'\n",
      "'bbbbbbbbbbbbbbbbb' : 0 for 1 is 'b'\n",
      "'pwwkew' : 2 for 3 is 'wke'\n",
      "'tmmzuxtu' : 2 for 5 is 'mzuxt'\n"
     ]
    }
   ],
   "source": [
    "solve(\"abcabcbb\")\n",
    "solve(\"bbbbbbbbbbbbbbbbb\")\n",
    "solve(\"pwwkew\")\n",
    "solve(\"tmmzuxtu\")"
   ]
  },
  {
   "cell_type": "code",
   "execution_count": null,
   "metadata": {
    "collapsed": true
   },
   "outputs": [],
   "source": []
  },
  {
   "cell_type": "code",
   "execution_count": 22,
   "metadata": {
    "ExecuteTime": {
     "end_time": "2018-01-16T23:32:39.182516Z",
     "start_time": "2018-01-16T23:32:39.175527Z"
    }
   },
   "outputs": [],
   "source": [
    "for j in range(0,-1):\n",
    "    print('beeep')"
   ]
  },
  {
   "cell_type": "code",
   "execution_count": null,
   "metadata": {
    "collapsed": true
   },
   "outputs": [],
   "source": []
  }
 ],
 "metadata": {
  "kernelspec": {
   "display_name": "Python [conda env:py35]",
   "language": "python",
   "name": "conda-env-py35-py"
  },
  "language_info": {
   "codemirror_mode": {
    "name": "ipython",
    "version": 3
   },
   "file_extension": ".py",
   "mimetype": "text/x-python",
   "name": "python",
   "nbconvert_exporter": "python",
   "pygments_lexer": "ipython3",
   "version": "3.5.4"
  },
  "varInspector": {
   "cols": {
    "lenName": 16,
    "lenType": 16,
    "lenVar": 40
   },
   "kernels_config": {
    "python": {
     "delete_cmd_postfix": "",
     "delete_cmd_prefix": "del ",
     "library": "var_list.py",
     "varRefreshCmd": "print(var_dic_list())"
    },
    "r": {
     "delete_cmd_postfix": ") ",
     "delete_cmd_prefix": "rm(",
     "library": "var_list.r",
     "varRefreshCmd": "cat(var_dic_list()) "
    }
   },
   "types_to_exclude": [
    "module",
    "function",
    "builtin_function_or_method",
    "instance",
    "_Feature"
   ],
   "window_display": false
  }
 },
 "nbformat": 4,
 "nbformat_minor": 2
}
