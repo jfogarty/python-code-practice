{
 "cells": [
  {
   "cell_type": "markdown",
   "metadata": {},
   "source": [
    "### Insert Spaces Between Words\n",
    "\n",
    "Given a sentence of words which do not contain spaces between them, list all possible sentences with\n",
    "spaces in the appropriate places.\n",
    "\n",
    "For example, given s = \"catsanddog\", dict = [\"cat\", \"cats\", \"and\", \"sand\", \"dog\"], the solution is [\"cats and dog\", \"cat sand dog\"].\n",
    "\n",
    "See [The example problem](https://www.programcreek.com/2014/03/leetcode-word-break-ii-java/)"
   ]
  },
  {
   "cell_type": "code",
   "execution_count": 47,
   "metadata": {
    "collapsed": true
   },
   "outputs": [],
   "source": [
    "debugging = False\n",
    "#debugging = True\n",
    "\n",
    "logging = True\n",
    "\n",
    "def dbg(f, *args):\n",
    "    if debugging:\n",
    "        print(('  DBG:' + f).format(*args))\n",
    "\n",
    "def log(f, *args):\n",
    "    if logging:\n",
    "        print((f).format(*args))\n",
    "        \n",
    "def logError(f, *args):\n",
    "    if logging:\n",
    "        print(('*** ERROR:' + f).format(*args))\n",
    "        \n",
    "def className(instance):\n",
    "    return type(instance).__name__"
   ]
  },
  {
   "cell_type": "code",
   "execution_count": 25,
   "metadata": {
    "collapsed": true
   },
   "outputs": [],
   "source": [
    "class TrieDict(object):   \n",
    "        \n",
    "    def insert(node, word):\n",
    "        for ch in word:\n",
    "            if ch in node.children:\n",
    "                node = node.children[ch]\n",
    "            else:\n",
    "                newn = TrieDict()\n",
    "                node.children[ch] = newn\n",
    "                node = newn\n",
    "        node.endWord = True\n",
    "\n",
    "    def __init__(node, words=[]):\n",
    "        node.children = {}\n",
    "        node.endWord = False\n",
    "        for word in words:\n",
    "            node.insert(word)\n",
    "        \n",
    "    def nextNode(node, ch):\n",
    "        return None if ch not in node.children else node.children[ch]\n",
    "\n",
    "    def toList(node):\n",
    "        words = []\n",
    "        def addWords(node, word, words):\n",
    "            for c in node.children:\n",
    "                n = node.children[c]\n",
    "                w = word + c\n",
    "                if n.endWord:\n",
    "                    words.append(w)\n",
    "                addWords(n, w, words)           \n",
    "        addWords(node, '', words)\n",
    "        return words\n",
    "        \n",
    "    def __str__(node):\n",
    "        return str(node.toList())\n",
    "                        "
   ]
  },
  {
   "cell_type": "code",
   "execution_count": 39,
   "metadata": {},
   "outputs": [
    {
     "name": "stdout",
     "output_type": "stream",
     "text": [
      "['dog', 'sand', 'and', 'cat', 'cats']\n"
     ]
    },
    {
     "data": {
      "text/plain": [
       "\"['oat', 'over', 'cab', 'cat', 'cats', 'cattle', 'tell', 'toad', 'tot', 'tat', 'tab', 'the', 'trot', 'tit', 'seal', 'sand', 'ugly', 'very', 'bell', 'belt', 'bet', 'boat', 'bomb', 'bat', 'battle', 'jolt', 'jot', 'jump', 'jumped', 'jab', 'eel', 'east', 'eat', 'a', 'an', 'and', 'at', 'motor', 'rot', 'debt', 'dog', 'dogs', 'quick', 'lee', 'lead', 'let', 'lot', 'lab', 'lazy']\""
      ]
     },
     "execution_count": 39,
     "metadata": {},
     "output_type": "execute_result"
    }
   ],
   "source": [
    "dictRoot = TrieDict(\n",
    "    ['tit', 'bell', 'cat', 'cats', 'cattle',\n",
    "     'and', 'at', 'a', 'an', 'bet', 'bat', 'dog', 'dogs', 'sand',\n",
    "     'battle', 'cab', 'jot', 'jab', 'belt', 'let', 'tell', \n",
    "     'boat', 'tab', 'oat', 'toad', 'tot', 'trot', 'eat',\n",
    "     'east', 'eel', 'seal', 'lead', 'lee', 'tat', 'the', 'lab',\n",
    "     'lot', 'motor', 'debt', 'jolt', 'bomb', 'rot', 'very',\n",
    "     'quick', 'lazy', 'jump', 'jumped', 'over', 'ugly'\n",
    "    ])\n",
    "\n",
    "catdogDict = TrieDict([\"cat\", \"cats\", \"and\", \"sand\", \"dog\"])\n",
    "print(catdogDict)\n",
    "str(dictRoot)"
   ]
  },
  {
   "cell_type": "code",
   "execution_count": 48,
   "metadata": {},
   "outputs": [
    {
     "name": "stdout",
     "output_type": "stream",
     "text": [
      "set()\n",
      "{'cats and dog', 'cat sand dog'}\n",
      "{'an ugly very quick dog jumped over the lazy cat'}\n"
     ]
    }
   ],
   "source": [
    "def splitWords(s, rootDict):\n",
    "    results = set()\n",
    "    def findSplits(currentWord, partialResult, partialSentence, tdict):\n",
    "        if len(partialSentence):\n",
    "            c = partialSentence[0]\n",
    "            s = partialSentence[1:]\n",
    "            r = partialResult + c\n",
    "            n = tdict.nextNode(c)\n",
    "            if n:\n",
    "                if n.endWord:\n",
    "                    if len(s) == 0:\n",
    "                        results.add(r)\n",
    "                        return  # Done with sentence, don't add extra space.\n",
    "                    findSplits('', r + ' ', s, rootDict)\n",
    "                findSplits(c, r, s, n)\n",
    "            # If this letter doesn't match a dictionary path then this is not\n",
    "            # a valid word, and thus the sentence is dead to us.\n",
    "    findSplits('', '', s, rootDict)\n",
    "    return results\n",
    "\n",
    "print(splitWords('', dictRoot))\n",
    "print(splitWords(\"catsanddog\", dictRoot))\n",
    "print(splitWords(\"anuglyveryquickdogjumpedoverthelazycat\", dictRoot))\n"
   ]
  },
  {
   "cell_type": "code",
   "execution_count": null,
   "metadata": {
    "collapsed": true
   },
   "outputs": [],
   "source": []
  }
 ],
 "metadata": {
  "kernelspec": {
   "display_name": "Python [conda env:py35]",
   "language": "python",
   "name": "conda-env-py35-py"
  },
  "language_info": {
   "codemirror_mode": {
    "name": "ipython",
    "version": 3
   },
   "file_extension": ".py",
   "mimetype": "text/x-python",
   "name": "python",
   "nbconvert_exporter": "python",
   "pygments_lexer": "ipython3",
   "version": "3.5.3"
  }
 },
 "nbformat": 4,
 "nbformat_minor": 2
}
