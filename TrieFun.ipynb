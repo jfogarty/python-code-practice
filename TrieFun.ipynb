{
 "cells": [
  {
   "cell_type": "markdown",
   "metadata": {},
   "source": [
    "### Fun with Tries\n",
    "\n",
    "String Trie operations.\n",
    "\n",
    "See [The LeetCode example problem](https://leetcode.com/problems/trim-a-binary-search-tree/description/)"
   ]
  },
  {
   "cell_type": "code",
   "execution_count": 1,
   "metadata": {
    "ExecuteTime": {
     "end_time": "2017-11-07T17:50:32.712182Z",
     "start_time": "2017-11-07T17:50:32.683820Z"
    },
    "code_folding": [
     5,
     9,
     13,
     17
    ],
    "collapsed": true
   },
   "outputs": [],
   "source": [
    "debugging = False\n",
    "debugging = True\n",
    "\n",
    "logging = True\n",
    "\n",
    "def dprint(f, *args):\n",
    "    if debugging:\n",
    "        print(('  DBG:' + f).format(*args))\n",
    "\n",
    "def log(f, *args):\n",
    "    if logging:\n",
    "        print((f).format(*args))\n",
    "        \n",
    "def logError(f, *args):\n",
    "    if logging:\n",
    "        print(('*** ERROR:' + f).format(*args))\n",
    "        \n",
    "def className(instance):\n",
    "    return type(instance).__name__"
   ]
  },
  {
   "cell_type": "code",
   "execution_count": 2,
   "metadata": {
    "ExecuteTime": {
     "end_time": "2017-11-07T17:50:34.071347Z",
     "start_time": "2017-11-07T17:50:33.926010Z"
    },
    "code_folding": [
     0
    ],
    "collapsed": true
   },
   "outputs": [],
   "source": [
    "# %load TestHarness\n",
    "class TestCase(object):\n",
    "    def __init__(self, name, method, inputs, expected, catchExceptions=False):\n",
    "        self.name = name\n",
    "        self.method = method\n",
    "        self.inputs = inputs\n",
    "        self.expected = expected\n",
    "        self.catchExceptions = catchExceptions\n",
    "        \n",
    "    def run(self):\n",
    "        if self.catchExceptions:\n",
    "            try:\n",
    "                return self.method(*self.inputs)\n",
    "            except Exception as x:\n",
    "                return x\n",
    "        else:\n",
    "                return self.method(*self.inputs)\n",
    "\n",
    "import time\n",
    "from datetime import timedelta\n",
    "\n",
    "class TestSet(object):\n",
    "    def __init__(self, cases):\n",
    "        self.cases = cases\n",
    "    \n",
    "    def run_tests(self, repeat=1):\n",
    "        count = 0\n",
    "        errors = 0\n",
    "        total_time = 0\n",
    "        for case in self.cases:\n",
    "            count += 1\n",
    "            start_time = time.time()\n",
    "            for iteration in range(repeat):\n",
    "                dbg2(\"*** Running '{0}' iteration {1}\", case.name, iteration+1)\n",
    "                result = case.run()\n",
    "            elapsed_time = time.time() - start_time\n",
    "            total_time += elapsed_time\n",
    "            if callable(case.expected):\n",
    "                if not case.expected(result):\n",
    "                    errors += 1\n",
    "                    logError(\"Test {0} failed. Returned {1}\", case.name, result)\n",
    "            elif result != case.expected:\n",
    "                errors += 1\n",
    "                logError('Test {0} failed. Returned \"{1}\", expected \"{2}\"', case.name, result, case.expected)\n",
    "        if errors:\n",
    "            logError(\"Tests passed: {0}; Failures: {1}\", count-errors, errors)\n",
    "        else:\n",
    "            log(\"All {0} tests passed.\", count)\n",
    "        log(\"Elapsed test time: {0}\", timedelta(seconds=total_time))\n",
    "\n",
    "        "
   ]
  },
  {
   "cell_type": "code",
   "execution_count": null,
   "metadata": {
    "collapsed": true
   },
   "outputs": [],
   "source": [
    "class trie_iter:\n",
    "    def __init__(self, n):\n",
    "        self.i = 0\n",
    "        self.n = n\n",
    "\n",
    "    def __iter__(node):\n",
    "        def addwords(node, prefix):\n",
    "            for letter, nnde in node.children.items():\n",
    "                word = prefix + letter\n",
    "                if nnde.wordEnd:\n",
    "                    yield word\n",
    "                addwords(nnde, word)\n",
    "        return node\n",
    "\n",
    "    def next(node):\n",
    "        \n",
    "        \n",
    "        if self.i < self.n:\n",
    "            i = self.i\n",
    "            self.i += 1\n",
    "            return i\n",
    "        else:\n",
    "            raise StopIteration()"
   ]
  },
  {
   "cell_type": "code",
   "execution_count": 188,
   "metadata": {
    "ExecuteTime": {
     "end_time": "2017-11-07T18:58:32.183601Z",
     "start_time": "2017-11-07T18:58:31.968437Z"
    }
   },
   "outputs": [],
   "source": [
    "class Trie(object):\n",
    "    \n",
    "    def __init__(node, value=None):\n",
    "        node.value = value # Note, root node has None value.\n",
    "        node.children = {}\n",
    "        node.wordEnd = False # true at word end nodes.\n",
    "        \n",
    "    def insert(node, word):\n",
    "        for letter in word:\n",
    "            if letter in node.children:\n",
    "                node = node.children[letter]\n",
    "            else:\n",
    "                newn = Trie(letter)\n",
    "                node.children[letter] = newn\n",
    "                node = newn\n",
    "        node.wordEnd = True\n",
    "\n",
    "    def find(node, word):\n",
    "        for letter in word:\n",
    "            if letter in node.children:\n",
    "                node = node.children[letter]\n",
    "            else:\n",
    "                return False\n",
    "        return node.wordEnd\n",
    "\n",
    "    def list_words(node):\n",
    "        words = []\n",
    "        def addwords(node, prefix, words):\n",
    "            for letter, nnde in node.children.items():\n",
    "                word = prefix + letter\n",
    "                if nnde.wordEnd:\n",
    "                    words.append(word)               \n",
    "                addwords(nnde, word, words)\n",
    "        addwords(node, '', words)\n",
    "        return words\n",
    "    \n",
    "    def __iter__iterative(node):\n",
    "        stack = []\n",
    "        prefix = ''\n",
    "        # Generate words until the stack is empty.\n",
    "        stack.append((prefix, node)) # push the root.\n",
    "        while True:\n",
    "            if len(stack) == 0: return\n",
    "            prefix, node = stack.pop()\n",
    "            for letter, nnde in node.children.items():\n",
    "                word = prefix + letter\n",
    "                if nnde.wordEnd:\n",
    "                    yield word\n",
    "                stack.append((word, nnde))\n",
    "\n",
    "    def __iter__(node, prefix=''):\n",
    "        for letter, next_node in node.children.items():\n",
    "            if next_node.wordEnd: \n",
    "                yield prefix + letter \n",
    "            # Recursive iterators are iterators -- DUH!\n",
    "            for more in next_node.__iter__(prefix + letter):\n",
    "                yield more\n",
    "                \n",
    "    def __str__(node):\n",
    "        return str(node.list_words())\n",
    "        \n",
    "    __repr__ = __str__"
   ]
  },
  {
   "cell_type": "code",
   "execution_count": 189,
   "metadata": {
    "ExecuteTime": {
     "end_time": "2017-11-07T18:58:32.384913Z",
     "start_time": "2017-11-07T18:58:32.194345Z"
    },
    "collapsed": true
   },
   "outputs": [],
   "source": [
    "x = Trie()"
   ]
  },
  {
   "cell_type": "code",
   "execution_count": 190,
   "metadata": {
    "ExecuteTime": {
     "end_time": "2017-11-07T18:58:32.501173Z",
     "start_time": "2017-11-07T18:58:32.395839Z"
    },
    "collapsed": true
   },
   "outputs": [],
   "source": [
    "x.insert('Hello')"
   ]
  },
  {
   "cell_type": "code",
   "execution_count": 191,
   "metadata": {
    "ExecuteTime": {
     "end_time": "2017-11-07T18:58:32.611119Z",
     "start_time": "2017-11-07T18:58:32.514798Z"
    },
    "collapsed": true
   },
   "outputs": [],
   "source": [
    "x.insert(\"Mommy\")"
   ]
  },
  {
   "cell_type": "code",
   "execution_count": 192,
   "metadata": {
    "ExecuteTime": {
     "end_time": "2017-11-07T18:58:32.829433Z",
     "start_time": "2017-11-07T18:58:32.626902Z"
    },
    "collapsed": true
   },
   "outputs": [],
   "source": [
    "x.insert('Mom')"
   ]
  },
  {
   "cell_type": "code",
   "execution_count": 193,
   "metadata": {
    "ExecuteTime": {
     "end_time": "2017-11-07T18:58:32.978252Z",
     "start_time": "2017-11-07T18:58:32.841975Z"
    },
    "collapsed": true
   },
   "outputs": [],
   "source": [
    "x.insert('Glorm')"
   ]
  },
  {
   "cell_type": "code",
   "execution_count": 194,
   "metadata": {
    "ExecuteTime": {
     "end_time": "2017-11-07T18:58:33.157822Z",
     "start_time": "2017-11-07T18:58:32.991078Z"
    }
   },
   "outputs": [
    {
     "data": {
      "text/plain": [
       "True"
      ]
     },
     "execution_count": 194,
     "metadata": {},
     "output_type": "execute_result"
    }
   ],
   "source": [
    "x.find('Mommy')"
   ]
  },
  {
   "cell_type": "code",
   "execution_count": 195,
   "metadata": {
    "ExecuteTime": {
     "end_time": "2017-11-07T18:58:33.244207Z",
     "start_time": "2017-11-07T18:58:33.177456Z"
    }
   },
   "outputs": [
    {
     "data": {
      "text/plain": [
       "{'G': ['lorm'], 'H': ['ello'], 'M': ['om', 'ommy']}"
      ]
     },
     "execution_count": 195,
     "metadata": {},
     "output_type": "execute_result"
    }
   ],
   "source": [
    "x.children"
   ]
  },
  {
   "cell_type": "code",
   "execution_count": 196,
   "metadata": {
    "ExecuteTime": {
     "end_time": "2017-11-07T18:58:33.400075Z",
     "start_time": "2017-11-07T18:58:33.254047Z"
    }
   },
   "outputs": [
    {
     "data": {
      "text/plain": [
       "['Hello', 'Mom', 'Mommy', 'Glorm']"
      ]
     },
     "execution_count": 196,
     "metadata": {},
     "output_type": "execute_result"
    }
   ],
   "source": [
    "[w for w in x]"
   ]
  },
  {
   "cell_type": "code",
   "execution_count": 197,
   "metadata": {
    "ExecuteTime": {
     "end_time": "2017-11-07T18:58:35.340654Z",
     "start_time": "2017-11-07T18:58:35.335325Z"
    }
   },
   "outputs": [
    {
     "name": "stdout",
     "output_type": "stream",
     "text": [
      "['Hello', 'Mom', 'Mommy', 'Glorm']\n"
     ]
    }
   ],
   "source": [
    "print(x)"
   ]
  },
  {
   "cell_type": "code",
   "execution_count": null,
   "metadata": {
    "collapsed": true
   },
   "outputs": [],
   "source": []
  }
 ],
 "metadata": {
  "kernelspec": {
   "display_name": "Python [conda env:py35]",
   "language": "python",
   "name": "conda-env-py35-py"
  },
  "language_info": {
   "codemirror_mode": {
    "name": "ipython",
    "version": 3
   },
   "file_extension": ".py",
   "mimetype": "text/x-python",
   "name": "python",
   "nbconvert_exporter": "python",
   "pygments_lexer": "ipython3",
   "version": "3.5.4"
  },
  "varInspector": {
   "cols": {
    "lenName": 16,
    "lenType": 16,
    "lenVar": 40
   },
   "kernels_config": {
    "python": {
     "delete_cmd_postfix": "",
     "delete_cmd_prefix": "del ",
     "library": "var_list.py",
     "varRefreshCmd": "print(var_dic_list())"
    },
    "r": {
     "delete_cmd_postfix": ") ",
     "delete_cmd_prefix": "rm(",
     "library": "var_list.r",
     "varRefreshCmd": "cat(var_dic_list()) "
    }
   },
   "types_to_exclude": [
    "module",
    "function",
    "builtin_function_or_method",
    "instance",
    "_Feature"
   ],
   "window_display": false
  }
 },
 "nbformat": 4,
 "nbformat_minor": 2
}
