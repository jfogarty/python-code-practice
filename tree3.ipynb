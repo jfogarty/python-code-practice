{
 "cells": [
  {
   "cell_type": "markdown",
   "metadata": {},
   "source": [
    "# Binary Leaf Trees\n",
    "\n",
    "Some fun with balanced binary trees\n",
    "\n",
    "<div class=\"alert alert-block alert-info\">\n",
    "\tThese trees are simple Traditional binary trees.\n",
    " </div>\n",
    "   \n",
    "Ok, Thats it. Now load some data, for example (9, 4, 1, 4, 2, 6, 4, 5, 7, 4, 6)"
   ]
  },
  {
   "cell_type": "code",
   "execution_count": 1,
   "metadata": {},
   "outputs": [
    {
     "name": "stdout",
     "output_type": "stream",
     "text": [
      "(9, 4, 1, 4, 2, 6, 4, 5, 7, 4, 6)\n"
     ]
    }
   ],
   "source": [
    "theData = (9, 4, 1, 4, 2, 6, 4, 5, 7, 4, 6)\n",
    "print(theData)\n",
    "\n",
    "debugging = False\n",
    "#debugging = True\n",
    "\n",
    "def dprint(f, *args):\n",
    "    if debugging:\n",
    "        print(('  DBG:' + f).format(*args))"
   ]
  },
  {
   "cell_type": "code",
   "execution_count": 4,
   "metadata": {
    "collapsed": true
   },
   "outputs": [],
   "source": [
    "# Definition for a binary tree node.\n",
    "# class TreeNode(object):\n",
    "#     def __init__(self, x):\n",
    "#         self.val = x\n",
    "#         self.left = None\n",
    "#         self.right = None\n",
    "\n",
    "class TreeNode():\n",
    "    \"\"\" An internal link node \"\"\"\n",
    "    val = None\n",
    "    left = None\n",
    "    right = None\n",
    "    \n",
    "    def __init__(self, v):\n",
    "        self.val = v\n",
    "        \n",
    "    def link(self, left, right):\n",
    "        self.left = left\n",
    "        self.right = right\n",
    "        \n",
    "    def minv(self):\n",
    "        if self.left is not None:\n",
    "            return self.left.minv()\n",
    "        if self.value is not None:\n",
    "            return self.val\n",
    "        return self.right.minv()\n",
    "        \n",
    "    def maxv(self):\n",
    "        if self.right  is not None:\n",
    "            return self.right.maxv()\n",
    "        if self.value  is not None:\n",
    "            return self.val\n",
    "        return self.left.maxv()\n",
    "    \n",
    "    def depth(self, current=0):\n",
    "        ldepth = current if self.left is None else self.left.depth(current+1)\n",
    "        rdepth = current if self.right is None else self.right.depth(current+1)\n",
    "        d = max(ldepth, rdepth)\n",
    "        dprint(\"--- [{0}] c={1} d={2}\", self.val, current, d)\n",
    "        return d\n",
    "\n",
    "    def ldepth(self):\n",
    "        return 0 if self.left is None else self.left.depth(1)\n",
    "\n",
    "    def rdepth(self):\n",
    "        return 0 if self.right is None else self.right.depth(1)\n",
    "    \n",
    "    def insert(self, v):\n",
    "        rootv = self.val\n",
    "        if rootv is None:\n",
    "            self.val = v\n",
    "        elif v < rootv:\n",
    "            if self.left is None:\n",
    "                self.left = TreeNode(v)\n",
    "            else:\n",
    "                self.left.insert(v)\n",
    "        else:\n",
    "            if self.right is None:\n",
    "                self.right = TreeNode(v)\n",
    "            else:\n",
    "                self.right.insert(v)\n",
    "            \n",
    "    def __str__(self):\n",
    "        if not self:\n",
    "            return \"()\"\n",
    "        else:\n",
    "            leftstr = '.' if self.left is None else \"{0}, \".format(str(self.left))\n",
    "            rightstr = '.' if self.right is  None else \", {0}\".format(str(self.right))\n",
    "            return \"({0}[{1}]{2}])\".format(leftstr, str(self.val), rightstr)\n",
    "        \n",
    "    def liststr(self):\n",
    "        if not self:\n",
    "            return \"(*)\"\n",
    "        else:\n",
    "            leftstr = '' if self.left is None else \"{0}\".format(self.left.liststr())\n",
    "            rightstr = '' if self.right is None else \"{0}\".format(self.right.liststr())\n",
    "            return \"{0}{1}, {2}\".format(leftstr, str(self.val), rightstr)\n",
    "        \n",
    "    def tolist(self):\n",
    "        llist = [] if self.left  == None else self.left.tolist();\n",
    "        rlist = [] if self.right == None else self.right.tolist();\n",
    "        return llist + [self.val,] + rlist\n",
    "    \n",
    "    def inorder(self):\n",
    "        \"\"\" A recursive generator that generates Tree leaves in in-order \"\"\"\n",
    "        if self:\n",
    "            if self.left:\n",
    "                for x in self.left.inorder():\n",
    "                    yield x\n",
    "            yield self.val\n",
    "            if self.right:\n",
    "                for x in self.right.inorder():\n",
    "                    yield x    \n",
    "        \n",
    "    __repr__ = __str__"
   ]
  },
  {
   "cell_type": "code",
   "execution_count": 5,
   "metadata": {
    "collapsed": true
   },
   "outputs": [],
   "source": [
    "class RootedTree():\n",
    "    root = None\n",
    "    \n",
    "    def __init__(self):\n",
    "        self.root = TreeNode(None)\n",
    "    \n",
    "    def insert(self, v):\n",
    "        self.root.insert(v)\n",
    "\n",
    "    def depth(self):\n",
    "        return(self.root.depth())\n",
    "\n",
    "    def ldepth(self):\n",
    "        return self.root.ldepth()\n",
    "\n",
    "    def rdepth(self):\n",
    "        return self.root.rdepth()\n",
    "\n",
    "    def unbalanced(self):\n",
    "        return abs(self.root.rdepth() - self.root.ldepth()) > 1\n",
    "    \n",
    "    def __str__(self):\n",
    "        if not self:\n",
    "            return \"()\"\n",
    "        else:\n",
    "            return \"TREE {0}\".format(str(self.root))\n",
    "        \n",
    "    def liststr(self):\n",
    "        if not self:\n",
    "            return \"(*)\"\n",
    "        else:\n",
    "            return self.root.liststr()\n",
    "        \n",
    "    __repr__ = __str__\n"
   ]
  },
  {
   "cell_type": "code",
   "execution_count": 6,
   "metadata": {},
   "outputs": [
    {
     "name": "stdout",
     "output_type": "stream",
     "text": [
      "TREE ((.[22].]), [55].])\n",
      "22, 55, \n",
      "- Total Depth=1, left=1 right=0 unbalanced=False\n"
     ]
    }
   ],
   "source": [
    "x = RootedTree()\n",
    "x.insert(55)\n",
    "x.insert(22)\n",
    "\n",
    "print(str(x))\n",
    "print(x.liststr())\n",
    "x\n",
    "print(\"- Total Depth={0}, left={1} right={2} unbalanced={3}\".format(\n",
    "    x.depth(), x.ldepth(), x.rdepth(), x.unbalanced()))"
   ]
  },
  {
   "cell_type": "code",
   "execution_count": 7,
   "metadata": {},
   "outputs": [
    {
     "name": "stdout",
     "output_type": "stream",
     "text": [
      "1, 3, 5, 9, 12, \n"
     ]
    },
    {
     "data": {
      "text/plain": [
       "TREE ((.[1].]), [3], ((.[5], (.[9].])]), [12].])])"
      ]
     },
     "execution_count": 7,
     "metadata": {},
     "output_type": "execute_result"
    }
   ],
   "source": [
    "y = RootedTree()\n",
    "y.insert(3)\n",
    "y.insert(12)\n",
    "y.insert(5)\n",
    "y.insert(1)\n",
    "y.insert(9)\n",
    "\n",
    "print(y.liststr())\n",
    "y"
   ]
  },
  {
   "cell_type": "code",
   "execution_count": 8,
   "metadata": {},
   "outputs": [
    {
     "name": "stdout",
     "output_type": "stream",
     "text": [
      "TREE ((.[1], (.[2].])]), [3], ((.[5], (.[9].])]), [12].])])\n",
      "TREE (((.[0].]), [1], (.[2].])]), [3], ((.[5], (.[9].])]), [12].])])\n",
      "0, 1, 2, 3, 4, 5, 8, 9, 11, 12, \n"
     ]
    },
    {
     "data": {
      "text/plain": [
       "TREE (((.[0].]), [1], (.[2].])]), [3], (((.[4].]), [5], ((.[8].]), [9], (.[11].])])]), [12].])])"
      ]
     },
     "execution_count": 8,
     "metadata": {},
     "output_type": "execute_result"
    }
   ],
   "source": [
    "y.insert(2)\n",
    "print(y)\n",
    "y.insert(0)\n",
    "print(y)\n",
    "y.insert(4)\n",
    "y.insert(8)\n",
    "y.insert(11)\n",
    "\n",
    "print(y.liststr())\n",
    "y\n"
   ]
  },
  {
   "cell_type": "code",
   "execution_count": 9,
   "metadata": {},
   "outputs": [
    {
     "name": "stdout",
     "output_type": "stream",
     "text": [
      "- Total Depth=4, left=2 right=4 unbalanced=True\n"
     ]
    }
   ],
   "source": [
    "print(\"- Total Depth={0}, left={1} right={2} unbalanced={3}\".format(\n",
    "    y.depth(), y.ldepth(), y.rdepth(), y.unbalanced()))"
   ]
  },
  {
   "cell_type": "code",
   "execution_count": 32,
   "metadata": {},
   "outputs": [
    {
     "name": "stdout",
     "output_type": "stream",
     "text": [
      "-- This parrot wouldn't VOOM if you put four million volts through it. E's bleedin' demised !\n"
     ]
    }
   ],
   "source": [
    "\n",
    "\n",
    "\"+\".join([\"x\",\"uuu\",\"z\"])\n",
    "\n",
    "def parrot(voltage, state='a stiff', action='voom'):\n",
    "     print(\"-- This parrot wouldn't\", action, end=' ')\n",
    "     print(\"if you put\", voltage, \"volts through it.\", end=' ')\n",
    "     print(\"E's\", state, \"!\")\n",
    "\n",
    "d = {\"voltage\": \"four million\", \"state\": \"bleedin' demised\", \"action\": \"VOOM\"}\n",
    "parrot(**d)"
   ]
  },
  {
   "cell_type": "code",
   "execution_count": 34,
   "metadata": {},
   "outputs": [
    {
     "name": "stdout",
     "output_type": "stream",
     "text": [
      "[1, 2, 3, 4]\n"
     ]
    }
   ],
   "source": [
    "a = [range(0, 5), 33, 5]\n",
    "print(list([1, 2, 3, 4]))\n",
    "#print tuple(range(5))"
   ]
  },
  {
   "cell_type": "code",
   "execution_count": 40,
   "metadata": {},
   "outputs": [
    {
     "name": "stdout",
     "output_type": "stream",
     "text": [
      "[10, 11, 12, 13, 14, 15, 16, 17, 18, 19]\n",
      "-- This parrot wouldn't VOOM if you put four million volts through it. E's bleedin' demised !\n"
     ]
    }
   ],
   "source": [
    "list(range(10, 20)[2:5])\n",
    "a = list(range(10, 20))\n",
    "\n",
    "print(a)"
   ]
  },
  {
   "cell_type": "code",
   "execution_count": null,
   "metadata": {
    "collapsed": true
   },
   "outputs": [],
   "source": [
    "\n"
   ]
  },
  {
   "cell_type": "code",
   "execution_count": null,
   "metadata": {
    "collapsed": true
   },
   "outputs": [],
   "source": []
  },
  {
   "cell_type": "code",
   "execution_count": null,
   "metadata": {
    "collapsed": true
   },
   "outputs": [],
   "source": []
  },
  {
   "cell_type": "code",
   "execution_count": null,
   "metadata": {
    "collapsed": true
   },
   "outputs": [],
   "source": []
  }
 ],
 "metadata": {
  "kernelspec": {
   "display_name": "Python [conda env:py35]",
   "language": "python",
   "name": "conda-env-py35-py"
  },
  "language_info": {
   "codemirror_mode": {
    "name": "ipython",
    "version": 3
   },
   "file_extension": ".py",
   "mimetype": "text/x-python",
   "name": "python",
   "nbconvert_exporter": "python",
   "pygments_lexer": "ipython3",
   "version": "3.5.3"
  }
 },
 "nbformat": 4,
 "nbformat_minor": 2
}
