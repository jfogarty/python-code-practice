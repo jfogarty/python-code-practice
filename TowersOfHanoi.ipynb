{
 "cells": [
  {
   "cell_type": "code",
   "execution_count": 1,
   "metadata": {
    "ExecuteTime": {
     "end_time": "2017-11-13T19:45:18.929841Z",
     "start_time": "2017-11-13T19:45:18.224707Z"
    },
    "code_folding": [
     0
    ],
    "collapsed": true
   },
   "outputs": [],
   "source": [
    "# %load TestHarness\n",
    "debugging = False\n",
    "debugging = True\n",
    "\n",
    "debugging2 = False\n",
    "\n",
    "logging = True\n",
    "\n",
    "def printf(f, *args):\n",
    "    if len(args): \n",
    "        print(f.format(*args))\n",
    "    else:\n",
    "        print(f)   \n",
    "\n",
    "def dbg(f, *args):\n",
    "    if debugging:\n",
    "        if len(args):\n",
    "            printf('  DBG:' + f, *args)\n",
    "        else:\n",
    "            print(f)\n",
    "\n",
    "def dbg2(f, *args):\n",
    "    if debugging2:\n",
    "        if len(args):\n",
    "            printf('  DBG2:' + f, *args)\n",
    "        else:\n",
    "            print(f)\n",
    "        \n",
    "def log(f, *args):\n",
    "    if logging:\n",
    "        printf(f, *args)\n",
    "        \n",
    "def log_error(f, *args):\n",
    "    if logging:\n",
    "        if len(args):\n",
    "            printf('*** ERROR:' + f, *args)\n",
    "        else:\n",
    "            print('*** ERROR:', f)\n",
    "        \n",
    "def class_name(instance):\n",
    "    return type(instance).__name__\n",
    "\n",
    "#------------------------------------------------------------------------------   \n",
    "import time\n",
    "from datetime import timedelta\n",
    "\n",
    "#------------------------------------------------------------------------------\n",
    "class TestCase(object):\n",
    "    def __init__(self, name, method, inputs, expected, catchExceptions=False):\n",
    "        self.name = name\n",
    "        self.method = method\n",
    "        self.inputs = inputs\n",
    "        self.expected = expected\n",
    "        self.catchExceptions = catchExceptions\n",
    "        \n",
    "    def run(self):\n",
    "        if self.catchExceptions:\n",
    "            try:\n",
    "                return self.method(*self.inputs)\n",
    "            except Exception as x:\n",
    "                return x\n",
    "        else:\n",
    "                return self.method(*self.inputs)\n",
    "\n",
    "#------------------------------------------------------------------------------\n",
    "class TestSet(object):\n",
    "    def __init__(self, cases):\n",
    "        self.cases = cases\n",
    "    \n",
    "    def run_tests(self, repeat=1):\n",
    "        count = 0\n",
    "        errors = 0\n",
    "        total_time = 0\n",
    "        for case in self.cases:\n",
    "            count += 1\n",
    "            start_time = time.time()\n",
    "            for iteration in range(repeat):\n",
    "                dbg2(\"*** Running '{0}' iteration {1}\", case.name, iteration+1)\n",
    "                result = case.run()\n",
    "            elapsed_time = time.time() - start_time\n",
    "            total_time += elapsed_time\n",
    "            if callable(case.expected):\n",
    "                if not case.expected(result):\n",
    "                    errors += 1\n",
    "                    log_error(\"Test {0} failed. Returned {1}\", case.name, result)\n",
    "            elif result != case.expected:\n",
    "                errors += 1\n",
    "                log_error('Test {0} failed. Returned \"{1}\", expected \"{2}\"', case.name, result, case.expected)\n",
    "        if errors:\n",
    "            log_error(\"Tests passed: {0}; Failures: {1}\", count-errors, errors)\n",
    "        else:\n",
    "            log(\"All {0} tests passed.\", count)\n",
    "        log(\"Elapsed test time: {0}\", timedelta(seconds=total_time))\n",
    "\n",
    "#------------------------------------------------------------------------------\n",
    "def elapsed_time(func, *args, msg=''):\n",
    "    ''' Display the elapsed time of the function.\n",
    "        Return the function value.\n",
    "    '''\n",
    "    stime = time.time()\n",
    "    result = func(*args)\n",
    "    etime = time.time() - stime\n",
    "    log(msg + \"Elapsed test time: {0}\", timedelta(seconds=etime))\n",
    "    return result\n",
    "        \n"
   ]
  },
  {
   "cell_type": "code",
   "execution_count": 2,
   "metadata": {
    "ExecuteTime": {
     "end_time": "2017-11-13T19:45:19.189568Z",
     "start_time": "2017-11-13T19:45:19.110398Z"
    }
   },
   "outputs": [
    {
     "name": "stdout",
     "output_type": "stream",
     "text": [
      "For a single int call: Elapsed test time: 0:00:00.000004\n"
     ]
    },
    {
     "data": {
      "text/plain": [
       "1"
      ]
     },
     "execution_count": 2,
     "metadata": {},
     "output_type": "execute_result"
    }
   ],
   "source": [
    "elapsed_time(int, 1, msg='For a single int call: ')"
   ]
  },
  {
   "cell_type": "code",
   "execution_count": 6,
   "metadata": {
    "ExecuteTime": {
     "end_time": "2017-11-13T19:46:47.029219Z",
     "start_time": "2017-11-13T19:46:46.818228Z"
    },
    "collapsed": true
   },
   "outputs": [],
   "source": [
    "def solve_tower(n, s, i, d, memo=None, dynamic=True, iterations=None, stats=True):\n",
    "    ''' \n",
    "    Print the solution to the Tower's of Hanoi problem,\n",
    "    where n is the number of disks, and s is the source\n",
    "    pole (which contains n disks), and d is the destination\n",
    "    pole which will contain n disks on completion.\n",
    "    \n",
    "    Returns the list of moves required for the solution.\n",
    "    '''\n",
    "    self = solve_tower\n",
    "    key = (n, s, i, d)\n",
    "    if iterations is None: \n",
    "        iterations=[0]\n",
    "    else:\n",
    "        iterations[0] += 1    \n",
    "    \n",
    "    if dynamic:\n",
    "        if memo is not None: # WHOOOP! WHOOP! Do not use 'if memo:'!!!\n",
    "            if key in memo:\n",
    "                return memo[key]\n",
    "        else:\n",
    "            memo = {} # Use a dictionary of prior solutions to speed solve.\n",
    "            # NOTE! An empty dictionary is False, otherwise True.\n",
    "\n",
    "    def move(n, s, d):\n",
    "        m = \"- move Disk#{0} from {1} to {2}\".format(n, s, d)\n",
    "        return [m]\n",
    "\n",
    "    moves = []    \n",
    "    if n < 3:\n",
    "        if n < 2:\n",
    "            # Just because pathological test cases are possible.\n",
    "            if n>0: moves += move(1, s, d)\n",
    "        else:           \n",
    "            # For the base case, have just two disks to move,\n",
    "            # so the answer is a simple 3 move shuffle.\n",
    "            moves += move(1, s, i)\n",
    "            moves += move(2, s, d)\n",
    "            moves += move(1, i, d)\n",
    "    else:\n",
    "        # Move n-1 disks to the intermediate pole.\n",
    "        moves += self(n-1, s, d, i, memo, dynamic, iterations, False)\n",
    "\n",
    "        # Assume that i contains n-1 disks, and s has the\n",
    "        # last big disk, so the answer is obvious.\n",
    "        moves += move(n, s, d)\n",
    "\n",
    "        # Move the n-1 intermediate disks to the desitination.\n",
    "        moves += self(n-1, i, s, d, memo, dynamic, iterations, False)\n",
    "        \n",
    "    if dynamic: \n",
    "        memo[key] = moves\n",
    "        #if stats: log('Memo: {0}', [ (k, memo[k]) for k in sorted(memo.keys()) ] )\n",
    "    if stats: log('Iterations: {0}', iterations)\n",
    "    return moves"
   ]
  },
  {
   "cell_type": "code",
   "execution_count": 7,
   "metadata": {
    "ExecuteTime": {
     "end_time": "2017-11-13T19:46:47.269263Z",
     "start_time": "2017-11-13T19:46:47.262923Z"
    },
    "collapsed": true
   },
   "outputs": [],
   "source": [
    "def solve_tower_static(n, s, i, d):\n",
    "    return solve_tower(n, s, i, d, dynamic=False)"
   ]
  },
  {
   "cell_type": "code",
   "execution_count": 8,
   "metadata": {
    "ExecuteTime": {
     "end_time": "2017-11-13T19:46:47.861461Z",
     "start_time": "2017-11-13T19:46:47.849334Z"
    }
   },
   "outputs": [
    {
     "name": "stdout",
     "output_type": "stream",
     "text": [
      "Iterations: [14]\n",
      "Solving Towers of Hanoi - STATIC: Elapsed test time: 0:00:00.001398\n",
      "Iterations: [12]\n",
      "Solving Towers of Hanoi - dynamic: Elapsed test time: 0:00:00.000477\n"
     ]
    },
    {
     "data": {
      "text/plain": [
       "['- move Disk#1 from 1 to 3',\n",
       " '- move Disk#2 from 1 to 2',\n",
       " '- move Disk#1 from 3 to 2',\n",
       " '- move Disk#3 from 1 to 3',\n",
       " '- move Disk#1 from 2 to 1',\n",
       " '- move Disk#2 from 2 to 3',\n",
       " '- move Disk#1 from 1 to 3',\n",
       " '- move Disk#4 from 1 to 2',\n",
       " '- move Disk#1 from 3 to 2',\n",
       " '- move Disk#2 from 3 to 1',\n",
       " '- move Disk#1 from 2 to 1',\n",
       " '- move Disk#3 from 3 to 2',\n",
       " '- move Disk#1 from 1 to 3',\n",
       " '- move Disk#2 from 1 to 2',\n",
       " '- move Disk#1 from 3 to 2',\n",
       " '- move Disk#5 from 1 to 3',\n",
       " '- move Disk#1 from 2 to 1',\n",
       " '- move Disk#2 from 2 to 3',\n",
       " '- move Disk#1 from 1 to 3',\n",
       " '- move Disk#3 from 2 to 1',\n",
       " '- move Disk#1 from 3 to 2',\n",
       " '- move Disk#2 from 3 to 1',\n",
       " '- move Disk#1 from 2 to 1',\n",
       " '- move Disk#4 from 2 to 3',\n",
       " '- move Disk#1 from 1 to 3',\n",
       " '- move Disk#2 from 1 to 2',\n",
       " '- move Disk#1 from 3 to 2',\n",
       " '- move Disk#3 from 1 to 3',\n",
       " '- move Disk#1 from 2 to 1',\n",
       " '- move Disk#2 from 2 to 3',\n",
       " '- move Disk#1 from 1 to 3']"
      ]
     },
     "execution_count": 8,
     "metadata": {},
     "output_type": "execute_result"
    }
   ],
   "source": [
    "elapsed_time(solve_tower_static, 5, 1, 2, 3, msg='Solving Towers of Hanoi - STATIC: ')\n",
    "elapsed_time(solve_tower, 5, 1, 2, 3, msg='Solving Towers of Hanoi - dynamic: ')"
   ]
  },
  {
   "cell_type": "code",
   "execution_count": 9,
   "metadata": {
    "ExecuteTime": {
     "end_time": "2017-11-13T19:46:58.481546Z",
     "start_time": "2017-11-13T19:46:54.919455Z"
    }
   },
   "outputs": [
    {
     "name": "stdout",
     "output_type": "stream",
     "text": [
      "Iterations: [524286]\n",
      "Solving Towers of Hanoi - STATIC: Elapsed test time: 0:00:03.433122\n",
      "Iterations: [102]\n",
      "Solving Towers of Hanoi - dynamic: Elapsed test time: 0:00:00.043234\n"
     ]
    },
    {
     "data": {
      "text/plain": [
       "True"
      ]
     },
     "execution_count": 9,
     "metadata": {},
     "output_type": "execute_result"
    }
   ],
   "source": [
    "n=20\n",
    "slow = len(elapsed_time(solve_tower_static, n, 1, 2, 3, msg='Solving Towers of Hanoi - STATIC: '))\n",
    "fast = len(elapsed_time(solve_tower, n, 1, 2, 3, msg='Solving Towers of Hanoi - dynamic: '))\n",
    "slow == fast"
   ]
  },
  {
   "cell_type": "code",
   "execution_count": null,
   "metadata": {
    "ExecuteTime": {
     "end_time": "2017-11-13T18:10:56.298913Z",
     "start_time": "2017-11-13T18:10:55.408612Z"
    }
   },
   "outputs": [],
   "source": [
    "a = elapsed_time(solve_tower, 25, 1, 2, 3)\n",
    "len(a)"
   ]
  },
  {
   "cell_type": "code",
   "execution_count": null,
   "metadata": {
    "ExecuteTime": {
     "end_time": "2017-11-13T17:43:53.174191Z",
     "start_time": "2017-11-13T17:43:51.080106Z"
    }
   },
   "outputs": [],
   "source": [
    "a = elapsed_time(solve_tower, 26, 1, 2, 3)\n",
    "len(a)"
   ]
  },
  {
   "cell_type": "code",
   "execution_count": null,
   "metadata": {
    "ExecuteTime": {
     "end_time": "2017-11-13T17:42:40.735045Z",
     "start_time": "2017-11-13T17:42:34.429771Z"
    }
   },
   "outputs": [],
   "source": [
    "n = 0; a=[]; v='x';\n",
    "while n<10: \n",
    "    n += 1\n",
    "    v = input('Gimme {0}:'.format(n))\n",
    "    if not v: break       \n",
    "    a.append(v)\n",
    "a"
   ]
  },
  {
   "cell_type": "code",
   "execution_count": null,
   "metadata": {
    "ExecuteTime": {
     "end_time": "2017-11-13T17:42:58.172120Z",
     "start_time": "2017-11-13T17:42:58.128291Z"
    }
   },
   "outputs": [],
   "source": [
    "import fileinput\n",
    "import sys\n",
    "log('Feed me')\n",
    "for line in sys.stdin:\n",
    "#for line in fileinput.input():\n",
    "    log('The line is : \"{0}\"', line)\n",
    "log('- Eat me')"
   ]
  },
  {
   "cell_type": "code",
   "execution_count": null,
   "metadata": {
    "collapsed": true
   },
   "outputs": [],
   "source": []
  },
  {
   "cell_type": "code",
   "execution_count": null,
   "metadata": {
    "collapsed": true
   },
   "outputs": [],
   "source": []
  }
 ],
 "metadata": {
  "kernelspec": {
   "display_name": "Python [conda env:py35]",
   "language": "python",
   "name": "conda-env-py35-py"
  },
  "language_info": {
   "codemirror_mode": {
    "name": "ipython",
    "version": 3
   },
   "file_extension": ".py",
   "mimetype": "text/x-python",
   "name": "python",
   "nbconvert_exporter": "python",
   "pygments_lexer": "ipython3",
   "version": "3.5.4"
  },
  "varInspector": {
   "cols": {
    "lenName": 16,
    "lenType": 16,
    "lenVar": 40
   },
   "kernels_config": {
    "python": {
     "delete_cmd_postfix": "",
     "delete_cmd_prefix": "del ",
     "library": "var_list.py",
     "varRefreshCmd": "print(var_dic_list())"
    },
    "r": {
     "delete_cmd_postfix": ") ",
     "delete_cmd_prefix": "rm(",
     "library": "var_list.r",
     "varRefreshCmd": "cat(var_dic_list()) "
    }
   },
   "types_to_exclude": [
    "module",
    "function",
    "builtin_function_or_method",
    "instance",
    "_Feature"
   ],
   "window_display": false
  }
 },
 "nbformat": 4,
 "nbformat_minor": 2
}
