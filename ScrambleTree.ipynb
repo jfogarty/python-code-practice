{
 "cells": [
  {
   "cell_type": "markdown",
   "metadata": {},
   "source": [
    "### Determine whether Scrambled Trees are Equivalent\n",
    "\n",
    "Given two trees which represent a scrambled word. Determine if they're equivalent.\n",
    "\n",
    "Given a string s1, we may represent it as a binary tree by partitioning it to two non-empty substrings recursively.\n",
    "\n",
    "For example, s1 = \"great\":\n",
    "\n",
    "To scramble the string, we may choose any non-leaf node and swap its two children.\n",
    "For example, if we choose the node \"gr\" and swap its two children, it produces a scrambled string \"rgeat\".\n",
    "\n",
    "We say that \"rgeat\" is a scrambled string of \"great\".\n",
    "Similarly, if we continue to swap the children of nodes \"eat\" and \"at\", it produces a scrambled string \"rgtae\".\n",
    "\n",
    "We say that \"rgtae\" is a scrambled string of \"great\".\n",
    "Given two strings s1 and s2 of the same length, determine if s2 is a scrambled string of s1.\n",
    "\n",
    "See [The example problem](https://leetcode.com/problems/scramble-string/description/)"
   ]
  },
  {
   "cell_type": "code",
   "execution_count": 211,
   "metadata": {
    "collapsed": true
   },
   "outputs": [],
   "source": [
    "debugging = False\n",
    "#debugging = True\n",
    "debug2 = False\n",
    "\n",
    "logging = True\n",
    "\n",
    "def dbg(f, *args):\n",
    "    if debugging:\n",
    "        print(('  DBG:' + f).format(*args))\n",
    "\n",
    "def dbg_cont(f, *args):\n",
    "    if debugging:\n",
    "        print(('  DBG:' + f).format(*args), end='')\n",
    "\n",
    "def dbg2(f, *args):\n",
    "    if debug2:\n",
    "        print((' -DBG2:' + f).format(*args))\n",
    "        \n",
    "def log(f, *args):\n",
    "    if logging:\n",
    "        print((f).format(*args))\n",
    "        \n",
    "def logError(f, *args):\n",
    "    if logging:\n",
    "        print(('*** ERROR:' + f).format(*args))\n",
    "        \n",
    "def className(instance):\n",
    "    return type(instance).__name__"
   ]
  },
  {
   "cell_type": "markdown",
   "metadata": {},
   "source": [
    "### The TestSet Mechanism"
   ]
  },
  {
   "cell_type": "code",
   "execution_count": 212,
   "metadata": {
    "collapsed": true
   },
   "outputs": [],
   "source": [
    "# %load TestHarness.py\n",
    "class TestCase(object):\n",
    "    def __init__(self, name, method, inputs, expected, catchExceptions=False):\n",
    "        self.name = name\n",
    "        self.method = method\n",
    "        self.inputs = inputs\n",
    "        self.expected = expected\n",
    "        self.catchExceptions = catchExceptions\n",
    "        \n",
    "    def run(self):\n",
    "        if self.catchExceptions:\n",
    "            try:\n",
    "                return self.method(*self.inputs)\n",
    "            except Exception as x:\n",
    "                return x\n",
    "        else:\n",
    "                return self.method(*self.inputs)\n",
    "\n",
    "import time\n",
    "from datetime import timedelta\n",
    "\n",
    "class TestSet(object):\n",
    "    def __init__(self, cases):\n",
    "        self.cases = cases\n",
    "    \n",
    "    def run_tests(self):\n",
    "        count = 0\n",
    "        errors = 0\n",
    "        total_time = 0\n",
    "        for case in self.cases:\n",
    "            count += 1\n",
    "            start_time = time.time()\n",
    "            result = case.run()\n",
    "            elapsed_time = time.time() - start_time\n",
    "            total_time += elapsed_time\n",
    "            if callable(case.expected):\n",
    "                if not case.expected(result):\n",
    "                    errors += 1\n",
    "                    logError(\"Test {0} failed. Returned {1}\", case.name, result)\n",
    "            elif result != case.expected:\n",
    "                errors += 1\n",
    "                logError('Test {0} failed. Returned \"{1}\", expected \"{2}\"', case.name, result, case.expected)\n",
    "        if errors:\n",
    "            logError(\"Tests passed: {0}; Failures: {1}\", count-errors, errors)\n",
    "        else:\n",
    "            log(\"All {0} tests passed.\", count)\n",
    "        log(\"Elapsed test time: {0}\", timedelta(seconds=total_time))\n",
    "        "
   ]
  },
  {
   "cell_type": "code",
   "execution_count": 213,
   "metadata": {},
   "outputs": [
    {
     "data": {
      "text/plain": [
       "0"
      ]
     },
     "execution_count": 213,
     "metadata": {},
     "output_type": "execute_result"
    }
   ],
   "source": [
    "14 % 2"
   ]
  },
  {
   "cell_type": "code",
   "execution_count": 214,
   "metadata": {},
   "outputs": [
    {
     "data": {
      "text/plain": [
       "7"
      ]
     },
     "execution_count": 214,
     "metadata": {},
     "output_type": "execute_result"
    }
   ],
   "source": [
    "14 // 2"
   ]
  },
  {
   "cell_type": "markdown",
   "metadata": {},
   "source": [
    "### The Unit Under Test"
   ]
  },
  {
   "cell_type": "code",
   "execution_count": 215,
   "metadata": {
    "collapsed": true
   },
   "outputs": [],
   "source": [
    "import math\n",
    "\n",
    "class AutoList(list):\n",
    "    def __setitem__(self, index, value):\n",
    "        if index >= len(self):\n",
    "            self.extend([None]*(index + 1 - len(self)))\n",
    "        list.__setitem__(self, index, value)\n",
    "        \n",
    "class ATree(object):\n",
    "    \"\"\" Array representation of binary tree \"\"\"\n",
    "    val = AutoList()\n",
    "\n",
    "    def __init__(self, v):\n",
    "        self.text = v\n",
    "\n",
    "    def sink(self, index=0):\n",
    "        \"\"\" propagate tree changes down the tree \"\"\"\n",
    "        if index == 0:\n",
    "            self.val[1] = self.text\n",
    "            self.sink(index=1)\n",
    "        else:\n",
    "            assert index < 100\n",
    "            v = self.val[index]\n",
    "            dbg(\"{0} Sinking[{1}] == '{2}'\", '-'*int(math.floor(math.log(index,2))), index, v)\n",
    "            n = len(v)\n",
    "            if n>1:\n",
    "                offset = len(v) // 2\n",
    "                vleft  = v[0:offset]\n",
    "                vright = v[offset:]\n",
    "                self.val[index*2 + 0] = vleft\n",
    "                self.val[index*2 + 1] = vright\n",
    "                if len(vleft) > 0: \n",
    "                    self.sink(index*2 + 0)\n",
    "                if len(vright) > 0: \n",
    "                    self.sink(index*2 + 1)\n",
    "\n",
    "    def swim(self, index=0):\n",
    "        \"\"\" propagate tree changes up the tree \"\"\"\n",
    "        if index == 0:          \n",
    "            self.text = self.val[1]\n",
    "        else:\n",
    "            assert index < 100            \n",
    "            v = self.val[index]          \n",
    "            vleft  = self.val[index*2 + 0]\n",
    "            vright = self.val[index*2 + 1]\n",
    "            newv = vleft + vright\n",
    "            self.val[index] = newv\n",
    "            dbg(\"{0} Swimming[{1}] == '{2}'==>{3}\", '-'*int(math.floor(math.log(index,2))), index, v, newv)\n",
    "            self.swim(index // 2)\n",
    "\n",
    "    def exch(self, index=0):\n",
    "        assert index > 0 # no exchanging at the text root\n",
    "        assert index < len(self.val)\n",
    "        v = self.val[index]       \n",
    "        if v is None or len(v) < 2:\n",
    "            return # ignore exchange of leaf nodes\n",
    "        vleft  = self.val[index*2 + 0]\n",
    "        vright = self.val[index*2 + 1]\n",
    "        self.val[index*2 + 0] = vright\n",
    "        self.val[index*2 + 1] = vleft\n",
    "        self.swim(index)\n",
    "        self.sink(index)\n",
    "\n",
    "    def variants(self):\n",
    "        pass\n",
    "    "
   ]
  },
  {
   "cell_type": "code",
   "execution_count": 216,
   "metadata": {
    "collapsed": true
   },
   "outputs": [],
   "source": [
    "class SolutionBad(object):\n",
    "    def isScramble(self, s1, s2):\n",
    "        \"\"\"\n",
    "        :type s1: str\n",
    "        :type s2: str\n",
    "        :rtype: bool\n",
    "        \"\"\"\n",
    "        \n",
    "        if len(s1) != len(s2):\n",
    "            return False\n",
    "\n",
    "        if len(s1) == 0:\n",
    "            return True\n",
    "\n",
    "        if len(s1) == 1:\n",
    "            return True if s1[0] == s2[0] else False\n",
    "\n",
    "        t1 = ETree(s1).load()\n",
    "        t2 = ETree(s2).load()\n",
    "        print(\"T1={0}\".format(t1.liststr()))\n",
    "        print(\"T2={0}\".format(t2.liststr()))\n",
    "        return t1.isequiv(t1, t2)\n",
    "        # This solution fails because the comparison tree doesn't have the same\n",
    "        # structure as the source tree. No amount of flipping will make them equivalent."
   ]
  },
  {
   "cell_type": "code",
   "execution_count": 234,
   "metadata": {
    "collapsed": true
   },
   "outputs": [],
   "source": [
    "class ETree(object):        \n",
    "    val = None\n",
    "    left = None\n",
    "    right = None\n",
    "    parent = None\n",
    "    idv=-1 # initialized on tree load, does not reflect exchanges.\n",
    "\n",
    "    def __init__(self, v, parent=None, index=1):\n",
    "        self.val = v                   \n",
    "        self.idv=index\n",
    "        # Load the remainder of the tree\n",
    "        if len(v) > 1:\n",
    "            offset = len(v) // 2\n",
    "            self.left = ETree(v[0:offset], parent=self, index=index*2)\n",
    "            self.right = ETree(v[offset:], parent=self, index=index*2+1)\n",
    "            self.parent = parent\n",
    "\n",
    "    def formatNodeVerbose(self):\n",
    "        return '[None]' if self is None else '[{0}:\"{1}\"]'.format(self.idv, self.val)\n",
    "\n",
    "    def formatNode(self):\n",
    "        return '' if self is None else '\"{0}\"'.format(self.val)\n",
    "            \n",
    "    def liststr(self):\n",
    "        if not self:\n",
    "            return \"(*)\"\n",
    "        if self.left is None and self.right is None:\n",
    "            return '\"' + self.val + '\"'\n",
    "        else:\n",
    "            leftstr = '' if self.left is None else \"[{0}:{1}]\".format(\n",
    "                self.left.idv, self.left.liststr())\n",
    "            rightstr = '' if self.right is None else \"[{0}:{1}]\".format(\n",
    "                self.right.idv, self.right.liststr())\n",
    "            return '\"{1}\"==>{2}, {3}'.format(self.idv, self.val, leftstr, rightstr)            \n",
    "\n",
    "    def indexorder(self, index):\n",
    "        \"\"\" get the ordered tree following operations that reach a specific index \"\"\"\n",
    "        order = []\n",
    "        while index > 1:\n",
    "            op = 'L' if index % 2 == 0 else 'R'\n",
    "            order = [op] + order\n",
    "            index = index // 2\n",
    "        return order\n",
    "\n",
    "    def indexed(self, index):\n",
    "        node = self\n",
    "        for op in self.indexorder(index):\n",
    "            node = node.left if op == 'L' else node.right\n",
    "        return node\n",
    "\n",
    "    def root(self):\n",
    "        \"\"\" Return the root node for this tree \"\"\"\n",
    "        node = self\n",
    "        return self if self.parent is None else self.parent.root()\n",
    "\n",
    "    def swim(self):\n",
    "        \"\"\" Propagate changes up to top of tree. \"\"\"\n",
    "        if len(self.val) > 1:\n",
    "            self.val = self.left.val + self.right.val\n",
    "        if self.parent is not None:\n",
    "            self.parent.swim()\n",
    "\n",
    "    def exch(self, index=0):\n",
    "        \"\"\" Exchange the left and right branches below this node. \n",
    "            An optional index selects the node to exchange (root relative indexing)\n",
    "        \"\"\"\n",
    "        node = self\n",
    "        if index > 0:\n",
    "            node = self.root().indexed(index)\n",
    "        #print(\"xxxx:\" + node.liststr())            \n",
    "        left = node.left\n",
    "        right = node.right\n",
    "        node.left = right\n",
    "        node.right = left\n",
    "        #print(\"yyy:\" + node.liststr())\n",
    "        node.swim()\n",
    "        return node\n",
    "    \n",
    "    def variants(self):\n",
    "        vals = []\n",
    "        rootnode = self.root()\n",
    "        def tryvars(node):\n",
    "            nonlocal vals\n",
    "            if node.left is not None or node.left is not None:\n",
    "                node.exch() # swap the nodes and propagate changes.\n",
    "                vals += [rootnode.val]              \n",
    "                if node.left is not None:\n",
    "                    tryvars(node.left)\n",
    "                if node.right is not None:\n",
    "                    tryvars(node.right)\n",
    "                node.exch() # undo the swap.                    \n",
    "                vals += [rootnode.val]\n",
    "        tryvars(self)\n",
    "        return vals\n",
    "        \n",
    "    def listTree(self):\n",
    "        lister = self.TreeLister()\n",
    "        return lister.list(self)"
   ]
  },
  {
   "cell_type": "code",
   "execution_count": 235,
   "metadata": {
    "collapsed": true
   },
   "outputs": [],
   "source": [
    "import math\n",
    "import pprint\n",
    "class TreeLister(object):\n",
    "    def __init__(self):\n",
    "        pass\n",
    "\n",
    "    def list(self, tree):\n",
    "        layers = [] # The set of nodes in display form\n",
    "        widths = [] # The average widths of each level\n",
    "\n",
    "        def listLayer(node, layers, off='C', p=None, index=1):\n",
    "            if node is not None:\n",
    "                level = math.floor(math.log(index,2))\n",
    "                if len(layers) <= level:\n",
    "                    layers.append([])\n",
    "                f = ' ' +  node.formatNode() + ' '\n",
    "                c = index - 2**level\n",
    "                datum = { 'parent':p, 'text':f, 'level':level, 'offset':off, 'col':c }\n",
    "                layers[level].append(datum)\n",
    "                listLayer(node.left,  layers, 'L', node, index*2)\n",
    "                listLayer(node.right, layers, 'R', node, index*2+1)\n",
    "        listLayer(tree, layers)\n",
    "        #pprint.pprint(layers)\n",
    "        \n",
    "        # Find a good maximum width for the displayed tree.\n",
    "        count = 1\n",
    "        maxwidth = 1\n",
    "        for layer in layers:\n",
    "            avg = math.floor(0.5 + sum(len(x['text']) for x in layer) / len(layer))\n",
    "            lwidth = avg*count \n",
    "            widths.append({ 'avg':avg, 'layerwidth':lwidth})\n",
    "            count *= 2\n",
    "            maxwidth = max(maxwidth, lwidth)\n",
    "        dbg2(\"-- Maxwidth={0} widths={1}\",maxwidth,widths)\n",
    "        \n",
    "        # Format the actual text lines\n",
    "        count = 1\n",
    "        output = \"\"\n",
    "        for layer in layers:\n",
    "            line = \"\"\n",
    "            arrow = \"\"\n",
    "            center = maxwidth / 2\n",
    "            dbg2(\"Layer: {0}\", count)\n",
    "            for node in layer:\n",
    "                colwidth = maxwidth / count\n",
    "                text = node['text']\n",
    "                colnum = node['col']\n",
    "                leadingoffset = math.floor(colnum * colwidth) # Offset of cell from left.\n",
    "                celloffset = math.floor(0.5 + (colwidth - len(text))/2)\n",
    "                offset = leadingoffset + celloffset\n",
    "                math.floor(0.5 + (colwidth * colnum - len(text)/2) / 2)\n",
    "                dbg2(\"offset={1} colwidth={2} colnum={3} text={0}\", text, offset, colwidth, colnum)\n",
    "                if len(line) < offset:\n",
    "                    fill = offset - len(line)\n",
    "                    line += ' '*fill\n",
    "                rightarrowoffset = len(line)+1      \n",
    "                line += text\n",
    "                leftarrowoffset = len(line)-2\n",
    "                # For non root nodes, format the link arrows.\n",
    "                if count > 1:\n",
    "                    arrowoffset = leftarrowoffset if node['offset'] == 'L' else rightarrowoffset\n",
    "                    offset = arrowoffset\n",
    "                    dbg2(\"offset={1} arrowoffset={2} colnum={3} text={0} \", text, offset, arrowoffset, colnum)\n",
    "                    if len(arrow) < offset:\n",
    "                        fill = offset - len(arrow)\n",
    "                        arrow += ' '*fill\n",
    "                    arrow += '/' if node['offset'] == 'L' else '\\\\'\n",
    "            if count>1:\n",
    "                output += arrow + '\\n'\n",
    "            output += line + '\\n'\n",
    "            count *= 2\n",
    "        return output"
   ]
  },
  {
   "cell_type": "code",
   "execution_count": 238,
   "metadata": {},
   "outputs": [
    {
     "name": "stdout",
     "output_type": "stream",
     "text": [
      "                                  \"abeaseeeeeh\" \n",
      "                       /                                \\\n",
      "                 \"abeas\"                                \"eeeeeh\" \n",
      "           /                \\                       /               \\\n",
      "        \"ab\"                \"eas\"               \"eee\"               \"eeh\" \n",
      "      /       \\           /      \\            /      \\            /      \\\n",
      "    \"a\"       \"b\"       \"e\"      \"as\"       \"e\"      \"ee\"       \"e\"      \"eh\" \n",
      "                                 /  \\                /  \\                /  \\\n",
      "                               \"a\"  \"s\"            \"e\"  \"e\"            \"e\"  \"h\" \n",
      "\n",
      "                \"xyztabC\" \n",
      "            /              \\\n",
      "        \"xyz\"              \"tabC\" \n",
      "      /      \\            /      \\\n",
      "    \"x\"      \"yz\"      \"ta\"      \"bC\" \n",
      "             /  \\      /  \\      /  \\\n",
      "           \"y\"  \"z\"  \"t\"  \"a\"  \"b\"  \"C\" \n",
      "\n"
     ]
    }
   ],
   "source": [
    "t = ETree(\"abeaseeeeeh\")\n",
    "X = ETree(\"xyztabC\")\n",
    "t.liststr()\n",
    "ll = TreeLister()\n",
    "print(ll.list(t))\n",
    "print(ll.list(X))\n"
   ]
  },
  {
   "cell_type": "code",
   "execution_count": 37,
   "metadata": {
    "collapsed": true
   },
   "outputs": [],
   "source": [
    "class Solution(object):\n",
    "\n",
    "    def isScramble(self, s1, s2):\n",
    "        \"\"\"\n",
    "        :type s1: str\n",
    "        :type s2: str\n",
    "        :rtype: bool\n",
    "        \"\"\"\n",
    "        if len(s1) != len(s2):\n",
    "                return False\n",
    "        \n",
    "        if len(s1) == 0:\n",
    "            return True\n",
    "        \n",
    "        if len(s1) == 1:\n",
    "            return True if s1[0] == s2[0] else False\n",
    "        \n",
    "        # Ignore strings that don't contain the same set of characters.\n",
    "        x = s2\n",
    "        for c in s1:\n",
    "            i = x.find(c)\n",
    "            if i < 0:\n",
    "                return False\n",
    "            x = x[0:i] + x[i+1:]\n",
    "            \n",
    "        # Now try all tree operations until success or failure\n",
    "        t = ETree(s1)\n",
    "        v = t.variants()\n",
    "        return True if s2 in t.variants() else False\n"
   ]
  },
  {
   "cell_type": "code",
   "execution_count": 223,
   "metadata": {},
   "outputs": [
    {
     "name": "stdout",
     "output_type": "stream",
     "text": [
      "\"abb\"==>[2:\"a\"], [3:\"bb\"==>[6:\"b\"], [7:\"b\"]]\n"
     ]
    },
    {
     "data": {
      "text/plain": [
       "'\"bb\"==>[6:\"b\"], [7:\"b\"]'"
      ]
     },
     "execution_count": 223,
     "metadata": {},
     "output_type": "execute_result"
    }
   ],
   "source": [
    "t = ETree(\"great\")\n",
    "t = ETree(\"abcd\")\n",
    "t = ETree(\"abb\")\n",
    "\n",
    "print(t.liststr())\n",
    "t.indexed(3).liststr()\n",
    "\n",
    "#print('This is\\na\\ntest\\nof the\\nemergency broadcast\\nsystem.')"
   ]
  },
  {
   "cell_type": "code",
   "execution_count": 224,
   "metadata": {},
   "outputs": [
    {
     "name": "stdout",
     "output_type": "stream",
     "text": [
      "\"abb\"==>[2:\"a\"], [3:\"bb\"==>[6:\"b\"], [7:\"b\"]]\n",
      "['bba', 'bba', 'bba', 'abb']\n",
      "\"abb\"==>[2:\"a\"], [3:\"bb\"==>[6:\"b\"], [7:\"b\"]]\n"
     ]
    },
    {
     "data": {
      "text/plain": [
       "False"
      ]
     },
     "execution_count": 224,
     "metadata": {},
     "output_type": "execute_result"
    }
   ],
   "source": [
    "print(t.liststr())\n",
    "x = t.variants()\n",
    "print(x)\n",
    "print(t.liststr())\n",
    "\"bab\" in x"
   ]
  },
  {
   "cell_type": "code",
   "execution_count": 225,
   "metadata": {},
   "outputs": [
    {
     "name": "stdout",
     "output_type": "stream",
     "text": [
      "[]\n"
     ]
    }
   ],
   "source": [
    "t.indexed(7).root().liststr()\n",
    "t.indexed(7).liststr()\n",
    "t.exch(7)\n",
    "t.exch()\n",
    "t.liststr()\n",
    "print(t.listTree())"
   ]
  },
  {
   "cell_type": "code",
   "execution_count": null,
   "metadata": {
    "collapsed": true
   },
   "outputs": [],
   "source": []
  },
  {
   "cell_type": "markdown",
   "metadata": {},
   "source": [
    "### The Test Cases"
   ]
  },
  {
   "cell_type": "code",
   "execution_count": 187,
   "metadata": {},
   "outputs": [
    {
     "name": "stdout",
     "output_type": "stream",
     "text": [
      "  DBG: Sinking[1] == 'great'\n",
      "  DBG:- Sinking[2] == 'gr'\n",
      "  DBG:-- Sinking[4] == 'g'\n",
      "  DBG:-- Sinking[5] == 'r'\n",
      "  DBG:- Sinking[3] == 'eat'\n",
      "  DBG:-- Sinking[6] == 'e'\n",
      "  DBG:-- Sinking[7] == 'at'\n",
      "  DBG:--- Sinking[14] == 'a'\n",
      "  DBG:--- Sinking[15] == 't'\n",
      "[None, 'great', 'gr', 'eat', 'g', 'r', 'e', 'at', None, None, None, None, None, None, 'a', 't']\n",
      "  DBG:- Swimming[2] == 'gr'==>rg\n",
      "  DBG: Swimming[1] == 'great'==>rgeat\n",
      "  DBG:- Sinking[2] == 'rg'\n",
      "  DBG:-- Sinking[4] == 'r'\n",
      "  DBG:-- Sinking[5] == 'g'\n",
      "  DBG:- Swimming[3] == 'eat'==>ate\n",
      "  DBG: Swimming[1] == 'rgeat'==>rgate\n",
      "  DBG:- Sinking[3] == 'ate'\n",
      "  DBG:-- Sinking[6] == 'a'\n",
      "  DBG:-- Sinking[7] == 'te'\n",
      "  DBG:--- Sinking[14] == 't'\n",
      "  DBG:--- Sinking[15] == 'e'\n",
      "[None, 'rgate', 'rg', 'ate', 'r', 'g', 'a', 'te', None, None, None, None, None, None, 't', 'e']\n"
     ]
    }
   ],
   "source": [
    "t = ATree(\"great\")\n",
    "t.sink()\n",
    "print(t.val)\n",
    "\n",
    "t.exch(2)\n",
    "t.exch(3)\n",
    "#t.exch(6)\n",
    "\n",
    "print(t.val)"
   ]
  },
  {
   "cell_type": "code",
   "execution_count": 43,
   "metadata": {},
   "outputs": [
    {
     "name": "stdout",
     "output_type": "stream",
     "text": [
      "T1=abb==>(a), (bb==>(b), (b))\n",
      "T2=bab==>(b), (ab==>(a), (b))\n",
      "  DBG:-- isequiv('abb', 'bab')  DBG:-- Recurse\n",
      "  DBG:-- isequiv('a', 'b')  DBG: Chars Same --> False\n",
      "  DBG:-- isequiv('a', 'ab')  DBG:-- Recurse\n",
      "  DBG: DIFF --> False\n",
      "  DBG: DIFF --> False\n",
      "  DBG: Answer --> False\n",
      "  DBG: Answer --> False\n"
     ]
    },
    {
     "data": {
      "text/plain": [
       "False"
      ]
     },
     "execution_count": 43,
     "metadata": {},
     "output_type": "execute_result"
    }
   ],
   "source": [
    "Solution().isScramble(\"abb\", \"bab\")"
   ]
  },
  {
   "cell_type": "code",
   "execution_count": null,
   "metadata": {
    "collapsed": true
   },
   "outputs": [],
   "source": []
  },
  {
   "cell_type": "code",
   "execution_count": 44,
   "metadata": {},
   "outputs": [
    {
     "name": "stdout",
     "output_type": "stream",
     "text": [
      "T1=great==>(gr==>(g), (r)), (eat==>(e), (at==>(a), (t)))\n",
      "T2=rgtae==>(rg==>(r), (g)), (tae==>(t), (ae==>(a), (e)))\n",
      "  DBG:-- isequiv('great', 'rgtae')  DBG:-- Recurse\n",
      "  DBG:-- isequiv('gr', 'rg')  DBG:-- Recurse\n",
      "  DBG:-- isequiv('g', 'r')  DBG: Chars Same --> False\n",
      "  DBG:-- isequiv('g', 'g')  DBG: Chars Same --> True\n",
      "  DBG:-- isequiv('r', 'r')  DBG: Chars Same --> True\n",
      "  DBG: Answer --> True\n",
      "  DBG:-- isequiv('eat', 'tae')  DBG:-- Recurse\n",
      "  DBG:-- isequiv('e', 't')  DBG: Chars Same --> False\n",
      "  DBG:-- isequiv('e', 'ae')  DBG:-- Recurse\n",
      "  DBG: DIFF --> False\n",
      "  DBG: DIFF --> False\n",
      "  DBG: Answer --> False\n",
      "  DBG: Answer --> False\n",
      "  DBG:-- isequiv('gr', 'tae')  DBG:-- Recurse\n",
      "  DBG:-- isequiv('g', 't')  DBG: Chars Same --> False\n",
      "  DBG:-- isequiv('g', 'ae')  DBG:-- Recurse\n",
      "  DBG: DIFF --> False\n",
      "  DBG: DIFF --> False\n",
      "  DBG: Answer --> False\n",
      "  DBG: Answer --> False\n",
      "  DBG: Answer --> False\n"
     ]
    },
    {
     "data": {
      "text/plain": [
       "False"
      ]
     },
     "execution_count": 44,
     "metadata": {},
     "output_type": "execute_result"
    }
   ],
   "source": [
    "Solution().isScramble(\"great\", \"rgtae\")"
   ]
  },
  {
   "cell_type": "code",
   "execution_count": 264,
   "metadata": {
    "collapsed": true
   },
   "outputs": [],
   "source": [
    "#simpletest = lambda A : [spiral_square(A)]\n",
    "def simpletest(w1, w2):\n",
    "    x = Solution()\n",
    "    return x.isScramble(w1, w2)\n",
    "\n",
    "c1g = TestCase('one same char', simpletest, [\"a\", \"a\"], True)\n",
    "c1b = TestCase('one diff char', simpletest, [\"a\", \"b\"], False)\n",
    "\n",
    "c2g = TestCase('two same char', simpletest, [\"aa\", \"aa\"], True)\n",
    "c2f = TestCase('two flip char', simpletest, [\"ab\", \"ba\"], True)\n",
    "c2b = TestCase('two diff char', simpletest, [\"ab\", \"bc\"], False)\n",
    "\n",
    "\n",
    "c3g  = TestCase('three same char', simpletest, [\"abc\", \"abc\"], True)\n",
    "c3f  = TestCase('three flip char', simpletest, [\"abb\", \"bba\"], True)\n",
    "c3f2 = TestCase('three flip char', simpletest, [\"abb\", \"bab\"], True)\n",
    "\n",
    "tester = TestSet([c1g, c1b, c2g, c2f, c2b, c3g, c3f, c3f2])\n"
   ]
  },
  {
   "cell_type": "code",
   "execution_count": 265,
   "metadata": {},
   "outputs": [
    {
     "name": "stdout",
     "output_type": "stream",
     "text": [
      "*** ERROR:Test three flip char failed. Returned \"False\", expected \"True\"\n",
      "*** ERROR:Tests passed: 7; Failures: 1\n",
      "Elapsed test time: 0:00:00.000684\n"
     ]
    }
   ],
   "source": [
    "tester.run_tests()"
   ]
  },
  {
   "cell_type": "code",
   "execution_count": 21,
   "metadata": {},
   "outputs": [
    {
     "data": {
      "text/plain": [
       "4.0"
      ]
     },
     "execution_count": 21,
     "metadata": {},
     "output_type": "execute_result"
    }
   ],
   "source": [
    "index=17\n",
    "math.log(index,2)\n",
    "math.floor(math.log(index,2))\n",
    "4.0"
   ]
  },
  {
   "cell_type": "code",
   "execution_count": null,
   "metadata": {
    "collapsed": true
   },
   "outputs": [],
   "source": [
    "BoolArray3D(object):\n",
    "    val = []\n",
    "    \n",
    "    def __init__(self, rows, cols, z):\n",
    "        inner = [0]*z\n",
    "    \n",
    "    \n",
    "    "
   ]
  },
  {
   "cell_type": "code",
   "execution_count": 267,
   "metadata": {
    "collapsed": true
   },
   "outputs": [],
   "source": [
    "def isScramble(s1, s2):\n",
    "    \"\"\"\n",
    "        Let F(i, j, k) = whether the substring S1[i..i + k - 1] is a scramble of S2[j..j + k - 1] or not\n",
    "        Since each of these substrings is a potential node in the tree, we need to check for all possible cuts.\n",
    "        Let q be the length of a cut (hence, q < k), then we are in the following situation:\n",
    "    \n",
    "         S1 [   x1    |         x2         ]\n",
    "            i         i + q                i + k - 1\n",
    " \n",
    "         here we have two possibilities:\n",
    "\n",
    "         S2 [   y1    |         y2         ]\n",
    "            j         j + q                j + k - 1\n",
    "   \n",
    "                     or \n",
    " \n",
    "        S2 [       y1        |     y2     ]\n",
    "           j                 j + k - q    j + k - 1\n",
    " \n",
    "         which in terms of F means:\n",
    " \n",
    "         F(i, j, k) = for some 1 <= q < k we have:\n",
    "         (F(i, j, q) AND F(i + q, j + q, k - q)) OR (F(i, j + k - q, q) AND F(i + q, j, k - q))\n",
    "  \n",
    "         Base case is k = 1, where we simply need to check for S1[i] and S2[j] to be equal \n",
    "    \"\"\"\n",
    "    slen = len(s1) \n",
    "    if slen != len(s2): return False\n",
    "    #boolean [][][] F = new boolean[len][len][len + 1];\n",
    "    F = [[[False]*(slen+1)]*slen]*slen\n",
    "    k = 1\n",
    "    while k<=slen: #for (int k = 1; k <= len; ++k)\n",
    "        i = 0\n",
    "        while i+k <= slen:  #for (int i = 0; i + k <= len; ++i)\n",
    "            j = 0\n",
    "            while j+k <= slen: #for (int j = 0; j + k <= len; ++j)\n",
    "                if k == 1:\n",
    "                    F[i][j][k] = s1[i] == s2[j]\n",
    "                else:\n",
    "                    q = 1\n",
    "                    while q<k and not F[i][j][k]: #for (int q = 1; q < k && !F[i][j][k]; ++q) {\n",
    "                        t1 = F[i][j        ][q] and F[i + q][j + q][k - q]\n",
    "                        t2 = F[i][j + k - q][q] and F[i + q][j    ][k - q]\n",
    "                        F[i][j][k] = t1 or t2\n",
    "                        q += 1\n",
    "                j += 1\n",
    "            i += 1\n",
    "        k += 1\n",
    "    print(F)\n",
    "    return F[0][0][slen]\n"
   ]
  },
  {
   "cell_type": "code",
   "execution_count": 269,
   "metadata": {},
   "outputs": [
    {
     "name": "stdout",
     "output_type": "stream",
     "text": [
      "[[[False, False, False], [False, False, False]], [[False, False, False], [False, False, False]]]\n"
     ]
    },
    {
     "data": {
      "text/plain": [
       "False"
      ]
     },
     "execution_count": 269,
     "metadata": {},
     "output_type": "execute_result"
    }
   ],
   "source": [
    "isScramble(\"ab\", \"ba\")"
   ]
  },
  {
   "cell_type": "markdown",
   "metadata": {},
   "source": [
    "### Some Ad Hoc Tests"
   ]
  },
  {
   "cell_type": "code",
   "execution_count": 48,
   "metadata": {},
   "outputs": [
    {
     "name": "stdout",
     "output_type": "stream",
     "text": [
      "[[None], [None], [None], [None], [None], [None], [None], [None], [None], [None]]\n"
     ]
    },
    {
     "data": {
      "text/plain": [
       "[[None, 'happy trails', 'W', 'T', 'F'],\n",
       " [None, 'happy trails', 'W', 'T', 'F'],\n",
       " [None, 'happy trails', 'W', 'T', 'F'],\n",
       " [None, 'happy trails', 'W', 'T', 'F'],\n",
       " [None, 'happy trails', 'W', 'T', 'F'],\n",
       " [None, 'happy trails', 'W', 'T', 'F'],\n",
       " [None, 'happy trails', 'W', 'T', 'F'],\n",
       " [None, 'happy trails', 'W', 'T', 'F'],\n",
       " [None, 'happy trails', 'W', 'T', 'F'],\n",
       " [None, 'happy trails', 'W', 'T', 'F'],\n",
       " 'G',\n",
       " 'L',\n",
       " 'O',\n",
       " 'R',\n",
       " 'M']"
      ]
     },
     "execution_count": 48,
     "metadata": {},
     "output_type": "execute_result"
    }
   ],
   "source": [
    "x = [[None]]*10 \n",
    "print(x)\n",
    "x[0].append('happy trails')\n",
    "x[0] += 'WTF'\n",
    "x += 'GLORM'\n",
    "x\n",
    "#[x for x in range(1, 3)]"
   ]
  },
  {
   "cell_type": "code",
   "execution_count": 241,
   "metadata": {},
   "outputs": [
    {
     "data": {
      "text/plain": [
       "[[[0, 0, 0, 0], [0, 0, 0, 0], [0, 0, 0, 0]],\n",
       " [[0, 0, 0, 0], [0, 0, 0, 0], [0, 0, 0, 0]]]"
      ]
     },
     "execution_count": 241,
     "metadata": {},
     "output_type": "execute_result"
    }
   ],
   "source": [
    "[[[0]*4]*3]*2"
   ]
  },
  {
   "cell_type": "code",
   "execution_count": null,
   "metadata": {
    "collapsed": true
   },
   "outputs": [],
   "source": []
  }
 ],
 "metadata": {
  "kernelspec": {
   "display_name": "Python [conda env:py35]",
   "language": "python",
   "name": "conda-env-py35-py"
  },
  "language_info": {
   "codemirror_mode": {
    "name": "ipython",
    "version": 3
   },
   "file_extension": ".py",
   "mimetype": "text/x-python",
   "name": "python",
   "nbconvert_exporter": "python",
   "pygments_lexer": "ipython3",
   "version": "3.5.3"
  }
 },
 "nbformat": 4,
 "nbformat_minor": 2
}
