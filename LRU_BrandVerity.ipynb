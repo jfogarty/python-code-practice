{
 "cells": [
  {
   "cell_type": "code",
   "execution_count": 1,
   "metadata": {
    "ExecuteTime": {
     "end_time": "2018-01-09T21:08:07.266578Z",
     "start_time": "2018-01-09T21:08:07.257460Z"
    },
    "collapsed": true
   },
   "outputs": [],
   "source": [
    "\"\"\"\n",
    "LRU Cache Example and Tester.\n",
    "\n",
    "Implements a simple limited size LRU cache class that stores items in a \n",
    "dictionary, as well as an ordered deque. New entries are added to the\n",
    "front of the list, while the last entry is trimmed if an insert would\n",
    "increase the size beyond the limit.\n",
    "\n",
    "John Fogarty, john@jfogarty.org, https://github.com/jfogarty\n",
    "\n",
    "\"\"\"\n",
    "import sys\n",
    "\n",
    "debugging = False \n",
    "#debugging = True\n",
    "logging = True\n",
    "\n",
    "MAX_CACHE = 1000000 # Arbitrary upper limit for this test example\n"
   ]
  },
  {
   "cell_type": "code",
   "execution_count": 2,
   "metadata": {
    "ExecuteTime": {
     "end_time": "2018-01-09T21:08:22.084766Z",
     "start_time": "2018-01-09T21:08:22.075343Z"
    },
    "collapsed": true
   },
   "outputs": [],
   "source": [
    "#-----------------------------------------------------------------------------\n",
    "# Console/Log outputs\n",
    "def dbg(f, *args):\n",
    "    if debugging:\n",
    "        print(('  DBG:' + f).format(*args))\n",
    "        \n",
    "\n",
    "def log(f, *args):\n",
    "    if logging:\n",
    "        print((f).format(*args))\n",
    "        \n",
    "        \n",
    "def log_error(f, *args):\n",
    "    if logging:\n",
    "        print(('*** ERROR:' + f).format(*args))     "
   ]
  },
  {
   "cell_type": "code",
   "execution_count": 4,
   "metadata": {
    "ExecuteTime": {
     "end_time": "2018-01-09T21:09:22.678068Z",
     "start_time": "2018-01-09T21:09:22.625387Z"
    },
    "collapsed": true
   },
   "outputs": [],
   "source": [
    "#-----------------------------------------------------------------------------\n",
    "class LruCacheDeque(object):\n",
    "    \"\"\"\n",
    "    A Simple LRU Cache implented with dict and deque\n",
    "    \"\"\"\n",
    "    def __init__(self, size):\n",
    "        assert size > 1 and size <= MAX_CACHE\n",
    "        self.vals  = {}\n",
    "        self.size  = size       \n",
    "        self.first = None\n",
    "        self.last  = None\n",
    "        dbg(\"- LruCacheDeque({0})\", self.size)\n",
    "        \n",
    "\n",
    "    def remove(self, key):\n",
    "        ''' Remove an arbitrary entry from the cache '''\n",
    "        if key in self.vals:\n",
    "            entry = self.vals[key]\n",
    "            key  = entry['key']\n",
    "            prev = entry['prev']\n",
    "            next = entry['next']\n",
    "            if self.first is entry:\n",
    "                self.first = next\n",
    "            if self.last is entry:\n",
    "                self.last is prev\n",
    "            del self.vals[key]\n",
    "            \n",
    "            \n",
    "    def remove_oldest(self):\n",
    "        ''' Remove the last entry from the deque ''' \n",
    "        entry = self.last\n",
    "        if entry:\n",
    "            key = entry['key']\n",
    "            self.remove(key)\n",
    "        \n",
    "        \n",
    "    def get(self, key):\n",
    "        #dbg(\"Values: {0}\", self.vals)\n",
    "        try:\n",
    "            return self.vals[key]['val']\n",
    "        except KeyError:\n",
    "            return None\n",
    "        \n",
    "        \n",
    "    def insert(self, key, val):\n",
    "        ''' Insert an item in the cache, making it the newest entry. '''\n",
    "        if key in self.vals:       \n",
    "            self.remove(key)\n",
    "        if len(self.vals) == self.size:\n",
    "            # \n",
    "            self.remove_oldest()\n",
    "        entry = {'key':key, 'val':val, 'prev':None, 'next':self.first}\n",
    "        self.first = entry\n",
    "        self.vals[key] = entry\n",
    "        if not self.last:\n",
    "            self.last = entry"
   ]
  },
  {
   "cell_type": "code",
   "execution_count": 5,
   "metadata": {
    "ExecuteTime": {
     "end_time": "2018-01-09T21:09:39.655358Z",
     "start_time": "2018-01-09T21:09:39.645291Z"
    },
    "collapsed": true
   },
   "outputs": [],
   "source": [
    "#-----------------------------------------------------------------------------\n",
    "# Chatty responses\n",
    "def say_error():\n",
    "    log('ERROR')\n",
    "\n",
    "\n",
    "def say_notfound():\n",
    "    log('NOTFOUND')\n",
    "\n",
    "\n",
    "def say_ok(kw):\n",
    "    log(kw + ' OK')\n",
    "\n",
    "\n",
    "def say_got(v):\n",
    "    log('GOT {0}', v)  "
   ]
  },
  {
   "cell_type": "code",
   "execution_count": 6,
   "metadata": {
    "ExecuteTime": {
     "end_time": "2018-01-09T21:10:21.219030Z",
     "start_time": "2018-01-09T21:10:21.204535Z"
    },
    "collapsed": true
   },
   "outputs": [],
   "source": [
    "#-----------------------------------------------------------------------------\n",
    "def command_line(f, keywords):\n",
    "    s = f.readline().strip()\n",
    "    v = s.split()\n",
    "    if len(v):\n",
    "        cmd = v[0]\n",
    "        if cmd in keywords:   \n",
    "            return v\n",
    "        say_error()\n",
    "        dbg('Keyword must be in {0}', keywords)\n",
    "    else:\n",
    "        say_error()\n",
    "        dbg('Missing keyword')"
   ]
  },
  {
   "cell_type": "code",
   "execution_count": 8,
   "metadata": {
    "ExecuteTime": {
     "end_time": "2018-01-09T21:14:07.588801Z",
     "start_time": "2018-01-09T21:14:07.555259Z"
    },
    "collapsed": true
   },
   "outputs": [],
   "source": [
    "#-----------------------------------------------------------------------------\n",
    "# Main test application\n",
    "def main():\n",
    "    dbg(\"- LRU Cache Example problem for BrandVerity 1.0\")\n",
    "    cls = LruCacheDeque\n",
    "\n",
    "    with open('data/lruin.dat') as f:\n",
    "        size = int(command_line(f, \"SIZE\")[1])\n",
    "        assert size > 0 and size <= MAX_CACHE\n",
    "        say_ok('SIZE')\n",
    "        cache = cls(size)\n",
    "            \n",
    "        exit = False\n",
    "        while not exit:\n",
    "            v = command_line(f, ['EXIT', 'GET', 'SET'])\n",
    "            kw = v[0]\n",
    "            if kw == 'EXIT':\n",
    "                exit = True\n",
    "            else:\n",
    "                dbg(\"- Command {0} : {1}\", v[0], v[1:])\n",
    "                key = v[1]\n",
    "                if kw == 'SET':\n",
    "                    if len(v) != 3:\n",
    "                        say_error()\n",
    "                    val = v[2]\n",
    "                    cache.insert(key, val)\n",
    "                    say_ok(kw)\n",
    "                elif kw == 'GET':           \n",
    "                    if len(v) != 2:\n",
    "                        say_error()\n",
    "                    else:\n",
    "                        val = cache.get(key)\n",
    "                        if val == None:\n",
    "                            say_notfound()\n",
    "                        else:\n",
    "                            say_got(val)\n",
    "\n",
    "    dbg('- Program exit')"
   ]
  },
  {
   "cell_type": "code",
   "execution_count": 9,
   "metadata": {
    "ExecuteTime": {
     "end_time": "2018-01-09T21:14:14.852034Z",
     "start_time": "2018-01-09T21:14:14.842495Z"
    }
   },
   "outputs": [
    {
     "name": "stdout",
     "output_type": "stream",
     "text": [
      "SIZE OK\n",
      "NOTFOUND\n",
      "SET OK\n",
      "GOT 1\n",
      "SET OK\n",
      "GOT 1.1\n",
      "SET OK\n",
      "GOT 2\n",
      "SET OK\n",
      "SET OK\n",
      "NOTFOUND\n",
      "GOT 2\n",
      "GOT third\n",
      "ERROR\n",
      "GOT four\n"
     ]
    }
   ],
   "source": [
    "main()"
   ]
  },
  {
   "cell_type": "code",
   "execution_count": null,
   "metadata": {
    "collapsed": true
   },
   "outputs": [],
   "source": []
  }
 ],
 "metadata": {
  "kernelspec": {
   "display_name": "Python [conda env:py27]",
   "language": "python",
   "name": "conda-env-py27-py"
  },
  "language_info": {
   "codemirror_mode": {
    "name": "ipython",
    "version": 2
   },
   "file_extension": ".py",
   "mimetype": "text/x-python",
   "name": "python",
   "nbconvert_exporter": "python",
   "pygments_lexer": "ipython2",
   "version": "2.7.14"
  },
  "varInspector": {
   "cols": {
    "lenName": 16,
    "lenType": 16,
    "lenVar": 40
   },
   "kernels_config": {
    "python": {
     "delete_cmd_postfix": "",
     "delete_cmd_prefix": "del ",
     "library": "var_list.py",
     "varRefreshCmd": "print(var_dic_list())"
    },
    "r": {
     "delete_cmd_postfix": ") ",
     "delete_cmd_prefix": "rm(",
     "library": "var_list.r",
     "varRefreshCmd": "cat(var_dic_list()) "
    }
   },
   "types_to_exclude": [
    "module",
    "function",
    "builtin_function_or_method",
    "instance",
    "_Feature"
   ],
   "window_display": false
  }
 },
 "nbformat": 4,
 "nbformat_minor": 2
}
